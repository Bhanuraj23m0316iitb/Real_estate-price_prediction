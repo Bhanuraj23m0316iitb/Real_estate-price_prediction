{
  "nbformat": 4,
  "nbformat_minor": 0,
  "metadata": {
    "colab": {
      "provenance": []
    },
    "kernelspec": {
      "name": "python3",
      "display_name": "Python 3"
    },
    "language_info": {
      "name": "python"
    }
  },
  "cells": [
    {
      "cell_type": "markdown",
      "source": [
        "# Session - 6 Missing value imputation\n",
        "gurgaon properties outlier treated.csv ----> gurgaon missing value imputation.csv"
      ],
      "metadata": {
        "id": "QhLo2CxRBaWv"
      }
    },
    {
      "cell_type": "code",
      "execution_count": null,
      "metadata": {
        "id": "G93uz0wLBVfQ"
      },
      "outputs": [],
      "source": []
    },
    {
      "cell_type": "code",
      "execution_count": null,
      "metadata": {
        "id": "2e6ec740"
      },
      "outputs": [],
      "source": [
        "import numpy as np\n",
        "import pandas as pd\n",
        "import matplotlib.pyplot as plt\n",
        "import seaborn as sns"
      ]
    },
    {
      "cell_type": "code",
      "execution_count": null,
      "metadata": {
        "id": "4406b65b"
      },
      "outputs": [],
      "source": [
        "pd.set_option('display.max_columns', None)"
      ]
    },
    {
      "cell_type": "code",
      "execution_count": null,
      "metadata": {
        "id": "a660f2f5"
      },
      "outputs": [],
      "source": [
        "df = pd.read_csv('gurgaon_properties_outlier_treated.csv')"
      ]
    },
    {
      "cell_type": "code",
      "execution_count": null,
      "metadata": {
        "id": "55998ca5",
        "outputId": "b8b72f74-6aa0-4163-f6d8-94c514f4014d"
      },
      "outputs": [
        {
          "data": {
            "text/html": [
              "<div>\n",
              "<style scoped>\n",
              "    .dataframe tbody tr th:only-of-type {\n",
              "        vertical-align: middle;\n",
              "    }\n",
              "\n",
              "    .dataframe tbody tr th {\n",
              "        vertical-align: top;\n",
              "    }\n",
              "\n",
              "    .dataframe thead th {\n",
              "        text-align: right;\n",
              "    }\n",
              "</style>\n",
              "<table border=\"1\" class=\"dataframe\">\n",
              "  <thead>\n",
              "    <tr style=\"text-align: right;\">\n",
              "      <th></th>\n",
              "      <th>property_type</th>\n",
              "      <th>society</th>\n",
              "      <th>sector</th>\n",
              "      <th>price</th>\n",
              "      <th>price_per_sqft</th>\n",
              "      <th>area</th>\n",
              "      <th>areaWithType</th>\n",
              "      <th>bedRoom</th>\n",
              "      <th>bathroom</th>\n",
              "      <th>balcony</th>\n",
              "      <th>floorNum</th>\n",
              "      <th>facing</th>\n",
              "      <th>agePossession</th>\n",
              "      <th>super_built_up_area</th>\n",
              "      <th>built_up_area</th>\n",
              "      <th>carpet_area</th>\n",
              "      <th>study room</th>\n",
              "      <th>servant room</th>\n",
              "      <th>store room</th>\n",
              "      <th>pooja room</th>\n",
              "      <th>others</th>\n",
              "      <th>furnishing_type</th>\n",
              "      <th>luxury_score</th>\n",
              "      <th>area_room_ratio</th>\n",
              "    </tr>\n",
              "  </thead>\n",
              "  <tbody>\n",
              "    <tr>\n",
              "      <th>0</th>\n",
              "      <td>flat</td>\n",
              "      <td>signature global park 4</td>\n",
              "      <td>sector 36</td>\n",
              "      <td>0.82</td>\n",
              "      <td>7586.0</td>\n",
              "      <td>1081.0</td>\n",
              "      <td>Super Built up area 1081(100.43 sq.m.)Carpet a...</td>\n",
              "      <td>3.0</td>\n",
              "      <td>2.0</td>\n",
              "      <td>2</td>\n",
              "      <td>2.0</td>\n",
              "      <td>NaN</td>\n",
              "      <td>New Property</td>\n",
              "      <td>1081.0</td>\n",
              "      <td>NaN</td>\n",
              "      <td>650.0</td>\n",
              "      <td>0.0</td>\n",
              "      <td>0.0</td>\n",
              "      <td>0.0</td>\n",
              "      <td>0.0</td>\n",
              "      <td>0.0</td>\n",
              "      <td>0.0</td>\n",
              "      <td>8.0</td>\n",
              "      <td>360.333333</td>\n",
              "    </tr>\n",
              "    <tr>\n",
              "      <th>1</th>\n",
              "      <td>flat</td>\n",
              "      <td>smart world gems</td>\n",
              "      <td>sector 89</td>\n",
              "      <td>0.95</td>\n",
              "      <td>8597.0</td>\n",
              "      <td>1105.0</td>\n",
              "      <td>Carpet area: 1103 (102.47 sq.m.)</td>\n",
              "      <td>2.0</td>\n",
              "      <td>2.0</td>\n",
              "      <td>2</td>\n",
              "      <td>4.0</td>\n",
              "      <td>NaN</td>\n",
              "      <td>New Property</td>\n",
              "      <td>NaN</td>\n",
              "      <td>NaN</td>\n",
              "      <td>1103.0</td>\n",
              "      <td>1.0</td>\n",
              "      <td>1.0</td>\n",
              "      <td>0.0</td>\n",
              "      <td>0.0</td>\n",
              "      <td>0.0</td>\n",
              "      <td>0.0</td>\n",
              "      <td>38.0</td>\n",
              "      <td>552.500000</td>\n",
              "    </tr>\n",
              "    <tr>\n",
              "      <th>2</th>\n",
              "      <td>flat</td>\n",
              "      <td>breez global hill view</td>\n",
              "      <td>sohna road</td>\n",
              "      <td>0.32</td>\n",
              "      <td>5470.0</td>\n",
              "      <td>585.0</td>\n",
              "      <td>Built Up area: 1000 (92.9 sq.m.)Carpet area: 5...</td>\n",
              "      <td>2.0</td>\n",
              "      <td>2.0</td>\n",
              "      <td>1</td>\n",
              "      <td>17.0</td>\n",
              "      <td>NaN</td>\n",
              "      <td>New Property</td>\n",
              "      <td>NaN</td>\n",
              "      <td>1000.0</td>\n",
              "      <td>585.0</td>\n",
              "      <td>0.0</td>\n",
              "      <td>0.0</td>\n",
              "      <td>0.0</td>\n",
              "      <td>0.0</td>\n",
              "      <td>0.0</td>\n",
              "      <td>0.0</td>\n",
              "      <td>49.0</td>\n",
              "      <td>292.500000</td>\n",
              "    </tr>\n",
              "    <tr>\n",
              "      <th>3</th>\n",
              "      <td>flat</td>\n",
              "      <td>bestech park view sanskruti</td>\n",
              "      <td>sector 92</td>\n",
              "      <td>1.60</td>\n",
              "      <td>8020.0</td>\n",
              "      <td>1995.0</td>\n",
              "      <td>Super Built up area 1995(185.34 sq.m.)Built Up...</td>\n",
              "      <td>3.0</td>\n",
              "      <td>4.0</td>\n",
              "      <td>3+</td>\n",
              "      <td>10.0</td>\n",
              "      <td>North-West</td>\n",
              "      <td>Relatively New</td>\n",
              "      <td>1995.0</td>\n",
              "      <td>1615.0</td>\n",
              "      <td>1476.0</td>\n",
              "      <td>0.0</td>\n",
              "      <td>1.0</td>\n",
              "      <td>0.0</td>\n",
              "      <td>0.0</td>\n",
              "      <td>1.0</td>\n",
              "      <td>1.0</td>\n",
              "      <td>174.0</td>\n",
              "      <td>665.000000</td>\n",
              "    </tr>\n",
              "    <tr>\n",
              "      <th>4</th>\n",
              "      <td>flat</td>\n",
              "      <td>suncity avenue</td>\n",
              "      <td>sector 102</td>\n",
              "      <td>0.48</td>\n",
              "      <td>9023.0</td>\n",
              "      <td>532.0</td>\n",
              "      <td>Super Built up area 632(58.71 sq.m.)Carpet are...</td>\n",
              "      <td>2.0</td>\n",
              "      <td>2.0</td>\n",
              "      <td>1</td>\n",
              "      <td>5.0</td>\n",
              "      <td>North-East</td>\n",
              "      <td>Relatively New</td>\n",
              "      <td>632.0</td>\n",
              "      <td>NaN</td>\n",
              "      <td>532.0</td>\n",
              "      <td>0.0</td>\n",
              "      <td>0.0</td>\n",
              "      <td>1.0</td>\n",
              "      <td>0.0</td>\n",
              "      <td>0.0</td>\n",
              "      <td>0.0</td>\n",
              "      <td>159.0</td>\n",
              "      <td>266.000000</td>\n",
              "    </tr>\n",
              "  </tbody>\n",
              "</table>\n",
              "</div>"
            ],
            "text/plain": [
              "  property_type                      society      sector  price  \\\n",
              "0          flat      signature global park 4   sector 36   0.82   \n",
              "1          flat             smart world gems   sector 89   0.95   \n",
              "2          flat       breez global hill view  sohna road   0.32   \n",
              "3          flat  bestech park view sanskruti   sector 92   1.60   \n",
              "4          flat               suncity avenue  sector 102   0.48   \n",
              "\n",
              "   price_per_sqft    area                                       areaWithType  \\\n",
              "0          7586.0  1081.0  Super Built up area 1081(100.43 sq.m.)Carpet a...   \n",
              "1          8597.0  1105.0                   Carpet area: 1103 (102.47 sq.m.)   \n",
              "2          5470.0   585.0  Built Up area: 1000 (92.9 sq.m.)Carpet area: 5...   \n",
              "3          8020.0  1995.0  Super Built up area 1995(185.34 sq.m.)Built Up...   \n",
              "4          9023.0   532.0  Super Built up area 632(58.71 sq.m.)Carpet are...   \n",
              "\n",
              "   bedRoom  bathroom balcony  floorNum      facing   agePossession  \\\n",
              "0      3.0       2.0       2       2.0         NaN    New Property   \n",
              "1      2.0       2.0       2       4.0         NaN    New Property   \n",
              "2      2.0       2.0       1      17.0         NaN    New Property   \n",
              "3      3.0       4.0      3+      10.0  North-West  Relatively New   \n",
              "4      2.0       2.0       1       5.0  North-East  Relatively New   \n",
              "\n",
              "   super_built_up_area  built_up_area  carpet_area  study room  servant room  \\\n",
              "0               1081.0            NaN        650.0         0.0           0.0   \n",
              "1                  NaN            NaN       1103.0         1.0           1.0   \n",
              "2                  NaN         1000.0        585.0         0.0           0.0   \n",
              "3               1995.0         1615.0       1476.0         0.0           1.0   \n",
              "4                632.0            NaN        532.0         0.0           0.0   \n",
              "\n",
              "   store room  pooja room  others  furnishing_type  luxury_score  \\\n",
              "0         0.0         0.0     0.0              0.0           8.0   \n",
              "1         0.0         0.0     0.0              0.0          38.0   \n",
              "2         0.0         0.0     0.0              0.0          49.0   \n",
              "3         0.0         0.0     1.0              1.0         174.0   \n",
              "4         1.0         0.0     0.0              0.0         159.0   \n",
              "\n",
              "   area_room_ratio  \n",
              "0       360.333333  \n",
              "1       552.500000  \n",
              "2       292.500000  \n",
              "3       665.000000  \n",
              "4       266.000000  "
            ]
          },
          "execution_count": 396,
          "metadata": {},
          "output_type": "execute_result"
        }
      ],
      "source": [
        "df.head()"
      ]
    },
    {
      "cell_type": "code",
      "execution_count": null,
      "metadata": {
        "id": "2e44b5a1",
        "outputId": "9e69daf8-993f-40ab-ffba-9b7107d51f77"
      },
      "outputs": [
        {
          "data": {
            "text/plain": [
              "property_type             0\n",
              "society                   1\n",
              "sector                    0\n",
              "price                     0\n",
              "price_per_sqft            0\n",
              "area                      0\n",
              "areaWithType              0\n",
              "bedRoom                   0\n",
              "bathroom                  0\n",
              "balcony                   0\n",
              "floorNum                 17\n",
              "facing                 1011\n",
              "agePossession             0\n",
              "super_built_up_area    1680\n",
              "built_up_area          1968\n",
              "carpet_area            1715\n",
              "study room                0\n",
              "servant room              0\n",
              "store room                0\n",
              "pooja room                0\n",
              "others                    0\n",
              "furnishing_type           0\n",
              "luxury_score              0\n",
              "area_room_ratio           0\n",
              "dtype: int64"
            ]
          },
          "execution_count": 397,
          "metadata": {},
          "output_type": "execute_result"
        }
      ],
      "source": [
        "df.isnull().sum()"
      ]
    },
    {
      "cell_type": "markdown",
      "metadata": {
        "id": "3d90d1bf"
      },
      "source": [
        "### Built up area"
      ]
    },
    {
      "cell_type": "code",
      "execution_count": null,
      "metadata": {
        "id": "6f739c0b",
        "outputId": "5e00104a-d3d4-4d39-99c1-0eda4ee4b9c3"
      },
      "outputs": [
        {
          "name": "stderr",
          "output_type": "stream",
          "text": [
            "C:\\Users\\Nitish\\anaconda3\\lib\\site-packages\\seaborn\\_decorators.py:36: FutureWarning: Pass the following variables as keyword args: x, y. From version 0.12, the only valid positional argument will be `data`, and passing other arguments without an explicit keyword will result in an error or misinterpretation.\n",
            "  warnings.warn(\n"
          ]
        },
        {
          "data": {
            "text/plain": [
              "<AxesSubplot:xlabel='built_up_area', ylabel='super_built_up_area'>"
            ]
          },
          "execution_count": 398,
          "metadata": {},
          "output_type": "execute_result"
        },
        {
          "data": {
            "image/png": "[encoded data removed]",
            "text/plain": [
              "<Figure size 432x288 with 1 Axes>"
            ]
          },
          "metadata": {
            "needs_background": "light"
          },
          "output_type": "display_data"
        }
      ],
      "source": [
        "sns.scatterplot(df['built_up_area'],df['super_built_up_area'])"
      ]
    },
    {
      "cell_type": "code",
      "execution_count": null,
      "metadata": {
        "id": "f60cb391",
        "outputId": "39bb7b72-d000-4da4-f69b-60b47cb97c7d"
      },
      "outputs": [
        {
          "name": "stderr",
          "output_type": "stream",
          "text": [
            "C:\\Users\\Nitish\\anaconda3\\lib\\site-packages\\seaborn\\_decorators.py:36: FutureWarning: Pass the following variables as keyword args: x, y. From version 0.12, the only valid positional argument will be `data`, and passing other arguments without an explicit keyword will result in an error or misinterpretation.\n",
            "  warnings.warn(\n"
          ]
        },
        {
          "data": {
            "text/plain": [
              "<AxesSubplot:xlabel='built_up_area', ylabel='carpet_area'>"
            ]
          },
          "execution_count": 399,
          "metadata": {},
          "output_type": "execute_result"
        },
        {
          "data": {
            "image/png": "[encoded data removed]",
            "text/plain": [
              "<Figure size 432x288 with 1 Axes>"
            ]
          },
          "metadata": {
            "needs_background": "light"
          },
          "output_type": "display_data"
        }
      ],
      "source": [
        "sns.scatterplot(df['built_up_area'],df['carpet_area'])"
      ]
    },
    {
      "cell_type": "code",
      "execution_count": null,
      "metadata": {
        "id": "b926788c",
        "outputId": "de83f79e-6e6c-425c-dcb8-4418a448e492"
      },
      "outputs": [
        {
          "data": {
            "text/plain": [
              "0       False\n",
              "1       False\n",
              "2       False\n",
              "3       False\n",
              "4       False\n",
              "        ...  \n",
              "3550    False\n",
              "3551    False\n",
              "3552    False\n",
              "3553    False\n",
              "3554    False\n",
              "Length: 3555, dtype: bool"
            ]
          },
          "execution_count": 400,
          "metadata": {},
          "output_type": "execute_result"
        }
      ],
      "source": [
        "((df['super_built_up_area'].isnull()) & (df['built_up_area'].isnull()) & (df['carpet_area'].isnull()))"
      ]
    },
    {
      "cell_type": "code",
      "execution_count": null,
      "metadata": {
        "id": "64276648"
      },
      "outputs": [],
      "source": [
        "all_present_df = df[~((df['super_built_up_area'].isnull()) | (df['built_up_area'].isnull()) | (df['carpet_area'].isnull()))]"
      ]
    },
    {
      "cell_type": "code",
      "execution_count": null,
      "metadata": {
        "id": "01cf4962",
        "outputId": "db6577eb-2c81-455b-9093-a23d0d04da09"
      },
      "outputs": [
        {
          "data": {
            "text/plain": [
              "(531, 24)"
            ]
          },
          "execution_count": 402,
          "metadata": {},
          "output_type": "execute_result"
        }
      ],
      "source": [
        "all_present_df.shape"
      ]
    },
    {
      "cell_type": "code",
      "execution_count": null,
      "metadata": {
        "id": "6ce61219"
      },
      "outputs": [],
      "source": [
        "super_to_built_up_ratio = (all_present_df['super_built_up_area']/all_present_df['built_up_area']).median()"
      ]
    },
    {
      "cell_type": "code",
      "execution_count": null,
      "metadata": {
        "id": "84fb9f2b"
      },
      "outputs": [],
      "source": [
        "carpet_to_built_up_ratio = (all_present_df['carpet_area']/all_present_df['built_up_area']).median()"
      ]
    },
    {
      "cell_type": "code",
      "execution_count": null,
      "metadata": {
        "id": "9b3b57fc",
        "outputId": "f3980910-afb9-4024-a796-af8ae3bf16a6"
      },
      "outputs": [
        {
          "name": "stdout",
          "output_type": "stream",
          "text": [
            "1.105263157894737 0.9\n"
          ]
        }
      ],
      "source": [
        "print(super_to_built_up_ratio, carpet_to_built_up_ratio)"
      ]
    },
    {
      "cell_type": "code",
      "execution_count": null,
      "metadata": {
        "id": "e143ffa6"
      },
      "outputs": [],
      "source": [
        "# both present built up null\n",
        "sbc_df = df[~(df['super_built_up_area'].isnull()) & (df['built_up_area'].isnull()) & ~(df['carpet_area'].isnull())]"
      ]
    },
    {
      "cell_type": "code",
      "execution_count": null,
      "metadata": {
        "id": "3ed3b8f6",
        "outputId": "cc9c2108-2ac4-4a70-8f7f-b6449789b489"
      },
      "outputs": [
        {
          "data": {
            "text/html": [
              "<div>\n",
              "<style scoped>\n",
              "    .dataframe tbody tr th:only-of-type {\n",
              "        vertical-align: middle;\n",
              "    }\n",
              "\n",
              "    .dataframe tbody tr th {\n",
              "        vertical-align: top;\n",
              "    }\n",
              "\n",
              "    .dataframe thead th {\n",
              "        text-align: right;\n",
              "    }\n",
              "</style>\n",
              "<table border=\"1\" class=\"dataframe\">\n",
              "  <thead>\n",
              "    <tr style=\"text-align: right;\">\n",
              "      <th></th>\n",
              "      <th>property_type</th>\n",
              "      <th>society</th>\n",
              "      <th>sector</th>\n",
              "      <th>price</th>\n",
              "      <th>price_per_sqft</th>\n",
              "      <th>area</th>\n",
              "      <th>areaWithType</th>\n",
              "      <th>bedRoom</th>\n",
              "      <th>bathroom</th>\n",
              "      <th>balcony</th>\n",
              "      <th>floorNum</th>\n",
              "      <th>facing</th>\n",
              "      <th>agePossession</th>\n",
              "      <th>super_built_up_area</th>\n",
              "      <th>built_up_area</th>\n",
              "      <th>carpet_area</th>\n",
              "      <th>study room</th>\n",
              "      <th>servant room</th>\n",
              "      <th>store room</th>\n",
              "      <th>pooja room</th>\n",
              "      <th>others</th>\n",
              "      <th>furnishing_type</th>\n",
              "      <th>luxury_score</th>\n",
              "      <th>area_room_ratio</th>\n",
              "    </tr>\n",
              "  </thead>\n",
              "  <tbody>\n",
              "    <tr>\n",
              "      <th>0</th>\n",
              "      <td>flat</td>\n",
              "      <td>signature global park 4</td>\n",
              "      <td>sector 36</td>\n",
              "      <td>0.82</td>\n",
              "      <td>7586.0</td>\n",
              "      <td>1081.0</td>\n",
              "      <td>Super Built up area 1081(100.43 sq.m.)Carpet a...</td>\n",
              "      <td>3.0</td>\n",
              "      <td>2.0</td>\n",
              "      <td>2</td>\n",
              "      <td>2.0</td>\n",
              "      <td>NaN</td>\n",
              "      <td>New Property</td>\n",
              "      <td>1081.0</td>\n",
              "      <td>NaN</td>\n",
              "      <td>650.0</td>\n",
              "      <td>0.0</td>\n",
              "      <td>0.0</td>\n",
              "      <td>0.0</td>\n",
              "      <td>0.0</td>\n",
              "      <td>0.0</td>\n",
              "      <td>0.0</td>\n",
              "      <td>8.0</td>\n",
              "      <td>360.333333</td>\n",
              "    </tr>\n",
              "    <tr>\n",
              "      <th>4</th>\n",
              "      <td>flat</td>\n",
              "      <td>suncity avenue</td>\n",
              "      <td>sector 102</td>\n",
              "      <td>0.48</td>\n",
              "      <td>9023.0</td>\n",
              "      <td>532.0</td>\n",
              "      <td>Super Built up area 632(58.71 sq.m.)Carpet are...</td>\n",
              "      <td>2.0</td>\n",
              "      <td>2.0</td>\n",
              "      <td>1</td>\n",
              "      <td>5.0</td>\n",
              "      <td>North-East</td>\n",
              "      <td>Relatively New</td>\n",
              "      <td>632.0</td>\n",
              "      <td>NaN</td>\n",
              "      <td>532.0</td>\n",
              "      <td>0.0</td>\n",
              "      <td>0.0</td>\n",
              "      <td>1.0</td>\n",
              "      <td>0.0</td>\n",
              "      <td>0.0</td>\n",
              "      <td>0.0</td>\n",
              "      <td>159.0</td>\n",
              "      <td>266.000000</td>\n",
              "    </tr>\n",
              "    <tr>\n",
              "      <th>38</th>\n",
              "      <td>flat</td>\n",
              "      <td>corona optus</td>\n",
              "      <td>sector 37</td>\n",
              "      <td>1.25</td>\n",
              "      <td>7176.0</td>\n",
              "      <td>1742.0</td>\n",
              "      <td>Super Built up area 1735(161.19 sq.m.)Carpet a...</td>\n",
              "      <td>3.0</td>\n",
              "      <td>3.0</td>\n",
              "      <td>3</td>\n",
              "      <td>2.0</td>\n",
              "      <td>North-West</td>\n",
              "      <td>Relatively New</td>\n",
              "      <td>1735.0</td>\n",
              "      <td>NaN</td>\n",
              "      <td>1400.0</td>\n",
              "      <td>1.0</td>\n",
              "      <td>0.0</td>\n",
              "      <td>0.0</td>\n",
              "      <td>0.0</td>\n",
              "      <td>0.0</td>\n",
              "      <td>0.0</td>\n",
              "      <td>49.0</td>\n",
              "      <td>580.666667</td>\n",
              "    </tr>\n",
              "    <tr>\n",
              "      <th>40</th>\n",
              "      <td>flat</td>\n",
              "      <td>m3m merlin</td>\n",
              "      <td>sector 67</td>\n",
              "      <td>2.80</td>\n",
              "      <td>13679.0</td>\n",
              "      <td>2047.0</td>\n",
              "      <td>Super Built up area 2047(190.17 sq.m.)Carpet a...</td>\n",
              "      <td>3.0</td>\n",
              "      <td>3.0</td>\n",
              "      <td>3</td>\n",
              "      <td>5.0</td>\n",
              "      <td>North-East</td>\n",
              "      <td>Moderately Old</td>\n",
              "      <td>2047.0</td>\n",
              "      <td>NaN</td>\n",
              "      <td>1880.0</td>\n",
              "      <td>0.0</td>\n",
              "      <td>1.0</td>\n",
              "      <td>0.0</td>\n",
              "      <td>0.0</td>\n",
              "      <td>0.0</td>\n",
              "      <td>2.0</td>\n",
              "      <td>26.0</td>\n",
              "      <td>682.333333</td>\n",
              "    </tr>\n",
              "    <tr>\n",
              "      <th>45</th>\n",
              "      <td>flat</td>\n",
              "      <td>smart world orchard</td>\n",
              "      <td>sector 61</td>\n",
              "      <td>2.10</td>\n",
              "      <td>13752.0</td>\n",
              "      <td>1527.0</td>\n",
              "      <td>Super Built up area 1549(143.91 sq.m.)Carpet a...</td>\n",
              "      <td>3.0</td>\n",
              "      <td>2.0</td>\n",
              "      <td>3</td>\n",
              "      <td>3.0</td>\n",
              "      <td>South</td>\n",
              "      <td>Under Construction</td>\n",
              "      <td>1549.0</td>\n",
              "      <td>NaN</td>\n",
              "      <td>1500.0</td>\n",
              "      <td>0.0</td>\n",
              "      <td>0.0</td>\n",
              "      <td>0.0</td>\n",
              "      <td>0.0</td>\n",
              "      <td>0.0</td>\n",
              "      <td>0.0</td>\n",
              "      <td>146.0</td>\n",
              "      <td>509.000000</td>\n",
              "    </tr>\n",
              "  </tbody>\n",
              "</table>\n",
              "</div>"
            ],
            "text/plain": [
              "   property_type                  society      sector  price  price_per_sqft  \\\n",
              "0           flat  signature global park 4   sector 36   0.82          7586.0   \n",
              "4           flat           suncity avenue  sector 102   0.48          9023.0   \n",
              "38          flat             corona optus   sector 37   1.25          7176.0   \n",
              "40          flat               m3m merlin   sector 67   2.80         13679.0   \n",
              "45          flat      smart world orchard   sector 61   2.10         13752.0   \n",
              "\n",
              "      area                                       areaWithType  bedRoom  \\\n",
              "0   1081.0  Super Built up area 1081(100.43 sq.m.)Carpet a...      3.0   \n",
              "4    532.0  Super Built up area 632(58.71 sq.m.)Carpet are...      2.0   \n",
              "38  1742.0  Super Built up area 1735(161.19 sq.m.)Carpet a...      3.0   \n",
              "40  2047.0  Super Built up area 2047(190.17 sq.m.)Carpet a...      3.0   \n",
              "45  1527.0  Super Built up area 1549(143.91 sq.m.)Carpet a...      3.0   \n",
              "\n",
              "    bathroom balcony  floorNum      facing       agePossession  \\\n",
              "0        2.0       2       2.0         NaN        New Property   \n",
              "4        2.0       1       5.0  North-East      Relatively New   \n",
              "38       3.0       3       2.0  North-West      Relatively New   \n",
              "40       3.0       3       5.0  North-East      Moderately Old   \n",
              "45       2.0       3       3.0       South  Under Construction   \n",
              "\n",
              "    super_built_up_area  built_up_area  carpet_area  study room  servant room  \\\n",
              "0                1081.0            NaN        650.0         0.0           0.0   \n",
              "4                 632.0            NaN        532.0         0.0           0.0   \n",
              "38               1735.0            NaN       1400.0         1.0           0.0   \n",
              "40               2047.0            NaN       1880.0         0.0           1.0   \n",
              "45               1549.0            NaN       1500.0         0.0           0.0   \n",
              "\n",
              "    store room  pooja room  others  furnishing_type  luxury_score  \\\n",
              "0          0.0         0.0     0.0              0.0           8.0   \n",
              "4          1.0         0.0     0.0              0.0         159.0   \n",
              "38         0.0         0.0     0.0              0.0          49.0   \n",
              "40         0.0         0.0     0.0              2.0          26.0   \n",
              "45         0.0         0.0     0.0              0.0         146.0   \n",
              "\n",
              "    area_room_ratio  \n",
              "0        360.333333  \n",
              "4        266.000000  \n",
              "38       580.666667  \n",
              "40       682.333333  \n",
              "45       509.000000  "
            ]
          },
          "execution_count": 407,
          "metadata": {},
          "output_type": "execute_result"
        }
      ],
      "source": [
        "sbc_df.head()"
      ]
    },
    {
      "cell_type": "code",
      "execution_count": null,
      "metadata": {
        "id": "9297f7fc",
        "outputId": "dd0d455e-cf3a-4e34-aafb-2c45e7c93e76"
      },
      "outputs": [
        {
          "name": "stderr",
          "output_type": "stream",
          "text": [
            "C:\\Users\\Nitish\\anaconda3\\lib\\site-packages\\pandas\\core\\generic.py:6392: SettingWithCopyWarning: \n",
            "A value is trying to be set on a copy of a slice from a DataFrame\n",
            "\n",
            "See the caveats in the documentation: https://pandas.pydata.org/pandas-docs/stable/user_guide/indexing.html#returning-a-view-versus-a-copy\n",
            "  return self._update_inplace(result)\n"
          ]
        }
      ],
      "source": [
        "sbc_df['built_up_area'].fillna(round(((sbc_df['super_built_up_area']/1.105) + (sbc_df['carpet_area']/0.9))/2),inplace=True)"
      ]
    },
    {
      "cell_type": "code",
      "execution_count": null,
      "metadata": {
        "id": "8b2b0cb2"
      },
      "outputs": [],
      "source": [
        "df.update(sbc_df)"
      ]
    },
    {
      "cell_type": "code",
      "execution_count": null,
      "metadata": {
        "id": "643fa2da",
        "outputId": "75644120-6ce5-43b3-ea84-74ae2dc780de"
      },
      "outputs": [
        {
          "data": {
            "text/plain": [
              "property_type             0\n",
              "society                   1\n",
              "sector                    0\n",
              "price                     0\n",
              "price_per_sqft            0\n",
              "area                      0\n",
              "areaWithType              0\n",
              "bedRoom                   0\n",
              "bathroom                  0\n",
              "balcony                   0\n",
              "floorNum                 17\n",
              "facing                 1011\n",
              "agePossession             0\n",
              "super_built_up_area    1680\n",
              "built_up_area          1547\n",
              "carpet_area            1715\n",
              "study room                0\n",
              "servant room              0\n",
              "store room                0\n",
              "pooja room                0\n",
              "others                    0\n",
              "furnishing_type           0\n",
              "luxury_score              0\n",
              "area_room_ratio           0\n",
              "dtype: int64"
            ]
          },
          "execution_count": 410,
          "metadata": {},
          "output_type": "execute_result"
        }
      ],
      "source": [
        "df.isnull().sum()"
      ]
    },
    {
      "cell_type": "code",
      "execution_count": null,
      "metadata": {
        "id": "73ccd48e"
      },
      "outputs": [],
      "source": [
        "# sb present c is null built up null\n",
        "sb_df = df[~(df['super_built_up_area'].isnull()) & (df['built_up_area'].isnull()) & (df['carpet_area'].isnull())]"
      ]
    },
    {
      "cell_type": "code",
      "execution_count": null,
      "metadata": {
        "id": "e6b70c6f",
        "outputId": "bd5b39a5-8e06-4af9-93f2-4653dcdb15cd"
      },
      "outputs": [
        {
          "data": {
            "text/html": [
              "<div>\n",
              "<style scoped>\n",
              "    .dataframe tbody tr th:only-of-type {\n",
              "        vertical-align: middle;\n",
              "    }\n",
              "\n",
              "    .dataframe tbody tr th {\n",
              "        vertical-align: top;\n",
              "    }\n",
              "\n",
              "    .dataframe thead th {\n",
              "        text-align: right;\n",
              "    }\n",
              "</style>\n",
              "<table border=\"1\" class=\"dataframe\">\n",
              "  <thead>\n",
              "    <tr style=\"text-align: right;\">\n",
              "      <th></th>\n",
              "      <th>property_type</th>\n",
              "      <th>society</th>\n",
              "      <th>sector</th>\n",
              "      <th>price</th>\n",
              "      <th>price_per_sqft</th>\n",
              "      <th>area</th>\n",
              "      <th>areaWithType</th>\n",
              "      <th>bedRoom</th>\n",
              "      <th>bathroom</th>\n",
              "      <th>balcony</th>\n",
              "      <th>floorNum</th>\n",
              "      <th>facing</th>\n",
              "      <th>agePossession</th>\n",
              "      <th>super_built_up_area</th>\n",
              "      <th>built_up_area</th>\n",
              "      <th>carpet_area</th>\n",
              "      <th>study room</th>\n",
              "      <th>servant room</th>\n",
              "      <th>store room</th>\n",
              "      <th>pooja room</th>\n",
              "      <th>others</th>\n",
              "      <th>furnishing_type</th>\n",
              "      <th>luxury_score</th>\n",
              "      <th>area_room_ratio</th>\n",
              "    </tr>\n",
              "  </thead>\n",
              "  <tbody>\n",
              "    <tr>\n",
              "      <th>5</th>\n",
              "      <td>flat</td>\n",
              "      <td>paras quartier</td>\n",
              "      <td>gwal pahari</td>\n",
              "      <td>7.50</td>\n",
              "      <td>14019.0</td>\n",
              "      <td>5350.0</td>\n",
              "      <td>Super Built up area 5350(497.03 sq.m.)</td>\n",
              "      <td>4.0</td>\n",
              "      <td>4.0</td>\n",
              "      <td>3+</td>\n",
              "      <td>20.0</td>\n",
              "      <td>North-East</td>\n",
              "      <td>New Property</td>\n",
              "      <td>5350.0</td>\n",
              "      <td>NaN</td>\n",
              "      <td>NaN</td>\n",
              "      <td>0.0</td>\n",
              "      <td>1.0</td>\n",
              "      <td>0.0</td>\n",
              "      <td>1.0</td>\n",
              "      <td>1.0</td>\n",
              "      <td>1.0</td>\n",
              "      <td>49.0</td>\n",
              "      <td>1337.500000</td>\n",
              "    </tr>\n",
              "    <tr>\n",
              "      <th>6</th>\n",
              "      <td>flat</td>\n",
              "      <td>experion the heartsong</td>\n",
              "      <td>sector 108</td>\n",
              "      <td>2.00</td>\n",
              "      <td>8554.0</td>\n",
              "      <td>2338.0</td>\n",
              "      <td>Super Built up area 2338(217.21 sq.m.)</td>\n",
              "      <td>3.0</td>\n",
              "      <td>3.0</td>\n",
              "      <td>3+</td>\n",
              "      <td>14.0</td>\n",
              "      <td>East</td>\n",
              "      <td>Relatively New</td>\n",
              "      <td>2338.0</td>\n",
              "      <td>NaN</td>\n",
              "      <td>NaN</td>\n",
              "      <td>0.0</td>\n",
              "      <td>1.0</td>\n",
              "      <td>0.0</td>\n",
              "      <td>0.0</td>\n",
              "      <td>0.0</td>\n",
              "      <td>0.0</td>\n",
              "      <td>95.0</td>\n",
              "      <td>779.333333</td>\n",
              "    </tr>\n",
              "    <tr>\n",
              "      <th>7</th>\n",
              "      <td>flat</td>\n",
              "      <td>adani m2k oyster grande</td>\n",
              "      <td>sector 102</td>\n",
              "      <td>1.90</td>\n",
              "      <td>9104.0</td>\n",
              "      <td>2087.0</td>\n",
              "      <td>Super Built up area 1889(175.49 sq.m.)</td>\n",
              "      <td>3.0</td>\n",
              "      <td>4.0</td>\n",
              "      <td>3</td>\n",
              "      <td>8.0</td>\n",
              "      <td>North-East</td>\n",
              "      <td>Relatively New</td>\n",
              "      <td>1889.0</td>\n",
              "      <td>NaN</td>\n",
              "      <td>NaN</td>\n",
              "      <td>0.0</td>\n",
              "      <td>1.0</td>\n",
              "      <td>0.0</td>\n",
              "      <td>0.0</td>\n",
              "      <td>0.0</td>\n",
              "      <td>0.0</td>\n",
              "      <td>165.0</td>\n",
              "      <td>695.666667</td>\n",
              "    </tr>\n",
              "    <tr>\n",
              "      <th>12</th>\n",
              "      <td>flat</td>\n",
              "      <td>ats tourmaline</td>\n",
              "      <td>sector 109</td>\n",
              "      <td>2.25</td>\n",
              "      <td>8704.0</td>\n",
              "      <td>2585.0</td>\n",
              "      <td>Super Built up area 2585(240.15 sq.m.)</td>\n",
              "      <td>3.0</td>\n",
              "      <td>4.0</td>\n",
              "      <td>3</td>\n",
              "      <td>14.0</td>\n",
              "      <td>North-East</td>\n",
              "      <td>Relatively New</td>\n",
              "      <td>2585.0</td>\n",
              "      <td>NaN</td>\n",
              "      <td>NaN</td>\n",
              "      <td>0.0</td>\n",
              "      <td>1.0</td>\n",
              "      <td>0.0</td>\n",
              "      <td>0.0</td>\n",
              "      <td>0.0</td>\n",
              "      <td>0.0</td>\n",
              "      <td>101.0</td>\n",
              "      <td>861.666667</td>\n",
              "    </tr>\n",
              "    <tr>\n",
              "      <th>15</th>\n",
              "      <td>flat</td>\n",
              "      <td>bestech park view sanskruti</td>\n",
              "      <td>sector 92</td>\n",
              "      <td>1.55</td>\n",
              "      <td>7568.0</td>\n",
              "      <td>2048.0</td>\n",
              "      <td>Super Built up area 1995(185.34 sq.m.)</td>\n",
              "      <td>3.0</td>\n",
              "      <td>4.0</td>\n",
              "      <td>3</td>\n",
              "      <td>16.0</td>\n",
              "      <td>South</td>\n",
              "      <td>Relatively New</td>\n",
              "      <td>1995.0</td>\n",
              "      <td>NaN</td>\n",
              "      <td>NaN</td>\n",
              "      <td>0.0</td>\n",
              "      <td>1.0</td>\n",
              "      <td>0.0</td>\n",
              "      <td>0.0</td>\n",
              "      <td>0.0</td>\n",
              "      <td>1.0</td>\n",
              "      <td>60.0</td>\n",
              "      <td>682.666667</td>\n",
              "    </tr>\n",
              "  </tbody>\n",
              "</table>\n",
              "</div>"
            ],
            "text/plain": [
              "   property_type                      society       sector  price  \\\n",
              "5           flat               paras quartier  gwal pahari   7.50   \n",
              "6           flat       experion the heartsong   sector 108   2.00   \n",
              "7           flat      adani m2k oyster grande   sector 102   1.90   \n",
              "12          flat               ats tourmaline   sector 109   2.25   \n",
              "15          flat  bestech park view sanskruti    sector 92   1.55   \n",
              "\n",
              "    price_per_sqft    area                            areaWithType  bedRoom  \\\n",
              "5          14019.0  5350.0  Super Built up area 5350(497.03 sq.m.)      4.0   \n",
              "6           8554.0  2338.0  Super Built up area 2338(217.21 sq.m.)      3.0   \n",
              "7           9104.0  2087.0  Super Built up area 1889(175.49 sq.m.)      3.0   \n",
              "12          8704.0  2585.0  Super Built up area 2585(240.15 sq.m.)      3.0   \n",
              "15          7568.0  2048.0  Super Built up area 1995(185.34 sq.m.)      3.0   \n",
              "\n",
              "    bathroom balcony  floorNum      facing   agePossession  \\\n",
              "5        4.0      3+      20.0  North-East    New Property   \n",
              "6        3.0      3+      14.0        East  Relatively New   \n",
              "7        4.0       3       8.0  North-East  Relatively New   \n",
              "12       4.0       3      14.0  North-East  Relatively New   \n",
              "15       4.0       3      16.0       South  Relatively New   \n",
              "\n",
              "    super_built_up_area  built_up_area  carpet_area  study room  servant room  \\\n",
              "5                5350.0            NaN          NaN         0.0           1.0   \n",
              "6                2338.0            NaN          NaN         0.0           1.0   \n",
              "7                1889.0            NaN          NaN         0.0           1.0   \n",
              "12               2585.0            NaN          NaN         0.0           1.0   \n",
              "15               1995.0            NaN          NaN         0.0           1.0   \n",
              "\n",
              "    store room  pooja room  others  furnishing_type  luxury_score  \\\n",
              "5          0.0         1.0     1.0              1.0          49.0   \n",
              "6          0.0         0.0     0.0              0.0          95.0   \n",
              "7          0.0         0.0     0.0              0.0         165.0   \n",
              "12         0.0         0.0     0.0              0.0         101.0   \n",
              "15         0.0         0.0     0.0              1.0          60.0   \n",
              "\n",
              "    area_room_ratio  \n",
              "5       1337.500000  \n",
              "6        779.333333  \n",
              "7        695.666667  \n",
              "12       861.666667  \n",
              "15       682.666667  "
            ]
          },
          "execution_count": 412,
          "metadata": {},
          "output_type": "execute_result"
        }
      ],
      "source": [
        "sb_df.head()"
      ]
    },
    {
      "cell_type": "code",
      "execution_count": null,
      "metadata": {
        "id": "804d5a27",
        "outputId": "2ab8ab51-3da1-44b9-b83c-7dcf047e5b32"
      },
      "outputs": [
        {
          "name": "stderr",
          "output_type": "stream",
          "text": [
            "C:\\Users\\Nitish\\anaconda3\\lib\\site-packages\\pandas\\core\\generic.py:6392: SettingWithCopyWarning: \n",
            "A value is trying to be set on a copy of a slice from a DataFrame\n",
            "\n",
            "See the caveats in the documentation: https://pandas.pydata.org/pandas-docs/stable/user_guide/indexing.html#returning-a-view-versus-a-copy\n",
            "  return self._update_inplace(result)\n"
          ]
        }
      ],
      "source": [
        "sb_df['built_up_area'].fillna(round(sb_df['super_built_up_area']/1.105),inplace=True)"
      ]
    },
    {
      "cell_type": "code",
      "execution_count": null,
      "metadata": {
        "id": "0cfba588"
      },
      "outputs": [],
      "source": [
        "df.update(sb_df)"
      ]
    },
    {
      "cell_type": "code",
      "execution_count": null,
      "metadata": {
        "id": "de0ff85e",
        "outputId": "3fcb4789-af3b-40a3-bf00-adee6b622680"
      },
      "outputs": [
        {
          "data": {
            "text/plain": [
              "property_type             0\n",
              "society                   1\n",
              "sector                    0\n",
              "price                     0\n",
              "price_per_sqft            0\n",
              "area                      0\n",
              "areaWithType              0\n",
              "bedRoom                   0\n",
              "bathroom                  0\n",
              "balcony                   0\n",
              "floorNum                 17\n",
              "facing                 1011\n",
              "agePossession             0\n",
              "super_built_up_area    1680\n",
              "built_up_area           672\n",
              "carpet_area            1715\n",
              "study room                0\n",
              "servant room              0\n",
              "store room                0\n",
              "pooja room                0\n",
              "others                    0\n",
              "furnishing_type           0\n",
              "luxury_score              0\n",
              "area_room_ratio           0\n",
              "dtype: int64"
            ]
          },
          "execution_count": 415,
          "metadata": {},
          "output_type": "execute_result"
        }
      ],
      "source": [
        "df.isnull().sum()"
      ]
    },
    {
      "cell_type": "code",
      "execution_count": null,
      "metadata": {
        "id": "0f8aef54"
      },
      "outputs": [],
      "source": [
        "# sb null c is present built up null\n",
        "c_df = df[(df['super_built_up_area'].isnull()) & (df['built_up_area'].isnull()) & ~(df['carpet_area'].isnull())]"
      ]
    },
    {
      "cell_type": "code",
      "execution_count": null,
      "metadata": {
        "id": "694aef98",
        "outputId": "4fcadcb0-6089-4283-9ed0-59ec4cf32326"
      },
      "outputs": [
        {
          "data": {
            "text/html": [
              "<div>\n",
              "<style scoped>\n",
              "    .dataframe tbody tr th:only-of-type {\n",
              "        vertical-align: middle;\n",
              "    }\n",
              "\n",
              "    .dataframe tbody tr th {\n",
              "        vertical-align: top;\n",
              "    }\n",
              "\n",
              "    .dataframe thead th {\n",
              "        text-align: right;\n",
              "    }\n",
              "</style>\n",
              "<table border=\"1\" class=\"dataframe\">\n",
              "  <thead>\n",
              "    <tr style=\"text-align: right;\">\n",
              "      <th></th>\n",
              "      <th>property_type</th>\n",
              "      <th>society</th>\n",
              "      <th>sector</th>\n",
              "      <th>price</th>\n",
              "      <th>price_per_sqft</th>\n",
              "      <th>area</th>\n",
              "      <th>areaWithType</th>\n",
              "      <th>bedRoom</th>\n",
              "      <th>bathroom</th>\n",
              "      <th>balcony</th>\n",
              "      <th>floorNum</th>\n",
              "      <th>facing</th>\n",
              "      <th>agePossession</th>\n",
              "      <th>super_built_up_area</th>\n",
              "      <th>built_up_area</th>\n",
              "      <th>carpet_area</th>\n",
              "      <th>study room</th>\n",
              "      <th>servant room</th>\n",
              "      <th>store room</th>\n",
              "      <th>pooja room</th>\n",
              "      <th>others</th>\n",
              "      <th>furnishing_type</th>\n",
              "      <th>luxury_score</th>\n",
              "      <th>area_room_ratio</th>\n",
              "    </tr>\n",
              "  </thead>\n",
              "  <tbody>\n",
              "    <tr>\n",
              "      <th>1</th>\n",
              "      <td>flat</td>\n",
              "      <td>smart world gems</td>\n",
              "      <td>sector 89</td>\n",
              "      <td>0.95</td>\n",
              "      <td>8597.0</td>\n",
              "      <td>1105.0</td>\n",
              "      <td>Carpet area: 1103 (102.47 sq.m.)</td>\n",
              "      <td>2.0</td>\n",
              "      <td>2.0</td>\n",
              "      <td>2</td>\n",
              "      <td>4.0</td>\n",
              "      <td>NaN</td>\n",
              "      <td>New Property</td>\n",
              "      <td>NaN</td>\n",
              "      <td>NaN</td>\n",
              "      <td>1103.0</td>\n",
              "      <td>1.0</td>\n",
              "      <td>1.0</td>\n",
              "      <td>0.0</td>\n",
              "      <td>0.0</td>\n",
              "      <td>0.0</td>\n",
              "      <td>0.0</td>\n",
              "      <td>38.0</td>\n",
              "      <td>552.50</td>\n",
              "    </tr>\n",
              "    <tr>\n",
              "      <th>11</th>\n",
              "      <td>flat</td>\n",
              "      <td>dlf regency park</td>\n",
              "      <td>sector 28</td>\n",
              "      <td>1.60</td>\n",
              "      <td>14545.0</td>\n",
              "      <td>1100.0</td>\n",
              "      <td>Carpet area: 1100 (102.19 sq.m.)</td>\n",
              "      <td>2.0</td>\n",
              "      <td>2.0</td>\n",
              "      <td>2</td>\n",
              "      <td>3.0</td>\n",
              "      <td>North</td>\n",
              "      <td>Relatively New</td>\n",
              "      <td>NaN</td>\n",
              "      <td>NaN</td>\n",
              "      <td>1100.0</td>\n",
              "      <td>0.0</td>\n",
              "      <td>0.0</td>\n",
              "      <td>0.0</td>\n",
              "      <td>0.0</td>\n",
              "      <td>0.0</td>\n",
              "      <td>0.0</td>\n",
              "      <td>52.0</td>\n",
              "      <td>550.00</td>\n",
              "    </tr>\n",
              "    <tr>\n",
              "      <th>13</th>\n",
              "      <td>flat</td>\n",
              "      <td>emaar mgf emerald floors premier</td>\n",
              "      <td>sector 65</td>\n",
              "      <td>2.77</td>\n",
              "      <td>14025.0</td>\n",
              "      <td>1975.0</td>\n",
              "      <td>Carpet area: 1975 (183.48 sq.m.)</td>\n",
              "      <td>4.0</td>\n",
              "      <td>4.0</td>\n",
              "      <td>3+</td>\n",
              "      <td>3.0</td>\n",
              "      <td>North-East</td>\n",
              "      <td>Relatively New</td>\n",
              "      <td>NaN</td>\n",
              "      <td>NaN</td>\n",
              "      <td>1975.0</td>\n",
              "      <td>1.0</td>\n",
              "      <td>1.0</td>\n",
              "      <td>0.0</td>\n",
              "      <td>0.0</td>\n",
              "      <td>0.0</td>\n",
              "      <td>2.0</td>\n",
              "      <td>174.0</td>\n",
              "      <td>493.75</td>\n",
              "    </tr>\n",
              "    <tr>\n",
              "      <th>19</th>\n",
              "      <td>flat</td>\n",
              "      <td>afnhb jalvayu vihar</td>\n",
              "      <td>sector 30</td>\n",
              "      <td>0.85</td>\n",
              "      <td>12859.0</td>\n",
              "      <td>661.0</td>\n",
              "      <td>Carpet area: 661 (61.41 sq.m.)</td>\n",
              "      <td>2.0</td>\n",
              "      <td>2.0</td>\n",
              "      <td>1</td>\n",
              "      <td>2.0</td>\n",
              "      <td>West</td>\n",
              "      <td>Old Property</td>\n",
              "      <td>NaN</td>\n",
              "      <td>NaN</td>\n",
              "      <td>661.0</td>\n",
              "      <td>0.0</td>\n",
              "      <td>0.0</td>\n",
              "      <td>0.0</td>\n",
              "      <td>0.0</td>\n",
              "      <td>1.0</td>\n",
              "      <td>1.0</td>\n",
              "      <td>49.0</td>\n",
              "      <td>330.50</td>\n",
              "    </tr>\n",
              "    <tr>\n",
              "      <th>25</th>\n",
              "      <td>flat</td>\n",
              "      <td>chanderlok society</td>\n",
              "      <td>sector 28</td>\n",
              "      <td>0.90</td>\n",
              "      <td>7235.0</td>\n",
              "      <td>1244.0</td>\n",
              "      <td>Carpet area: 1244 (115.57 sq.m.)</td>\n",
              "      <td>4.0</td>\n",
              "      <td>2.0</td>\n",
              "      <td>3+</td>\n",
              "      <td>1.0</td>\n",
              "      <td>NaN</td>\n",
              "      <td>Old Property</td>\n",
              "      <td>NaN</td>\n",
              "      <td>NaN</td>\n",
              "      <td>1244.0</td>\n",
              "      <td>0.0</td>\n",
              "      <td>0.0</td>\n",
              "      <td>0.0</td>\n",
              "      <td>0.0</td>\n",
              "      <td>0.0</td>\n",
              "      <td>0.0</td>\n",
              "      <td>0.0</td>\n",
              "      <td>311.00</td>\n",
              "    </tr>\n",
              "  </tbody>\n",
              "</table>\n",
              "</div>"
            ],
            "text/plain": [
              "   property_type                           society     sector  price  \\\n",
              "1           flat                  smart world gems  sector 89   0.95   \n",
              "11          flat                  dlf regency park  sector 28   1.60   \n",
              "13          flat  emaar mgf emerald floors premier  sector 65   2.77   \n",
              "19          flat               afnhb jalvayu vihar  sector 30   0.85   \n",
              "25          flat                chanderlok society  sector 28   0.90   \n",
              "\n",
              "    price_per_sqft    area                      areaWithType  bedRoom  \\\n",
              "1           8597.0  1105.0  Carpet area: 1103 (102.47 sq.m.)      2.0   \n",
              "11         14545.0  1100.0  Carpet area: 1100 (102.19 sq.m.)      2.0   \n",
              "13         14025.0  1975.0  Carpet area: 1975 (183.48 sq.m.)      4.0   \n",
              "19         12859.0   661.0    Carpet area: 661 (61.41 sq.m.)      2.0   \n",
              "25          7235.0  1244.0  Carpet area: 1244 (115.57 sq.m.)      4.0   \n",
              "\n",
              "    bathroom balcony  floorNum      facing   agePossession  \\\n",
              "1        2.0       2       4.0         NaN    New Property   \n",
              "11       2.0       2       3.0       North  Relatively New   \n",
              "13       4.0      3+       3.0  North-East  Relatively New   \n",
              "19       2.0       1       2.0        West    Old Property   \n",
              "25       2.0      3+       1.0         NaN    Old Property   \n",
              "\n",
              "    super_built_up_area  built_up_area  carpet_area  study room  servant room  \\\n",
              "1                   NaN            NaN       1103.0         1.0           1.0   \n",
              "11                  NaN            NaN       1100.0         0.0           0.0   \n",
              "13                  NaN            NaN       1975.0         1.0           1.0   \n",
              "19                  NaN            NaN        661.0         0.0           0.0   \n",
              "25                  NaN            NaN       1244.0         0.0           0.0   \n",
              "\n",
              "    store room  pooja room  others  furnishing_type  luxury_score  \\\n",
              "1          0.0         0.0     0.0              0.0          38.0   \n",
              "11         0.0         0.0     0.0              0.0          52.0   \n",
              "13         0.0         0.0     0.0              2.0         174.0   \n",
              "19         0.0         0.0     1.0              1.0          49.0   \n",
              "25         0.0         0.0     0.0              0.0           0.0   \n",
              "\n",
              "    area_room_ratio  \n",
              "1            552.50  \n",
              "11           550.00  \n",
              "13           493.75  \n",
              "19           330.50  \n",
              "25           311.00  "
            ]
          },
          "execution_count": 417,
          "metadata": {},
          "output_type": "execute_result"
        }
      ],
      "source": [
        "c_df.head()"
      ]
    },
    {
      "cell_type": "code",
      "execution_count": null,
      "metadata": {
        "id": "80fe036d",
        "outputId": "a35e433b-2fed-4667-8765-f859396c6550"
      },
      "outputs": [
        {
          "name": "stderr",
          "output_type": "stream",
          "text": [
            "C:\\Users\\Nitish\\anaconda3\\lib\\site-packages\\pandas\\core\\generic.py:6392: SettingWithCopyWarning: \n",
            "A value is trying to be set on a copy of a slice from a DataFrame\n",
            "\n",
            "See the caveats in the documentation: https://pandas.pydata.org/pandas-docs/stable/user_guide/indexing.html#returning-a-view-versus-a-copy\n",
            "  return self._update_inplace(result)\n"
          ]
        }
      ],
      "source": [
        "c_df['built_up_area'].fillna(round(c_df['carpet_area']/0.9),inplace=True)"
      ]
    },
    {
      "cell_type": "code",
      "execution_count": null,
      "metadata": {
        "id": "6998a704"
      },
      "outputs": [],
      "source": [
        "df.update(c_df)"
      ]
    },
    {
      "cell_type": "code",
      "execution_count": null,
      "metadata": {
        "id": "e7bf32dd",
        "outputId": "f30fa753-f9c5-4d05-cfa7-bf0c963b3562"
      },
      "outputs": [
        {
          "data": {
            "text/plain": [
              "property_type             0\n",
              "society                   1\n",
              "sector                    0\n",
              "price                     0\n",
              "price_per_sqft            0\n",
              "area                      0\n",
              "areaWithType              0\n",
              "bedRoom                   0\n",
              "bathroom                  0\n",
              "balcony                   0\n",
              "floorNum                 17\n",
              "facing                 1011\n",
              "agePossession             0\n",
              "super_built_up_area    1680\n",
              "built_up_area             0\n",
              "carpet_area            1715\n",
              "study room                0\n",
              "servant room              0\n",
              "store room                0\n",
              "pooja room                0\n",
              "others                    0\n",
              "furnishing_type           0\n",
              "luxury_score              0\n",
              "area_room_ratio           0\n",
              "dtype: int64"
            ]
          },
          "execution_count": 420,
          "metadata": {},
          "output_type": "execute_result"
        }
      ],
      "source": [
        "df.isnull().sum()"
      ]
    },
    {
      "cell_type": "code",
      "execution_count": null,
      "metadata": {
        "id": "e8b2f41c",
        "outputId": "4e4358a8-add7-4c3b-cdc1-84a61af52793"
      },
      "outputs": [
        {
          "name": "stderr",
          "output_type": "stream",
          "text": [
            "C:\\Users\\Nitish\\anaconda3\\lib\\site-packages\\seaborn\\_decorators.py:36: FutureWarning: Pass the following variables as keyword args: x, y. From version 0.12, the only valid positional argument will be `data`, and passing other arguments without an explicit keyword will result in an error or misinterpretation.\n",
            "  warnings.warn(\n"
          ]
        },
        {
          "data": {
            "text/plain": [
              "<AxesSubplot:xlabel='built_up_area', ylabel='price'>"
            ]
          },
          "execution_count": 421,
          "metadata": {},
          "output_type": "execute_result"
        },
        {
          "data": {
            "image/png": "[encoded data removed]",
            "text/plain": [
              "<Figure size 432x288 with 1 Axes>"
            ]
          },
          "metadata": {
            "needs_background": "light"
          },
          "output_type": "display_data"
        }
      ],
      "source": [
        "sns.scatterplot(df['built_up_area'],df['price'])"
      ]
    },
    {
      "cell_type": "code",
      "execution_count": null,
      "metadata": {
        "id": "8317cdda"
      },
      "outputs": [],
      "source": [
        "anamoly_df = df[(df['built_up_area'] < 2000) & (df['price'] > 2.5)][['price','area','built_up_area']]"
      ]
    },
    {
      "cell_type": "code",
      "execution_count": null,
      "metadata": {
        "id": "3ff9da49",
        "outputId": "5a76b41f-e1b1-4197-947d-e32270bc9716"
      },
      "outputs": [
        {
          "data": {
            "text/html": [
              "<div>\n",
              "<style scoped>\n",
              "    .dataframe tbody tr th:only-of-type {\n",
              "        vertical-align: middle;\n",
              "    }\n",
              "\n",
              "    .dataframe tbody tr th {\n",
              "        vertical-align: top;\n",
              "    }\n",
              "\n",
              "    .dataframe thead th {\n",
              "        text-align: right;\n",
              "    }\n",
              "</style>\n",
              "<table border=\"1\" class=\"dataframe\">\n",
              "  <thead>\n",
              "    <tr style=\"text-align: right;\">\n",
              "      <th></th>\n",
              "      <th>price</th>\n",
              "      <th>area</th>\n",
              "      <th>built_up_area</th>\n",
              "    </tr>\n",
              "  </thead>\n",
              "  <tbody>\n",
              "    <tr>\n",
              "      <th>957</th>\n",
              "      <td>3.00</td>\n",
              "      <td>2047.0</td>\n",
              "      <td>1900.0</td>\n",
              "    </tr>\n",
              "    <tr>\n",
              "      <th>2352</th>\n",
              "      <td>2.80</td>\n",
              "      <td>1828.0</td>\n",
              "      <td>1828.0</td>\n",
              "    </tr>\n",
              "    <tr>\n",
              "      <th>2281</th>\n",
              "      <td>2.65</td>\n",
              "      <td>1582.0</td>\n",
              "      <td>138.0</td>\n",
              "    </tr>\n",
              "    <tr>\n",
              "      <th>3124</th>\n",
              "      <td>4.50</td>\n",
              "      <td>1350.0</td>\n",
              "      <td>160.0</td>\n",
              "    </tr>\n",
              "    <tr>\n",
              "      <th>3119</th>\n",
              "      <td>4.25</td>\n",
              "      <td>1350.0</td>\n",
              "      <td>161.0</td>\n",
              "    </tr>\n",
              "  </tbody>\n",
              "</table>\n",
              "</div>"
            ],
            "text/plain": [
              "      price    area  built_up_area\n",
              "957    3.00  2047.0         1900.0\n",
              "2352   2.80  1828.0         1828.0\n",
              "2281   2.65  1582.0          138.0\n",
              "3124   4.50  1350.0          160.0\n",
              "3119   4.25  1350.0          161.0"
            ]
          },
          "execution_count": 423,
          "metadata": {},
          "output_type": "execute_result"
        }
      ],
      "source": [
        "anamoly_df.sample(5)"
      ]
    },
    {
      "cell_type": "code",
      "execution_count": null,
      "metadata": {
        "id": "5465a09d"
      },
      "outputs": [],
      "source": [
        "anamoly_df['built_up_area'] = anamoly_df['area']"
      ]
    },
    {
      "cell_type": "code",
      "execution_count": null,
      "metadata": {
        "id": "5eef79a3"
      },
      "outputs": [],
      "source": [
        "df.update(anamoly_df)"
      ]
    },
    {
      "cell_type": "code",
      "execution_count": null,
      "metadata": {
        "id": "96f4e6b7",
        "outputId": "597df145-b8e1-4968-f40a-4db12934712f"
      },
      "outputs": [
        {
          "name": "stderr",
          "output_type": "stream",
          "text": [
            "C:\\Users\\Nitish\\anaconda3\\lib\\site-packages\\seaborn\\_decorators.py:36: FutureWarning: Pass the following variables as keyword args: x, y. From version 0.12, the only valid positional argument will be `data`, and passing other arguments without an explicit keyword will result in an error or misinterpretation.\n",
            "  warnings.warn(\n"
          ]
        },
        {
          "data": {
            "text/plain": [
              "<AxesSubplot:xlabel='built_up_area', ylabel='price'>"
            ]
          },
          "execution_count": 426,
          "metadata": {},
          "output_type": "execute_result"
        },
        {
          "data": {
            "image/png": "[encoded data removed]",
            "text/plain": [
              "<Figure size 432x288 with 1 Axes>"
            ]
          },
          "metadata": {
            "needs_background": "light"
          },
          "output_type": "display_data"
        }
      ],
      "source": [
        "sns.scatterplot(df['built_up_area'],df['price'])"
      ]
    },
    {
      "cell_type": "code",
      "execution_count": null,
      "metadata": {
        "id": "5d2809b7"
      },
      "outputs": [],
      "source": [
        "df.drop(columns=['area','areaWithType','super_built_up_area','carpet_area','area_room_ratio'],inplace=True)"
      ]
    },
    {
      "cell_type": "code",
      "execution_count": null,
      "metadata": {
        "id": "53303463",
        "outputId": "5561b822-7cd0-4a70-8f14-4fd4a399cb38"
      },
      "outputs": [
        {
          "data": {
            "text/html": [
              "<div>\n",
              "<style scoped>\n",
              "    .dataframe tbody tr th:only-of-type {\n",
              "        vertical-align: middle;\n",
              "    }\n",
              "\n",
              "    .dataframe tbody tr th {\n",
              "        vertical-align: top;\n",
              "    }\n",
              "\n",
              "    .dataframe thead th {\n",
              "        text-align: right;\n",
              "    }\n",
              "</style>\n",
              "<table border=\"1\" class=\"dataframe\">\n",
              "  <thead>\n",
              "    <tr style=\"text-align: right;\">\n",
              "      <th></th>\n",
              "      <th>property_type</th>\n",
              "      <th>society</th>\n",
              "      <th>sector</th>\n",
              "      <th>price</th>\n",
              "      <th>price_per_sqft</th>\n",
              "      <th>bedRoom</th>\n",
              "      <th>bathroom</th>\n",
              "      <th>balcony</th>\n",
              "      <th>floorNum</th>\n",
              "      <th>facing</th>\n",
              "      <th>agePossession</th>\n",
              "      <th>built_up_area</th>\n",
              "      <th>study room</th>\n",
              "      <th>servant room</th>\n",
              "      <th>store room</th>\n",
              "      <th>pooja room</th>\n",
              "      <th>others</th>\n",
              "      <th>furnishing_type</th>\n",
              "      <th>luxury_score</th>\n",
              "    </tr>\n",
              "  </thead>\n",
              "  <tbody>\n",
              "    <tr>\n",
              "      <th>0</th>\n",
              "      <td>flat</td>\n",
              "      <td>signature global park 4</td>\n",
              "      <td>sector 36</td>\n",
              "      <td>0.82</td>\n",
              "      <td>7586.0</td>\n",
              "      <td>3.0</td>\n",
              "      <td>2.0</td>\n",
              "      <td>2</td>\n",
              "      <td>2.0</td>\n",
              "      <td>NaN</td>\n",
              "      <td>New Property</td>\n",
              "      <td>850.0</td>\n",
              "      <td>0.0</td>\n",
              "      <td>0.0</td>\n",
              "      <td>0.0</td>\n",
              "      <td>0.0</td>\n",
              "      <td>0.0</td>\n",
              "      <td>0.0</td>\n",
              "      <td>8.0</td>\n",
              "    </tr>\n",
              "    <tr>\n",
              "      <th>1</th>\n",
              "      <td>flat</td>\n",
              "      <td>smart world gems</td>\n",
              "      <td>sector 89</td>\n",
              "      <td>0.95</td>\n",
              "      <td>8597.0</td>\n",
              "      <td>2.0</td>\n",
              "      <td>2.0</td>\n",
              "      <td>2</td>\n",
              "      <td>4.0</td>\n",
              "      <td>NaN</td>\n",
              "      <td>New Property</td>\n",
              "      <td>1226.0</td>\n",
              "      <td>1.0</td>\n",
              "      <td>1.0</td>\n",
              "      <td>0.0</td>\n",
              "      <td>0.0</td>\n",
              "      <td>0.0</td>\n",
              "      <td>0.0</td>\n",
              "      <td>38.0</td>\n",
              "    </tr>\n",
              "    <tr>\n",
              "      <th>2</th>\n",
              "      <td>flat</td>\n",
              "      <td>breez global hill view</td>\n",
              "      <td>sohna road</td>\n",
              "      <td>0.32</td>\n",
              "      <td>5470.0</td>\n",
              "      <td>2.0</td>\n",
              "      <td>2.0</td>\n",
              "      <td>1</td>\n",
              "      <td>17.0</td>\n",
              "      <td>NaN</td>\n",
              "      <td>New Property</td>\n",
              "      <td>1000.0</td>\n",
              "      <td>0.0</td>\n",
              "      <td>0.0</td>\n",
              "      <td>0.0</td>\n",
              "      <td>0.0</td>\n",
              "      <td>0.0</td>\n",
              "      <td>0.0</td>\n",
              "      <td>49.0</td>\n",
              "    </tr>\n",
              "    <tr>\n",
              "      <th>3</th>\n",
              "      <td>flat</td>\n",
              "      <td>bestech park view sanskruti</td>\n",
              "      <td>sector 92</td>\n",
              "      <td>1.60</td>\n",
              "      <td>8020.0</td>\n",
              "      <td>3.0</td>\n",
              "      <td>4.0</td>\n",
              "      <td>3+</td>\n",
              "      <td>10.0</td>\n",
              "      <td>North-West</td>\n",
              "      <td>Relatively New</td>\n",
              "      <td>1615.0</td>\n",
              "      <td>0.0</td>\n",
              "      <td>1.0</td>\n",
              "      <td>0.0</td>\n",
              "      <td>0.0</td>\n",
              "      <td>1.0</td>\n",
              "      <td>1.0</td>\n",
              "      <td>174.0</td>\n",
              "    </tr>\n",
              "    <tr>\n",
              "      <th>4</th>\n",
              "      <td>flat</td>\n",
              "      <td>suncity avenue</td>\n",
              "      <td>sector 102</td>\n",
              "      <td>0.48</td>\n",
              "      <td>9023.0</td>\n",
              "      <td>2.0</td>\n",
              "      <td>2.0</td>\n",
              "      <td>1</td>\n",
              "      <td>5.0</td>\n",
              "      <td>North-East</td>\n",
              "      <td>Relatively New</td>\n",
              "      <td>582.0</td>\n",
              "      <td>0.0</td>\n",
              "      <td>0.0</td>\n",
              "      <td>1.0</td>\n",
              "      <td>0.0</td>\n",
              "      <td>0.0</td>\n",
              "      <td>0.0</td>\n",
              "      <td>159.0</td>\n",
              "    </tr>\n",
              "  </tbody>\n",
              "</table>\n",
              "</div>"
            ],
            "text/plain": [
              "  property_type                      society      sector  price  \\\n",
              "0          flat      signature global park 4   sector 36   0.82   \n",
              "1          flat             smart world gems   sector 89   0.95   \n",
              "2          flat       breez global hill view  sohna road   0.32   \n",
              "3          flat  bestech park view sanskruti   sector 92   1.60   \n",
              "4          flat               suncity avenue  sector 102   0.48   \n",
              "\n",
              "   price_per_sqft  bedRoom  bathroom balcony  floorNum      facing  \\\n",
              "0          7586.0      3.0       2.0       2       2.0         NaN   \n",
              "1          8597.0      2.0       2.0       2       4.0         NaN   \n",
              "2          5470.0      2.0       2.0       1      17.0         NaN   \n",
              "3          8020.0      3.0       4.0      3+      10.0  North-West   \n",
              "4          9023.0      2.0       2.0       1       5.0  North-East   \n",
              "\n",
              "    agePossession  built_up_area  study room  servant room  store room  \\\n",
              "0    New Property          850.0         0.0           0.0         0.0   \n",
              "1    New Property         1226.0         1.0           1.0         0.0   \n",
              "2    New Property         1000.0         0.0           0.0         0.0   \n",
              "3  Relatively New         1615.0         0.0           1.0         0.0   \n",
              "4  Relatively New          582.0         0.0           0.0         1.0   \n",
              "\n",
              "   pooja room  others  furnishing_type  luxury_score  \n",
              "0         0.0     0.0              0.0           8.0  \n",
              "1         0.0     0.0              0.0          38.0  \n",
              "2         0.0     0.0              0.0          49.0  \n",
              "3         0.0     1.0              1.0         174.0  \n",
              "4         0.0     0.0              0.0         159.0  "
            ]
          },
          "execution_count": 428,
          "metadata": {},
          "output_type": "execute_result"
        }
      ],
      "source": [
        "df.head()"
      ]
    },
    {
      "cell_type": "code",
      "execution_count": null,
      "metadata": {
        "id": "126fe67e",
        "outputId": "12a21190-140b-4590-b127-2c50ad6044f4"
      },
      "outputs": [
        {
          "data": {
            "text/plain": [
              "property_type         0\n",
              "society               1\n",
              "sector                0\n",
              "price                 0\n",
              "price_per_sqft        0\n",
              "bedRoom               0\n",
              "bathroom              0\n",
              "balcony               0\n",
              "floorNum             17\n",
              "facing             1011\n",
              "agePossession         0\n",
              "built_up_area         0\n",
              "study room            0\n",
              "servant room          0\n",
              "store room            0\n",
              "pooja room            0\n",
              "others                0\n",
              "furnishing_type       0\n",
              "luxury_score          0\n",
              "dtype: int64"
            ]
          },
          "execution_count": 429,
          "metadata": {},
          "output_type": "execute_result"
        }
      ],
      "source": [
        "df.isnull().sum()"
      ]
    },
    {
      "cell_type": "markdown",
      "metadata": {
        "id": "98eb3827"
      },
      "source": [
        "### floorNum"
      ]
    },
    {
      "cell_type": "code",
      "execution_count": null,
      "metadata": {
        "id": "cff5d9ed",
        "outputId": "c86e26fd-4820-4ac1-a7be-c4f288bc4176"
      },
      "outputs": [
        {
          "data": {
            "text/html": [
              "<div>\n",
              "<style scoped>\n",
              "    .dataframe tbody tr th:only-of-type {\n",
              "        vertical-align: middle;\n",
              "    }\n",
              "\n",
              "    .dataframe tbody tr th {\n",
              "        vertical-align: top;\n",
              "    }\n",
              "\n",
              "    .dataframe thead th {\n",
              "        text-align: right;\n",
              "    }\n",
              "</style>\n",
              "<table border=\"1\" class=\"dataframe\">\n",
              "  <thead>\n",
              "    <tr style=\"text-align: right;\">\n",
              "      <th></th>\n",
              "      <th>property_type</th>\n",
              "      <th>society</th>\n",
              "      <th>sector</th>\n",
              "      <th>price</th>\n",
              "      <th>price_per_sqft</th>\n",
              "      <th>bedRoom</th>\n",
              "      <th>bathroom</th>\n",
              "      <th>balcony</th>\n",
              "      <th>floorNum</th>\n",
              "      <th>facing</th>\n",
              "      <th>agePossession</th>\n",
              "      <th>built_up_area</th>\n",
              "      <th>study room</th>\n",
              "      <th>servant room</th>\n",
              "      <th>store room</th>\n",
              "      <th>pooja room</th>\n",
              "      <th>others</th>\n",
              "      <th>furnishing_type</th>\n",
              "      <th>luxury_score</th>\n",
              "    </tr>\n",
              "  </thead>\n",
              "  <tbody>\n",
              "    <tr>\n",
              "      <th>500</th>\n",
              "      <td>house</td>\n",
              "      <td>independent</td>\n",
              "      <td>sector 4</td>\n",
              "      <td>0.65</td>\n",
              "      <td>11111.0</td>\n",
              "      <td>4.0</td>\n",
              "      <td>2.0</td>\n",
              "      <td>2</td>\n",
              "      <td>NaN</td>\n",
              "      <td>NaN</td>\n",
              "      <td>Moderately Old</td>\n",
              "      <td>585.0</td>\n",
              "      <td>0.0</td>\n",
              "      <td>0.0</td>\n",
              "      <td>0.0</td>\n",
              "      <td>0.0</td>\n",
              "      <td>0.0</td>\n",
              "      <td>0.0</td>\n",
              "      <td>0.0</td>\n",
              "    </tr>\n",
              "    <tr>\n",
              "      <th>767</th>\n",
              "      <td>house</td>\n",
              "      <td>independent</td>\n",
              "      <td>sector 7</td>\n",
              "      <td>6.50</td>\n",
              "      <td>15046.0</td>\n",
              "      <td>3.0</td>\n",
              "      <td>2.0</td>\n",
              "      <td>3+</td>\n",
              "      <td>NaN</td>\n",
              "      <td>NaN</td>\n",
              "      <td>Old Property</td>\n",
              "      <td>4320.0</td>\n",
              "      <td>0.0</td>\n",
              "      <td>0.0</td>\n",
              "      <td>0.0</td>\n",
              "      <td>0.0</td>\n",
              "      <td>0.0</td>\n",
              "      <td>0.0</td>\n",
              "      <td>9.0</td>\n",
              "    </tr>\n",
              "    <tr>\n",
              "      <th>1294</th>\n",
              "      <td>house</td>\n",
              "      <td>independent</td>\n",
              "      <td>sector 3</td>\n",
              "      <td>1.50</td>\n",
              "      <td>10288.0</td>\n",
              "      <td>3.0</td>\n",
              "      <td>3.0</td>\n",
              "      <td>0</td>\n",
              "      <td>NaN</td>\n",
              "      <td>NaN</td>\n",
              "      <td>Old Property</td>\n",
              "      <td>210.0</td>\n",
              "      <td>0.0</td>\n",
              "      <td>0.0</td>\n",
              "      <td>0.0</td>\n",
              "      <td>0.0</td>\n",
              "      <td>0.0</td>\n",
              "      <td>0.0</td>\n",
              "      <td>0.0</td>\n",
              "    </tr>\n",
              "    <tr>\n",
              "      <th>1452</th>\n",
              "      <td>house</td>\n",
              "      <td>vipul tatvam villa</td>\n",
              "      <td>sector 48</td>\n",
              "      <td>8.50</td>\n",
              "      <td>26235.0</td>\n",
              "      <td>4.0</td>\n",
              "      <td>4.0</td>\n",
              "      <td>1</td>\n",
              "      <td>NaN</td>\n",
              "      <td>NaN</td>\n",
              "      <td>Relatively New</td>\n",
              "      <td>3240.0</td>\n",
              "      <td>0.0</td>\n",
              "      <td>0.0</td>\n",
              "      <td>0.0</td>\n",
              "      <td>0.0</td>\n",
              "      <td>0.0</td>\n",
              "      <td>0.0</td>\n",
              "      <td>21.0</td>\n",
              "    </tr>\n",
              "    <tr>\n",
              "      <th>1465</th>\n",
              "      <td>house</td>\n",
              "      <td>ansal sushant lok plots</td>\n",
              "      <td>sector 43</td>\n",
              "      <td>3.30</td>\n",
              "      <td>26570.0</td>\n",
              "      <td>1.0</td>\n",
              "      <td>1.0</td>\n",
              "      <td>0</td>\n",
              "      <td>NaN</td>\n",
              "      <td>NaN</td>\n",
              "      <td>Under Construction</td>\n",
              "      <td>1242.0</td>\n",
              "      <td>0.0</td>\n",
              "      <td>0.0</td>\n",
              "      <td>0.0</td>\n",
              "      <td>0.0</td>\n",
              "      <td>0.0</td>\n",
              "      <td>0.0</td>\n",
              "      <td>0.0</td>\n",
              "    </tr>\n",
              "    <tr>\n",
              "      <th>1946</th>\n",
              "      <td>house</td>\n",
              "      <td>jacob pura</td>\n",
              "      <td>sector 12</td>\n",
              "      <td>0.35</td>\n",
              "      <td>9722.0</td>\n",
              "      <td>2.0</td>\n",
              "      <td>1.0</td>\n",
              "      <td>0</td>\n",
              "      <td>NaN</td>\n",
              "      <td>NaN</td>\n",
              "      <td>Old Property</td>\n",
              "      <td>360.0</td>\n",
              "      <td>0.0</td>\n",
              "      <td>0.0</td>\n",
              "      <td>0.0</td>\n",
              "      <td>0.0</td>\n",
              "      <td>0.0</td>\n",
              "      <td>0.0</td>\n",
              "      <td>0.0</td>\n",
              "    </tr>\n",
              "    <tr>\n",
              "      <th>2048</th>\n",
              "      <td>house</td>\n",
              "      <td>vipul tatvam villa</td>\n",
              "      <td>sector 48</td>\n",
              "      <td>8.50</td>\n",
              "      <td>26235.0</td>\n",
              "      <td>4.0</td>\n",
              "      <td>4.0</td>\n",
              "      <td>2</td>\n",
              "      <td>NaN</td>\n",
              "      <td>East</td>\n",
              "      <td>Moderately Old</td>\n",
              "      <td>3240.0</td>\n",
              "      <td>0.0</td>\n",
              "      <td>1.0</td>\n",
              "      <td>1.0</td>\n",
              "      <td>1.0</td>\n",
              "      <td>0.0</td>\n",
              "      <td>0.0</td>\n",
              "      <td>88.0</td>\n",
              "    </tr>\n",
              "    <tr>\n",
              "      <th>2157</th>\n",
              "      <td>house</td>\n",
              "      <td>independent</td>\n",
              "      <td>sector 4</td>\n",
              "      <td>4.12</td>\n",
              "      <td>8889.0</td>\n",
              "      <td>2.0</td>\n",
              "      <td>1.0</td>\n",
              "      <td>3+</td>\n",
              "      <td>NaN</td>\n",
              "      <td>NaN</td>\n",
              "      <td>Moderately Old</td>\n",
              "      <td>4635.0</td>\n",
              "      <td>0.0</td>\n",
              "      <td>0.0</td>\n",
              "      <td>0.0</td>\n",
              "      <td>0.0</td>\n",
              "      <td>0.0</td>\n",
              "      <td>0.0</td>\n",
              "      <td>0.0</td>\n",
              "    </tr>\n",
              "    <tr>\n",
              "      <th>2271</th>\n",
              "      <td>house</td>\n",
              "      <td>emaar mgf marbella</td>\n",
              "      <td>sector 66</td>\n",
              "      <td>9.00</td>\n",
              "      <td>21251.0</td>\n",
              "      <td>4.0</td>\n",
              "      <td>4.0</td>\n",
              "      <td>3+</td>\n",
              "      <td>NaN</td>\n",
              "      <td>South-West</td>\n",
              "      <td>Relatively New</td>\n",
              "      <td>5200.0</td>\n",
              "      <td>0.0</td>\n",
              "      <td>1.0</td>\n",
              "      <td>1.0</td>\n",
              "      <td>1.0</td>\n",
              "      <td>0.0</td>\n",
              "      <td>1.0</td>\n",
              "      <td>114.0</td>\n",
              "    </tr>\n",
              "    <tr>\n",
              "      <th>2439</th>\n",
              "      <td>house</td>\n",
              "      <td>dlf new town heights</td>\n",
              "      <td>sector 86</td>\n",
              "      <td>2.47</td>\n",
              "      <td>7719.0</td>\n",
              "      <td>4.0</td>\n",
              "      <td>4.0</td>\n",
              "      <td>3+</td>\n",
              "      <td>NaN</td>\n",
              "      <td>West</td>\n",
              "      <td>Moderately Old</td>\n",
              "      <td>2800.0</td>\n",
              "      <td>0.0</td>\n",
              "      <td>1.0</td>\n",
              "      <td>0.0</td>\n",
              "      <td>1.0</td>\n",
              "      <td>0.0</td>\n",
              "      <td>1.0</td>\n",
              "      <td>130.0</td>\n",
              "    </tr>\n",
              "    <tr>\n",
              "      <th>2536</th>\n",
              "      <td>flat</td>\n",
              "      <td>NaN</td>\n",
              "      <td>sector 78</td>\n",
              "      <td>0.60</td>\n",
              "      <td>3692.0</td>\n",
              "      <td>2.0</td>\n",
              "      <td>2.0</td>\n",
              "      <td>0</td>\n",
              "      <td>NaN</td>\n",
              "      <td>NaN</td>\n",
              "      <td>Under Construction</td>\n",
              "      <td>1625.0</td>\n",
              "      <td>0.0</td>\n",
              "      <td>0.0</td>\n",
              "      <td>0.0</td>\n",
              "      <td>0.0</td>\n",
              "      <td>0.0</td>\n",
              "      <td>0.0</td>\n",
              "      <td>0.0</td>\n",
              "    </tr>\n",
              "    <tr>\n",
              "      <th>2545</th>\n",
              "      <td>house</td>\n",
              "      <td>ansal sushant lok</td>\n",
              "      <td>sector 43</td>\n",
              "      <td>10.50</td>\n",
              "      <td>27911.0</td>\n",
              "      <td>4.0</td>\n",
              "      <td>4.0</td>\n",
              "      <td>2</td>\n",
              "      <td>NaN</td>\n",
              "      <td>North-East</td>\n",
              "      <td>Old Property</td>\n",
              "      <td>3762.0</td>\n",
              "      <td>0.0</td>\n",
              "      <td>1.0</td>\n",
              "      <td>0.0</td>\n",
              "      <td>0.0</td>\n",
              "      <td>0.0</td>\n",
              "      <td>0.0</td>\n",
              "      <td>59.0</td>\n",
              "    </tr>\n",
              "    <tr>\n",
              "      <th>2918</th>\n",
              "      <td>house</td>\n",
              "      <td>independent</td>\n",
              "      <td>sector 25</td>\n",
              "      <td>13.00</td>\n",
              "      <td>45710.0</td>\n",
              "      <td>6.0</td>\n",
              "      <td>8.0</td>\n",
              "      <td>3+</td>\n",
              "      <td>NaN</td>\n",
              "      <td>NaN</td>\n",
              "      <td>Relatively New</td>\n",
              "      <td>2844.0</td>\n",
              "      <td>1.0</td>\n",
              "      <td>1.0</td>\n",
              "      <td>1.0</td>\n",
              "      <td>1.0</td>\n",
              "      <td>0.0</td>\n",
              "      <td>2.0</td>\n",
              "      <td>0.0</td>\n",
              "    </tr>\n",
              "    <tr>\n",
              "      <th>2967</th>\n",
              "      <td>house</td>\n",
              "      <td>independent</td>\n",
              "      <td>sector 24</td>\n",
              "      <td>1.45</td>\n",
              "      <td>2984.0</td>\n",
              "      <td>3.0</td>\n",
              "      <td>3.0</td>\n",
              "      <td>1</td>\n",
              "      <td>NaN</td>\n",
              "      <td>NaN</td>\n",
              "      <td>Old Property</td>\n",
              "      <td>540.0</td>\n",
              "      <td>0.0</td>\n",
              "      <td>0.0</td>\n",
              "      <td>0.0</td>\n",
              "      <td>0.0</td>\n",
              "      <td>0.0</td>\n",
              "      <td>0.0</td>\n",
              "      <td>9.0</td>\n",
              "    </tr>\n",
              "    <tr>\n",
              "      <th>3120</th>\n",
              "      <td>house</td>\n",
              "      <td>independent</td>\n",
              "      <td>sector 26</td>\n",
              "      <td>4.60</td>\n",
              "      <td>12198.0</td>\n",
              "      <td>4.0</td>\n",
              "      <td>4.0</td>\n",
              "      <td>3+</td>\n",
              "      <td>NaN</td>\n",
              "      <td>NaN</td>\n",
              "      <td>Old Property</td>\n",
              "      <td>3771.0</td>\n",
              "      <td>0.0</td>\n",
              "      <td>0.0</td>\n",
              "      <td>0.0</td>\n",
              "      <td>0.0</td>\n",
              "      <td>0.0</td>\n",
              "      <td>0.0</td>\n",
              "      <td>28.0</td>\n",
              "    </tr>\n",
              "    <tr>\n",
              "      <th>3214</th>\n",
              "      <td>flat</td>\n",
              "      <td>experion heartsong</td>\n",
              "      <td>dwarka expressway</td>\n",
              "      <td>1.08</td>\n",
              "      <td>6150.0</td>\n",
              "      <td>3.0</td>\n",
              "      <td>3.0</td>\n",
              "      <td>0</td>\n",
              "      <td>NaN</td>\n",
              "      <td>NaN</td>\n",
              "      <td>Under Construction</td>\n",
              "      <td>1758.0</td>\n",
              "      <td>0.0</td>\n",
              "      <td>0.0</td>\n",
              "      <td>0.0</td>\n",
              "      <td>0.0</td>\n",
              "      <td>0.0</td>\n",
              "      <td>0.0</td>\n",
              "      <td>0.0</td>\n",
              "    </tr>\n",
              "    <tr>\n",
              "      <th>3255</th>\n",
              "      <td>house</td>\n",
              "      <td>independent</td>\n",
              "      <td>sector 2</td>\n",
              "      <td>5.60</td>\n",
              "      <td>17284.0</td>\n",
              "      <td>8.0</td>\n",
              "      <td>6.0</td>\n",
              "      <td>3+</td>\n",
              "      <td>NaN</td>\n",
              "      <td>South-West</td>\n",
              "      <td>Moderately Old</td>\n",
              "      <td>3240.0</td>\n",
              "      <td>1.0</td>\n",
              "      <td>1.0</td>\n",
              "      <td>1.0</td>\n",
              "      <td>1.0</td>\n",
              "      <td>0.0</td>\n",
              "      <td>0.0</td>\n",
              "      <td>0.0</td>\n",
              "    </tr>\n",
              "  </tbody>\n",
              "</table>\n",
              "</div>"
            ],
            "text/plain": [
              "     property_type                  society             sector  price  \\\n",
              "500          house              independent           sector 4   0.65   \n",
              "767          house              independent           sector 7   6.50   \n",
              "1294         house              independent           sector 3   1.50   \n",
              "1452         house       vipul tatvam villa          sector 48   8.50   \n",
              "1465         house  ansal sushant lok plots          sector 43   3.30   \n",
              "1946         house               jacob pura          sector 12   0.35   \n",
              "2048         house       vipul tatvam villa          sector 48   8.50   \n",
              "2157         house              independent           sector 4   4.12   \n",
              "2271         house       emaar mgf marbella          sector 66   9.00   \n",
              "2439         house     dlf new town heights          sector 86   2.47   \n",
              "2536          flat                      NaN          sector 78   0.60   \n",
              "2545         house        ansal sushant lok          sector 43  10.50   \n",
              "2918         house              independent          sector 25  13.00   \n",
              "2967         house              independent          sector 24   1.45   \n",
              "3120         house              independent          sector 26   4.60   \n",
              "3214          flat       experion heartsong  dwarka expressway   1.08   \n",
              "3255         house              independent           sector 2   5.60   \n",
              "\n",
              "      price_per_sqft  bedRoom  bathroom balcony  floorNum      facing  \\\n",
              "500          11111.0      4.0       2.0       2       NaN         NaN   \n",
              "767          15046.0      3.0       2.0      3+       NaN         NaN   \n",
              "1294         10288.0      3.0       3.0       0       NaN         NaN   \n",
              "1452         26235.0      4.0       4.0       1       NaN         NaN   \n",
              "1465         26570.0      1.0       1.0       0       NaN         NaN   \n",
              "1946          9722.0      2.0       1.0       0       NaN         NaN   \n",
              "2048         26235.0      4.0       4.0       2       NaN        East   \n",
              "2157          8889.0      2.0       1.0      3+       NaN         NaN   \n",
              "2271         21251.0      4.0       4.0      3+       NaN  South-West   \n",
              "2439          7719.0      4.0       4.0      3+       NaN        West   \n",
              "2536          3692.0      2.0       2.0       0       NaN         NaN   \n",
              "2545         27911.0      4.0       4.0       2       NaN  North-East   \n",
              "2918         45710.0      6.0       8.0      3+       NaN         NaN   \n",
              "2967          2984.0      3.0       3.0       1       NaN         NaN   \n",
              "3120         12198.0      4.0       4.0      3+       NaN         NaN   \n",
              "3214          6150.0      3.0       3.0       0       NaN         NaN   \n",
              "3255         17284.0      8.0       6.0      3+       NaN  South-West   \n",
              "\n",
              "           agePossession  built_up_area  study room  servant room  store room  \\\n",
              "500       Moderately Old          585.0         0.0           0.0         0.0   \n",
              "767         Old Property         4320.0         0.0           0.0         0.0   \n",
              "1294        Old Property          210.0         0.0           0.0         0.0   \n",
              "1452      Relatively New         3240.0         0.0           0.0         0.0   \n",
              "1465  Under Construction         1242.0         0.0           0.0         0.0   \n",
              "1946        Old Property          360.0         0.0           0.0         0.0   \n",
              "2048      Moderately Old         3240.0         0.0           1.0         1.0   \n",
              "2157      Moderately Old         4635.0         0.0           0.0         0.0   \n",
              "2271      Relatively New         5200.0         0.0           1.0         1.0   \n",
              "2439      Moderately Old         2800.0         0.0           1.0         0.0   \n",
              "2536  Under Construction         1625.0         0.0           0.0         0.0   \n",
              "2545        Old Property         3762.0         0.0           1.0         0.0   \n",
              "2918      Relatively New         2844.0         1.0           1.0         1.0   \n",
              "2967        Old Property          540.0         0.0           0.0         0.0   \n",
              "3120        Old Property         3771.0         0.0           0.0         0.0   \n",
              "3214  Under Construction         1758.0         0.0           0.0         0.0   \n",
              "3255      Moderately Old         3240.0         1.0           1.0         1.0   \n",
              "\n",
              "      pooja room  others  furnishing_type  luxury_score  \n",
              "500          0.0     0.0              0.0           0.0  \n",
              "767          0.0     0.0              0.0           9.0  \n",
              "1294         0.0     0.0              0.0           0.0  \n",
              "1452         0.0     0.0              0.0          21.0  \n",
              "1465         0.0     0.0              0.0           0.0  \n",
              "1946         0.0     0.0              0.0           0.0  \n",
              "2048         1.0     0.0              0.0          88.0  \n",
              "2157         0.0     0.0              0.0           0.0  \n",
              "2271         1.0     0.0              1.0         114.0  \n",
              "2439         1.0     0.0              1.0         130.0  \n",
              "2536         0.0     0.0              0.0           0.0  \n",
              "2545         0.0     0.0              0.0          59.0  \n",
              "2918         1.0     0.0              2.0           0.0  \n",
              "2967         0.0     0.0              0.0           9.0  \n",
              "3120         0.0     0.0              0.0          28.0  \n",
              "3214         0.0     0.0              0.0           0.0  \n",
              "3255         1.0     0.0              0.0           0.0  "
            ]
          },
          "execution_count": 430,
          "metadata": {},
          "output_type": "execute_result"
        }
      ],
      "source": [
        "df[df['floorNum'].isnull()]"
      ]
    },
    {
      "cell_type": "code",
      "execution_count": null,
      "metadata": {
        "id": "7300d781",
        "outputId": "c1d0d43d-fc99-44a8-df7f-7d2bed19facf"
      },
      "outputs": [
        {
          "data": {
            "text/plain": [
              "2.0"
            ]
          },
          "execution_count": 431,
          "metadata": {},
          "output_type": "execute_result"
        }
      ],
      "source": [
        "df[df['property_type'] == 'house']['floorNum'].median()"
      ]
    },
    {
      "cell_type": "code",
      "execution_count": null,
      "metadata": {
        "id": "cffd3f87"
      },
      "outputs": [],
      "source": [
        "df['floorNum'].fillna(2.0,inplace=True)"
      ]
    },
    {
      "cell_type": "code",
      "execution_count": null,
      "metadata": {
        "id": "8e60c5f9",
        "outputId": "ef77e3ba-bbe2-498d-fedf-fdf5e6ea77e5"
      },
      "outputs": [
        {
          "data": {
            "text/plain": [
              "property_type         0\n",
              "society               1\n",
              "sector                0\n",
              "price                 0\n",
              "price_per_sqft        0\n",
              "bedRoom               0\n",
              "bathroom              0\n",
              "balcony               0\n",
              "floorNum              0\n",
              "facing             1011\n",
              "agePossession         0\n",
              "built_up_area         0\n",
              "study room            0\n",
              "servant room          0\n",
              "store room            0\n",
              "pooja room            0\n",
              "others                0\n",
              "furnishing_type       0\n",
              "luxury_score          0\n",
              "dtype: int64"
            ]
          },
          "execution_count": 433,
          "metadata": {},
          "output_type": "execute_result"
        }
      ],
      "source": [
        "df.isnull().sum()"
      ]
    },
    {
      "cell_type": "code",
      "execution_count": null,
      "metadata": {
        "id": "b98245b5",
        "outputId": "c9cf1b7a-a603-4e02-bb92-77a0b2a3b9e7"
      },
      "outputs": [
        {
          "data": {
            "text/plain": [
              "0.2843881856540084"
            ]
          },
          "execution_count": 434,
          "metadata": {},
          "output_type": "execute_result"
        }
      ],
      "source": [
        "1011/df.shape[0]"
      ]
    },
    {
      "cell_type": "markdown",
      "metadata": {
        "id": "86ceedef"
      },
      "source": [
        "### facing"
      ]
    },
    {
      "cell_type": "code",
      "execution_count": null,
      "metadata": {
        "id": "38fca9e4",
        "outputId": "a18501bc-caa4-4e06-ec75-d47100f89c24"
      },
      "outputs": [
        {
          "data": {
            "text/plain": [
              "<AxesSubplot:ylabel='facing'>"
            ]
          },
          "execution_count": 435,
          "metadata": {},
          "output_type": "execute_result"
        },
        {
          "data": {
            "image/png": "[encoded data removed]",
            "text/plain": [
              "<Figure size 432x288 with 1 Axes>"
            ]
          },
          "metadata": {},
          "output_type": "display_data"
        }
      ],
      "source": [
        "df['facing'].value_counts().plot(kind='pie',autopct='%0.2f%%')"
      ]
    },
    {
      "cell_type": "code",
      "execution_count": null,
      "metadata": {
        "id": "ec18155c"
      },
      "outputs": [],
      "source": [
        "df.drop(columns=['facing'],inplace=True)"
      ]
    },
    {
      "cell_type": "code",
      "execution_count": null,
      "metadata": {
        "id": "ac34ac59",
        "outputId": "bf3dafe2-9506-4eff-b7f1-3ce9a5c900c7"
      },
      "outputs": [
        {
          "data": {
            "text/html": [
              "<div>\n",
              "<style scoped>\n",
              "    .dataframe tbody tr th:only-of-type {\n",
              "        vertical-align: middle;\n",
              "    }\n",
              "\n",
              "    .dataframe tbody tr th {\n",
              "        vertical-align: top;\n",
              "    }\n",
              "\n",
              "    .dataframe thead th {\n",
              "        text-align: right;\n",
              "    }\n",
              "</style>\n",
              "<table border=\"1\" class=\"dataframe\">\n",
              "  <thead>\n",
              "    <tr style=\"text-align: right;\">\n",
              "      <th></th>\n",
              "      <th>property_type</th>\n",
              "      <th>society</th>\n",
              "      <th>sector</th>\n",
              "      <th>price</th>\n",
              "      <th>price_per_sqft</th>\n",
              "      <th>bedRoom</th>\n",
              "      <th>bathroom</th>\n",
              "      <th>balcony</th>\n",
              "      <th>floorNum</th>\n",
              "      <th>agePossession</th>\n",
              "      <th>built_up_area</th>\n",
              "      <th>study room</th>\n",
              "      <th>servant room</th>\n",
              "      <th>store room</th>\n",
              "      <th>pooja room</th>\n",
              "      <th>others</th>\n",
              "      <th>furnishing_type</th>\n",
              "      <th>luxury_score</th>\n",
              "    </tr>\n",
              "  </thead>\n",
              "  <tbody>\n",
              "    <tr>\n",
              "      <th>3368</th>\n",
              "      <td>flat</td>\n",
              "      <td>m3m woodshire</td>\n",
              "      <td>sector 107</td>\n",
              "      <td>1.32</td>\n",
              "      <td>6331.0</td>\n",
              "      <td>3.0</td>\n",
              "      <td>3.0</td>\n",
              "      <td>3</td>\n",
              "      <td>10.0</td>\n",
              "      <td>Relatively New</td>\n",
              "      <td>1758.0</td>\n",
              "      <td>0.0</td>\n",
              "      <td>0.0</td>\n",
              "      <td>0.0</td>\n",
              "      <td>0.0</td>\n",
              "      <td>0.0</td>\n",
              "      <td>0.0</td>\n",
              "      <td>117.0</td>\n",
              "    </tr>\n",
              "    <tr>\n",
              "      <th>1334</th>\n",
              "      <td>flat</td>\n",
              "      <td>dlf new town heights</td>\n",
              "      <td>sector 90</td>\n",
              "      <td>1.42</td>\n",
              "      <td>4865.0</td>\n",
              "      <td>4.0</td>\n",
              "      <td>4.0</td>\n",
              "      <td>3+</td>\n",
              "      <td>8.0</td>\n",
              "      <td>Moderately Old</td>\n",
              "      <td>2139.0</td>\n",
              "      <td>0.0</td>\n",
              "      <td>1.0</td>\n",
              "      <td>1.0</td>\n",
              "      <td>0.0</td>\n",
              "      <td>0.0</td>\n",
              "      <td>0.0</td>\n",
              "      <td>31.0</td>\n",
              "    </tr>\n",
              "    <tr>\n",
              "      <th>345</th>\n",
              "      <td>flat</td>\n",
              "      <td>alpha corp gurgaonone</td>\n",
              "      <td>sector 84</td>\n",
              "      <td>1.50</td>\n",
              "      <td>7641.0</td>\n",
              "      <td>3.0</td>\n",
              "      <td>3.0</td>\n",
              "      <td>3</td>\n",
              "      <td>20.0</td>\n",
              "      <td>Relatively New</td>\n",
              "      <td>1833.0</td>\n",
              "      <td>0.0</td>\n",
              "      <td>1.0</td>\n",
              "      <td>0.0</td>\n",
              "      <td>0.0</td>\n",
              "      <td>0.0</td>\n",
              "      <td>1.0</td>\n",
              "      <td>37.0</td>\n",
              "    </tr>\n",
              "    <tr>\n",
              "      <th>2320</th>\n",
              "      <td>flat</td>\n",
              "      <td>central park flower valley</td>\n",
              "      <td>sector 33</td>\n",
              "      <td>2.20</td>\n",
              "      <td>10476.0</td>\n",
              "      <td>3.0</td>\n",
              "      <td>3.0</td>\n",
              "      <td>3</td>\n",
              "      <td>12.0</td>\n",
              "      <td>New Property</td>\n",
              "      <td>1900.0</td>\n",
              "      <td>0.0</td>\n",
              "      <td>1.0</td>\n",
              "      <td>0.0</td>\n",
              "      <td>0.0</td>\n",
              "      <td>0.0</td>\n",
              "      <td>1.0</td>\n",
              "      <td>49.0</td>\n",
              "    </tr>\n",
              "    <tr>\n",
              "      <th>2917</th>\n",
              "      <td>flat</td>\n",
              "      <td>signature global synera</td>\n",
              "      <td>sector 81</td>\n",
              "      <td>0.48</td>\n",
              "      <td>8027.0</td>\n",
              "      <td>2.0</td>\n",
              "      <td>2.0</td>\n",
              "      <td>1</td>\n",
              "      <td>14.0</td>\n",
              "      <td>Relatively New</td>\n",
              "      <td>547.0</td>\n",
              "      <td>0.0</td>\n",
              "      <td>0.0</td>\n",
              "      <td>0.0</td>\n",
              "      <td>0.0</td>\n",
              "      <td>0.0</td>\n",
              "      <td>1.0</td>\n",
              "      <td>14.0</td>\n",
              "    </tr>\n",
              "  </tbody>\n",
              "</table>\n",
              "</div>"
            ],
            "text/plain": [
              "     property_type                     society      sector  price  \\\n",
              "3368          flat               m3m woodshire  sector 107   1.32   \n",
              "1334          flat        dlf new town heights   sector 90   1.42   \n",
              "345           flat       alpha corp gurgaonone   sector 84   1.50   \n",
              "2320          flat  central park flower valley   sector 33   2.20   \n",
              "2917          flat     signature global synera   sector 81   0.48   \n",
              "\n",
              "      price_per_sqft  bedRoom  bathroom balcony  floorNum   agePossession  \\\n",
              "3368          6331.0      3.0       3.0       3      10.0  Relatively New   \n",
              "1334          4865.0      4.0       4.0      3+       8.0  Moderately Old   \n",
              "345           7641.0      3.0       3.0       3      20.0  Relatively New   \n",
              "2320         10476.0      3.0       3.0       3      12.0    New Property   \n",
              "2917          8027.0      2.0       2.0       1      14.0  Relatively New   \n",
              "\n",
              "      built_up_area  study room  servant room  store room  pooja room  others  \\\n",
              "3368         1758.0         0.0           0.0         0.0         0.0     0.0   \n",
              "1334         2139.0         0.0           1.0         1.0         0.0     0.0   \n",
              "345          1833.0         0.0           1.0         0.0         0.0     0.0   \n",
              "2320         1900.0         0.0           1.0         0.0         0.0     0.0   \n",
              "2917          547.0         0.0           0.0         0.0         0.0     0.0   \n",
              "\n",
              "      furnishing_type  luxury_score  \n",
              "3368              0.0         117.0  \n",
              "1334              0.0          31.0  \n",
              "345               1.0          37.0  \n",
              "2320              1.0          49.0  \n",
              "2917              1.0          14.0  "
            ]
          },
          "execution_count": 437,
          "metadata": {},
          "output_type": "execute_result"
        }
      ],
      "source": [
        "df.sample(5)"
      ]
    },
    {
      "cell_type": "code",
      "execution_count": null,
      "metadata": {
        "id": "ebf89e28",
        "outputId": "cc4f702d-380a-45ac-92ee-333bd47a1384"
      },
      "outputs": [
        {
          "data": {
            "text/plain": [
              "property_type      0\n",
              "society            1\n",
              "sector             0\n",
              "price              0\n",
              "price_per_sqft     0\n",
              "bedRoom            0\n",
              "bathroom           0\n",
              "balcony            0\n",
              "floorNum           0\n",
              "agePossession      0\n",
              "built_up_area      0\n",
              "study room         0\n",
              "servant room       0\n",
              "store room         0\n",
              "pooja room         0\n",
              "others             0\n",
              "furnishing_type    0\n",
              "luxury_score       0\n",
              "dtype: int64"
            ]
          },
          "execution_count": 438,
          "metadata": {},
          "output_type": "execute_result"
        }
      ],
      "source": [
        "df.isnull().sum()"
      ]
    },
    {
      "cell_type": "code",
      "execution_count": null,
      "metadata": {
        "id": "80865191"
      },
      "outputs": [],
      "source": [
        "df.drop(index=[2536],inplace=True)"
      ]
    },
    {
      "cell_type": "code",
      "execution_count": null,
      "metadata": {
        "id": "2b662ce4",
        "outputId": "bb04578c-f052-4b0a-e3f3-5d7c9f2ffdf3"
      },
      "outputs": [
        {
          "data": {
            "text/plain": [
              "property_type      0\n",
              "society            0\n",
              "sector             0\n",
              "price              0\n",
              "price_per_sqft     0\n",
              "bedRoom            0\n",
              "bathroom           0\n",
              "balcony            0\n",
              "floorNum           0\n",
              "agePossession      0\n",
              "built_up_area      0\n",
              "study room         0\n",
              "servant room       0\n",
              "store room         0\n",
              "pooja room         0\n",
              "others             0\n",
              "furnishing_type    0\n",
              "luxury_score       0\n",
              "dtype: int64"
            ]
          },
          "execution_count": 440,
          "metadata": {},
          "output_type": "execute_result"
        }
      ],
      "source": [
        "df.isnull().sum()"
      ]
    },
    {
      "cell_type": "markdown",
      "metadata": {
        "id": "33068f4d"
      },
      "source": [
        "### agePossession"
      ]
    },
    {
      "cell_type": "code",
      "execution_count": null,
      "metadata": {
        "id": "f5769f16",
        "outputId": "0f1fba01-7bac-40f2-d1ff-ea58d22ec661"
      },
      "outputs": [
        {
          "data": {
            "text/plain": [
              "Relatively New        1605\n",
              "New Property           557\n",
              "Moderately Old         545\n",
              "Old Property           293\n",
              "Undefined              291\n",
              "Under Construction     263\n",
              "Name: agePossession, dtype: int64"
            ]
          },
          "execution_count": 441,
          "metadata": {},
          "output_type": "execute_result"
        }
      ],
      "source": [
        "df['agePossession'].value_counts()"
      ]
    },
    {
      "cell_type": "code",
      "execution_count": null,
      "metadata": {
        "id": "8e56a360",
        "outputId": "6691d95c-969d-41a1-ec96-14fd510208f0"
      },
      "outputs": [
        {
          "data": {
            "text/html": [
              "<div>\n",
              "<style scoped>\n",
              "    .dataframe tbody tr th:only-of-type {\n",
              "        vertical-align: middle;\n",
              "    }\n",
              "\n",
              "    .dataframe tbody tr th {\n",
              "        vertical-align: top;\n",
              "    }\n",
              "\n",
              "    .dataframe thead th {\n",
              "        text-align: right;\n",
              "    }\n",
              "</style>\n",
              "<table border=\"1\" class=\"dataframe\">\n",
              "  <thead>\n",
              "    <tr style=\"text-align: right;\">\n",
              "      <th></th>\n",
              "      <th>property_type</th>\n",
              "      <th>society</th>\n",
              "      <th>sector</th>\n",
              "      <th>price</th>\n",
              "      <th>price_per_sqft</th>\n",
              "      <th>bedRoom</th>\n",
              "      <th>bathroom</th>\n",
              "      <th>balcony</th>\n",
              "      <th>floorNum</th>\n",
              "      <th>agePossession</th>\n",
              "      <th>built_up_area</th>\n",
              "      <th>study room</th>\n",
              "      <th>servant room</th>\n",
              "      <th>store room</th>\n",
              "      <th>pooja room</th>\n",
              "      <th>others</th>\n",
              "      <th>furnishing_type</th>\n",
              "      <th>luxury_score</th>\n",
              "    </tr>\n",
              "  </thead>\n",
              "  <tbody>\n",
              "  </tbody>\n",
              "</table>\n",
              "</div>"
            ],
            "text/plain": [
              "Empty DataFrame\n",
              "Columns: [property_type, society, sector, price, price_per_sqft, bedRoom, bathroom, balcony, floorNum, agePossession, built_up_area, study room, servant room, store room, pooja room, others, furnishing_type, luxury_score]\n",
              "Index: []"
            ]
          },
          "execution_count": 462,
          "metadata": {},
          "output_type": "execute_result"
        }
      ],
      "source": [
        "df[df['agePossession'] == 'Undefined']"
      ]
    },
    {
      "cell_type": "code",
      "execution_count": null,
      "metadata": {
        "id": "d100740d"
      },
      "outputs": [],
      "source": [
        "def mode_based_imputation(row):\n",
        "    if row['agePossession'] == 'Undefined':\n",
        "        mode_value = df[(df['sector'] == row['sector']) & (df['property_type'] == row['property_type'])]['agePossession'].mode()\n",
        "        # If mode_value is empty (no mode found), return NaN, otherwise return the mode\n",
        "        if not mode_value.empty:\n",
        "            return mode_value.iloc[0]\n",
        "        else:\n",
        "            return np.nan\n",
        "    else:\n",
        "        return row['agePossession']"
      ]
    },
    {
      "cell_type": "code",
      "execution_count": null,
      "metadata": {
        "id": "4a81f9c4"
      },
      "outputs": [],
      "source": []
    },
    {
      "cell_type": "code",
      "execution_count": null,
      "metadata": {
        "id": "56bce856"
      },
      "outputs": [],
      "source": [
        "df['agePossession'] = df.apply(mode_based_imputation,axis=1)"
      ]
    },
    {
      "cell_type": "code",
      "execution_count": null,
      "metadata": {
        "id": "fe2cb3b6",
        "outputId": "68f4ad39-06ac-496d-914d-574a36fc6db7"
      },
      "outputs": [
        {
          "data": {
            "text/plain": [
              "Relatively New        1715\n",
              "New Property           598\n",
              "Moderately Old         585\n",
              "Old Property           324\n",
              "Under Construction     277\n",
              "Undefined               55\n",
              "Name: agePossession, dtype: int64"
            ]
          },
          "execution_count": 450,
          "metadata": {},
          "output_type": "execute_result"
        }
      ],
      "source": [
        "df['agePossession'].value_counts()"
      ]
    },
    {
      "cell_type": "code",
      "execution_count": null,
      "metadata": {
        "id": "5b9845ae"
      },
      "outputs": [],
      "source": [
        "def mode_based_imputation2(row):\n",
        "    if row['agePossession'] == 'Undefined':\n",
        "        mode_value = df[(df['sector'] == row['sector'])]['agePossession'].mode()\n",
        "        # If mode_value is empty (no mode found), return NaN, otherwise return the mode\n",
        "        if not mode_value.empty:\n",
        "            return mode_value.iloc[0]\n",
        "        else:\n",
        "            return np.nan\n",
        "    else:\n",
        "        return row['agePossession']"
      ]
    },
    {
      "cell_type": "code",
      "execution_count": null,
      "metadata": {
        "id": "bb325102"
      },
      "outputs": [],
      "source": [
        "df['agePossession'] = df.apply(mode_based_imputation2,axis=1)"
      ]
    },
    {
      "cell_type": "code",
      "execution_count": null,
      "metadata": {
        "id": "99d195c7",
        "outputId": "3d2127a3-ab8d-4ee1-db08-4326b3763088"
      },
      "outputs": [
        {
          "data": {
            "text/plain": [
              "Relatively New        1730\n",
              "New Property           599\n",
              "Moderately Old         592\n",
              "Old Property           327\n",
              "Under Construction     277\n",
              "Undefined               29\n",
              "Name: agePossession, dtype: int64"
            ]
          },
          "execution_count": 455,
          "metadata": {},
          "output_type": "execute_result"
        }
      ],
      "source": [
        "df['agePossession'].value_counts()"
      ]
    },
    {
      "cell_type": "code",
      "execution_count": null,
      "metadata": {
        "id": "7a867a5c"
      },
      "outputs": [],
      "source": [
        "def mode_based_imputation3(row):\n",
        "    if row['agePossession'] == 'Undefined':\n",
        "        mode_value = df[(df['property_type'] == row['property_type'])]['agePossession'].mode()\n",
        "        # If mode_value is empty (no mode found), return NaN, otherwise return the mode\n",
        "        if not mode_value.empty:\n",
        "            return mode_value.iloc[0]\n",
        "        else:\n",
        "            return np.nan\n",
        "    else:\n",
        "        return row['agePossession']"
      ]
    },
    {
      "cell_type": "code",
      "execution_count": null,
      "metadata": {
        "id": "ce4e5198"
      },
      "outputs": [],
      "source": [
        "df['agePossession'] = df.apply(mode_based_imputation3,axis=1)"
      ]
    },
    {
      "cell_type": "code",
      "execution_count": null,
      "metadata": {
        "id": "033d6b6a",
        "outputId": "9e7f81ee-92bf-4203-af6e-d9a6989b312a"
      },
      "outputs": [
        {
          "data": {
            "text/plain": [
              "Relatively New        1732\n",
              "Moderately Old         619\n",
              "New Property           599\n",
              "Old Property           327\n",
              "Under Construction     277\n",
              "Name: agePossession, dtype: int64"
            ]
          },
          "execution_count": 458,
          "metadata": {},
          "output_type": "execute_result"
        }
      ],
      "source": [
        "df['agePossession'].value_counts()"
      ]
    },
    {
      "cell_type": "code",
      "execution_count": null,
      "metadata": {
        "id": "f78faac3",
        "outputId": "06746c77-137d-4621-c0f2-297c1a825a64"
      },
      "outputs": [
        {
          "data": {
            "text/plain": [
              "property_type      0\n",
              "society            0\n",
              "sector             0\n",
              "price              0\n",
              "price_per_sqft     0\n",
              "bedRoom            0\n",
              "bathroom           0\n",
              "balcony            0\n",
              "floorNum           0\n",
              "agePossession      0\n",
              "built_up_area      0\n",
              "study room         0\n",
              "servant room       0\n",
              "store room         0\n",
              "pooja room         0\n",
              "others             0\n",
              "furnishing_type    0\n",
              "luxury_score       0\n",
              "dtype: int64"
            ]
          },
          "execution_count": 459,
          "metadata": {},
          "output_type": "execute_result"
        }
      ],
      "source": [
        "df.isnull().sum()"
      ]
    },
    {
      "cell_type": "code",
      "execution_count": null,
      "metadata": {
        "id": "41779f7d"
      },
      "outputs": [],
      "source": [
        "df.to_csv('gurgaon_properties_missing_value_imputation.csv',index=False)"
      ]
    },
    {
      "cell_type": "code",
      "execution_count": null,
      "metadata": {
        "id": "ccfba55d",
        "outputId": "fe7d8579-117a-4af6-96c4-1cc0284d03e8"
      },
      "outputs": [
        {
          "data": {
            "text/plain": [
              "(3554, 18)"
            ]
          },
          "execution_count": 464,
          "metadata": {},
          "output_type": "execute_result"
        }
      ],
      "source": [
        "df.shape"
      ]
    },
    {
      "cell_type": "markdown",
      "source": [
        "file - 2 feature selection and feature engineering\n"
      ],
      "metadata": {
        "id": "eNAx_OcWBy2l"
      }
    },
    {
      "cell_type": "markdown",
      "source": [
        "on gurgaon_properties_missing_value_imputation.csv"
      ],
      "metadata": {
        "id": "v2VD_VXmB-6j"
      }
    },
    {
      "cell_type": "code",
      "execution_count": null,
      "metadata": {
        "id": "eef0635a"
      },
      "outputs": [],
      "source": []
    },
    {
      "cell_type": "code",
      "execution_count": null,
      "metadata": {
        "id": "779df863"
      },
      "outputs": [],
      "source": [
        "import numpy as np\n",
        "import pandas as pd\n",
        "import matplotlib.pyplot as plt\n",
        "import seaborn as sns"
      ]
    },
    {
      "cell_type": "code",
      "execution_count": null,
      "metadata": {
        "id": "eb32501d"
      },
      "outputs": [],
      "source": [
        "pd.set_option('display.max_columns', None)"
      ]
    },
    {
      "cell_type": "code",
      "execution_count": null,
      "metadata": {
        "id": "06cfae06"
      },
      "outputs": [],
      "source": [
        "df = pd.read_csv('gurgaon_properties_missing_value_imputation.csv')"
      ]
    },
    {
      "cell_type": "code",
      "execution_count": null,
      "metadata": {
        "id": "2843d268",
        "outputId": "bfe6a743-9abc-401d-ead9-01d86b07a667"
      },
      "outputs": [
        {
          "data": {
            "text/plain": [
              "(3554, 18)"
            ]
          },
          "execution_count": 17,
          "metadata": {},
          "output_type": "execute_result"
        }
      ],
      "source": [
        "df.shape"
      ]
    },
    {
      "cell_type": "code",
      "execution_count": null,
      "metadata": {
        "id": "18752912",
        "outputId": "79ea0e1e-b2e7-4c31-fb71-465bf5d343de"
      },
      "outputs": [
        {
          "data": {
            "text/html": [
              "<div>\n",
              "<style scoped>\n",
              "    .dataframe tbody tr th:only-of-type {\n",
              "        vertical-align: middle;\n",
              "    }\n",
              "\n",
              "    .dataframe tbody tr th {\n",
              "        vertical-align: top;\n",
              "    }\n",
              "\n",
              "    .dataframe thead th {\n",
              "        text-align: right;\n",
              "    }\n",
              "</style>\n",
              "<table border=\"1\" class=\"dataframe\">\n",
              "  <thead>\n",
              "    <tr style=\"text-align: right;\">\n",
              "      <th></th>\n",
              "      <th>property_type</th>\n",
              "      <th>society</th>\n",
              "      <th>sector</th>\n",
              "      <th>price</th>\n",
              "      <th>price_per_sqft</th>\n",
              "      <th>bedRoom</th>\n",
              "      <th>bathroom</th>\n",
              "      <th>balcony</th>\n",
              "      <th>floorNum</th>\n",
              "      <th>agePossession</th>\n",
              "      <th>built_up_area</th>\n",
              "      <th>study room</th>\n",
              "      <th>servant room</th>\n",
              "      <th>store room</th>\n",
              "      <th>pooja room</th>\n",
              "      <th>others</th>\n",
              "      <th>furnishing_type</th>\n",
              "      <th>luxury_score</th>\n",
              "    </tr>\n",
              "  </thead>\n",
              "  <tbody>\n",
              "    <tr>\n",
              "      <th>0</th>\n",
              "      <td>flat</td>\n",
              "      <td>signature global park 4</td>\n",
              "      <td>sector 36</td>\n",
              "      <td>0.82</td>\n",
              "      <td>7586.0</td>\n",
              "      <td>3.0</td>\n",
              "      <td>2.0</td>\n",
              "      <td>2</td>\n",
              "      <td>2.0</td>\n",
              "      <td>New Property</td>\n",
              "      <td>850.0</td>\n",
              "      <td>0.0</td>\n",
              "      <td>0.0</td>\n",
              "      <td>0.0</td>\n",
              "      <td>0.0</td>\n",
              "      <td>0.0</td>\n",
              "      <td>0.0</td>\n",
              "      <td>8.0</td>\n",
              "    </tr>\n",
              "    <tr>\n",
              "      <th>1</th>\n",
              "      <td>flat</td>\n",
              "      <td>smart world gems</td>\n",
              "      <td>sector 89</td>\n",
              "      <td>0.95</td>\n",
              "      <td>8597.0</td>\n",
              "      <td>2.0</td>\n",
              "      <td>2.0</td>\n",
              "      <td>2</td>\n",
              "      <td>4.0</td>\n",
              "      <td>New Property</td>\n",
              "      <td>1226.0</td>\n",
              "      <td>1.0</td>\n",
              "      <td>1.0</td>\n",
              "      <td>0.0</td>\n",
              "      <td>0.0</td>\n",
              "      <td>0.0</td>\n",
              "      <td>0.0</td>\n",
              "      <td>38.0</td>\n",
              "    </tr>\n",
              "    <tr>\n",
              "      <th>2</th>\n",
              "      <td>flat</td>\n",
              "      <td>breez global hill view</td>\n",
              "      <td>sohna road</td>\n",
              "      <td>0.32</td>\n",
              "      <td>5470.0</td>\n",
              "      <td>2.0</td>\n",
              "      <td>2.0</td>\n",
              "      <td>1</td>\n",
              "      <td>17.0</td>\n",
              "      <td>New Property</td>\n",
              "      <td>1000.0</td>\n",
              "      <td>0.0</td>\n",
              "      <td>0.0</td>\n",
              "      <td>0.0</td>\n",
              "      <td>0.0</td>\n",
              "      <td>0.0</td>\n",
              "      <td>0.0</td>\n",
              "      <td>49.0</td>\n",
              "    </tr>\n",
              "    <tr>\n",
              "      <th>3</th>\n",
              "      <td>flat</td>\n",
              "      <td>bestech park view sanskruti</td>\n",
              "      <td>sector 92</td>\n",
              "      <td>1.60</td>\n",
              "      <td>8020.0</td>\n",
              "      <td>3.0</td>\n",
              "      <td>4.0</td>\n",
              "      <td>3+</td>\n",
              "      <td>10.0</td>\n",
              "      <td>Relatively New</td>\n",
              "      <td>1615.0</td>\n",
              "      <td>0.0</td>\n",
              "      <td>1.0</td>\n",
              "      <td>0.0</td>\n",
              "      <td>0.0</td>\n",
              "      <td>1.0</td>\n",
              "      <td>1.0</td>\n",
              "      <td>174.0</td>\n",
              "    </tr>\n",
              "    <tr>\n",
              "      <th>4</th>\n",
              "      <td>flat</td>\n",
              "      <td>suncity avenue</td>\n",
              "      <td>sector 102</td>\n",
              "      <td>0.48</td>\n",
              "      <td>9023.0</td>\n",
              "      <td>2.0</td>\n",
              "      <td>2.0</td>\n",
              "      <td>1</td>\n",
              "      <td>5.0</td>\n",
              "      <td>Relatively New</td>\n",
              "      <td>582.0</td>\n",
              "      <td>0.0</td>\n",
              "      <td>0.0</td>\n",
              "      <td>1.0</td>\n",
              "      <td>0.0</td>\n",
              "      <td>0.0</td>\n",
              "      <td>0.0</td>\n",
              "      <td>159.0</td>\n",
              "    </tr>\n",
              "  </tbody>\n",
              "</table>\n",
              "</div>"
            ],
            "text/plain": [
              "  property_type                      society      sector  price  \\\n",
              "0          flat      signature global park 4   sector 36   0.82   \n",
              "1          flat             smart world gems   sector 89   0.95   \n",
              "2          flat       breez global hill view  sohna road   0.32   \n",
              "3          flat  bestech park view sanskruti   sector 92   1.60   \n",
              "4          flat               suncity avenue  sector 102   0.48   \n",
              "\n",
              "   price_per_sqft  bedRoom  bathroom balcony  floorNum   agePossession  \\\n",
              "0          7586.0      3.0       2.0       2       2.0    New Property   \n",
              "1          8597.0      2.0       2.0       2       4.0    New Property   \n",
              "2          5470.0      2.0       2.0       1      17.0    New Property   \n",
              "3          8020.0      3.0       4.0      3+      10.0  Relatively New   \n",
              "4          9023.0      2.0       2.0       1       5.0  Relatively New   \n",
              "\n",
              "   built_up_area  study room  servant room  store room  pooja room  others  \\\n",
              "0          850.0         0.0           0.0         0.0         0.0     0.0   \n",
              "1         1226.0         1.0           1.0         0.0         0.0     0.0   \n",
              "2         1000.0         0.0           0.0         0.0         0.0     0.0   \n",
              "3         1615.0         0.0           1.0         0.0         0.0     1.0   \n",
              "4          582.0         0.0           0.0         1.0         0.0     0.0   \n",
              "\n",
              "   furnishing_type  luxury_score  \n",
              "0              0.0           8.0  \n",
              "1              0.0          38.0  \n",
              "2              0.0          49.0  \n",
              "3              1.0         174.0  \n",
              "4              0.0         159.0  "
            ]
          },
          "execution_count": 18,
          "metadata": {},
          "output_type": "execute_result"
        }
      ],
      "source": [
        "df.head()"
      ]
    },
    {
      "cell_type": "code",
      "execution_count": null,
      "metadata": {
        "id": "18c6984c"
      },
      "outputs": [],
      "source": [
        "train_df = df.drop(columns=['society','price_per_sqft'])"
      ]
    },
    {
      "cell_type": "code",
      "execution_count": null,
      "metadata": {
        "id": "4aa613df",
        "outputId": "0fbe02de-f206-4724-ddde-ea65daa70f3c"
      },
      "outputs": [
        {
          "data": {
            "text/html": [
              "<div>\n",
              "<style scoped>\n",
              "    .dataframe tbody tr th:only-of-type {\n",
              "        vertical-align: middle;\n",
              "    }\n",
              "\n",
              "    .dataframe tbody tr th {\n",
              "        vertical-align: top;\n",
              "    }\n",
              "\n",
              "    .dataframe thead th {\n",
              "        text-align: right;\n",
              "    }\n",
              "</style>\n",
              "<table border=\"1\" class=\"dataframe\">\n",
              "  <thead>\n",
              "    <tr style=\"text-align: right;\">\n",
              "      <th></th>\n",
              "      <th>property_type</th>\n",
              "      <th>sector</th>\n",
              "      <th>price</th>\n",
              "      <th>bedRoom</th>\n",
              "      <th>bathroom</th>\n",
              "      <th>balcony</th>\n",
              "      <th>floorNum</th>\n",
              "      <th>agePossession</th>\n",
              "      <th>built_up_area</th>\n",
              "      <th>study room</th>\n",
              "      <th>servant room</th>\n",
              "      <th>store room</th>\n",
              "      <th>pooja room</th>\n",
              "      <th>others</th>\n",
              "      <th>furnishing_type</th>\n",
              "      <th>luxury_score</th>\n",
              "    </tr>\n",
              "  </thead>\n",
              "  <tbody>\n",
              "    <tr>\n",
              "      <th>0</th>\n",
              "      <td>flat</td>\n",
              "      <td>sector 36</td>\n",
              "      <td>0.82</td>\n",
              "      <td>3.0</td>\n",
              "      <td>2.0</td>\n",
              "      <td>2</td>\n",
              "      <td>2.0</td>\n",
              "      <td>New Property</td>\n",
              "      <td>850.0</td>\n",
              "      <td>0.0</td>\n",
              "      <td>0.0</td>\n",
              "      <td>0.0</td>\n",
              "      <td>0.0</td>\n",
              "      <td>0.0</td>\n",
              "      <td>0.0</td>\n",
              "      <td>8.0</td>\n",
              "    </tr>\n",
              "    <tr>\n",
              "      <th>1</th>\n",
              "      <td>flat</td>\n",
              "      <td>sector 89</td>\n",
              "      <td>0.95</td>\n",
              "      <td>2.0</td>\n",
              "      <td>2.0</td>\n",
              "      <td>2</td>\n",
              "      <td>4.0</td>\n",
              "      <td>New Property</td>\n",
              "      <td>1226.0</td>\n",
              "      <td>1.0</td>\n",
              "      <td>1.0</td>\n",
              "      <td>0.0</td>\n",
              "      <td>0.0</td>\n",
              "      <td>0.0</td>\n",
              "      <td>0.0</td>\n",
              "      <td>38.0</td>\n",
              "    </tr>\n",
              "    <tr>\n",
              "      <th>2</th>\n",
              "      <td>flat</td>\n",
              "      <td>sohna road</td>\n",
              "      <td>0.32</td>\n",
              "      <td>2.0</td>\n",
              "      <td>2.0</td>\n",
              "      <td>1</td>\n",
              "      <td>17.0</td>\n",
              "      <td>New Property</td>\n",
              "      <td>1000.0</td>\n",
              "      <td>0.0</td>\n",
              "      <td>0.0</td>\n",
              "      <td>0.0</td>\n",
              "      <td>0.0</td>\n",
              "      <td>0.0</td>\n",
              "      <td>0.0</td>\n",
              "      <td>49.0</td>\n",
              "    </tr>\n",
              "    <tr>\n",
              "      <th>3</th>\n",
              "      <td>flat</td>\n",
              "      <td>sector 92</td>\n",
              "      <td>1.60</td>\n",
              "      <td>3.0</td>\n",
              "      <td>4.0</td>\n",
              "      <td>3+</td>\n",
              "      <td>10.0</td>\n",
              "      <td>Relatively New</td>\n",
              "      <td>1615.0</td>\n",
              "      <td>0.0</td>\n",
              "      <td>1.0</td>\n",
              "      <td>0.0</td>\n",
              "      <td>0.0</td>\n",
              "      <td>1.0</td>\n",
              "      <td>1.0</td>\n",
              "      <td>174.0</td>\n",
              "    </tr>\n",
              "    <tr>\n",
              "      <th>4</th>\n",
              "      <td>flat</td>\n",
              "      <td>sector 102</td>\n",
              "      <td>0.48</td>\n",
              "      <td>2.0</td>\n",
              "      <td>2.0</td>\n",
              "      <td>1</td>\n",
              "      <td>5.0</td>\n",
              "      <td>Relatively New</td>\n",
              "      <td>582.0</td>\n",
              "      <td>0.0</td>\n",
              "      <td>0.0</td>\n",
              "      <td>1.0</td>\n",
              "      <td>0.0</td>\n",
              "      <td>0.0</td>\n",
              "      <td>0.0</td>\n",
              "      <td>159.0</td>\n",
              "    </tr>\n",
              "  </tbody>\n",
              "</table>\n",
              "</div>"
            ],
            "text/plain": [
              "  property_type      sector  price  bedRoom  bathroom balcony  floorNum  \\\n",
              "0          flat   sector 36   0.82      3.0       2.0       2       2.0   \n",
              "1          flat   sector 89   0.95      2.0       2.0       2       4.0   \n",
              "2          flat  sohna road   0.32      2.0       2.0       1      17.0   \n",
              "3          flat   sector 92   1.60      3.0       4.0      3+      10.0   \n",
              "4          flat  sector 102   0.48      2.0       2.0       1       5.0   \n",
              "\n",
              "    agePossession  built_up_area  study room  servant room  store room  \\\n",
              "0    New Property          850.0         0.0           0.0         0.0   \n",
              "1    New Property         1226.0         1.0           1.0         0.0   \n",
              "2    New Property         1000.0         0.0           0.0         0.0   \n",
              "3  Relatively New         1615.0         0.0           1.0         0.0   \n",
              "4  Relatively New          582.0         0.0           0.0         1.0   \n",
              "\n",
              "   pooja room  others  furnishing_type  luxury_score  \n",
              "0         0.0     0.0              0.0           8.0  \n",
              "1         0.0     0.0              0.0          38.0  \n",
              "2         0.0     0.0              0.0          49.0  \n",
              "3         0.0     1.0              1.0         174.0  \n",
              "4         0.0     0.0              0.0         159.0  "
            ]
          },
          "execution_count": 20,
          "metadata": {},
          "output_type": "execute_result"
        }
      ],
      "source": [
        "train_df.head()"
      ]
    },
    {
      "cell_type": "code",
      "execution_count": null,
      "metadata": {
        "id": "fc7ba8e3",
        "outputId": "ec5f3754-2c74-4b37-f319-fd69df525e87"
      },
      "outputs": [
        {
          "data": {
            "text/plain": [
              "<AxesSubplot:>"
            ]
          },
          "execution_count": 21,
          "metadata": {},
          "output_type": "execute_result"
        },
        {
          "data": {
            "image/png": "[encoded data removed]",
            "text/plain": [
              "<Figure size 432x288 with 2 Axes>"
            ]
          },
          "metadata": {
            "needs_background": "light"
          },
          "output_type": "display_data"
        }
      ],
      "source": [
        "sns.heatmap(train_df.corr())"
      ]
    },
    {
      "cell_type": "code",
      "execution_count": null,
      "metadata": {
        "id": "8e5cfa32",
        "outputId": "bbafce48-680b-48ab-aa1e-1be73f080557"
      },
      "outputs": [
        {
          "data": {
            "text/plain": [
              "price              1.000000\n",
              "built_up_area      0.748574\n",
              "bathroom           0.609777\n",
              "bedRoom            0.591289\n",
              "servant room       0.391930\n",
              "pooja room         0.319852\n",
              "store room         0.305677\n",
              "study room         0.242955\n",
              "furnishing_type    0.225625\n",
              "luxury_score       0.091473\n",
              "others            -0.013064\n",
              "floorNum          -0.087442\n",
              "Name: price, dtype: float64"
            ]
          },
          "execution_count": 22,
          "metadata": {},
          "output_type": "execute_result"
        }
      ],
      "source": [
        "train_df.corr()['price'].sort_values(ascending=False)"
      ]
    },
    {
      "cell_type": "code",
      "execution_count": null,
      "metadata": {
        "id": "805a590b"
      },
      "outputs": [],
      "source": [
        "# cols in question\n",
        "\n",
        "# numerical -> luxury_score, others, floorNum\n",
        "# categorical -> property_type, sector, agePossession"
      ]
    },
    {
      "cell_type": "code",
      "execution_count": null,
      "metadata": {
        "id": "e1c2eae1"
      },
      "outputs": [],
      "source": []
    },
    {
      "cell_type": "markdown",
      "source": [
        "# Session-7 Feature selection\n",
        "gurgaon_properties_missing_value_imputation.csv---> gurgaon_properties_post_feature_selection.csv"
      ],
      "metadata": {
        "id": "kzENLnu6CKjw"
      }
    },
    {
      "cell_type": "code",
      "source": [],
      "metadata": {
        "id": "wHbJBZ7xCerT"
      },
      "execution_count": null,
      "outputs": []
    },
    {
      "cell_type": "code",
      "execution_count": null,
      "metadata": {
        "id": "2f606c5a"
      },
      "outputs": [],
      "source": [
        "import numpy as np\n",
        "import pandas as pd\n",
        "import matplotlib.pyplot as plt\n",
        "import seaborn as sns"
      ]
    },
    {
      "cell_type": "code",
      "execution_count": null,
      "metadata": {
        "id": "138fda35"
      },
      "outputs": [],
      "source": [
        "pd.set_option('display.max_columns', None)"
      ]
    },
    {
      "cell_type": "code",
      "execution_count": null,
      "metadata": {
        "id": "d846d791"
      },
      "outputs": [],
      "source": [
        "df = pd.read_csv('gurgaon_properties_missing_value_imputation.csv')"
      ]
    },
    {
      "cell_type": "code",
      "execution_count": null,
      "metadata": {
        "id": "c1055e3b",
        "outputId": "aa666ce9-6b92-41fa-e6aa-57fb88859ed4"
      },
      "outputs": [
        {
          "data": {
            "text/plain": [
              "(3554, 18)"
            ]
          },
          "execution_count": 331,
          "metadata": {},
          "output_type": "execute_result"
        }
      ],
      "source": [
        "df.shape"
      ]
    },
    {
      "cell_type": "code",
      "execution_count": null,
      "metadata": {
        "id": "cd3e1269",
        "outputId": "a71ad6b9-5885-4d7d-99d1-2ad1810cef3c"
      },
      "outputs": [
        {
          "data": {
            "text/html": [
              "<div>\n",
              "<style scoped>\n",
              "    .dataframe tbody tr th:only-of-type {\n",
              "        vertical-align: middle;\n",
              "    }\n",
              "\n",
              "    .dataframe tbody tr th {\n",
              "        vertical-align: top;\n",
              "    }\n",
              "\n",
              "    .dataframe thead th {\n",
              "        text-align: right;\n",
              "    }\n",
              "</style>\n",
              "<table border=\"1\" class=\"dataframe\">\n",
              "  <thead>\n",
              "    <tr style=\"text-align: right;\">\n",
              "      <th></th>\n",
              "      <th>property_type</th>\n",
              "      <th>society</th>\n",
              "      <th>sector</th>\n",
              "      <th>price</th>\n",
              "      <th>price_per_sqft</th>\n",
              "      <th>bedRoom</th>\n",
              "      <th>bathroom</th>\n",
              "      <th>balcony</th>\n",
              "      <th>floorNum</th>\n",
              "      <th>agePossession</th>\n",
              "      <th>built_up_area</th>\n",
              "      <th>study room</th>\n",
              "      <th>servant room</th>\n",
              "      <th>store room</th>\n",
              "      <th>pooja room</th>\n",
              "      <th>others</th>\n",
              "      <th>furnishing_type</th>\n",
              "      <th>luxury_score</th>\n",
              "    </tr>\n",
              "  </thead>\n",
              "  <tbody>\n",
              "    <tr>\n",
              "      <th>0</th>\n",
              "      <td>flat</td>\n",
              "      <td>signature global park 4</td>\n",
              "      <td>sector 36</td>\n",
              "      <td>0.82</td>\n",
              "      <td>7586.0</td>\n",
              "      <td>3.0</td>\n",
              "      <td>2.0</td>\n",
              "      <td>2</td>\n",
              "      <td>2.0</td>\n",
              "      <td>New Property</td>\n",
              "      <td>850.0</td>\n",
              "      <td>0.0</td>\n",
              "      <td>0.0</td>\n",
              "      <td>0.0</td>\n",
              "      <td>0.0</td>\n",
              "      <td>0.0</td>\n",
              "      <td>0.0</td>\n",
              "      <td>8.0</td>\n",
              "    </tr>\n",
              "    <tr>\n",
              "      <th>1</th>\n",
              "      <td>flat</td>\n",
              "      <td>smart world gems</td>\n",
              "      <td>sector 89</td>\n",
              "      <td>0.95</td>\n",
              "      <td>8597.0</td>\n",
              "      <td>2.0</td>\n",
              "      <td>2.0</td>\n",
              "      <td>2</td>\n",
              "      <td>4.0</td>\n",
              "      <td>New Property</td>\n",
              "      <td>1226.0</td>\n",
              "      <td>1.0</td>\n",
              "      <td>1.0</td>\n",
              "      <td>0.0</td>\n",
              "      <td>0.0</td>\n",
              "      <td>0.0</td>\n",
              "      <td>0.0</td>\n",
              "      <td>38.0</td>\n",
              "    </tr>\n",
              "    <tr>\n",
              "      <th>2</th>\n",
              "      <td>flat</td>\n",
              "      <td>breez global hill view</td>\n",
              "      <td>sohna road</td>\n",
              "      <td>0.32</td>\n",
              "      <td>5470.0</td>\n",
              "      <td>2.0</td>\n",
              "      <td>2.0</td>\n",
              "      <td>1</td>\n",
              "      <td>17.0</td>\n",
              "      <td>New Property</td>\n",
              "      <td>1000.0</td>\n",
              "      <td>0.0</td>\n",
              "      <td>0.0</td>\n",
              "      <td>0.0</td>\n",
              "      <td>0.0</td>\n",
              "      <td>0.0</td>\n",
              "      <td>0.0</td>\n",
              "      <td>49.0</td>\n",
              "    </tr>\n",
              "    <tr>\n",
              "      <th>3</th>\n",
              "      <td>flat</td>\n",
              "      <td>bestech park view sanskruti</td>\n",
              "      <td>sector 92</td>\n",
              "      <td>1.60</td>\n",
              "      <td>8020.0</td>\n",
              "      <td>3.0</td>\n",
              "      <td>4.0</td>\n",
              "      <td>3+</td>\n",
              "      <td>10.0</td>\n",
              "      <td>Relatively New</td>\n",
              "      <td>1615.0</td>\n",
              "      <td>0.0</td>\n",
              "      <td>1.0</td>\n",
              "      <td>0.0</td>\n",
              "      <td>0.0</td>\n",
              "      <td>1.0</td>\n",
              "      <td>1.0</td>\n",
              "      <td>174.0</td>\n",
              "    </tr>\n",
              "    <tr>\n",
              "      <th>4</th>\n",
              "      <td>flat</td>\n",
              "      <td>suncity avenue</td>\n",
              "      <td>sector 102</td>\n",
              "      <td>0.48</td>\n",
              "      <td>9023.0</td>\n",
              "      <td>2.0</td>\n",
              "      <td>2.0</td>\n",
              "      <td>1</td>\n",
              "      <td>5.0</td>\n",
              "      <td>Relatively New</td>\n",
              "      <td>582.0</td>\n",
              "      <td>0.0</td>\n",
              "      <td>0.0</td>\n",
              "      <td>1.0</td>\n",
              "      <td>0.0</td>\n",
              "      <td>0.0</td>\n",
              "      <td>0.0</td>\n",
              "      <td>159.0</td>\n",
              "    </tr>\n",
              "  </tbody>\n",
              "</table>\n",
              "</div>"
            ],
            "text/plain": [
              "  property_type                      society      sector  price  \\\n",
              "0          flat      signature global park 4   sector 36   0.82   \n",
              "1          flat             smart world gems   sector 89   0.95   \n",
              "2          flat       breez global hill view  sohna road   0.32   \n",
              "3          flat  bestech park view sanskruti   sector 92   1.60   \n",
              "4          flat               suncity avenue  sector 102   0.48   \n",
              "\n",
              "   price_per_sqft  bedRoom  bathroom balcony  floorNum   agePossession  \\\n",
              "0          7586.0      3.0       2.0       2       2.0    New Property   \n",
              "1          8597.0      2.0       2.0       2       4.0    New Property   \n",
              "2          5470.0      2.0       2.0       1      17.0    New Property   \n",
              "3          8020.0      3.0       4.0      3+      10.0  Relatively New   \n",
              "4          9023.0      2.0       2.0       1       5.0  Relatively New   \n",
              "\n",
              "   built_up_area  study room  servant room  store room  pooja room  others  \\\n",
              "0          850.0         0.0           0.0         0.0         0.0     0.0   \n",
              "1         1226.0         1.0           1.0         0.0         0.0     0.0   \n",
              "2         1000.0         0.0           0.0         0.0         0.0     0.0   \n",
              "3         1615.0         0.0           1.0         0.0         0.0     1.0   \n",
              "4          582.0         0.0           0.0         1.0         0.0     0.0   \n",
              "\n",
              "   furnishing_type  luxury_score  \n",
              "0              0.0           8.0  \n",
              "1              0.0          38.0  \n",
              "2              0.0          49.0  \n",
              "3              1.0         174.0  \n",
              "4              0.0         159.0  "
            ]
          },
          "execution_count": 332,
          "metadata": {},
          "output_type": "execute_result"
        }
      ],
      "source": [
        "df.head()"
      ]
    },
    {
      "cell_type": "code",
      "execution_count": null,
      "metadata": {
        "id": "ea2f22fe"
      },
      "outputs": [],
      "source": [
        "train_df = df.drop(columns=['society','price_per_sqft'])"
      ]
    },
    {
      "cell_type": "code",
      "execution_count": null,
      "metadata": {
        "id": "1615367f",
        "outputId": "4cb1f8d6-74a5-4c74-d74a-562d973effe1"
      },
      "outputs": [
        {
          "data": {
            "text/html": [
              "<div>\n",
              "<style scoped>\n",
              "    .dataframe tbody tr th:only-of-type {\n",
              "        vertical-align: middle;\n",
              "    }\n",
              "\n",
              "    .dataframe tbody tr th {\n",
              "        vertical-align: top;\n",
              "    }\n",
              "\n",
              "    .dataframe thead th {\n",
              "        text-align: right;\n",
              "    }\n",
              "</style>\n",
              "<table border=\"1\" class=\"dataframe\">\n",
              "  <thead>\n",
              "    <tr style=\"text-align: right;\">\n",
              "      <th></th>\n",
              "      <th>property_type</th>\n",
              "      <th>sector</th>\n",
              "      <th>price</th>\n",
              "      <th>bedRoom</th>\n",
              "      <th>bathroom</th>\n",
              "      <th>balcony</th>\n",
              "      <th>floorNum</th>\n",
              "      <th>agePossession</th>\n",
              "      <th>built_up_area</th>\n",
              "      <th>study room</th>\n",
              "      <th>servant room</th>\n",
              "      <th>store room</th>\n",
              "      <th>pooja room</th>\n",
              "      <th>others</th>\n",
              "      <th>furnishing_type</th>\n",
              "      <th>luxury_score</th>\n",
              "    </tr>\n",
              "  </thead>\n",
              "  <tbody>\n",
              "    <tr>\n",
              "      <th>0</th>\n",
              "      <td>flat</td>\n",
              "      <td>sector 36</td>\n",
              "      <td>0.82</td>\n",
              "      <td>3.0</td>\n",
              "      <td>2.0</td>\n",
              "      <td>2</td>\n",
              "      <td>2.0</td>\n",
              "      <td>New Property</td>\n",
              "      <td>850.0</td>\n",
              "      <td>0.0</td>\n",
              "      <td>0.0</td>\n",
              "      <td>0.0</td>\n",
              "      <td>0.0</td>\n",
              "      <td>0.0</td>\n",
              "      <td>0.0</td>\n",
              "      <td>8.0</td>\n",
              "    </tr>\n",
              "    <tr>\n",
              "      <th>1</th>\n",
              "      <td>flat</td>\n",
              "      <td>sector 89</td>\n",
              "      <td>0.95</td>\n",
              "      <td>2.0</td>\n",
              "      <td>2.0</td>\n",
              "      <td>2</td>\n",
              "      <td>4.0</td>\n",
              "      <td>New Property</td>\n",
              "      <td>1226.0</td>\n",
              "      <td>1.0</td>\n",
              "      <td>1.0</td>\n",
              "      <td>0.0</td>\n",
              "      <td>0.0</td>\n",
              "      <td>0.0</td>\n",
              "      <td>0.0</td>\n",
              "      <td>38.0</td>\n",
              "    </tr>\n",
              "    <tr>\n",
              "      <th>2</th>\n",
              "      <td>flat</td>\n",
              "      <td>sohna road</td>\n",
              "      <td>0.32</td>\n",
              "      <td>2.0</td>\n",
              "      <td>2.0</td>\n",
              "      <td>1</td>\n",
              "      <td>17.0</td>\n",
              "      <td>New Property</td>\n",
              "      <td>1000.0</td>\n",
              "      <td>0.0</td>\n",
              "      <td>0.0</td>\n",
              "      <td>0.0</td>\n",
              "      <td>0.0</td>\n",
              "      <td>0.0</td>\n",
              "      <td>0.0</td>\n",
              "      <td>49.0</td>\n",
              "    </tr>\n",
              "    <tr>\n",
              "      <th>3</th>\n",
              "      <td>flat</td>\n",
              "      <td>sector 92</td>\n",
              "      <td>1.60</td>\n",
              "      <td>3.0</td>\n",
              "      <td>4.0</td>\n",
              "      <td>3+</td>\n",
              "      <td>10.0</td>\n",
              "      <td>Relatively New</td>\n",
              "      <td>1615.0</td>\n",
              "      <td>0.0</td>\n",
              "      <td>1.0</td>\n",
              "      <td>0.0</td>\n",
              "      <td>0.0</td>\n",
              "      <td>1.0</td>\n",
              "      <td>1.0</td>\n",
              "      <td>174.0</td>\n",
              "    </tr>\n",
              "    <tr>\n",
              "      <th>4</th>\n",
              "      <td>flat</td>\n",
              "      <td>sector 102</td>\n",
              "      <td>0.48</td>\n",
              "      <td>2.0</td>\n",
              "      <td>2.0</td>\n",
              "      <td>1</td>\n",
              "      <td>5.0</td>\n",
              "      <td>Relatively New</td>\n",
              "      <td>582.0</td>\n",
              "      <td>0.0</td>\n",
              "      <td>0.0</td>\n",
              "      <td>1.0</td>\n",
              "      <td>0.0</td>\n",
              "      <td>0.0</td>\n",
              "      <td>0.0</td>\n",
              "      <td>159.0</td>\n",
              "    </tr>\n",
              "  </tbody>\n",
              "</table>\n",
              "</div>"
            ],
            "text/plain": [
              "  property_type      sector  price  bedRoom  bathroom balcony  floorNum  \\\n",
              "0          flat   sector 36   0.82      3.0       2.0       2       2.0   \n",
              "1          flat   sector 89   0.95      2.0       2.0       2       4.0   \n",
              "2          flat  sohna road   0.32      2.0       2.0       1      17.0   \n",
              "3          flat   sector 92   1.60      3.0       4.0      3+      10.0   \n",
              "4          flat  sector 102   0.48      2.0       2.0       1       5.0   \n",
              "\n",
              "    agePossession  built_up_area  study room  servant room  store room  \\\n",
              "0    New Property          850.0         0.0           0.0         0.0   \n",
              "1    New Property         1226.0         1.0           1.0         0.0   \n",
              "2    New Property         1000.0         0.0           0.0         0.0   \n",
              "3  Relatively New         1615.0         0.0           1.0         0.0   \n",
              "4  Relatively New          582.0         0.0           0.0         1.0   \n",
              "\n",
              "   pooja room  others  furnishing_type  luxury_score  \n",
              "0         0.0     0.0              0.0           8.0  \n",
              "1         0.0     0.0              0.0          38.0  \n",
              "2         0.0     0.0              0.0          49.0  \n",
              "3         0.0     1.0              1.0         174.0  \n",
              "4         0.0     0.0              0.0         159.0  "
            ]
          },
          "execution_count": 334,
          "metadata": {},
          "output_type": "execute_result"
        }
      ],
      "source": [
        "train_df.head()"
      ]
    },
    {
      "cell_type": "markdown",
      "metadata": {
        "id": "7dcd6405"
      },
      "source": [
        "### luxury score"
      ]
    },
    {
      "cell_type": "code",
      "execution_count": null,
      "metadata": {
        "id": "2e6810be",
        "outputId": "a661414c-e4a7-4626-8029-1bd4a7f85647"
      },
      "outputs": [
        {
          "name": "stderr",
          "output_type": "stream",
          "text": [
            "Pass the following variable as a keyword arg: x. From version 0.12, the only valid positional argument will be `data`, and passing other arguments without an explicit keyword will result in an error or misinterpretation.\n"
          ]
        },
        {
          "data": {
            "text/plain": [
              "<AxesSubplot:xlabel='luxury_score'>"
            ]
          },
          "execution_count": 335,
          "metadata": {},
          "output_type": "execute_result"
        },
        {
          "data": {
            "image/png": "[encoded data removed]",
            "text/plain": [
              "<Figure size 432x288 with 1 Axes>"
            ]
          },
          "metadata": {
            "needs_background": "light"
          },
          "output_type": "display_data"
        }
      ],
      "source": [
        "sns.boxplot(df['luxury_score'])"
      ]
    },
    {
      "cell_type": "code",
      "execution_count": null,
      "metadata": {
        "id": "138a7382"
      },
      "outputs": [],
      "source": [
        "def categorize_luxury(score):\n",
        "    if 0 <= score < 50:\n",
        "        return \"Low\"\n",
        "    elif 50 <= score < 150:\n",
        "        return \"Medium\"\n",
        "    elif 150 <= score <= 175:\n",
        "        return \"High\"\n",
        "    else:\n",
        "        return None  # or \"Undefined\" or any other label for scores outside the defined bins"
      ]
    },
    {
      "cell_type": "code",
      "execution_count": null,
      "metadata": {
        "id": "4d74c1e9"
      },
      "outputs": [],
      "source": [
        "train_df['luxury_category'] = train_df['luxury_score'].apply(categorize_luxury)"
      ]
    },
    {
      "cell_type": "code",
      "execution_count": null,
      "metadata": {
        "id": "cc6779db",
        "outputId": "e6612866-50ba-4e4a-f4e8-874cbf52337f"
      },
      "outputs": [
        {
          "data": {
            "text/html": [
              "<div>\n",
              "<style scoped>\n",
              "    .dataframe tbody tr th:only-of-type {\n",
              "        vertical-align: middle;\n",
              "    }\n",
              "\n",
              "    .dataframe tbody tr th {\n",
              "        vertical-align: top;\n",
              "    }\n",
              "\n",
              "    .dataframe thead th {\n",
              "        text-align: right;\n",
              "    }\n",
              "</style>\n",
              "<table border=\"1\" class=\"dataframe\">\n",
              "  <thead>\n",
              "    <tr style=\"text-align: right;\">\n",
              "      <th></th>\n",
              "      <th>property_type</th>\n",
              "      <th>sector</th>\n",
              "      <th>price</th>\n",
              "      <th>bedRoom</th>\n",
              "      <th>bathroom</th>\n",
              "      <th>balcony</th>\n",
              "      <th>floorNum</th>\n",
              "      <th>agePossession</th>\n",
              "      <th>built_up_area</th>\n",
              "      <th>study room</th>\n",
              "      <th>servant room</th>\n",
              "      <th>store room</th>\n",
              "      <th>pooja room</th>\n",
              "      <th>others</th>\n",
              "      <th>furnishing_type</th>\n",
              "      <th>luxury_score</th>\n",
              "      <th>luxury_category</th>\n",
              "    </tr>\n",
              "  </thead>\n",
              "  <tbody>\n",
              "    <tr>\n",
              "      <th>0</th>\n",
              "      <td>flat</td>\n",
              "      <td>sector 36</td>\n",
              "      <td>0.82</td>\n",
              "      <td>3.0</td>\n",
              "      <td>2.0</td>\n",
              "      <td>2</td>\n",
              "      <td>2.0</td>\n",
              "      <td>New Property</td>\n",
              "      <td>850.0</td>\n",
              "      <td>0.0</td>\n",
              "      <td>0.0</td>\n",
              "      <td>0.0</td>\n",
              "      <td>0.0</td>\n",
              "      <td>0.0</td>\n",
              "      <td>0.0</td>\n",
              "      <td>8.0</td>\n",
              "      <td>Low</td>\n",
              "    </tr>\n",
              "    <tr>\n",
              "      <th>1</th>\n",
              "      <td>flat</td>\n",
              "      <td>sector 89</td>\n",
              "      <td>0.95</td>\n",
              "      <td>2.0</td>\n",
              "      <td>2.0</td>\n",
              "      <td>2</td>\n",
              "      <td>4.0</td>\n",
              "      <td>New Property</td>\n",
              "      <td>1226.0</td>\n",
              "      <td>1.0</td>\n",
              "      <td>1.0</td>\n",
              "      <td>0.0</td>\n",
              "      <td>0.0</td>\n",
              "      <td>0.0</td>\n",
              "      <td>0.0</td>\n",
              "      <td>38.0</td>\n",
              "      <td>Low</td>\n",
              "    </tr>\n",
              "    <tr>\n",
              "      <th>2</th>\n",
              "      <td>flat</td>\n",
              "      <td>sohna road</td>\n",
              "      <td>0.32</td>\n",
              "      <td>2.0</td>\n",
              "      <td>2.0</td>\n",
              "      <td>1</td>\n",
              "      <td>17.0</td>\n",
              "      <td>New Property</td>\n",
              "      <td>1000.0</td>\n",
              "      <td>0.0</td>\n",
              "      <td>0.0</td>\n",
              "      <td>0.0</td>\n",
              "      <td>0.0</td>\n",
              "      <td>0.0</td>\n",
              "      <td>0.0</td>\n",
              "      <td>49.0</td>\n",
              "      <td>Low</td>\n",
              "    </tr>\n",
              "    <tr>\n",
              "      <th>3</th>\n",
              "      <td>flat</td>\n",
              "      <td>sector 92</td>\n",
              "      <td>1.60</td>\n",
              "      <td>3.0</td>\n",
              "      <td>4.0</td>\n",
              "      <td>3+</td>\n",
              "      <td>10.0</td>\n",
              "      <td>Relatively New</td>\n",
              "      <td>1615.0</td>\n",
              "      <td>0.0</td>\n",
              "      <td>1.0</td>\n",
              "      <td>0.0</td>\n",
              "      <td>0.0</td>\n",
              "      <td>1.0</td>\n",
              "      <td>1.0</td>\n",
              "      <td>174.0</td>\n",
              "      <td>High</td>\n",
              "    </tr>\n",
              "    <tr>\n",
              "      <th>4</th>\n",
              "      <td>flat</td>\n",
              "      <td>sector 102</td>\n",
              "      <td>0.48</td>\n",
              "      <td>2.0</td>\n",
              "      <td>2.0</td>\n",
              "      <td>1</td>\n",
              "      <td>5.0</td>\n",
              "      <td>Relatively New</td>\n",
              "      <td>582.0</td>\n",
              "      <td>0.0</td>\n",
              "      <td>0.0</td>\n",
              "      <td>1.0</td>\n",
              "      <td>0.0</td>\n",
              "      <td>0.0</td>\n",
              "      <td>0.0</td>\n",
              "      <td>159.0</td>\n",
              "      <td>High</td>\n",
              "    </tr>\n",
              "  </tbody>\n",
              "</table>\n",
              "</div>"
            ],
            "text/plain": [
              "  property_type      sector  price  bedRoom  bathroom balcony  floorNum  \\\n",
              "0          flat   sector 36   0.82      3.0       2.0       2       2.0   \n",
              "1          flat   sector 89   0.95      2.0       2.0       2       4.0   \n",
              "2          flat  sohna road   0.32      2.0       2.0       1      17.0   \n",
              "3          flat   sector 92   1.60      3.0       4.0      3+      10.0   \n",
              "4          flat  sector 102   0.48      2.0       2.0       1       5.0   \n",
              "\n",
              "    agePossession  built_up_area  study room  servant room  store room  \\\n",
              "0    New Property          850.0         0.0           0.0         0.0   \n",
              "1    New Property         1226.0         1.0           1.0         0.0   \n",
              "2    New Property         1000.0         0.0           0.0         0.0   \n",
              "3  Relatively New         1615.0         0.0           1.0         0.0   \n",
              "4  Relatively New          582.0         0.0           0.0         1.0   \n",
              "\n",
              "   pooja room  others  furnishing_type  luxury_score luxury_category  \n",
              "0         0.0     0.0              0.0           8.0             Low  \n",
              "1         0.0     0.0              0.0          38.0             Low  \n",
              "2         0.0     0.0              0.0          49.0             Low  \n",
              "3         0.0     1.0              1.0         174.0            High  \n",
              "4         0.0     0.0              0.0         159.0            High  "
            ]
          },
          "execution_count": 338,
          "metadata": {},
          "output_type": "execute_result"
        }
      ],
      "source": [
        "train_df.head()"
      ]
    },
    {
      "cell_type": "markdown",
      "metadata": {
        "id": "f49bd225"
      },
      "source": [
        "### floorNum"
      ]
    },
    {
      "cell_type": "code",
      "execution_count": null,
      "metadata": {
        "id": "529c198f",
        "outputId": "0e23a937-7e5e-46cc-862b-33c98ff9921b"
      },
      "outputs": [
        {
          "name": "stderr",
          "output_type": "stream",
          "text": [
            "Pass the following variable as a keyword arg: x. From version 0.12, the only valid positional argument will be `data`, and passing other arguments without an explicit keyword will result in an error or misinterpretation.\n"
          ]
        },
        {
          "data": {
            "text/plain": [
              "<AxesSubplot:xlabel='floorNum'>"
            ]
          },
          "execution_count": 339,
          "metadata": {},
          "output_type": "execute_result"
        },
        {
          "data": {
            "image/png": "[encoded data removed]",
            "text/plain": [
              "<Figure size 432x288 with 1 Axes>"
            ]
          },
          "metadata": {
            "needs_background": "light"
          },
          "output_type": "display_data"
        }
      ],
      "source": [
        "sns.boxplot(df['floorNum'])"
      ]
    },
    {
      "cell_type": "code",
      "execution_count": null,
      "metadata": {
        "id": "57d9ce9d"
      },
      "outputs": [],
      "source": [
        "def categorize_floor(floor):\n",
        "    if 0 <= floor <= 2:\n",
        "        return \"Low Floor\"\n",
        "    elif 3 <= floor <= 10:\n",
        "        return \"Mid Floor\"\n",
        "    elif 11 <= floor <= 51:\n",
        "        return \"High Floor\"\n",
        "    else:\n",
        "        return None  # or \"Undefined\" or any other label for floors outside the defined bins"
      ]
    },
    {
      "cell_type": "code",
      "execution_count": null,
      "metadata": {
        "id": "4e91b36a"
      },
      "outputs": [],
      "source": [
        "train_df['floor_category'] = train_df['floorNum'].apply(categorize_floor)"
      ]
    },
    {
      "cell_type": "code",
      "execution_count": null,
      "metadata": {
        "id": "451b537a",
        "outputId": "fc97fe6d-2b4d-4a4f-ba36-dbceef9c82c7"
      },
      "outputs": [
        {
          "data": {
            "text/html": [
              "<div>\n",
              "<style scoped>\n",
              "    .dataframe tbody tr th:only-of-type {\n",
              "        vertical-align: middle;\n",
              "    }\n",
              "\n",
              "    .dataframe tbody tr th {\n",
              "        vertical-align: top;\n",
              "    }\n",
              "\n",
              "    .dataframe thead th {\n",
              "        text-align: right;\n",
              "    }\n",
              "</style>\n",
              "<table border=\"1\" class=\"dataframe\">\n",
              "  <thead>\n",
              "    <tr style=\"text-align: right;\">\n",
              "      <th></th>\n",
              "      <th>property_type</th>\n",
              "      <th>sector</th>\n",
              "      <th>price</th>\n",
              "      <th>bedRoom</th>\n",
              "      <th>bathroom</th>\n",
              "      <th>balcony</th>\n",
              "      <th>floorNum</th>\n",
              "      <th>agePossession</th>\n",
              "      <th>built_up_area</th>\n",
              "      <th>study room</th>\n",
              "      <th>servant room</th>\n",
              "      <th>store room</th>\n",
              "      <th>pooja room</th>\n",
              "      <th>others</th>\n",
              "      <th>furnishing_type</th>\n",
              "      <th>luxury_score</th>\n",
              "      <th>luxury_category</th>\n",
              "      <th>floor_category</th>\n",
              "    </tr>\n",
              "  </thead>\n",
              "  <tbody>\n",
              "    <tr>\n",
              "      <th>0</th>\n",
              "      <td>flat</td>\n",
              "      <td>sector 36</td>\n",
              "      <td>0.82</td>\n",
              "      <td>3.0</td>\n",
              "      <td>2.0</td>\n",
              "      <td>2</td>\n",
              "      <td>2.0</td>\n",
              "      <td>New Property</td>\n",
              "      <td>850.0</td>\n",
              "      <td>0.0</td>\n",
              "      <td>0.0</td>\n",
              "      <td>0.0</td>\n",
              "      <td>0.0</td>\n",
              "      <td>0.0</td>\n",
              "      <td>0.0</td>\n",
              "      <td>8.0</td>\n",
              "      <td>Low</td>\n",
              "      <td>Low Floor</td>\n",
              "    </tr>\n",
              "    <tr>\n",
              "      <th>1</th>\n",
              "      <td>flat</td>\n",
              "      <td>sector 89</td>\n",
              "      <td>0.95</td>\n",
              "      <td>2.0</td>\n",
              "      <td>2.0</td>\n",
              "      <td>2</td>\n",
              "      <td>4.0</td>\n",
              "      <td>New Property</td>\n",
              "      <td>1226.0</td>\n",
              "      <td>1.0</td>\n",
              "      <td>1.0</td>\n",
              "      <td>0.0</td>\n",
              "      <td>0.0</td>\n",
              "      <td>0.0</td>\n",
              "      <td>0.0</td>\n",
              "      <td>38.0</td>\n",
              "      <td>Low</td>\n",
              "      <td>Mid Floor</td>\n",
              "    </tr>\n",
              "    <tr>\n",
              "      <th>2</th>\n",
              "      <td>flat</td>\n",
              "      <td>sohna road</td>\n",
              "      <td>0.32</td>\n",
              "      <td>2.0</td>\n",
              "      <td>2.0</td>\n",
              "      <td>1</td>\n",
              "      <td>17.0</td>\n",
              "      <td>New Property</td>\n",
              "      <td>1000.0</td>\n",
              "      <td>0.0</td>\n",
              "      <td>0.0</td>\n",
              "      <td>0.0</td>\n",
              "      <td>0.0</td>\n",
              "      <td>0.0</td>\n",
              "      <td>0.0</td>\n",
              "      <td>49.0</td>\n",
              "      <td>Low</td>\n",
              "      <td>High Floor</td>\n",
              "    </tr>\n",
              "    <tr>\n",
              "      <th>3</th>\n",
              "      <td>flat</td>\n",
              "      <td>sector 92</td>\n",
              "      <td>1.60</td>\n",
              "      <td>3.0</td>\n",
              "      <td>4.0</td>\n",
              "      <td>3+</td>\n",
              "      <td>10.0</td>\n",
              "      <td>Relatively New</td>\n",
              "      <td>1615.0</td>\n",
              "      <td>0.0</td>\n",
              "      <td>1.0</td>\n",
              "      <td>0.0</td>\n",
              "      <td>0.0</td>\n",
              "      <td>1.0</td>\n",
              "      <td>1.0</td>\n",
              "      <td>174.0</td>\n",
              "      <td>High</td>\n",
              "      <td>Mid Floor</td>\n",
              "    </tr>\n",
              "    <tr>\n",
              "      <th>4</th>\n",
              "      <td>flat</td>\n",
              "      <td>sector 102</td>\n",
              "      <td>0.48</td>\n",
              "      <td>2.0</td>\n",
              "      <td>2.0</td>\n",
              "      <td>1</td>\n",
              "      <td>5.0</td>\n",
              "      <td>Relatively New</td>\n",
              "      <td>582.0</td>\n",
              "      <td>0.0</td>\n",
              "      <td>0.0</td>\n",
              "      <td>1.0</td>\n",
              "      <td>0.0</td>\n",
              "      <td>0.0</td>\n",
              "      <td>0.0</td>\n",
              "      <td>159.0</td>\n",
              "      <td>High</td>\n",
              "      <td>Mid Floor</td>\n",
              "    </tr>\n",
              "  </tbody>\n",
              "</table>\n",
              "</div>"
            ],
            "text/plain": [
              "  property_type      sector  price  bedRoom  bathroom balcony  floorNum  \\\n",
              "0          flat   sector 36   0.82      3.0       2.0       2       2.0   \n",
              "1          flat   sector 89   0.95      2.0       2.0       2       4.0   \n",
              "2          flat  sohna road   0.32      2.0       2.0       1      17.0   \n",
              "3          flat   sector 92   1.60      3.0       4.0      3+      10.0   \n",
              "4          flat  sector 102   0.48      2.0       2.0       1       5.0   \n",
              "\n",
              "    agePossession  built_up_area  study room  servant room  store room  \\\n",
              "0    New Property          850.0         0.0           0.0         0.0   \n",
              "1    New Property         1226.0         1.0           1.0         0.0   \n",
              "2    New Property         1000.0         0.0           0.0         0.0   \n",
              "3  Relatively New         1615.0         0.0           1.0         0.0   \n",
              "4  Relatively New          582.0         0.0           0.0         1.0   \n",
              "\n",
              "   pooja room  others  furnishing_type  luxury_score luxury_category  \\\n",
              "0         0.0     0.0              0.0           8.0             Low   \n",
              "1         0.0     0.0              0.0          38.0             Low   \n",
              "2         0.0     0.0              0.0          49.0             Low   \n",
              "3         0.0     1.0              1.0         174.0            High   \n",
              "4         0.0     0.0              0.0         159.0            High   \n",
              "\n",
              "  floor_category  \n",
              "0      Low Floor  \n",
              "1      Mid Floor  \n",
              "2     High Floor  \n",
              "3      Mid Floor  \n",
              "4      Mid Floor  "
            ]
          },
          "execution_count": 342,
          "metadata": {},
          "output_type": "execute_result"
        }
      ],
      "source": [
        "train_df.head()"
      ]
    },
    {
      "cell_type": "code",
      "execution_count": null,
      "metadata": {
        "id": "fd5ddfcb"
      },
      "outputs": [],
      "source": [
        "train_df.drop(columns=['floorNum','luxury_score'],inplace=True)"
      ]
    },
    {
      "cell_type": "code",
      "execution_count": null,
      "metadata": {
        "id": "635fbce8",
        "outputId": "e43255fc-bba3-4fdb-ea67-ee5b2abb7efb"
      },
      "outputs": [
        {
          "data": {
            "text/html": [
              "<div>\n",
              "<style scoped>\n",
              "    .dataframe tbody tr th:only-of-type {\n",
              "        vertical-align: middle;\n",
              "    }\n",
              "\n",
              "    .dataframe tbody tr th {\n",
              "        vertical-align: top;\n",
              "    }\n",
              "\n",
              "    .dataframe thead th {\n",
              "        text-align: right;\n",
              "    }\n",
              "</style>\n",
              "<table border=\"1\" class=\"dataframe\">\n",
              "  <thead>\n",
              "    <tr style=\"text-align: right;\">\n",
              "      <th></th>\n",
              "      <th>property_type</th>\n",
              "      <th>sector</th>\n",
              "      <th>price</th>\n",
              "      <th>bedRoom</th>\n",
              "      <th>bathroom</th>\n",
              "      <th>balcony</th>\n",
              "      <th>agePossession</th>\n",
              "      <th>built_up_area</th>\n",
              "      <th>study room</th>\n",
              "      <th>servant room</th>\n",
              "      <th>store room</th>\n",
              "      <th>pooja room</th>\n",
              "      <th>others</th>\n",
              "      <th>furnishing_type</th>\n",
              "      <th>luxury_category</th>\n",
              "      <th>floor_category</th>\n",
              "    </tr>\n",
              "  </thead>\n",
              "  <tbody>\n",
              "    <tr>\n",
              "      <th>0</th>\n",
              "      <td>flat</td>\n",
              "      <td>sector 36</td>\n",
              "      <td>0.82</td>\n",
              "      <td>3.0</td>\n",
              "      <td>2.0</td>\n",
              "      <td>2</td>\n",
              "      <td>New Property</td>\n",
              "      <td>850.0</td>\n",
              "      <td>0.0</td>\n",
              "      <td>0.0</td>\n",
              "      <td>0.0</td>\n",
              "      <td>0.0</td>\n",
              "      <td>0.0</td>\n",
              "      <td>0.0</td>\n",
              "      <td>Low</td>\n",
              "      <td>Low Floor</td>\n",
              "    </tr>\n",
              "    <tr>\n",
              "      <th>1</th>\n",
              "      <td>flat</td>\n",
              "      <td>sector 89</td>\n",
              "      <td>0.95</td>\n",
              "      <td>2.0</td>\n",
              "      <td>2.0</td>\n",
              "      <td>2</td>\n",
              "      <td>New Property</td>\n",
              "      <td>1226.0</td>\n",
              "      <td>1.0</td>\n",
              "      <td>1.0</td>\n",
              "      <td>0.0</td>\n",
              "      <td>0.0</td>\n",
              "      <td>0.0</td>\n",
              "      <td>0.0</td>\n",
              "      <td>Low</td>\n",
              "      <td>Mid Floor</td>\n",
              "    </tr>\n",
              "    <tr>\n",
              "      <th>2</th>\n",
              "      <td>flat</td>\n",
              "      <td>sohna road</td>\n",
              "      <td>0.32</td>\n",
              "      <td>2.0</td>\n",
              "      <td>2.0</td>\n",
              "      <td>1</td>\n",
              "      <td>New Property</td>\n",
              "      <td>1000.0</td>\n",
              "      <td>0.0</td>\n",
              "      <td>0.0</td>\n",
              "      <td>0.0</td>\n",
              "      <td>0.0</td>\n",
              "      <td>0.0</td>\n",
              "      <td>0.0</td>\n",
              "      <td>Low</td>\n",
              "      <td>High Floor</td>\n",
              "    </tr>\n",
              "    <tr>\n",
              "      <th>3</th>\n",
              "      <td>flat</td>\n",
              "      <td>sector 92</td>\n",
              "      <td>1.60</td>\n",
              "      <td>3.0</td>\n",
              "      <td>4.0</td>\n",
              "      <td>3+</td>\n",
              "      <td>Relatively New</td>\n",
              "      <td>1615.0</td>\n",
              "      <td>0.0</td>\n",
              "      <td>1.0</td>\n",
              "      <td>0.0</td>\n",
              "      <td>0.0</td>\n",
              "      <td>1.0</td>\n",
              "      <td>1.0</td>\n",
              "      <td>High</td>\n",
              "      <td>Mid Floor</td>\n",
              "    </tr>\n",
              "    <tr>\n",
              "      <th>4</th>\n",
              "      <td>flat</td>\n",
              "      <td>sector 102</td>\n",
              "      <td>0.48</td>\n",
              "      <td>2.0</td>\n",
              "      <td>2.0</td>\n",
              "      <td>1</td>\n",
              "      <td>Relatively New</td>\n",
              "      <td>582.0</td>\n",
              "      <td>0.0</td>\n",
              "      <td>0.0</td>\n",
              "      <td>1.0</td>\n",
              "      <td>0.0</td>\n",
              "      <td>0.0</td>\n",
              "      <td>0.0</td>\n",
              "      <td>High</td>\n",
              "      <td>Mid Floor</td>\n",
              "    </tr>\n",
              "  </tbody>\n",
              "</table>\n",
              "</div>"
            ],
            "text/plain": [
              "  property_type      sector  price  bedRoom  bathroom balcony   agePossession  \\\n",
              "0          flat   sector 36   0.82      3.0       2.0       2    New Property   \n",
              "1          flat   sector 89   0.95      2.0       2.0       2    New Property   \n",
              "2          flat  sohna road   0.32      2.0       2.0       1    New Property   \n",
              "3          flat   sector 92   1.60      3.0       4.0      3+  Relatively New   \n",
              "4          flat  sector 102   0.48      2.0       2.0       1  Relatively New   \n",
              "\n",
              "   built_up_area  study room  servant room  store room  pooja room  others  \\\n",
              "0          850.0         0.0           0.0         0.0         0.0     0.0   \n",
              "1         1226.0         1.0           1.0         0.0         0.0     0.0   \n",
              "2         1000.0         0.0           0.0         0.0         0.0     0.0   \n",
              "3         1615.0         0.0           1.0         0.0         0.0     1.0   \n",
              "4          582.0         0.0           0.0         1.0         0.0     0.0   \n",
              "\n",
              "   furnishing_type luxury_category floor_category  \n",
              "0              0.0             Low      Low Floor  \n",
              "1              0.0             Low      Mid Floor  \n",
              "2              0.0             Low     High Floor  \n",
              "3              1.0            High      Mid Floor  \n",
              "4              0.0            High      Mid Floor  "
            ]
          },
          "execution_count": 344,
          "metadata": {},
          "output_type": "execute_result"
        }
      ],
      "source": [
        "train_df.head()"
      ]
    },
    {
      "cell_type": "code",
      "execution_count": null,
      "metadata": {
        "id": "15bca5db",
        "outputId": "23fd1cd3-f612-404d-d123-a5fc81c007a0"
      },
      "outputs": [
        {
          "name": "stdout",
          "output_type": "stream",
          "text": [
            "[array(['flat', 'house'], dtype=object)]\n",
            "[array(['dwarka expressway', 'gwal pahari', 'manesar', 'sector 1',\n",
            "       'sector 10', 'sector 102', 'sector 103', 'sector 104',\n",
            "       'sector 105', 'sector 106', 'sector 107', 'sector 108',\n",
            "       'sector 109', 'sector 11', 'sector 110', 'sector 111',\n",
            "       'sector 112', 'sector 113', 'sector 12', 'sector 13', 'sector 14',\n",
            "       'sector 15', 'sector 17', 'sector 2', 'sector 21', 'sector 22',\n",
            "       'sector 23', 'sector 24', 'sector 25', 'sector 26', 'sector 27',\n",
            "       'sector 28', 'sector 3', 'sector 30', 'sector 31', 'sector 33',\n",
            "       'sector 36', 'sector 37', 'sector 37d', 'sector 38', 'sector 39',\n",
            "       'sector 4', 'sector 40', 'sector 41', 'sector 43', 'sector 45',\n",
            "       'sector 46', 'sector 47', 'sector 48', 'sector 49', 'sector 5',\n",
            "       'sector 50', 'sector 51', 'sector 52', 'sector 53', 'sector 54',\n",
            "       'sector 55', 'sector 56', 'sector 57', 'sector 58', 'sector 59',\n",
            "       'sector 6', 'sector 60', 'sector 61', 'sector 62', 'sector 63',\n",
            "       'sector 63a', 'sector 65', 'sector 66', 'sector 67', 'sector 67a',\n",
            "       'sector 68', 'sector 69', 'sector 7', 'sector 70', 'sector 70a',\n",
            "       'sector 71', 'sector 72', 'sector 73', 'sector 74', 'sector 76',\n",
            "       'sector 77', 'sector 78', 'sector 79', 'sector 8', 'sector 80',\n",
            "       'sector 81', 'sector 82', 'sector 82a', 'sector 83', 'sector 84',\n",
            "       'sector 85', 'sector 86', 'sector 88', 'sector 88a', 'sector 89',\n",
            "       'sector 9', 'sector 90', 'sector 91', 'sector 92', 'sector 93',\n",
            "       'sector 95', 'sector 99', 'sohna road'], dtype=object)]\n",
            "[array(['0', '1', '2', '3', '3+'], dtype=object)]\n",
            "[array(['Moderately Old', 'New Property', 'Old Property', 'Relatively New',\n",
            "       'Under Construction'], dtype=object)]\n",
            "[array(['High', 'Low', 'Medium'], dtype=object)]\n",
            "[array(['High Floor', 'Low Floor', 'Mid Floor'], dtype=object)]\n"
          ]
        }
      ],
      "source": [
        "from sklearn.preprocessing import OrdinalEncoder\n",
        "\n",
        "# Create a copy of the original data for label encoding\n",
        "data_label_encoded = train_df.copy()\n",
        "\n",
        "categorical_cols = train_df.select_dtypes(include=['object']).columns\n",
        "\n",
        "# Apply label encoding to categorical columns\n",
        "for col in categorical_cols:\n",
        "    oe = OrdinalEncoder()\n",
        "    data_label_encoded[col] = oe.fit_transform(data_label_encoded[[col]])\n",
        "    print(oe.categories_)\n",
        "\n",
        "# Splitting the dataset into training and testing sets\n",
        "X_label = data_label_encoded.drop('price', axis=1)\n",
        "y_label = data_label_encoded['price']"
      ]
    },
    {
      "cell_type": "code",
      "execution_count": null,
      "metadata": {
        "id": "73ef7afe",
        "outputId": "afa01fc3-ca56-4e54-9dff-105d14b0fc8b"
      },
      "outputs": [
        {
          "data": {
            "text/html": [
              "<div>\n",
              "<style scoped>\n",
              "    .dataframe tbody tr th:only-of-type {\n",
              "        vertical-align: middle;\n",
              "    }\n",
              "\n",
              "    .dataframe tbody tr th {\n",
              "        vertical-align: top;\n",
              "    }\n",
              "\n",
              "    .dataframe thead th {\n",
              "        text-align: right;\n",
              "    }\n",
              "</style>\n",
              "<table border=\"1\" class=\"dataframe\">\n",
              "  <thead>\n",
              "    <tr style=\"text-align: right;\">\n",
              "      <th></th>\n",
              "      <th>property_type</th>\n",
              "      <th>sector</th>\n",
              "      <th>bedRoom</th>\n",
              "      <th>bathroom</th>\n",
              "      <th>balcony</th>\n",
              "      <th>agePossession</th>\n",
              "      <th>built_up_area</th>\n",
              "      <th>study room</th>\n",
              "      <th>servant room</th>\n",
              "      <th>store room</th>\n",
              "      <th>pooja room</th>\n",
              "      <th>others</th>\n",
              "      <th>furnishing_type</th>\n",
              "      <th>luxury_category</th>\n",
              "      <th>floor_category</th>\n",
              "    </tr>\n",
              "  </thead>\n",
              "  <tbody>\n",
              "    <tr>\n",
              "      <th>0</th>\n",
              "      <td>0.0</td>\n",
              "      <td>36.0</td>\n",
              "      <td>3.0</td>\n",
              "      <td>2.0</td>\n",
              "      <td>2.0</td>\n",
              "      <td>1.0</td>\n",
              "      <td>850.0</td>\n",
              "      <td>0.0</td>\n",
              "      <td>0.0</td>\n",
              "      <td>0.0</td>\n",
              "      <td>0.0</td>\n",
              "      <td>0.0</td>\n",
              "      <td>0.0</td>\n",
              "      <td>1.0</td>\n",
              "      <td>1.0</td>\n",
              "    </tr>\n",
              "    <tr>\n",
              "      <th>1</th>\n",
              "      <td>0.0</td>\n",
              "      <td>95.0</td>\n",
              "      <td>2.0</td>\n",
              "      <td>2.0</td>\n",
              "      <td>2.0</td>\n",
              "      <td>1.0</td>\n",
              "      <td>1226.0</td>\n",
              "      <td>1.0</td>\n",
              "      <td>1.0</td>\n",
              "      <td>0.0</td>\n",
              "      <td>0.0</td>\n",
              "      <td>0.0</td>\n",
              "      <td>0.0</td>\n",
              "      <td>1.0</td>\n",
              "      <td>2.0</td>\n",
              "    </tr>\n",
              "    <tr>\n",
              "      <th>2</th>\n",
              "      <td>0.0</td>\n",
              "      <td>103.0</td>\n",
              "      <td>2.0</td>\n",
              "      <td>2.0</td>\n",
              "      <td>1.0</td>\n",
              "      <td>1.0</td>\n",
              "      <td>1000.0</td>\n",
              "      <td>0.0</td>\n",
              "      <td>0.0</td>\n",
              "      <td>0.0</td>\n",
              "      <td>0.0</td>\n",
              "      <td>0.0</td>\n",
              "      <td>0.0</td>\n",
              "      <td>1.0</td>\n",
              "      <td>0.0</td>\n",
              "    </tr>\n",
              "    <tr>\n",
              "      <th>3</th>\n",
              "      <td>0.0</td>\n",
              "      <td>99.0</td>\n",
              "      <td>3.0</td>\n",
              "      <td>4.0</td>\n",
              "      <td>4.0</td>\n",
              "      <td>3.0</td>\n",
              "      <td>1615.0</td>\n",
              "      <td>0.0</td>\n",
              "      <td>1.0</td>\n",
              "      <td>0.0</td>\n",
              "      <td>0.0</td>\n",
              "      <td>1.0</td>\n",
              "      <td>1.0</td>\n",
              "      <td>0.0</td>\n",
              "      <td>2.0</td>\n",
              "    </tr>\n",
              "    <tr>\n",
              "      <th>4</th>\n",
              "      <td>0.0</td>\n",
              "      <td>5.0</td>\n",
              "      <td>2.0</td>\n",
              "      <td>2.0</td>\n",
              "      <td>1.0</td>\n",
              "      <td>3.0</td>\n",
              "      <td>582.0</td>\n",
              "      <td>0.0</td>\n",
              "      <td>0.0</td>\n",
              "      <td>1.0</td>\n",
              "      <td>0.0</td>\n",
              "      <td>0.0</td>\n",
              "      <td>0.0</td>\n",
              "      <td>0.0</td>\n",
              "      <td>2.0</td>\n",
              "    </tr>\n",
              "    <tr>\n",
              "      <th>...</th>\n",
              "      <td>...</td>\n",
              "      <td>...</td>\n",
              "      <td>...</td>\n",
              "      <td>...</td>\n",
              "      <td>...</td>\n",
              "      <td>...</td>\n",
              "      <td>...</td>\n",
              "      <td>...</td>\n",
              "      <td>...</td>\n",
              "      <td>...</td>\n",
              "      <td>...</td>\n",
              "      <td>...</td>\n",
              "      <td>...</td>\n",
              "      <td>...</td>\n",
              "      <td>...</td>\n",
              "    </tr>\n",
              "    <tr>\n",
              "      <th>3549</th>\n",
              "      <td>0.0</td>\n",
              "      <td>90.0</td>\n",
              "      <td>2.0</td>\n",
              "      <td>2.0</td>\n",
              "      <td>1.0</td>\n",
              "      <td>3.0</td>\n",
              "      <td>532.0</td>\n",
              "      <td>0.0</td>\n",
              "      <td>0.0</td>\n",
              "      <td>0.0</td>\n",
              "      <td>0.0</td>\n",
              "      <td>0.0</td>\n",
              "      <td>0.0</td>\n",
              "      <td>2.0</td>\n",
              "      <td>2.0</td>\n",
              "    </tr>\n",
              "    <tr>\n",
              "      <th>3550</th>\n",
              "      <td>1.0</td>\n",
              "      <td>12.0</td>\n",
              "      <td>5.0</td>\n",
              "      <td>5.0</td>\n",
              "      <td>4.0</td>\n",
              "      <td>3.0</td>\n",
              "      <td>6228.0</td>\n",
              "      <td>1.0</td>\n",
              "      <td>1.0</td>\n",
              "      <td>1.0</td>\n",
              "      <td>1.0</td>\n",
              "      <td>0.0</td>\n",
              "      <td>0.0</td>\n",
              "      <td>0.0</td>\n",
              "      <td>1.0</td>\n",
              "    </tr>\n",
              "    <tr>\n",
              "      <th>3551</th>\n",
              "      <td>0.0</td>\n",
              "      <td>23.0</td>\n",
              "      <td>1.0</td>\n",
              "      <td>1.0</td>\n",
              "      <td>1.0</td>\n",
              "      <td>0.0</td>\n",
              "      <td>665.0</td>\n",
              "      <td>0.0</td>\n",
              "      <td>0.0</td>\n",
              "      <td>0.0</td>\n",
              "      <td>0.0</td>\n",
              "      <td>0.0</td>\n",
              "      <td>1.0</td>\n",
              "      <td>2.0</td>\n",
              "      <td>2.0</td>\n",
              "    </tr>\n",
              "    <tr>\n",
              "      <th>3552</th>\n",
              "      <td>1.0</td>\n",
              "      <td>44.0</td>\n",
              "      <td>5.0</td>\n",
              "      <td>6.0</td>\n",
              "      <td>3.0</td>\n",
              "      <td>0.0</td>\n",
              "      <td>5490.0</td>\n",
              "      <td>1.0</td>\n",
              "      <td>1.0</td>\n",
              "      <td>1.0</td>\n",
              "      <td>1.0</td>\n",
              "      <td>0.0</td>\n",
              "      <td>0.0</td>\n",
              "      <td>2.0</td>\n",
              "      <td>2.0</td>\n",
              "    </tr>\n",
              "    <tr>\n",
              "      <th>3553</th>\n",
              "      <td>0.0</td>\n",
              "      <td>71.0</td>\n",
              "      <td>3.0</td>\n",
              "      <td>3.0</td>\n",
              "      <td>4.0</td>\n",
              "      <td>3.0</td>\n",
              "      <td>1845.0</td>\n",
              "      <td>0.0</td>\n",
              "      <td>0.0</td>\n",
              "      <td>0.0</td>\n",
              "      <td>0.0</td>\n",
              "      <td>0.0</td>\n",
              "      <td>1.0</td>\n",
              "      <td>2.0</td>\n",
              "      <td>0.0</td>\n",
              "    </tr>\n",
              "  </tbody>\n",
              "</table>\n",
              "<p>3554 rows × 15 columns</p>\n",
              "</div>"
            ],
            "text/plain": [
              "      property_type  sector  bedRoom  bathroom  balcony  agePossession  \\\n",
              "0               0.0    36.0      3.0       2.0      2.0            1.0   \n",
              "1               0.0    95.0      2.0       2.0      2.0            1.0   \n",
              "2               0.0   103.0      2.0       2.0      1.0            1.0   \n",
              "3               0.0    99.0      3.0       4.0      4.0            3.0   \n",
              "4               0.0     5.0      2.0       2.0      1.0            3.0   \n",
              "...             ...     ...      ...       ...      ...            ...   \n",
              "3549            0.0    90.0      2.0       2.0      1.0            3.0   \n",
              "3550            1.0    12.0      5.0       5.0      4.0            3.0   \n",
              "3551            0.0    23.0      1.0       1.0      1.0            0.0   \n",
              "3552            1.0    44.0      5.0       6.0      3.0            0.0   \n",
              "3553            0.0    71.0      3.0       3.0      4.0            3.0   \n",
              "\n",
              "      built_up_area  study room  servant room  store room  pooja room  others  \\\n",
              "0             850.0         0.0           0.0         0.0         0.0     0.0   \n",
              "1            1226.0         1.0           1.0         0.0         0.0     0.0   \n",
              "2            1000.0         0.0           0.0         0.0         0.0     0.0   \n",
              "3            1615.0         0.0           1.0         0.0         0.0     1.0   \n",
              "4             582.0         0.0           0.0         1.0         0.0     0.0   \n",
              "...             ...         ...           ...         ...         ...     ...   \n",
              "3549          532.0         0.0           0.0         0.0         0.0     0.0   \n",
              "3550         6228.0         1.0           1.0         1.0         1.0     0.0   \n",
              "3551          665.0         0.0           0.0         0.0         0.0     0.0   \n",
              "3552         5490.0         1.0           1.0         1.0         1.0     0.0   \n",
              "3553         1845.0         0.0           0.0         0.0         0.0     0.0   \n",
              "\n",
              "      furnishing_type  luxury_category  floor_category  \n",
              "0                 0.0              1.0             1.0  \n",
              "1                 0.0              1.0             2.0  \n",
              "2                 0.0              1.0             0.0  \n",
              "3                 1.0              0.0             2.0  \n",
              "4                 0.0              0.0             2.0  \n",
              "...               ...              ...             ...  \n",
              "3549              0.0              2.0             2.0  \n",
              "3550              0.0              0.0             1.0  \n",
              "3551              1.0              2.0             2.0  \n",
              "3552              0.0              2.0             2.0  \n",
              "3553              1.0              2.0             0.0  \n",
              "\n",
              "[3554 rows x 15 columns]"
            ]
          },
          "execution_count": 309,
          "metadata": {},
          "output_type": "execute_result"
        }
      ],
      "source": [
        "X_label"
      ]
    },
    {
      "cell_type": "code",
      "execution_count": null,
      "metadata": {
        "id": "d75faff6",
        "outputId": "5a28a957-782a-422e-a23c-c416404eb7a3"
      },
      "outputs": [
        {
          "data": {
            "text/plain": [
              "0        0.82\n",
              "1        0.95\n",
              "2        0.32\n",
              "3        1.60\n",
              "4        0.48\n",
              "        ...  \n",
              "3549     0.37\n",
              "3550     6.00\n",
              "3551     0.60\n",
              "3552    15.50\n",
              "3553     1.78\n",
              "Name: price, Length: 3554, dtype: float64"
            ]
          },
          "execution_count": 345,
          "metadata": {},
          "output_type": "execute_result"
        }
      ],
      "source": [
        "y_label"
      ]
    },
    {
      "cell_type": "markdown",
      "metadata": {
        "id": "a9e3d26f"
      },
      "source": [
        "### Technique 1 - Correlation Analysis"
      ]
    },
    {
      "cell_type": "code",
      "execution_count": null,
      "metadata": {
        "id": "2414e1e9",
        "outputId": "c47ed13a-df4b-4557-e791-7831e012885c"
      },
      "outputs": [
        {
          "data": {
            "text/plain": [
              "<AxesSubplot:>"
            ]
          },
          "execution_count": 310,
          "metadata": {},
          "output_type": "execute_result"
        },
        {
          "data": {
            "image/png": "[encoded data removed]",
            "text/plain": [
              "<Figure size 432x288 with 2 Axes>"
            ]
          },
          "metadata": {
            "needs_background": "light"
          },
          "output_type": "display_data"
        }
      ],
      "source": [
        " sns.heatmap(data_label_encoded.corr())"
      ]
    },
    {
      "cell_type": "code",
      "execution_count": null,
      "metadata": {
        "id": "f54006d7",
        "outputId": "2461842b-c85f-421e-e230-637e9413930f"
      },
      "outputs": [
        {
          "data": {
            "text/html": [
              "<div>\n",
              "<style scoped>\n",
              "    .dataframe tbody tr th:only-of-type {\n",
              "        vertical-align: middle;\n",
              "    }\n",
              "\n",
              "    .dataframe tbody tr th {\n",
              "        vertical-align: top;\n",
              "    }\n",
              "\n",
              "    .dataframe thead th {\n",
              "        text-align: right;\n",
              "    }\n",
              "</style>\n",
              "<table border=\"1\" class=\"dataframe\">\n",
              "  <thead>\n",
              "    <tr style=\"text-align: right;\">\n",
              "      <th></th>\n",
              "      <th>feature</th>\n",
              "      <th>corr_coeff</th>\n",
              "    </tr>\n",
              "  </thead>\n",
              "  <tbody>\n",
              "    <tr>\n",
              "      <th>0</th>\n",
              "      <td>sector</td>\n",
              "      <td>-0.212084</td>\n",
              "    </tr>\n",
              "    <tr>\n",
              "      <th>1</th>\n",
              "      <td>price</td>\n",
              "      <td>1.000000</td>\n",
              "    </tr>\n",
              "    <tr>\n",
              "      <th>2</th>\n",
              "      <td>bedRoom</td>\n",
              "      <td>0.591289</td>\n",
              "    </tr>\n",
              "    <tr>\n",
              "      <th>3</th>\n",
              "      <td>bathroom</td>\n",
              "      <td>0.609777</td>\n",
              "    </tr>\n",
              "    <tr>\n",
              "      <th>4</th>\n",
              "      <td>balcony</td>\n",
              "      <td>0.269637</td>\n",
              "    </tr>\n",
              "    <tr>\n",
              "      <th>5</th>\n",
              "      <td>agePossession</td>\n",
              "      <td>-0.134171</td>\n",
              "    </tr>\n",
              "    <tr>\n",
              "      <th>6</th>\n",
              "      <td>built_up_area</td>\n",
              "      <td>0.748574</td>\n",
              "    </tr>\n",
              "    <tr>\n",
              "      <th>7</th>\n",
              "      <td>study room</td>\n",
              "      <td>0.242955</td>\n",
              "    </tr>\n",
              "    <tr>\n",
              "      <th>8</th>\n",
              "      <td>servant room</td>\n",
              "      <td>0.391930</td>\n",
              "    </tr>\n",
              "    <tr>\n",
              "      <th>9</th>\n",
              "      <td>store room</td>\n",
              "      <td>0.305677</td>\n",
              "    </tr>\n",
              "    <tr>\n",
              "      <th>10</th>\n",
              "      <td>pooja room</td>\n",
              "      <td>0.319852</td>\n",
              "    </tr>\n",
              "    <tr>\n",
              "      <th>11</th>\n",
              "      <td>others</td>\n",
              "      <td>-0.013064</td>\n",
              "    </tr>\n",
              "    <tr>\n",
              "      <th>12</th>\n",
              "      <td>furnishing_type</td>\n",
              "      <td>0.225625</td>\n",
              "    </tr>\n",
              "    <tr>\n",
              "      <th>13</th>\n",
              "      <td>luxury_category</td>\n",
              "      <td>0.009788</td>\n",
              "    </tr>\n",
              "    <tr>\n",
              "      <th>14</th>\n",
              "      <td>floor_category</td>\n",
              "      <td>0.042745</td>\n",
              "    </tr>\n",
              "  </tbody>\n",
              "</table>\n",
              "</div>"
            ],
            "text/plain": [
              "            feature  corr_coeff\n",
              "0            sector   -0.212084\n",
              "1             price    1.000000\n",
              "2           bedRoom    0.591289\n",
              "3          bathroom    0.609777\n",
              "4           balcony    0.269637\n",
              "5     agePossession   -0.134171\n",
              "6     built_up_area    0.748574\n",
              "7        study room    0.242955\n",
              "8      servant room    0.391930\n",
              "9        store room    0.305677\n",
              "10       pooja room    0.319852\n",
              "11           others   -0.013064\n",
              "12  furnishing_type    0.225625\n",
              "13  luxury_category    0.009788\n",
              "14   floor_category    0.042745"
            ]
          },
          "execution_count": 311,
          "metadata": {},
          "output_type": "execute_result"
        }
      ],
      "source": [
        "fi_df1 = data_label_encoded.corr()['price'].iloc[1:].to_frame().reset_index().rename(columns={'index':'feature','price':'corr_coeff'})\n",
        "fi_df1"
      ]
    },
    {
      "cell_type": "markdown",
      "metadata": {
        "id": "a2489469"
      },
      "source": [
        "### Technique 2 - Random Forest Feature Importance"
      ]
    },
    {
      "cell_type": "code",
      "execution_count": null,
      "metadata": {
        "id": "a89a170c",
        "outputId": "a51bac16-d50f-4df9-ee1d-d4cd7693c077"
      },
      "outputs": [
        {
          "data": {
            "text/html": [
              "<div>\n",
              "<style scoped>\n",
              "    .dataframe tbody tr th:only-of-type {\n",
              "        vertical-align: middle;\n",
              "    }\n",
              "\n",
              "    .dataframe tbody tr th {\n",
              "        vertical-align: top;\n",
              "    }\n",
              "\n",
              "    .dataframe thead th {\n",
              "        text-align: right;\n",
              "    }\n",
              "</style>\n",
              "<table border=\"1\" class=\"dataframe\">\n",
              "  <thead>\n",
              "    <tr style=\"text-align: right;\">\n",
              "      <th></th>\n",
              "      <th>feature</th>\n",
              "      <th>rf_importance</th>\n",
              "    </tr>\n",
              "  </thead>\n",
              "  <tbody>\n",
              "    <tr>\n",
              "      <th>6</th>\n",
              "      <td>built_up_area</td>\n",
              "      <td>0.650541</td>\n",
              "    </tr>\n",
              "    <tr>\n",
              "      <th>1</th>\n",
              "      <td>sector</td>\n",
              "      <td>0.102670</td>\n",
              "    </tr>\n",
              "    <tr>\n",
              "      <th>0</th>\n",
              "      <td>property_type</td>\n",
              "      <td>0.100079</td>\n",
              "    </tr>\n",
              "    <tr>\n",
              "      <th>3</th>\n",
              "      <td>bathroom</td>\n",
              "      <td>0.025882</td>\n",
              "    </tr>\n",
              "    <tr>\n",
              "      <th>2</th>\n",
              "      <td>bedRoom</td>\n",
              "      <td>0.024041</td>\n",
              "    </tr>\n",
              "    <tr>\n",
              "      <th>8</th>\n",
              "      <td>servant room</td>\n",
              "      <td>0.019320</td>\n",
              "    </tr>\n",
              "    <tr>\n",
              "      <th>5</th>\n",
              "      <td>agePossession</td>\n",
              "      <td>0.014519</td>\n",
              "    </tr>\n",
              "    <tr>\n",
              "      <th>4</th>\n",
              "      <td>balcony</td>\n",
              "      <td>0.012576</td>\n",
              "    </tr>\n",
              "    <tr>\n",
              "      <th>12</th>\n",
              "      <td>furnishing_type</td>\n",
              "      <td>0.010604</td>\n",
              "    </tr>\n",
              "    <tr>\n",
              "      <th>7</th>\n",
              "      <td>study room</td>\n",
              "      <td>0.008383</td>\n",
              "    </tr>\n",
              "    <tr>\n",
              "      <th>9</th>\n",
              "      <td>store room</td>\n",
              "      <td>0.008329</td>\n",
              "    </tr>\n",
              "    <tr>\n",
              "      <th>13</th>\n",
              "      <td>luxury_category</td>\n",
              "      <td>0.007605</td>\n",
              "    </tr>\n",
              "    <tr>\n",
              "      <th>14</th>\n",
              "      <td>floor_category</td>\n",
              "      <td>0.006552</td>\n",
              "    </tr>\n",
              "    <tr>\n",
              "      <th>10</th>\n",
              "      <td>pooja room</td>\n",
              "      <td>0.006126</td>\n",
              "    </tr>\n",
              "    <tr>\n",
              "      <th>11</th>\n",
              "      <td>others</td>\n",
              "      <td>0.002772</td>\n",
              "    </tr>\n",
              "  </tbody>\n",
              "</table>\n",
              "</div>"
            ],
            "text/plain": [
              "            feature  rf_importance\n",
              "6     built_up_area       0.650541\n",
              "1            sector       0.102670\n",
              "0     property_type       0.100079\n",
              "3          bathroom       0.025882\n",
              "2           bedRoom       0.024041\n",
              "8      servant room       0.019320\n",
              "5     agePossession       0.014519\n",
              "4           balcony       0.012576\n",
              "12  furnishing_type       0.010604\n",
              "7        study room       0.008383\n",
              "9        store room       0.008329\n",
              "13  luxury_category       0.007605\n",
              "14   floor_category       0.006552\n",
              "10       pooja room       0.006126\n",
              "11           others       0.002772"
            ]
          },
          "execution_count": 312,
          "metadata": {},
          "output_type": "execute_result"
        }
      ],
      "source": [
        "from sklearn.ensemble import RandomForestRegressor\n",
        "\n",
        "# Train a Random Forest regressor on label encoded data\n",
        "rf_label = RandomForestRegressor(n_estimators=100, random_state=42)\n",
        "rf_label.fit(X_label, y_label)\n",
        "\n",
        "# Extract feature importance scores for label encoded data\n",
        "fi_df2 = pd.DataFrame({\n",
        "    'feature': X_label.columns,\n",
        "    'rf_importance': rf_label.feature_importances_\n",
        "}).sort_values(by='rf_importance', ascending=False)\n",
        "\n",
        "fi_df2"
      ]
    },
    {
      "cell_type": "markdown",
      "metadata": {
        "id": "c0dfcef6"
      },
      "source": [
        "### Technique 3 - Gradient Boosting Feature importances"
      ]
    },
    {
      "cell_type": "code",
      "execution_count": null,
      "metadata": {
        "id": "7b393089",
        "outputId": "965a3882-cfbd-4cb1-9c6a-e2287857e747"
      },
      "outputs": [
        {
          "data": {
            "text/html": [
              "<div>\n",
              "<style scoped>\n",
              "    .dataframe tbody tr th:only-of-type {\n",
              "        vertical-align: middle;\n",
              "    }\n",
              "\n",
              "    .dataframe tbody tr th {\n",
              "        vertical-align: top;\n",
              "    }\n",
              "\n",
              "    .dataframe thead th {\n",
              "        text-align: right;\n",
              "    }\n",
              "</style>\n",
              "<table border=\"1\" class=\"dataframe\">\n",
              "  <thead>\n",
              "    <tr style=\"text-align: right;\">\n",
              "      <th></th>\n",
              "      <th>feature</th>\n",
              "      <th>gb_importance</th>\n",
              "    </tr>\n",
              "  </thead>\n",
              "  <tbody>\n",
              "    <tr>\n",
              "      <th>6</th>\n",
              "      <td>built_up_area</td>\n",
              "      <td>0.677623</td>\n",
              "    </tr>\n",
              "    <tr>\n",
              "      <th>1</th>\n",
              "      <td>sector</td>\n",
              "      <td>0.102730</td>\n",
              "    </tr>\n",
              "    <tr>\n",
              "      <th>0</th>\n",
              "      <td>property_type</td>\n",
              "      <td>0.098445</td>\n",
              "    </tr>\n",
              "    <tr>\n",
              "      <th>2</th>\n",
              "      <td>bedRoom</td>\n",
              "      <td>0.037717</td>\n",
              "    </tr>\n",
              "    <tr>\n",
              "      <th>3</th>\n",
              "      <td>bathroom</td>\n",
              "      <td>0.036402</td>\n",
              "    </tr>\n",
              "    <tr>\n",
              "      <th>8</th>\n",
              "      <td>servant room</td>\n",
              "      <td>0.023342</td>\n",
              "    </tr>\n",
              "    <tr>\n",
              "      <th>9</th>\n",
              "      <td>store room</td>\n",
              "      <td>0.010356</td>\n",
              "    </tr>\n",
              "    <tr>\n",
              "      <th>5</th>\n",
              "      <td>agePossession</td>\n",
              "      <td>0.004332</td>\n",
              "    </tr>\n",
              "    <tr>\n",
              "      <th>7</th>\n",
              "      <td>study room</td>\n",
              "      <td>0.003033</td>\n",
              "    </tr>\n",
              "    <tr>\n",
              "      <th>12</th>\n",
              "      <td>furnishing_type</td>\n",
              "      <td>0.002649</td>\n",
              "    </tr>\n",
              "    <tr>\n",
              "      <th>4</th>\n",
              "      <td>balcony</td>\n",
              "      <td>0.001922</td>\n",
              "    </tr>\n",
              "    <tr>\n",
              "      <th>14</th>\n",
              "      <td>floor_category</td>\n",
              "      <td>0.000608</td>\n",
              "    </tr>\n",
              "    <tr>\n",
              "      <th>10</th>\n",
              "      <td>pooja room</td>\n",
              "      <td>0.000331</td>\n",
              "    </tr>\n",
              "    <tr>\n",
              "      <th>13</th>\n",
              "      <td>luxury_category</td>\n",
              "      <td>0.000317</td>\n",
              "    </tr>\n",
              "    <tr>\n",
              "      <th>11</th>\n",
              "      <td>others</td>\n",
              "      <td>0.000194</td>\n",
              "    </tr>\n",
              "  </tbody>\n",
              "</table>\n",
              "</div>"
            ],
            "text/plain": [
              "            feature  gb_importance\n",
              "6     built_up_area       0.677623\n",
              "1            sector       0.102730\n",
              "0     property_type       0.098445\n",
              "2           bedRoom       0.037717\n",
              "3          bathroom       0.036402\n",
              "8      servant room       0.023342\n",
              "9        store room       0.010356\n",
              "5     agePossession       0.004332\n",
              "7        study room       0.003033\n",
              "12  furnishing_type       0.002649\n",
              "4           balcony       0.001922\n",
              "14   floor_category       0.000608\n",
              "10       pooja room       0.000331\n",
              "13  luxury_category       0.000317\n",
              "11           others       0.000194"
            ]
          },
          "execution_count": 313,
          "metadata": {},
          "output_type": "execute_result"
        }
      ],
      "source": [
        "from sklearn.ensemble import GradientBoostingRegressor\n",
        "\n",
        "# Train a Random Forest regressor on label encoded data\n",
        "gb_label = GradientBoostingRegressor()\n",
        "gb_label.fit(X_label, y_label)\n",
        "\n",
        "# Extract feature importance scores for label encoded data\n",
        "fi_df3 = pd.DataFrame({\n",
        "    'feature': X_label.columns,\n",
        "    'gb_importance': gb_label.feature_importances_\n",
        "}).sort_values(by='gb_importance', ascending=False)\n",
        "\n",
        "fi_df3"
      ]
    },
    {
      "cell_type": "markdown",
      "metadata": {
        "id": "8227da9b"
      },
      "source": [
        "### Technique 4 - Permutation Importance"
      ]
    },
    {
      "cell_type": "code",
      "execution_count": null,
      "metadata": {
        "id": "3d8a5135",
        "outputId": "5ffa9a83-195a-4923-9620-6441637d479f"
      },
      "outputs": [
        {
          "data": {
            "text/html": [
              "<div>\n",
              "<style scoped>\n",
              "    .dataframe tbody tr th:only-of-type {\n",
              "        vertical-align: middle;\n",
              "    }\n",
              "\n",
              "    .dataframe tbody tr th {\n",
              "        vertical-align: top;\n",
              "    }\n",
              "\n",
              "    .dataframe thead th {\n",
              "        text-align: right;\n",
              "    }\n",
              "</style>\n",
              "<table border=\"1\" class=\"dataframe\">\n",
              "  <thead>\n",
              "    <tr style=\"text-align: right;\">\n",
              "      <th></th>\n",
              "      <th>feature</th>\n",
              "      <th>permutation_importance</th>\n",
              "    </tr>\n",
              "  </thead>\n",
              "  <tbody>\n",
              "    <tr>\n",
              "      <th>6</th>\n",
              "      <td>built_up_area</td>\n",
              "      <td>0.736026</td>\n",
              "    </tr>\n",
              "    <tr>\n",
              "      <th>0</th>\n",
              "      <td>property_type</td>\n",
              "      <td>0.200636</td>\n",
              "    </tr>\n",
              "    <tr>\n",
              "      <th>1</th>\n",
              "      <td>sector</td>\n",
              "      <td>0.178881</td>\n",
              "    </tr>\n",
              "    <tr>\n",
              "      <th>8</th>\n",
              "      <td>servant room</td>\n",
              "      <td>0.021018</td>\n",
              "    </tr>\n",
              "    <tr>\n",
              "      <th>3</th>\n",
              "      <td>bathroom</td>\n",
              "      <td>0.019884</td>\n",
              "    </tr>\n",
              "    <tr>\n",
              "      <th>2</th>\n",
              "      <td>bedRoom</td>\n",
              "      <td>0.018006</td>\n",
              "    </tr>\n",
              "    <tr>\n",
              "      <th>5</th>\n",
              "      <td>agePossession</td>\n",
              "      <td>0.004970</td>\n",
              "    </tr>\n",
              "    <tr>\n",
              "      <th>9</th>\n",
              "      <td>store room</td>\n",
              "      <td>0.002150</td>\n",
              "    </tr>\n",
              "    <tr>\n",
              "      <th>14</th>\n",
              "      <td>floor_category</td>\n",
              "      <td>0.000907</td>\n",
              "    </tr>\n",
              "    <tr>\n",
              "      <th>11</th>\n",
              "      <td>others</td>\n",
              "      <td>0.000792</td>\n",
              "    </tr>\n",
              "    <tr>\n",
              "      <th>13</th>\n",
              "      <td>luxury_category</td>\n",
              "      <td>0.000525</td>\n",
              "    </tr>\n",
              "    <tr>\n",
              "      <th>4</th>\n",
              "      <td>balcony</td>\n",
              "      <td>-0.000432</td>\n",
              "    </tr>\n",
              "    <tr>\n",
              "      <th>10</th>\n",
              "      <td>pooja room</td>\n",
              "      <td>-0.001078</td>\n",
              "    </tr>\n",
              "    <tr>\n",
              "      <th>12</th>\n",
              "      <td>furnishing_type</td>\n",
              "      <td>-0.010475</td>\n",
              "    </tr>\n",
              "    <tr>\n",
              "      <th>7</th>\n",
              "      <td>study room</td>\n",
              "      <td>-0.018027</td>\n",
              "    </tr>\n",
              "  </tbody>\n",
              "</table>\n",
              "</div>"
            ],
            "text/plain": [
              "            feature  permutation_importance\n",
              "6     built_up_area                0.736026\n",
              "0     property_type                0.200636\n",
              "1            sector                0.178881\n",
              "8      servant room                0.021018\n",
              "3          bathroom                0.019884\n",
              "2           bedRoom                0.018006\n",
              "5     agePossession                0.004970\n",
              "9        store room                0.002150\n",
              "14   floor_category                0.000907\n",
              "11           others                0.000792\n",
              "13  luxury_category                0.000525\n",
              "4           balcony               -0.000432\n",
              "10       pooja room               -0.001078\n",
              "12  furnishing_type               -0.010475\n",
              "7        study room               -0.018027"
            ]
          },
          "execution_count": 314,
          "metadata": {},
          "output_type": "execute_result"
        }
      ],
      "source": [
        "from sklearn.inspection import permutation_importance\n",
        "from sklearn.model_selection import train_test_split\n",
        "\n",
        "X_train_label, X_test_label, y_train_label, y_test_label = train_test_split(X_label, y_label, test_size=0.2, random_state=42)\n",
        "\n",
        "# Train a Random Forest regressor on label encoded data\n",
        "rf_label = RandomForestRegressor(n_estimators=100, random_state=42)\n",
        "rf_label.fit(X_train_label, y_train_label)\n",
        "\n",
        "# Calculate Permutation Importance\n",
        "perm_importance = permutation_importance(rf_label, X_test_label, y_test_label, n_repeats=30, random_state=42)\n",
        "\n",
        "# Organize results into a DataFrame\n",
        "fi_df4 = pd.DataFrame({\n",
        "    'feature': X_label.columns,\n",
        "    'permutation_importance': perm_importance.importances_mean\n",
        "}).sort_values(by='permutation_importance', ascending=False)\n",
        "\n",
        "fi_df4"
      ]
    },
    {
      "cell_type": "markdown",
      "metadata": {
        "id": "60aef613"
      },
      "source": [
        "### Technique 5 - LASSO"
      ]
    },
    {
      "cell_type": "code",
      "execution_count": null,
      "metadata": {
        "id": "8a50cef3",
        "outputId": "80c87279-2db8-4e26-e0a1-7f639713ca17"
      },
      "outputs": [
        {
          "data": {
            "text/html": [
              "<div>\n",
              "<style scoped>\n",
              "    .dataframe tbody tr th:only-of-type {\n",
              "        vertical-align: middle;\n",
              "    }\n",
              "\n",
              "    .dataframe tbody tr th {\n",
              "        vertical-align: top;\n",
              "    }\n",
              "\n",
              "    .dataframe thead th {\n",
              "        text-align: right;\n",
              "    }\n",
              "</style>\n",
              "<table border=\"1\" class=\"dataframe\">\n",
              "  <thead>\n",
              "    <tr style=\"text-align: right;\">\n",
              "      <th></th>\n",
              "      <th>feature</th>\n",
              "      <th>lasso_coeff</th>\n",
              "    </tr>\n",
              "  </thead>\n",
              "  <tbody>\n",
              "    <tr>\n",
              "      <th>6</th>\n",
              "      <td>built_up_area</td>\n",
              "      <td>1.510173</td>\n",
              "    </tr>\n",
              "    <tr>\n",
              "      <th>0</th>\n",
              "      <td>property_type</td>\n",
              "      <td>0.713829</td>\n",
              "    </tr>\n",
              "    <tr>\n",
              "      <th>3</th>\n",
              "      <td>bathroom</td>\n",
              "      <td>0.275042</td>\n",
              "    </tr>\n",
              "    <tr>\n",
              "      <th>9</th>\n",
              "      <td>store room</td>\n",
              "      <td>0.199655</td>\n",
              "    </tr>\n",
              "    <tr>\n",
              "      <th>7</th>\n",
              "      <td>study room</td>\n",
              "      <td>0.171846</td>\n",
              "    </tr>\n",
              "    <tr>\n",
              "      <th>12</th>\n",
              "      <td>furnishing_type</td>\n",
              "      <td>0.164113</td>\n",
              "    </tr>\n",
              "    <tr>\n",
              "      <th>8</th>\n",
              "      <td>servant room</td>\n",
              "      <td>0.160601</td>\n",
              "    </tr>\n",
              "    <tr>\n",
              "      <th>10</th>\n",
              "      <td>pooja room</td>\n",
              "      <td>0.073845</td>\n",
              "    </tr>\n",
              "    <tr>\n",
              "      <th>13</th>\n",
              "      <td>luxury_category</td>\n",
              "      <td>0.055268</td>\n",
              "    </tr>\n",
              "    <tr>\n",
              "      <th>2</th>\n",
              "      <td>bedRoom</td>\n",
              "      <td>0.014170</td>\n",
              "    </tr>\n",
              "    <tr>\n",
              "      <th>5</th>\n",
              "      <td>agePossession</td>\n",
              "      <td>-0.000000</td>\n",
              "    </tr>\n",
              "    <tr>\n",
              "      <th>14</th>\n",
              "      <td>floor_category</td>\n",
              "      <td>-0.002610</td>\n",
              "    </tr>\n",
              "    <tr>\n",
              "      <th>11</th>\n",
              "      <td>others</td>\n",
              "      <td>-0.017163</td>\n",
              "    </tr>\n",
              "    <tr>\n",
              "      <th>4</th>\n",
              "      <td>balcony</td>\n",
              "      <td>-0.043562</td>\n",
              "    </tr>\n",
              "    <tr>\n",
              "      <th>1</th>\n",
              "      <td>sector</td>\n",
              "      <td>-0.069634</td>\n",
              "    </tr>\n",
              "  </tbody>\n",
              "</table>\n",
              "</div>"
            ],
            "text/plain": [
              "            feature  lasso_coeff\n",
              "6     built_up_area     1.510173\n",
              "0     property_type     0.713829\n",
              "3          bathroom     0.275042\n",
              "9        store room     0.199655\n",
              "7        study room     0.171846\n",
              "12  furnishing_type     0.164113\n",
              "8      servant room     0.160601\n",
              "10       pooja room     0.073845\n",
              "13  luxury_category     0.055268\n",
              "2           bedRoom     0.014170\n",
              "5     agePossession    -0.000000\n",
              "14   floor_category    -0.002610\n",
              "11           others    -0.017163\n",
              "4           balcony    -0.043562\n",
              "1            sector    -0.069634"
            ]
          },
          "execution_count": 315,
          "metadata": {},
          "output_type": "execute_result"
        }
      ],
      "source": [
        "from sklearn.linear_model import Lasso\n",
        "from sklearn.preprocessing import StandardScaler\n",
        "\n",
        "# Standardize the features\n",
        "scaler = StandardScaler()\n",
        "X_scaled = scaler.fit_transform(X_label)\n",
        "\n",
        "# Train a LASSO regression model\n",
        "# We'll use a relatively small value for alpha (the regularization strength) for demonstration purposes\n",
        "lasso = Lasso(alpha=0.01, random_state=42)\n",
        "lasso.fit(X_scaled, y_label)\n",
        "\n",
        "# Extract coefficients\n",
        "fi_df5 = pd.DataFrame({\n",
        "    'feature': X_label.columns,\n",
        "    'lasso_coeff': lasso.coef_\n",
        "}).sort_values(by='lasso_coeff', ascending=False)\n",
        "\n",
        "fi_df5\n"
      ]
    },
    {
      "cell_type": "markdown",
      "metadata": {
        "id": "2886c536"
      },
      "source": [
        "### Technique 6 - RFE"
      ]
    },
    {
      "cell_type": "code",
      "execution_count": null,
      "metadata": {
        "id": "d67e12af",
        "outputId": "04fc3ca3-0101-4305-b68c-b2785f558cb8"
      },
      "outputs": [
        {
          "data": {
            "text/html": [
              "<div>\n",
              "<style scoped>\n",
              "    .dataframe tbody tr th:only-of-type {\n",
              "        vertical-align: middle;\n",
              "    }\n",
              "\n",
              "    .dataframe tbody tr th {\n",
              "        vertical-align: top;\n",
              "    }\n",
              "\n",
              "    .dataframe thead th {\n",
              "        text-align: right;\n",
              "    }\n",
              "</style>\n",
              "<table border=\"1\" class=\"dataframe\">\n",
              "  <thead>\n",
              "    <tr style=\"text-align: right;\">\n",
              "      <th></th>\n",
              "      <th>feature</th>\n",
              "      <th>rfe_score</th>\n",
              "    </tr>\n",
              "  </thead>\n",
              "  <tbody>\n",
              "    <tr>\n",
              "      <th>6</th>\n",
              "      <td>built_up_area</td>\n",
              "      <td>0.650518</td>\n",
              "    </tr>\n",
              "    <tr>\n",
              "      <th>1</th>\n",
              "      <td>sector</td>\n",
              "      <td>0.101125</td>\n",
              "    </tr>\n",
              "    <tr>\n",
              "      <th>0</th>\n",
              "      <td>property_type</td>\n",
              "      <td>0.099843</td>\n",
              "    </tr>\n",
              "    <tr>\n",
              "      <th>2</th>\n",
              "      <td>bedRoom</td>\n",
              "      <td>0.028456</td>\n",
              "    </tr>\n",
              "    <tr>\n",
              "      <th>3</th>\n",
              "      <td>bathroom</td>\n",
              "      <td>0.025066</td>\n",
              "    </tr>\n",
              "    <tr>\n",
              "      <th>8</th>\n",
              "      <td>servant room</td>\n",
              "      <td>0.019660</td>\n",
              "    </tr>\n",
              "    <tr>\n",
              "      <th>5</th>\n",
              "      <td>agePossession</td>\n",
              "      <td>0.014674</td>\n",
              "    </tr>\n",
              "    <tr>\n",
              "      <th>4</th>\n",
              "      <td>balcony</td>\n",
              "      <td>0.012499</td>\n",
              "    </tr>\n",
              "    <tr>\n",
              "      <th>12</th>\n",
              "      <td>furnishing_type</td>\n",
              "      <td>0.010195</td>\n",
              "    </tr>\n",
              "    <tr>\n",
              "      <th>9</th>\n",
              "      <td>store room</td>\n",
              "      <td>0.008032</td>\n",
              "    </tr>\n",
              "    <tr>\n",
              "      <th>7</th>\n",
              "      <td>study room</td>\n",
              "      <td>0.007592</td>\n",
              "    </tr>\n",
              "    <tr>\n",
              "      <th>13</th>\n",
              "      <td>luxury_category</td>\n",
              "      <td>0.007102</td>\n",
              "    </tr>\n",
              "    <tr>\n",
              "      <th>14</th>\n",
              "      <td>floor_category</td>\n",
              "      <td>0.006921</td>\n",
              "    </tr>\n",
              "    <tr>\n",
              "      <th>10</th>\n",
              "      <td>pooja room</td>\n",
              "      <td>0.005126</td>\n",
              "    </tr>\n",
              "    <tr>\n",
              "      <th>11</th>\n",
              "      <td>others</td>\n",
              "      <td>0.003190</td>\n",
              "    </tr>\n",
              "  </tbody>\n",
              "</table>\n",
              "</div>"
            ],
            "text/plain": [
              "            feature  rfe_score\n",
              "6     built_up_area   0.650518\n",
              "1            sector   0.101125\n",
              "0     property_type   0.099843\n",
              "2           bedRoom   0.028456\n",
              "3          bathroom   0.025066\n",
              "8      servant room   0.019660\n",
              "5     agePossession   0.014674\n",
              "4           balcony   0.012499\n",
              "12  furnishing_type   0.010195\n",
              "9        store room   0.008032\n",
              "7        study room   0.007592\n",
              "13  luxury_category   0.007102\n",
              "14   floor_category   0.006921\n",
              "10       pooja room   0.005126\n",
              "11           others   0.003190"
            ]
          },
          "execution_count": 316,
          "metadata": {},
          "output_type": "execute_result"
        }
      ],
      "source": [
        "from sklearn.feature_selection import RFE\n",
        "\n",
        "# Initialize the base estimator\n",
        "estimator = RandomForestRegressor()\n",
        "\n",
        "# Apply RFE on the label-encoded and standardized training data\n",
        "selector_label = RFE(estimator, n_features_to_select=X_label.shape[1], step=1)\n",
        "selector_label = selector_label.fit(X_label, y_label)\n",
        "\n",
        "# Get the selected features based on RFE\n",
        "selected_features = X_label.columns[selector_label.support_]\n",
        "\n",
        "# Extract the coefficients for the selected features from the underlying linear regression model\n",
        "selected_coefficients = selector_label.estimator_.feature_importances_\n",
        "\n",
        "# Organize the results into a DataFrame\n",
        "fi_df6 = pd.DataFrame({\n",
        "    'feature': selected_features,\n",
        "    'rfe_score': selected_coefficients\n",
        "}).sort_values(by='rfe_score', ascending=False)\n",
        "\n",
        "fi_df6\n"
      ]
    },
    {
      "cell_type": "markdown",
      "metadata": {
        "id": "68e83ca5"
      },
      "source": [
        "### Technique 7 - Linear Regression Weights"
      ]
    },
    {
      "cell_type": "code",
      "execution_count": null,
      "metadata": {
        "id": "469c0dcd",
        "outputId": "f3162214-8667-40e3-f65f-aeaa7123a10a"
      },
      "outputs": [
        {
          "data": {
            "text/html": [
              "<div>\n",
              "<style scoped>\n",
              "    .dataframe tbody tr th:only-of-type {\n",
              "        vertical-align: middle;\n",
              "    }\n",
              "\n",
              "    .dataframe tbody tr th {\n",
              "        vertical-align: top;\n",
              "    }\n",
              "\n",
              "    .dataframe thead th {\n",
              "        text-align: right;\n",
              "    }\n",
              "</style>\n",
              "<table border=\"1\" class=\"dataframe\">\n",
              "  <thead>\n",
              "    <tr style=\"text-align: right;\">\n",
              "      <th></th>\n",
              "      <th>feature</th>\n",
              "      <th>reg_coeffs</th>\n",
              "    </tr>\n",
              "  </thead>\n",
              "  <tbody>\n",
              "    <tr>\n",
              "      <th>6</th>\n",
              "      <td>built_up_area</td>\n",
              "      <td>1.512629</td>\n",
              "    </tr>\n",
              "    <tr>\n",
              "      <th>0</th>\n",
              "      <td>property_type</td>\n",
              "      <td>0.712890</td>\n",
              "    </tr>\n",
              "    <tr>\n",
              "      <th>3</th>\n",
              "      <td>bathroom</td>\n",
              "      <td>0.281976</td>\n",
              "    </tr>\n",
              "    <tr>\n",
              "      <th>9</th>\n",
              "      <td>store room</td>\n",
              "      <td>0.204159</td>\n",
              "    </tr>\n",
              "    <tr>\n",
              "      <th>7</th>\n",
              "      <td>study room</td>\n",
              "      <td>0.180048</td>\n",
              "    </tr>\n",
              "    <tr>\n",
              "      <th>12</th>\n",
              "      <td>furnishing_type</td>\n",
              "      <td>0.173192</td>\n",
              "    </tr>\n",
              "    <tr>\n",
              "      <th>8</th>\n",
              "      <td>servant room</td>\n",
              "      <td>0.169605</td>\n",
              "    </tr>\n",
              "    <tr>\n",
              "      <th>10</th>\n",
              "      <td>pooja room</td>\n",
              "      <td>0.076893</td>\n",
              "    </tr>\n",
              "    <tr>\n",
              "      <th>13</th>\n",
              "      <td>luxury_category</td>\n",
              "      <td>0.066472</td>\n",
              "    </tr>\n",
              "    <tr>\n",
              "      <th>2</th>\n",
              "      <td>bedRoom</td>\n",
              "      <td>0.016790</td>\n",
              "    </tr>\n",
              "    <tr>\n",
              "      <th>5</th>\n",
              "      <td>agePossession</td>\n",
              "      <td>-0.002041</td>\n",
              "    </tr>\n",
              "    <tr>\n",
              "      <th>14</th>\n",
              "      <td>floor_category</td>\n",
              "      <td>-0.013482</td>\n",
              "    </tr>\n",
              "    <tr>\n",
              "      <th>11</th>\n",
              "      <td>others</td>\n",
              "      <td>-0.025155</td>\n",
              "    </tr>\n",
              "    <tr>\n",
              "      <th>4</th>\n",
              "      <td>balcony</td>\n",
              "      <td>-0.066353</td>\n",
              "    </tr>\n",
              "    <tr>\n",
              "      <th>1</th>\n",
              "      <td>sector</td>\n",
              "      <td>-0.078657</td>\n",
              "    </tr>\n",
              "  </tbody>\n",
              "</table>\n",
              "</div>"
            ],
            "text/plain": [
              "            feature  reg_coeffs\n",
              "6     built_up_area    1.512629\n",
              "0     property_type    0.712890\n",
              "3          bathroom    0.281976\n",
              "9        store room    0.204159\n",
              "7        study room    0.180048\n",
              "12  furnishing_type    0.173192\n",
              "8      servant room    0.169605\n",
              "10       pooja room    0.076893\n",
              "13  luxury_category    0.066472\n",
              "2           bedRoom    0.016790\n",
              "5     agePossession   -0.002041\n",
              "14   floor_category   -0.013482\n",
              "11           others   -0.025155\n",
              "4           balcony   -0.066353\n",
              "1            sector   -0.078657"
            ]
          },
          "execution_count": 317,
          "metadata": {},
          "output_type": "execute_result"
        }
      ],
      "source": [
        "# Train a linear regression model on the label-encoded and standardized training data\n",
        "lin_reg = LinearRegression()\n",
        "lin_reg.fit(X_scaled, y_label)\n",
        "\n",
        "# Extract coefficients\n",
        "fi_df7 = pd.DataFrame({\n",
        "    'feature': X_label.columns,\n",
        "    'reg_coeffs': lin_reg.coef_\n",
        "}).sort_values(by='reg_coeffs', ascending=False)\n",
        "\n",
        "fi_df7\n"
      ]
    },
    {
      "cell_type": "markdown",
      "metadata": {
        "id": "32164011"
      },
      "source": [
        "### Technique 8 - SHAP"
      ]
    },
    {
      "cell_type": "code",
      "execution_count": null,
      "metadata": {
        "id": "1eb5a121",
        "outputId": "93673a1b-21e9-4007-df03-cc5bd45b1bf7"
      },
      "outputs": [
        {
          "name": "stdout",
          "output_type": "stream",
          "text": [
            "Collecting shap\n",
            "  Downloading shap-0.42.1-cp39-cp39-win_amd64.whl (462 kB)\n",
            "Requirement already satisfied: pandas in c:\\users\\nitish\\anaconda3\\lib\\site-packages (from shap) (1.3.4)\n",
            "Requirement already satisfied: scikit-learn in c:\\users\\nitish\\anaconda3\\lib\\site-packages (from shap) (1.2.2)\n",
            "Requirement already satisfied: scipy in c:\\users\\nitish\\anaconda3\\lib\\site-packages (from shap) (1.7.1)\n",
            "Requirement already satisfied: packaging>20.9 in c:\\users\\nitish\\anaconda3\\lib\\site-packages (from shap) (23.1)\n",
            "Collecting slicer==0.0.7\n",
            "  Downloading slicer-0.0.7-py3-none-any.whl (14 kB)\n",
            "Requirement already satisfied: tqdm>=4.27.0 in c:\\users\\nitish\\anaconda3\\lib\\site-packages (from shap) (4.62.3)\n",
            "Requirement already satisfied: cloudpickle in c:\\users\\nitish\\anaconda3\\lib\\site-packages (from shap) (2.0.0)\n",
            "Requirement already satisfied: numpy in c:\\users\\nitish\\anaconda3\\lib\\site-packages (from shap) (1.20.3)\n",
            "Requirement already satisfied: numba in c:\\users\\nitish\\anaconda3\\lib\\site-packages (from shap) (0.54.1)\n",
            "Requirement already satisfied: colorama in c:\\users\\nitish\\anaconda3\\lib\\site-packages (from tqdm>=4.27.0->shap) (0.4.4)\n",
            "Requirement already satisfied: llvmlite<0.38,>=0.37.0rc1 in c:\\users\\nitish\\anaconda3\\lib\\site-packages (from numba->shap) (0.37.0)\n",
            "Requirement already satisfied: setuptools in c:\\users\\nitish\\anaconda3\\lib\\site-packages (from numba->shap) (58.0.4)\n",
            "Requirement already satisfied: python-dateutil>=2.7.3 in c:\\users\\nitish\\anaconda3\\lib\\site-packages (from pandas->shap) (2.8.2)\n",
            "Requirement already satisfied: pytz>=2017.3 in c:\\users\\nitish\\anaconda3\\lib\\site-packages (from pandas->shap) (2021.3)\n",
            "Requirement already satisfied: six>=1.5 in c:\\users\\nitish\\anaconda3\\lib\\site-packages (from python-dateutil>=2.7.3->pandas->shap) (1.16.0)\n",
            "Requirement already satisfied: threadpoolctl>=2.0.0 in c:\\users\\nitish\\anaconda3\\lib\\site-packages (from scikit-learn->shap) (2.2.0)\n",
            "Requirement already satisfied: joblib>=1.1.1 in c:\\users\\nitish\\anaconda3\\lib\\site-packages (from scikit-learn->shap) (1.2.0)\n",
            "Installing collected packages: slicer, shap\n",
            "Successfully installed shap-0.42.1 slicer-0.0.7\n"
          ]
        }
      ],
      "source": [
        "!pip install shap"
      ]
    },
    {
      "cell_type": "code",
      "execution_count": null,
      "metadata": {
        "id": "0dc0b849",
        "outputId": "ba11eede-e4a3-410a-a193-ad6614e58d76"
      },
      "outputs": [
        {
          "data": {
            "text/plain": [
              "array([[-0.18280672,  0.15364068, -0.03100127, ..., -0.01210578,\n",
              "        -0.00451928, -0.00929597],\n",
              "       [-0.19962295, -0.39940287, -0.04661541, ..., -0.01063123,\n",
              "        -0.00421467, -0.00290386],\n",
              "       [-0.17683491, -0.42031569, -0.04413626, ..., -0.01405243,\n",
              "        -0.01325872, -0.01564515],\n",
              "       ...,\n",
              "       [-0.18811133,  0.06870568, -0.00494967, ...,  0.0063269 ,\n",
              "         0.0152793 , -0.00421942],\n",
              "       [ 1.52000405,  1.0165926 ,  0.36049007, ...,  0.1217562 ,\n",
              "         0.03960711,  0.03998419],\n",
              "       [-0.31783172,  0.02949176, -0.02172298, ...,  0.00657933,\n",
              "        -0.00667997,  0.03740161]])"
            ]
          },
          "execution_count": 318,
          "metadata": {},
          "output_type": "execute_result"
        }
      ],
      "source": [
        "import shap\n",
        "\n",
        "# Compute SHAP values using the trained Random Forest model\n",
        "rf = RandomForestRegressor(n_estimators=100, random_state=42)\n",
        "rf.fit(X_label, y_label)\n",
        "\n",
        "explainer = shap.TreeExplainer(rf)\n",
        "shap_values = explainer.shap_values(X_label)\n",
        "\n",
        "# Summing the absolute SHAP values across all samples to get an overall measure of feature importance\n",
        "shap_sum = np.abs(shap_values).mean(axis=0)\n",
        "\n",
        "shap_values\n"
      ]
    },
    {
      "cell_type": "code",
      "execution_count": null,
      "metadata": {
        "id": "3f9a04f2",
        "outputId": "2ac487ad-0698-4a17-cd16-e54c78bbe5e9"
      },
      "outputs": [
        {
          "data": {
            "text/html": [
              "<div>\n",
              "<style scoped>\n",
              "    .dataframe tbody tr th:only-of-type {\n",
              "        vertical-align: middle;\n",
              "    }\n",
              "\n",
              "    .dataframe tbody tr th {\n",
              "        vertical-align: top;\n",
              "    }\n",
              "\n",
              "    .dataframe thead th {\n",
              "        text-align: right;\n",
              "    }\n",
              "</style>\n",
              "<table border=\"1\" class=\"dataframe\">\n",
              "  <thead>\n",
              "    <tr style=\"text-align: right;\">\n",
              "      <th></th>\n",
              "      <th>feature</th>\n",
              "      <th>SHAP_score</th>\n",
              "    </tr>\n",
              "  </thead>\n",
              "  <tbody>\n",
              "    <tr>\n",
              "      <th>6</th>\n",
              "      <td>built_up_area</td>\n",
              "      <td>1.255552</td>\n",
              "    </tr>\n",
              "    <tr>\n",
              "      <th>0</th>\n",
              "      <td>property_type</td>\n",
              "      <td>0.473110</td>\n",
              "    </tr>\n",
              "    <tr>\n",
              "      <th>1</th>\n",
              "      <td>sector</td>\n",
              "      <td>0.383640</td>\n",
              "    </tr>\n",
              "    <tr>\n",
              "      <th>3</th>\n",
              "      <td>bathroom</td>\n",
              "      <td>0.112811</td>\n",
              "    </tr>\n",
              "    <tr>\n",
              "      <th>8</th>\n",
              "      <td>servant room</td>\n",
              "      <td>0.095577</td>\n",
              "    </tr>\n",
              "    <tr>\n",
              "      <th>2</th>\n",
              "      <td>bedRoom</td>\n",
              "      <td>0.049731</td>\n",
              "    </tr>\n",
              "    <tr>\n",
              "      <th>4</th>\n",
              "      <td>balcony</td>\n",
              "      <td>0.040327</td>\n",
              "    </tr>\n",
              "    <tr>\n",
              "      <th>12</th>\n",
              "      <td>furnishing_type</td>\n",
              "      <td>0.027405</td>\n",
              "    </tr>\n",
              "    <tr>\n",
              "      <th>5</th>\n",
              "      <td>agePossession</td>\n",
              "      <td>0.027312</td>\n",
              "    </tr>\n",
              "    <tr>\n",
              "      <th>14</th>\n",
              "      <td>floor_category</td>\n",
              "      <td>0.024505</td>\n",
              "    </tr>\n",
              "    <tr>\n",
              "      <th>7</th>\n",
              "      <td>study room</td>\n",
              "      <td>0.019533</td>\n",
              "    </tr>\n",
              "    <tr>\n",
              "      <th>9</th>\n",
              "      <td>store room</td>\n",
              "      <td>0.017123</td>\n",
              "    </tr>\n",
              "    <tr>\n",
              "      <th>13</th>\n",
              "      <td>luxury_category</td>\n",
              "      <td>0.015824</td>\n",
              "    </tr>\n",
              "    <tr>\n",
              "      <th>10</th>\n",
              "      <td>pooja room</td>\n",
              "      <td>0.011505</td>\n",
              "    </tr>\n",
              "    <tr>\n",
              "      <th>11</th>\n",
              "      <td>others</td>\n",
              "      <td>0.007257</td>\n",
              "    </tr>\n",
              "  </tbody>\n",
              "</table>\n",
              "</div>"
            ],
            "text/plain": [
              "            feature  SHAP_score\n",
              "6     built_up_area    1.255552\n",
              "0     property_type    0.473110\n",
              "1            sector    0.383640\n",
              "3          bathroom    0.112811\n",
              "8      servant room    0.095577\n",
              "2           bedRoom    0.049731\n",
              "4           balcony    0.040327\n",
              "12  furnishing_type    0.027405\n",
              "5     agePossession    0.027312\n",
              "14   floor_category    0.024505\n",
              "7        study room    0.019533\n",
              "9        store room    0.017123\n",
              "13  luxury_category    0.015824\n",
              "10       pooja room    0.011505\n",
              "11           others    0.007257"
            ]
          },
          "execution_count": 319,
          "metadata": {},
          "output_type": "execute_result"
        }
      ],
      "source": [
        "fi_df8 = pd.DataFrame({\n",
        "    'feature': X_label.columns,\n",
        "    'SHAP_score': np.abs(shap_values).mean(axis=0)\n",
        "}).sort_values(by='SHAP_score', ascending=False)\n",
        "\n",
        "fi_df8"
      ]
    },
    {
      "cell_type": "code",
      "execution_count": null,
      "metadata": {
        "id": "e8f01505"
      },
      "outputs": [],
      "source": [
        "final_fi_df = fi_df1.merge(fi_df2,on='feature').merge(fi_df3,on='feature').merge(fi_df4,on='feature').merge(fi_df5,on='feature').merge(fi_df6,on='feature').merge(fi_df7,on='feature').merge(fi_df8,on='feature').set_index('feature')"
      ]
    },
    {
      "cell_type": "code",
      "execution_count": null,
      "metadata": {
        "id": "0ae5f0fa",
        "outputId": "cdbd88aa-6d64-4f97-eb97-df60b46a9a20"
      },
      "outputs": [
        {
          "data": {
            "text/html": [
              "<div>\n",
              "<style scoped>\n",
              "    .dataframe tbody tr th:only-of-type {\n",
              "        vertical-align: middle;\n",
              "    }\n",
              "\n",
              "    .dataframe tbody tr th {\n",
              "        vertical-align: top;\n",
              "    }\n",
              "\n",
              "    .dataframe thead th {\n",
              "        text-align: right;\n",
              "    }\n",
              "</style>\n",
              "<table border=\"1\" class=\"dataframe\">\n",
              "  <thead>\n",
              "    <tr style=\"text-align: right;\">\n",
              "      <th></th>\n",
              "      <th>corr_coeff</th>\n",
              "      <th>rf_importance</th>\n",
              "      <th>gb_importance</th>\n",
              "      <th>permutation_importance</th>\n",
              "      <th>lasso_coeff</th>\n",
              "      <th>rfe_score</th>\n",
              "      <th>reg_coeffs</th>\n",
              "      <th>SHAP_score</th>\n",
              "    </tr>\n",
              "    <tr>\n",
              "      <th>feature</th>\n",
              "      <th></th>\n",
              "      <th></th>\n",
              "      <th></th>\n",
              "      <th></th>\n",
              "      <th></th>\n",
              "      <th></th>\n",
              "      <th></th>\n",
              "      <th></th>\n",
              "    </tr>\n",
              "  </thead>\n",
              "  <tbody>\n",
              "    <tr>\n",
              "      <th>sector</th>\n",
              "      <td>-0.212084</td>\n",
              "      <td>0.102670</td>\n",
              "      <td>0.102730</td>\n",
              "      <td>0.178881</td>\n",
              "      <td>-0.069634</td>\n",
              "      <td>0.101125</td>\n",
              "      <td>-0.078657</td>\n",
              "      <td>0.383640</td>\n",
              "    </tr>\n",
              "    <tr>\n",
              "      <th>bedRoom</th>\n",
              "      <td>0.591289</td>\n",
              "      <td>0.024041</td>\n",
              "      <td>0.037717</td>\n",
              "      <td>0.018006</td>\n",
              "      <td>0.014170</td>\n",
              "      <td>0.028456</td>\n",
              "      <td>0.016790</td>\n",
              "      <td>0.049731</td>\n",
              "    </tr>\n",
              "    <tr>\n",
              "      <th>bathroom</th>\n",
              "      <td>0.609777</td>\n",
              "      <td>0.025882</td>\n",
              "      <td>0.036402</td>\n",
              "      <td>0.019884</td>\n",
              "      <td>0.275042</td>\n",
              "      <td>0.025066</td>\n",
              "      <td>0.281976</td>\n",
              "      <td>0.112811</td>\n",
              "    </tr>\n",
              "    <tr>\n",
              "      <th>balcony</th>\n",
              "      <td>0.269637</td>\n",
              "      <td>0.012576</td>\n",
              "      <td>0.001922</td>\n",
              "      <td>-0.000432</td>\n",
              "      <td>-0.043562</td>\n",
              "      <td>0.012499</td>\n",
              "      <td>-0.066353</td>\n",
              "      <td>0.040327</td>\n",
              "    </tr>\n",
              "    <tr>\n",
              "      <th>agePossession</th>\n",
              "      <td>-0.134171</td>\n",
              "      <td>0.014519</td>\n",
              "      <td>0.004332</td>\n",
              "      <td>0.004970</td>\n",
              "      <td>-0.000000</td>\n",
              "      <td>0.014674</td>\n",
              "      <td>-0.002041</td>\n",
              "      <td>0.027312</td>\n",
              "    </tr>\n",
              "    <tr>\n",
              "      <th>built_up_area</th>\n",
              "      <td>0.748574</td>\n",
              "      <td>0.650541</td>\n",
              "      <td>0.677623</td>\n",
              "      <td>0.736026</td>\n",
              "      <td>1.510173</td>\n",
              "      <td>0.650518</td>\n",
              "      <td>1.512629</td>\n",
              "      <td>1.255552</td>\n",
              "    </tr>\n",
              "    <tr>\n",
              "      <th>study room</th>\n",
              "      <td>0.242955</td>\n",
              "      <td>0.008383</td>\n",
              "      <td>0.003033</td>\n",
              "      <td>-0.018027</td>\n",
              "      <td>0.171846</td>\n",
              "      <td>0.007592</td>\n",
              "      <td>0.180048</td>\n",
              "      <td>0.019533</td>\n",
              "    </tr>\n",
              "    <tr>\n",
              "      <th>servant room</th>\n",
              "      <td>0.391930</td>\n",
              "      <td>0.019320</td>\n",
              "      <td>0.023342</td>\n",
              "      <td>0.021018</td>\n",
              "      <td>0.160601</td>\n",
              "      <td>0.019660</td>\n",
              "      <td>0.169605</td>\n",
              "      <td>0.095577</td>\n",
              "    </tr>\n",
              "    <tr>\n",
              "      <th>store room</th>\n",
              "      <td>0.305677</td>\n",
              "      <td>0.008329</td>\n",
              "      <td>0.010356</td>\n",
              "      <td>0.002150</td>\n",
              "      <td>0.199655</td>\n",
              "      <td>0.008032</td>\n",
              "      <td>0.204159</td>\n",
              "      <td>0.017123</td>\n",
              "    </tr>\n",
              "    <tr>\n",
              "      <th>pooja room</th>\n",
              "      <td>0.319852</td>\n",
              "      <td>0.006126</td>\n",
              "      <td>0.000331</td>\n",
              "      <td>-0.001078</td>\n",
              "      <td>0.073845</td>\n",
              "      <td>0.005126</td>\n",
              "      <td>0.076893</td>\n",
              "      <td>0.011505</td>\n",
              "    </tr>\n",
              "    <tr>\n",
              "      <th>others</th>\n",
              "      <td>-0.013064</td>\n",
              "      <td>0.002772</td>\n",
              "      <td>0.000194</td>\n",
              "      <td>0.000792</td>\n",
              "      <td>-0.017163</td>\n",
              "      <td>0.003190</td>\n",
              "      <td>-0.025155</td>\n",
              "      <td>0.007257</td>\n",
              "    </tr>\n",
              "    <tr>\n",
              "      <th>furnishing_type</th>\n",
              "      <td>0.225625</td>\n",
              "      <td>0.010604</td>\n",
              "      <td>0.002649</td>\n",
              "      <td>-0.010475</td>\n",
              "      <td>0.164113</td>\n",
              "      <td>0.010195</td>\n",
              "      <td>0.173192</td>\n",
              "      <td>0.027405</td>\n",
              "    </tr>\n",
              "    <tr>\n",
              "      <th>luxury_category</th>\n",
              "      <td>0.009788</td>\n",
              "      <td>0.007605</td>\n",
              "      <td>0.000317</td>\n",
              "      <td>0.000525</td>\n",
              "      <td>0.055268</td>\n",
              "      <td>0.007102</td>\n",
              "      <td>0.066472</td>\n",
              "      <td>0.015824</td>\n",
              "    </tr>\n",
              "    <tr>\n",
              "      <th>floor_category</th>\n",
              "      <td>0.042745</td>\n",
              "      <td>0.006552</td>\n",
              "      <td>0.000608</td>\n",
              "      <td>0.000907</td>\n",
              "      <td>-0.002610</td>\n",
              "      <td>0.006921</td>\n",
              "      <td>-0.013482</td>\n",
              "      <td>0.024505</td>\n",
              "    </tr>\n",
              "  </tbody>\n",
              "</table>\n",
              "</div>"
            ],
            "text/plain": [
              "                 corr_coeff  rf_importance  gb_importance  \\\n",
              "feature                                                     \n",
              "sector            -0.212084       0.102670       0.102730   \n",
              "bedRoom            0.591289       0.024041       0.037717   \n",
              "bathroom           0.609777       0.025882       0.036402   \n",
              "balcony            0.269637       0.012576       0.001922   \n",
              "agePossession     -0.134171       0.014519       0.004332   \n",
              "built_up_area      0.748574       0.650541       0.677623   \n",
              "study room         0.242955       0.008383       0.003033   \n",
              "servant room       0.391930       0.019320       0.023342   \n",
              "store room         0.305677       0.008329       0.010356   \n",
              "pooja room         0.319852       0.006126       0.000331   \n",
              "others            -0.013064       0.002772       0.000194   \n",
              "furnishing_type    0.225625       0.010604       0.002649   \n",
              "luxury_category    0.009788       0.007605       0.000317   \n",
              "floor_category     0.042745       0.006552       0.000608   \n",
              "\n",
              "                 permutation_importance  lasso_coeff  rfe_score  reg_coeffs  \\\n",
              "feature                                                                       \n",
              "sector                         0.178881    -0.069634   0.101125   -0.078657   \n",
              "bedRoom                        0.018006     0.014170   0.028456    0.016790   \n",
              "bathroom                       0.019884     0.275042   0.025066    0.281976   \n",
              "balcony                       -0.000432    -0.043562   0.012499   -0.066353   \n",
              "agePossession                  0.004970    -0.000000   0.014674   -0.002041   \n",
              "built_up_area                  0.736026     1.510173   0.650518    1.512629   \n",
              "study room                    -0.018027     0.171846   0.007592    0.180048   \n",
              "servant room                   0.021018     0.160601   0.019660    0.169605   \n",
              "store room                     0.002150     0.199655   0.008032    0.204159   \n",
              "pooja room                    -0.001078     0.073845   0.005126    0.076893   \n",
              "others                         0.000792    -0.017163   0.003190   -0.025155   \n",
              "furnishing_type               -0.010475     0.164113   0.010195    0.173192   \n",
              "luxury_category                0.000525     0.055268   0.007102    0.066472   \n",
              "floor_category                 0.000907    -0.002610   0.006921   -0.013482   \n",
              "\n",
              "                 SHAP_score  \n",
              "feature                      \n",
              "sector             0.383640  \n",
              "bedRoom            0.049731  \n",
              "bathroom           0.112811  \n",
              "balcony            0.040327  \n",
              "agePossession      0.027312  \n",
              "built_up_area      1.255552  \n",
              "study room         0.019533  \n",
              "servant room       0.095577  \n",
              "store room         0.017123  \n",
              "pooja room         0.011505  \n",
              "others             0.007257  \n",
              "furnishing_type    0.027405  \n",
              "luxury_category    0.015824  \n",
              "floor_category     0.024505  "
            ]
          },
          "execution_count": 321,
          "metadata": {},
          "output_type": "execute_result"
        }
      ],
      "source": [
        "final_fi_df\n"
      ]
    },
    {
      "cell_type": "code",
      "execution_count": null,
      "metadata": {
        "id": "6918463d"
      },
      "outputs": [],
      "source": [
        "# normalize the score\n",
        "final_fi_df = final_fi_df.divide(final_fi_df.sum(axis=0), axis=1)"
      ]
    },
    {
      "cell_type": "code",
      "execution_count": null,
      "metadata": {
        "id": "cfd5e449",
        "outputId": "cdcdc942-e328-44b6-c0b4-8a3e8f95907a"
      },
      "outputs": [
        {
          "data": {
            "text/plain": [
              "feature\n",
              "built_up_area      0.714134\n",
              "sector             0.142355\n",
              "bathroom           0.034374\n",
              "bedRoom            0.028574\n",
              "servant room       0.027405\n",
              "agePossession      0.011107\n",
              "balcony            0.009770\n",
              "store room         0.008024\n",
              "floor_category     0.005666\n",
              "furnishing_type    0.005637\n",
              "luxury_category    0.004964\n",
              "pooja room         0.003450\n",
              "study room         0.002311\n",
              "others             0.002229\n",
              "dtype: float64"
            ]
          },
          "execution_count": 347,
          "metadata": {},
          "output_type": "execute_result"
        }
      ],
      "source": [
        "final_fi_df[['rf_importance','gb_importance','permutation_importance','rfe_score','SHAP_score']].mean(axis=1).sort_values(ascending=False)"
      ]
    },
    {
      "cell_type": "code",
      "execution_count": null,
      "metadata": {
        "id": "c9459532",
        "outputId": "c29eed49-42c1-4cbe-dad8-bee8e7e35f8f"
      },
      "outputs": [
        {
          "data": {
            "text/html": [
              "<div>\n",
              "<style scoped>\n",
              "    .dataframe tbody tr th:only-of-type {\n",
              "        vertical-align: middle;\n",
              "    }\n",
              "\n",
              "    .dataframe tbody tr th {\n",
              "        vertical-align: top;\n",
              "    }\n",
              "\n",
              "    .dataframe thead th {\n",
              "        text-align: right;\n",
              "    }\n",
              "</style>\n",
              "<table border=\"1\" class=\"dataframe\">\n",
              "  <thead>\n",
              "    <tr style=\"text-align: right;\">\n",
              "      <th></th>\n",
              "      <th>property_type</th>\n",
              "      <th>sector</th>\n",
              "      <th>bedRoom</th>\n",
              "      <th>bathroom</th>\n",
              "      <th>balcony</th>\n",
              "      <th>agePossession</th>\n",
              "      <th>built_up_area</th>\n",
              "      <th>study room</th>\n",
              "      <th>servant room</th>\n",
              "      <th>store room</th>\n",
              "      <th>pooja room</th>\n",
              "      <th>others</th>\n",
              "      <th>furnishing_type</th>\n",
              "      <th>luxury_category</th>\n",
              "      <th>floor_category</th>\n",
              "    </tr>\n",
              "  </thead>\n",
              "  <tbody>\n",
              "    <tr>\n",
              "      <th>0</th>\n",
              "      <td>0.0</td>\n",
              "      <td>36.0</td>\n",
              "      <td>3.0</td>\n",
              "      <td>2.0</td>\n",
              "      <td>2.0</td>\n",
              "      <td>1.0</td>\n",
              "      <td>850.0</td>\n",
              "      <td>0.0</td>\n",
              "      <td>0.0</td>\n",
              "      <td>0.0</td>\n",
              "      <td>0.0</td>\n",
              "      <td>0.0</td>\n",
              "      <td>0.0</td>\n",
              "      <td>1.0</td>\n",
              "      <td>1.0</td>\n",
              "    </tr>\n",
              "    <tr>\n",
              "      <th>1</th>\n",
              "      <td>0.0</td>\n",
              "      <td>95.0</td>\n",
              "      <td>2.0</td>\n",
              "      <td>2.0</td>\n",
              "      <td>2.0</td>\n",
              "      <td>1.0</td>\n",
              "      <td>1226.0</td>\n",
              "      <td>1.0</td>\n",
              "      <td>1.0</td>\n",
              "      <td>0.0</td>\n",
              "      <td>0.0</td>\n",
              "      <td>0.0</td>\n",
              "      <td>0.0</td>\n",
              "      <td>1.0</td>\n",
              "      <td>2.0</td>\n",
              "    </tr>\n",
              "    <tr>\n",
              "      <th>2</th>\n",
              "      <td>0.0</td>\n",
              "      <td>103.0</td>\n",
              "      <td>2.0</td>\n",
              "      <td>2.0</td>\n",
              "      <td>1.0</td>\n",
              "      <td>1.0</td>\n",
              "      <td>1000.0</td>\n",
              "      <td>0.0</td>\n",
              "      <td>0.0</td>\n",
              "      <td>0.0</td>\n",
              "      <td>0.0</td>\n",
              "      <td>0.0</td>\n",
              "      <td>0.0</td>\n",
              "      <td>1.0</td>\n",
              "      <td>0.0</td>\n",
              "    </tr>\n",
              "    <tr>\n",
              "      <th>3</th>\n",
              "      <td>0.0</td>\n",
              "      <td>99.0</td>\n",
              "      <td>3.0</td>\n",
              "      <td>4.0</td>\n",
              "      <td>4.0</td>\n",
              "      <td>3.0</td>\n",
              "      <td>1615.0</td>\n",
              "      <td>0.0</td>\n",
              "      <td>1.0</td>\n",
              "      <td>0.0</td>\n",
              "      <td>0.0</td>\n",
              "      <td>1.0</td>\n",
              "      <td>1.0</td>\n",
              "      <td>0.0</td>\n",
              "      <td>2.0</td>\n",
              "    </tr>\n",
              "    <tr>\n",
              "      <th>4</th>\n",
              "      <td>0.0</td>\n",
              "      <td>5.0</td>\n",
              "      <td>2.0</td>\n",
              "      <td>2.0</td>\n",
              "      <td>1.0</td>\n",
              "      <td>3.0</td>\n",
              "      <td>582.0</td>\n",
              "      <td>0.0</td>\n",
              "      <td>0.0</td>\n",
              "      <td>1.0</td>\n",
              "      <td>0.0</td>\n",
              "      <td>0.0</td>\n",
              "      <td>0.0</td>\n",
              "      <td>0.0</td>\n",
              "      <td>2.0</td>\n",
              "    </tr>\n",
              "    <tr>\n",
              "      <th>...</th>\n",
              "      <td>...</td>\n",
              "      <td>...</td>\n",
              "      <td>...</td>\n",
              "      <td>...</td>\n",
              "      <td>...</td>\n",
              "      <td>...</td>\n",
              "      <td>...</td>\n",
              "      <td>...</td>\n",
              "      <td>...</td>\n",
              "      <td>...</td>\n",
              "      <td>...</td>\n",
              "      <td>...</td>\n",
              "      <td>...</td>\n",
              "      <td>...</td>\n",
              "      <td>...</td>\n",
              "    </tr>\n",
              "    <tr>\n",
              "      <th>3549</th>\n",
              "      <td>0.0</td>\n",
              "      <td>90.0</td>\n",
              "      <td>2.0</td>\n",
              "      <td>2.0</td>\n",
              "      <td>1.0</td>\n",
              "      <td>3.0</td>\n",
              "      <td>532.0</td>\n",
              "      <td>0.0</td>\n",
              "      <td>0.0</td>\n",
              "      <td>0.0</td>\n",
              "      <td>0.0</td>\n",
              "      <td>0.0</td>\n",
              "      <td>0.0</td>\n",
              "      <td>2.0</td>\n",
              "      <td>2.0</td>\n",
              "    </tr>\n",
              "    <tr>\n",
              "      <th>3550</th>\n",
              "      <td>1.0</td>\n",
              "      <td>12.0</td>\n",
              "      <td>5.0</td>\n",
              "      <td>5.0</td>\n",
              "      <td>4.0</td>\n",
              "      <td>3.0</td>\n",
              "      <td>6228.0</td>\n",
              "      <td>1.0</td>\n",
              "      <td>1.0</td>\n",
              "      <td>1.0</td>\n",
              "      <td>1.0</td>\n",
              "      <td>0.0</td>\n",
              "      <td>0.0</td>\n",
              "      <td>0.0</td>\n",
              "      <td>1.0</td>\n",
              "    </tr>\n",
              "    <tr>\n",
              "      <th>3551</th>\n",
              "      <td>0.0</td>\n",
              "      <td>23.0</td>\n",
              "      <td>1.0</td>\n",
              "      <td>1.0</td>\n",
              "      <td>1.0</td>\n",
              "      <td>0.0</td>\n",
              "      <td>665.0</td>\n",
              "      <td>0.0</td>\n",
              "      <td>0.0</td>\n",
              "      <td>0.0</td>\n",
              "      <td>0.0</td>\n",
              "      <td>0.0</td>\n",
              "      <td>1.0</td>\n",
              "      <td>2.0</td>\n",
              "      <td>2.0</td>\n",
              "    </tr>\n",
              "    <tr>\n",
              "      <th>3552</th>\n",
              "      <td>1.0</td>\n",
              "      <td>44.0</td>\n",
              "      <td>5.0</td>\n",
              "      <td>6.0</td>\n",
              "      <td>3.0</td>\n",
              "      <td>0.0</td>\n",
              "      <td>5490.0</td>\n",
              "      <td>1.0</td>\n",
              "      <td>1.0</td>\n",
              "      <td>1.0</td>\n",
              "      <td>1.0</td>\n",
              "      <td>0.0</td>\n",
              "      <td>0.0</td>\n",
              "      <td>2.0</td>\n",
              "      <td>2.0</td>\n",
              "    </tr>\n",
              "    <tr>\n",
              "      <th>3553</th>\n",
              "      <td>0.0</td>\n",
              "      <td>71.0</td>\n",
              "      <td>3.0</td>\n",
              "      <td>3.0</td>\n",
              "      <td>4.0</td>\n",
              "      <td>3.0</td>\n",
              "      <td>1845.0</td>\n",
              "      <td>0.0</td>\n",
              "      <td>0.0</td>\n",
              "      <td>0.0</td>\n",
              "      <td>0.0</td>\n",
              "      <td>0.0</td>\n",
              "      <td>1.0</td>\n",
              "      <td>2.0</td>\n",
              "      <td>0.0</td>\n",
              "    </tr>\n",
              "  </tbody>\n",
              "</table>\n",
              "<p>3554 rows × 15 columns</p>\n",
              "</div>"
            ],
            "text/plain": [
              "      property_type  sector  bedRoom  bathroom  balcony  agePossession  \\\n",
              "0               0.0    36.0      3.0       2.0      2.0            1.0   \n",
              "1               0.0    95.0      2.0       2.0      2.0            1.0   \n",
              "2               0.0   103.0      2.0       2.0      1.0            1.0   \n",
              "3               0.0    99.0      3.0       4.0      4.0            3.0   \n",
              "4               0.0     5.0      2.0       2.0      1.0            3.0   \n",
              "...             ...     ...      ...       ...      ...            ...   \n",
              "3549            0.0    90.0      2.0       2.0      1.0            3.0   \n",
              "3550            1.0    12.0      5.0       5.0      4.0            3.0   \n",
              "3551            0.0    23.0      1.0       1.0      1.0            0.0   \n",
              "3552            1.0    44.0      5.0       6.0      3.0            0.0   \n",
              "3553            0.0    71.0      3.0       3.0      4.0            3.0   \n",
              "\n",
              "      built_up_area  study room  servant room  store room  pooja room  others  \\\n",
              "0             850.0         0.0           0.0         0.0         0.0     0.0   \n",
              "1            1226.0         1.0           1.0         0.0         0.0     0.0   \n",
              "2            1000.0         0.0           0.0         0.0         0.0     0.0   \n",
              "3            1615.0         0.0           1.0         0.0         0.0     1.0   \n",
              "4             582.0         0.0           0.0         1.0         0.0     0.0   \n",
              "...             ...         ...           ...         ...         ...     ...   \n",
              "3549          532.0         0.0           0.0         0.0         0.0     0.0   \n",
              "3550         6228.0         1.0           1.0         1.0         1.0     0.0   \n",
              "3551          665.0         0.0           0.0         0.0         0.0     0.0   \n",
              "3552         5490.0         1.0           1.0         1.0         1.0     0.0   \n",
              "3553         1845.0         0.0           0.0         0.0         0.0     0.0   \n",
              "\n",
              "      furnishing_type  luxury_category  floor_category  \n",
              "0                 0.0              1.0             1.0  \n",
              "1                 0.0              1.0             2.0  \n",
              "2                 0.0              1.0             0.0  \n",
              "3                 1.0              0.0             2.0  \n",
              "4                 0.0              0.0             2.0  \n",
              "...               ...              ...             ...  \n",
              "3549              0.0              2.0             2.0  \n",
              "3550              0.0              0.0             1.0  \n",
              "3551              1.0              2.0             2.0  \n",
              "3552              0.0              2.0             2.0  \n",
              "3553              1.0              2.0             0.0  \n",
              "\n",
              "[3554 rows x 15 columns]"
            ]
          },
          "execution_count": 324,
          "metadata": {},
          "output_type": "execute_result"
        }
      ],
      "source": [
        "# to drop pooja room, study room, others\n",
        "X_label"
      ]
    },
    {
      "cell_type": "code",
      "execution_count": null,
      "metadata": {
        "id": "c0ae35b1"
      },
      "outputs": [],
      "source": [
        "# with all the cols\n",
        "from sklearn.model_selection import cross_val_score\n",
        "\n",
        "rf = RandomForestRegressor(n_estimators=100, random_state=42)\n",
        "\n",
        "scores = cross_val_score(rf, X_label, y_label, cv=5, scoring='r2')"
      ]
    },
    {
      "cell_type": "code",
      "execution_count": null,
      "metadata": {
        "id": "92477cec",
        "outputId": "8b09f3f9-fb2e-45e0-880f-9e57bef30365"
      },
      "outputs": [
        {
          "data": {
            "text/plain": [
              "0.8193190510339333"
            ]
          },
          "execution_count": 326,
          "metadata": {},
          "output_type": "execute_result"
        }
      ],
      "source": [
        "scores.mean()"
      ]
    },
    {
      "cell_type": "code",
      "execution_count": null,
      "metadata": {
        "id": "7a629a9f"
      },
      "outputs": [],
      "source": [
        "rf = RandomForestRegressor(n_estimators=100, random_state=42)\n",
        "\n",
        "scores = cross_val_score(rf, X_label.drop(columns=['pooja room', 'study room', 'others']), y_label, cv=5, scoring='r2')"
      ]
    },
    {
      "cell_type": "code",
      "execution_count": null,
      "metadata": {
        "id": "0e74dc73",
        "outputId": "70252912-d330-4fe4-fd44-0e2514fe8ad6"
      },
      "outputs": [
        {
          "data": {
            "text/plain": [
              "0.8196500940616491"
            ]
          },
          "execution_count": 276,
          "metadata": {},
          "output_type": "execute_result"
        }
      ],
      "source": [
        "scores.mean()"
      ]
    },
    {
      "cell_type": "code",
      "execution_count": null,
      "metadata": {
        "id": "aa6d5e6d"
      },
      "outputs": [],
      "source": [
        "export_df = X_label.drop(columns=['pooja room', 'study room', 'others'])\n",
        "export_df['price'] = y_label"
      ]
    },
    {
      "cell_type": "code",
      "execution_count": null,
      "metadata": {
        "id": "43b87e80"
      },
      "outputs": [],
      "source": [
        "export_df.to_csv('gurgaon_properties_post_feature_selection.csv', index=False)"
      ]
    },
    {
      "cell_type": "code",
      "execution_count": null,
      "metadata": {
        "id": "bc9bdc46",
        "outputId": "e3bad218-c6e6-4b20-8266-3da050925ac4"
      },
      "outputs": [
        {
          "data": {
            "text/html": [
              "<div>\n",
              "<style scoped>\n",
              "    .dataframe tbody tr th:only-of-type {\n",
              "        vertical-align: middle;\n",
              "    }\n",
              "\n",
              "    .dataframe tbody tr th {\n",
              "        vertical-align: top;\n",
              "    }\n",
              "\n",
              "    .dataframe thead th {\n",
              "        text-align: right;\n",
              "    }\n",
              "</style>\n",
              "<table border=\"1\" class=\"dataframe\">\n",
              "  <thead>\n",
              "    <tr style=\"text-align: right;\">\n",
              "      <th></th>\n",
              "      <th>property_type</th>\n",
              "      <th>sector</th>\n",
              "      <th>bedRoom</th>\n",
              "      <th>bathroom</th>\n",
              "      <th>balcony</th>\n",
              "      <th>agePossession</th>\n",
              "      <th>built_up_area</th>\n",
              "      <th>servant room</th>\n",
              "      <th>store room</th>\n",
              "      <th>furnishing_type</th>\n",
              "      <th>luxury_category</th>\n",
              "      <th>floor_category</th>\n",
              "      <th>price</th>\n",
              "    </tr>\n",
              "  </thead>\n",
              "  <tbody>\n",
              "    <tr>\n",
              "      <th>0</th>\n",
              "      <td>0</td>\n",
              "      <td>36</td>\n",
              "      <td>3.0</td>\n",
              "      <td>2.0</td>\n",
              "      <td>2</td>\n",
              "      <td>1</td>\n",
              "      <td>850.0</td>\n",
              "      <td>0.0</td>\n",
              "      <td>0.0</td>\n",
              "      <td>0.0</td>\n",
              "      <td>1</td>\n",
              "      <td>1</td>\n",
              "      <td>0.82</td>\n",
              "    </tr>\n",
              "    <tr>\n",
              "      <th>1</th>\n",
              "      <td>0</td>\n",
              "      <td>95</td>\n",
              "      <td>2.0</td>\n",
              "      <td>2.0</td>\n",
              "      <td>2</td>\n",
              "      <td>1</td>\n",
              "      <td>1226.0</td>\n",
              "      <td>1.0</td>\n",
              "      <td>0.0</td>\n",
              "      <td>0.0</td>\n",
              "      <td>1</td>\n",
              "      <td>2</td>\n",
              "      <td>0.95</td>\n",
              "    </tr>\n",
              "    <tr>\n",
              "      <th>2</th>\n",
              "      <td>0</td>\n",
              "      <td>103</td>\n",
              "      <td>2.0</td>\n",
              "      <td>2.0</td>\n",
              "      <td>1</td>\n",
              "      <td>1</td>\n",
              "      <td>1000.0</td>\n",
              "      <td>0.0</td>\n",
              "      <td>0.0</td>\n",
              "      <td>0.0</td>\n",
              "      <td>1</td>\n",
              "      <td>0</td>\n",
              "      <td>0.32</td>\n",
              "    </tr>\n",
              "    <tr>\n",
              "      <th>3</th>\n",
              "      <td>0</td>\n",
              "      <td>99</td>\n",
              "      <td>3.0</td>\n",
              "      <td>4.0</td>\n",
              "      <td>4</td>\n",
              "      <td>3</td>\n",
              "      <td>1615.0</td>\n",
              "      <td>1.0</td>\n",
              "      <td>0.0</td>\n",
              "      <td>1.0</td>\n",
              "      <td>0</td>\n",
              "      <td>2</td>\n",
              "      <td>1.60</td>\n",
              "    </tr>\n",
              "    <tr>\n",
              "      <th>4</th>\n",
              "      <td>0</td>\n",
              "      <td>5</td>\n",
              "      <td>2.0</td>\n",
              "      <td>2.0</td>\n",
              "      <td>1</td>\n",
              "      <td>3</td>\n",
              "      <td>582.0</td>\n",
              "      <td>0.0</td>\n",
              "      <td>1.0</td>\n",
              "      <td>0.0</td>\n",
              "      <td>0</td>\n",
              "      <td>2</td>\n",
              "      <td>0.48</td>\n",
              "    </tr>\n",
              "    <tr>\n",
              "      <th>...</th>\n",
              "      <td>...</td>\n",
              "      <td>...</td>\n",
              "      <td>...</td>\n",
              "      <td>...</td>\n",
              "      <td>...</td>\n",
              "      <td>...</td>\n",
              "      <td>...</td>\n",
              "      <td>...</td>\n",
              "      <td>...</td>\n",
              "      <td>...</td>\n",
              "      <td>...</td>\n",
              "      <td>...</td>\n",
              "      <td>...</td>\n",
              "    </tr>\n",
              "    <tr>\n",
              "      <th>3549</th>\n",
              "      <td>0</td>\n",
              "      <td>90</td>\n",
              "      <td>2.0</td>\n",
              "      <td>2.0</td>\n",
              "      <td>1</td>\n",
              "      <td>3</td>\n",
              "      <td>532.0</td>\n",
              "      <td>0.0</td>\n",
              "      <td>0.0</td>\n",
              "      <td>0.0</td>\n",
              "      <td>2</td>\n",
              "      <td>2</td>\n",
              "      <td>0.37</td>\n",
              "    </tr>\n",
              "    <tr>\n",
              "      <th>3550</th>\n",
              "      <td>1</td>\n",
              "      <td>12</td>\n",
              "      <td>5.0</td>\n",
              "      <td>5.0</td>\n",
              "      <td>4</td>\n",
              "      <td>3</td>\n",
              "      <td>6228.0</td>\n",
              "      <td>1.0</td>\n",
              "      <td>1.0</td>\n",
              "      <td>0.0</td>\n",
              "      <td>0</td>\n",
              "      <td>1</td>\n",
              "      <td>6.00</td>\n",
              "    </tr>\n",
              "    <tr>\n",
              "      <th>3551</th>\n",
              "      <td>0</td>\n",
              "      <td>23</td>\n",
              "      <td>1.0</td>\n",
              "      <td>1.0</td>\n",
              "      <td>1</td>\n",
              "      <td>0</td>\n",
              "      <td>665.0</td>\n",
              "      <td>0.0</td>\n",
              "      <td>0.0</td>\n",
              "      <td>1.0</td>\n",
              "      <td>2</td>\n",
              "      <td>2</td>\n",
              "      <td>0.60</td>\n",
              "    </tr>\n",
              "    <tr>\n",
              "      <th>3552</th>\n",
              "      <td>1</td>\n",
              "      <td>44</td>\n",
              "      <td>5.0</td>\n",
              "      <td>6.0</td>\n",
              "      <td>3</td>\n",
              "      <td>0</td>\n",
              "      <td>5490.0</td>\n",
              "      <td>1.0</td>\n",
              "      <td>1.0</td>\n",
              "      <td>0.0</td>\n",
              "      <td>2</td>\n",
              "      <td>2</td>\n",
              "      <td>15.50</td>\n",
              "    </tr>\n",
              "    <tr>\n",
              "      <th>3553</th>\n",
              "      <td>0</td>\n",
              "      <td>71</td>\n",
              "      <td>3.0</td>\n",
              "      <td>3.0</td>\n",
              "      <td>4</td>\n",
              "      <td>3</td>\n",
              "      <td>1845.0</td>\n",
              "      <td>0.0</td>\n",
              "      <td>0.0</td>\n",
              "      <td>1.0</td>\n",
              "      <td>2</td>\n",
              "      <td>0</td>\n",
              "      <td>1.78</td>\n",
              "    </tr>\n",
              "  </tbody>\n",
              "</table>\n",
              "<p>3554 rows × 13 columns</p>\n",
              "</div>"
            ],
            "text/plain": [
              "      property_type  sector  bedRoom  bathroom  balcony  agePossession  \\\n",
              "0                 0      36      3.0       2.0        2              1   \n",
              "1                 0      95      2.0       2.0        2              1   \n",
              "2                 0     103      2.0       2.0        1              1   \n",
              "3                 0      99      3.0       4.0        4              3   \n",
              "4                 0       5      2.0       2.0        1              3   \n",
              "...             ...     ...      ...       ...      ...            ...   \n",
              "3549              0      90      2.0       2.0        1              3   \n",
              "3550              1      12      5.0       5.0        4              3   \n",
              "3551              0      23      1.0       1.0        1              0   \n",
              "3552              1      44      5.0       6.0        3              0   \n",
              "3553              0      71      3.0       3.0        4              3   \n",
              "\n",
              "      built_up_area  servant room  store room  furnishing_type  \\\n",
              "0             850.0           0.0         0.0              0.0   \n",
              "1            1226.0           1.0         0.0              0.0   \n",
              "2            1000.0           0.0         0.0              0.0   \n",
              "3            1615.0           1.0         0.0              1.0   \n",
              "4             582.0           0.0         1.0              0.0   \n",
              "...             ...           ...         ...              ...   \n",
              "3549          532.0           0.0         0.0              0.0   \n",
              "3550         6228.0           1.0         1.0              0.0   \n",
              "3551          665.0           0.0         0.0              1.0   \n",
              "3552         5490.0           1.0         1.0              0.0   \n",
              "3553         1845.0           0.0         0.0              1.0   \n",
              "\n",
              "      luxury_category  floor_category  price  \n",
              "0                   1               1   0.82  \n",
              "1                   1               2   0.95  \n",
              "2                   1               0   0.32  \n",
              "3                   0               2   1.60  \n",
              "4                   0               2   0.48  \n",
              "...               ...             ...    ...  \n",
              "3549                2               2   0.37  \n",
              "3550                0               1   6.00  \n",
              "3551                2               2   0.60  \n",
              "3552                2               2  15.50  \n",
              "3553                2               0   1.78  \n",
              "\n",
              "[3554 rows x 13 columns]"
            ]
          },
          "execution_count": 348,
          "metadata": {},
          "output_type": "execute_result"
        }
      ],
      "source": [
        "export_df"
      ]
    },
    {
      "cell_type": "markdown",
      "source": [
        "file -2 baseline model"
      ],
      "metadata": {
        "id": "P9Q2gEbfC6zJ"
      }
    },
    {
      "cell_type": "markdown",
      "source": [
        "on gurgaon_properties_post_feature_selection.csv"
      ],
      "metadata": {
        "id": "PLIOLq_dDD6z"
      }
    },
    {
      "cell_type": "code",
      "execution_count": null,
      "metadata": {
        "id": "05488086"
      },
      "outputs": [],
      "source": []
    },
    {
      "cell_type": "code",
      "execution_count": null,
      "metadata": {
        "id": "d2156010"
      },
      "outputs": [],
      "source": [
        "import numpy as np\n",
        "import pandas as pd"
      ]
    },
    {
      "cell_type": "code",
      "execution_count": null,
      "metadata": {
        "id": "3b86a4ce"
      },
      "outputs": [],
      "source": [
        "df = pd.read_csv('gurgaon_properties_post_feature_selection.csv')"
      ]
    },
    {
      "cell_type": "code",
      "execution_count": null,
      "metadata": {
        "id": "2e9b6dea",
        "outputId": "fdbf73f3-ff82-4a71-994c-01c41dad2969"
      },
      "outputs": [
        {
          "data": {
            "text/html": [
              "<div>\n",
              "<style scoped>\n",
              "    .dataframe tbody tr th:only-of-type {\n",
              "        vertical-align: middle;\n",
              "    }\n",
              "\n",
              "    .dataframe tbody tr th {\n",
              "        vertical-align: top;\n",
              "    }\n",
              "\n",
              "    .dataframe thead th {\n",
              "        text-align: right;\n",
              "    }\n",
              "</style>\n",
              "<table border=\"1\" class=\"dataframe\">\n",
              "  <thead>\n",
              "    <tr style=\"text-align: right;\">\n",
              "      <th></th>\n",
              "      <th>property_type</th>\n",
              "      <th>sector</th>\n",
              "      <th>bedRoom</th>\n",
              "      <th>bathroom</th>\n",
              "      <th>balcony</th>\n",
              "      <th>agePossession</th>\n",
              "      <th>built_up_area</th>\n",
              "      <th>servant room</th>\n",
              "      <th>store room</th>\n",
              "      <th>furnishing_type</th>\n",
              "      <th>luxury_category</th>\n",
              "      <th>floor_category</th>\n",
              "      <th>price</th>\n",
              "    </tr>\n",
              "  </thead>\n",
              "  <tbody>\n",
              "    <tr>\n",
              "      <th>0</th>\n",
              "      <td>0</td>\n",
              "      <td>36</td>\n",
              "      <td>3.0</td>\n",
              "      <td>2.0</td>\n",
              "      <td>2</td>\n",
              "      <td>1</td>\n",
              "      <td>850.0</td>\n",
              "      <td>0.0</td>\n",
              "      <td>0.0</td>\n",
              "      <td>0.0</td>\n",
              "      <td>1</td>\n",
              "      <td>1</td>\n",
              "      <td>0.82</td>\n",
              "    </tr>\n",
              "    <tr>\n",
              "      <th>1</th>\n",
              "      <td>0</td>\n",
              "      <td>95</td>\n",
              "      <td>2.0</td>\n",
              "      <td>2.0</td>\n",
              "      <td>2</td>\n",
              "      <td>1</td>\n",
              "      <td>1226.0</td>\n",
              "      <td>1.0</td>\n",
              "      <td>0.0</td>\n",
              "      <td>0.0</td>\n",
              "      <td>1</td>\n",
              "      <td>2</td>\n",
              "      <td>0.95</td>\n",
              "    </tr>\n",
              "    <tr>\n",
              "      <th>2</th>\n",
              "      <td>0</td>\n",
              "      <td>103</td>\n",
              "      <td>2.0</td>\n",
              "      <td>2.0</td>\n",
              "      <td>1</td>\n",
              "      <td>1</td>\n",
              "      <td>1000.0</td>\n",
              "      <td>0.0</td>\n",
              "      <td>0.0</td>\n",
              "      <td>0.0</td>\n",
              "      <td>1</td>\n",
              "      <td>0</td>\n",
              "      <td>0.32</td>\n",
              "    </tr>\n",
              "    <tr>\n",
              "      <th>3</th>\n",
              "      <td>0</td>\n",
              "      <td>99</td>\n",
              "      <td>3.0</td>\n",
              "      <td>4.0</td>\n",
              "      <td>4</td>\n",
              "      <td>3</td>\n",
              "      <td>1615.0</td>\n",
              "      <td>1.0</td>\n",
              "      <td>0.0</td>\n",
              "      <td>1.0</td>\n",
              "      <td>0</td>\n",
              "      <td>2</td>\n",
              "      <td>1.60</td>\n",
              "    </tr>\n",
              "    <tr>\n",
              "      <th>4</th>\n",
              "      <td>0</td>\n",
              "      <td>5</td>\n",
              "      <td>2.0</td>\n",
              "      <td>2.0</td>\n",
              "      <td>1</td>\n",
              "      <td>3</td>\n",
              "      <td>582.0</td>\n",
              "      <td>0.0</td>\n",
              "      <td>1.0</td>\n",
              "      <td>0.0</td>\n",
              "      <td>0</td>\n",
              "      <td>2</td>\n",
              "      <td>0.48</td>\n",
              "    </tr>\n",
              "  </tbody>\n",
              "</table>\n",
              "</div>"
            ],
            "text/plain": [
              "   property_type  sector  bedRoom  bathroom  balcony  agePossession  \\\n",
              "0              0      36      3.0       2.0        2              1   \n",
              "1              0      95      2.0       2.0        2              1   \n",
              "2              0     103      2.0       2.0        1              1   \n",
              "3              0      99      3.0       4.0        4              3   \n",
              "4              0       5      2.0       2.0        1              3   \n",
              "\n",
              "   built_up_area  servant room  store room  furnishing_type  luxury_category  \\\n",
              "0          850.0           0.0         0.0              0.0                1   \n",
              "1         1226.0           1.0         0.0              0.0                1   \n",
              "2         1000.0           0.0         0.0              0.0                1   \n",
              "3         1615.0           1.0         0.0              1.0                0   \n",
              "4          582.0           0.0         1.0              0.0                0   \n",
              "\n",
              "   floor_category  price  \n",
              "0               1   0.82  \n",
              "1               2   0.95  \n",
              "2               0   0.32  \n",
              "3               2   1.60  \n",
              "4               2   0.48  "
            ]
          },
          "execution_count": 143,
          "metadata": {},
          "output_type": "execute_result"
        }
      ],
      "source": [
        "df.head()"
      ]
    },
    {
      "cell_type": "code",
      "execution_count": null,
      "metadata": {
        "id": "d76de3b9"
      },
      "outputs": [],
      "source": [
        "# one hot encode -> sector, balcony, agePossession, furnishing type, luxury category, floor category"
      ]
    },
    {
      "cell_type": "code",
      "execution_count": null,
      "metadata": {
        "id": "b9046864"
      },
      "outputs": [],
      "source": [
        "X = df.drop(columns=['price'])\n",
        "y = df['price']"
      ]
    },
    {
      "cell_type": "code",
      "execution_count": null,
      "metadata": {
        "id": "5cb8803b"
      },
      "outputs": [],
      "source": [
        "from sklearn.model_selection import KFold, cross_val_score\n",
        "from sklearn.linear_model import LinearRegression\n",
        "from sklearn.pipeline import Pipeline\n",
        "from sklearn.preprocessing import OneHotEncoder, StandardScaler\n",
        "from sklearn.compose import ColumnTransformer\n",
        "from sklearn.svm import SVR"
      ]
    },
    {
      "cell_type": "code",
      "execution_count": null,
      "metadata": {
        "id": "699c0931"
      },
      "outputs": [],
      "source": [
        "columns_to_encode = ['sector', 'balcony', 'agePossession', 'furnishing_type', 'luxury_category', 'floor_category']"
      ]
    },
    {
      "cell_type": "code",
      "execution_count": null,
      "metadata": {
        "id": "58d99c88"
      },
      "outputs": [],
      "source": [
        "# Applying the log1p transformation to the target variable\n",
        "y_transformed = np.log1p(y)"
      ]
    },
    {
      "cell_type": "code",
      "execution_count": null,
      "metadata": {
        "id": "ece779bd"
      },
      "outputs": [],
      "source": [
        "# Creating a column transformer for preprocessing\n",
        "preprocessor = ColumnTransformer(\n",
        "    transformers=[\n",
        "        ('num', StandardScaler(), ['property_type', 'bedRoom', 'bathroom', 'built_up_area', 'servant room', 'store room']),\n",
        "        ('cat', OneHotEncoder(drop='first'), columns_to_encode)\n",
        "    ],\n",
        "    remainder='passthrough'\n",
        ")"
      ]
    },
    {
      "cell_type": "code",
      "execution_count": null,
      "metadata": {
        "id": "989a4c28"
      },
      "outputs": [],
      "source": [
        "# Creating a pipeline\n",
        "pipeline = Pipeline([\n",
        "    ('preprocessor', preprocessor),\n",
        "    ('regressor', SVR(kernel='rbf'))\n",
        "])"
      ]
    },
    {
      "cell_type": "code",
      "execution_count": null,
      "metadata": {
        "id": "4c7b2edf"
      },
      "outputs": [],
      "source": [
        "# K-fold cross-validation\n",
        "kfold = KFold(n_splits=10, shuffle=True, random_state=42)\n",
        "scores = cross_val_score(pipeline, X, y_transformed, cv=kfold, scoring='r2')"
      ]
    },
    {
      "cell_type": "code",
      "execution_count": null,
      "metadata": {
        "id": "317d3794",
        "outputId": "4566b0c2-616a-4e02-b3a0-81eef8689d9f"
      },
      "outputs": [
        {
          "data": {
            "text/plain": [
              "0.8845360715052786"
            ]
          },
          "execution_count": 152,
          "metadata": {},
          "output_type": "execute_result"
        }
      ],
      "source": [
        "scores.mean()"
      ]
    },
    {
      "cell_type": "code",
      "execution_count": null,
      "metadata": {
        "id": "be1b124b",
        "outputId": "44d43cec-e2f3-4790-acbb-2f2503b78338"
      },
      "outputs": [
        {
          "data": {
            "text/plain": [
              "0.014784881452420021"
            ]
          },
          "execution_count": 153,
          "metadata": {},
          "output_type": "execute_result"
        }
      ],
      "source": [
        "scores.std()"
      ]
    },
    {
      "cell_type": "code",
      "execution_count": null,
      "metadata": {
        "id": "9f800f75"
      },
      "outputs": [],
      "source": [
        "from sklearn.model_selection import train_test_split\n",
        "X_train, X_test, y_train, y_test = train_test_split(X,y_transformed,test_size=0.2,random_state=42)"
      ]
    },
    {
      "cell_type": "code",
      "execution_count": null,
      "metadata": {
        "id": "6d1864e0",
        "outputId": "18a8a1e4-b8f9-415d-869e-3736536b797d"
      },
      "outputs": [
        {
          "data": {
            "text/html": [
              "<style>#sk-container-id-9 {color: black;background-color: white;}#sk-container-id-9 pre{padding: 0;}#sk-container-id-9 div.sk-toggleable {background-color: white;}#sk-container-id-9 label.sk-toggleable__label {cursor: pointer;display: block;width: 100%;margin-bottom: 0;padding: 0.3em;box-sizing: border-box;text-align: center;}#sk-container-id-9 label.sk-toggleable__label-arrow:before {content: \"▸\";float: left;margin-right: 0.25em;color: #696969;}#sk-container-id-9 label.sk-toggleable__label-arrow:hover:before {color: black;}#sk-container-id-9 div.sk-estimator:hover label.sk-toggleable__label-arrow:before {color: black;}#sk-container-id-9 div.sk-toggleable__content {max-height: 0;max-width: 0;overflow: hidden;text-align: left;background-color: #f0f8ff;}#sk-container-id-9 div.sk-toggleable__content pre {margin: 0.2em;color: black;border-radius: 0.25em;background-color: #f0f8ff;}#sk-container-id-9 input.sk-toggleable__control:checked~div.sk-toggleable__content {max-height: 200px;max-width: 100%;overflow: auto;}#sk-container-id-9 input.sk-toggleable__control:checked~label.sk-toggleable__label-arrow:before {content: \"▾\";}#sk-container-id-9 div.sk-estimator input.sk-toggleable__control:checked~label.sk-toggleable__label {background-color: #d4ebff;}#sk-container-id-9 div.sk-label input.sk-toggleable__control:checked~label.sk-toggleable__label {background-color: #d4ebff;}#sk-container-id-9 input.sk-hidden--visually {border: 0;clip: rect(1px 1px 1px 1px);clip: rect(1px, 1px, 1px, 1px);height: 1px;margin: -1px;overflow: hidden;padding: 0;position: absolute;width: 1px;}#sk-container-id-9 div.sk-estimator {font-family: monospace;background-color: #f0f8ff;border: 1px dotted black;border-radius: 0.25em;box-sizing: border-box;margin-bottom: 0.5em;}#sk-container-id-9 div.sk-estimator:hover {background-color: #d4ebff;}#sk-container-id-9 div.sk-parallel-item::after {content: \"\";width: 100%;border-bottom: 1px solid gray;flex-grow: 1;}#sk-container-id-9 div.sk-label:hover label.sk-toggleable__label {background-color: #d4ebff;}#sk-container-id-9 div.sk-serial::before {content: \"\";position: absolute;border-left: 1px solid gray;box-sizing: border-box;top: 0;bottom: 0;left: 50%;z-index: 0;}#sk-container-id-9 div.sk-serial {display: flex;flex-direction: column;align-items: center;background-color: white;padding-right: 0.2em;padding-left: 0.2em;position: relative;}#sk-container-id-9 div.sk-item {position: relative;z-index: 1;}#sk-container-id-9 div.sk-parallel {display: flex;align-items: stretch;justify-content: center;background-color: white;position: relative;}#sk-container-id-9 div.sk-item::before, #sk-container-id-9 div.sk-parallel-item::before {content: \"\";position: absolute;border-left: 1px solid gray;box-sizing: border-box;top: 0;bottom: 0;left: 50%;z-index: -1;}#sk-container-id-9 div.sk-parallel-item {display: flex;flex-direction: column;z-index: 1;position: relative;background-color: white;}#sk-container-id-9 div.sk-parallel-item:first-child::after {align-self: flex-end;width: 50%;}#sk-container-id-9 div.sk-parallel-item:last-child::after {align-self: flex-start;width: 50%;}#sk-container-id-9 div.sk-parallel-item:only-child::after {width: 0;}#sk-container-id-9 div.sk-dashed-wrapped {border: 1px dashed gray;margin: 0 0.4em 0.5em 0.4em;box-sizing: border-box;padding-bottom: 0.4em;background-color: white;}#sk-container-id-9 div.sk-label label {font-family: monospace;font-weight: bold;display: inline-block;line-height: 1.2em;}#sk-container-id-9 div.sk-label-container {text-align: center;}#sk-container-id-9 div.sk-container {/* jupyter's `normalize.less` sets `[hidden] { display: none; }` but bootstrap.min.css set `[hidden] { display: none !important; }` so we also need the `!important` here to be able to override the default hidden behavior on the sphinx rendered scikit-learn.org. See: https://github.com/scikit-learn/scikit-learn/issues/21755 */display: inline-block !important;position: relative;}#sk-container-id-9 div.sk-text-repr-fallback {display: none;}</style><div id=\"sk-container-id-9\" class=\"sk-top-container\"><div class=\"sk-text-repr-fallback\"><pre>Pipeline(steps=[(&#x27;preprocessor&#x27;,\n",
              "                 ColumnTransformer(remainder=&#x27;passthrough&#x27;,\n",
              "                                   transformers=[(&#x27;num&#x27;, StandardScaler(),\n",
              "                                                  [&#x27;property_type&#x27;, &#x27;bedRoom&#x27;,\n",
              "                                                   &#x27;bathroom&#x27;, &#x27;built_up_area&#x27;,\n",
              "                                                   &#x27;servant room&#x27;,\n",
              "                                                   &#x27;store room&#x27;]),\n",
              "                                                 (&#x27;cat&#x27;,\n",
              "                                                  OneHotEncoder(drop=&#x27;first&#x27;),\n",
              "                                                  [&#x27;sector&#x27;, &#x27;balcony&#x27;,\n",
              "                                                   &#x27;agePossession&#x27;,\n",
              "                                                   &#x27;furnishing_type&#x27;,\n",
              "                                                   &#x27;luxury_category&#x27;,\n",
              "                                                   &#x27;floor_category&#x27;])])),\n",
              "                (&#x27;regressor&#x27;, SVR())])</pre><b>In a Jupyter environment, please rerun this cell to show the HTML representation or trust the notebook. <br />On GitHub, the HTML representation is unable to render, please try loading this page with nbviewer.org.</b></div><div class=\"sk-container\" hidden><div class=\"sk-item sk-dashed-wrapped\"><div class=\"sk-label-container\"><div class=\"sk-label sk-toggleable\"><input class=\"sk-toggleable__control sk-hidden--visually\" id=\"sk-estimator-id-73\" type=\"checkbox\" ><label for=\"sk-estimator-id-73\" class=\"sk-toggleable__label sk-toggleable__label-arrow\">Pipeline</label><div class=\"sk-toggleable__content\"><pre>Pipeline(steps=[(&#x27;preprocessor&#x27;,\n",
              "                 ColumnTransformer(remainder=&#x27;passthrough&#x27;,\n",
              "                                   transformers=[(&#x27;num&#x27;, StandardScaler(),\n",
              "                                                  [&#x27;property_type&#x27;, &#x27;bedRoom&#x27;,\n",
              "                                                   &#x27;bathroom&#x27;, &#x27;built_up_area&#x27;,\n",
              "                                                   &#x27;servant room&#x27;,\n",
              "                                                   &#x27;store room&#x27;]),\n",
              "                                                 (&#x27;cat&#x27;,\n",
              "                                                  OneHotEncoder(drop=&#x27;first&#x27;),\n",
              "                                                  [&#x27;sector&#x27;, &#x27;balcony&#x27;,\n",
              "                                                   &#x27;agePossession&#x27;,\n",
              "                                                   &#x27;furnishing_type&#x27;,\n",
              "                                                   &#x27;luxury_category&#x27;,\n",
              "                                                   &#x27;floor_category&#x27;])])),\n",
              "                (&#x27;regressor&#x27;, SVR())])</pre></div></div></div><div class=\"sk-serial\"><div class=\"sk-item sk-dashed-wrapped\"><div class=\"sk-label-container\"><div class=\"sk-label sk-toggleable\"><input class=\"sk-toggleable__control sk-hidden--visually\" id=\"sk-estimator-id-74\" type=\"checkbox\" ><label for=\"sk-estimator-id-74\" class=\"sk-toggleable__label sk-toggleable__label-arrow\">preprocessor: ColumnTransformer</label><div class=\"sk-toggleable__content\"><pre>ColumnTransformer(remainder=&#x27;passthrough&#x27;,\n",
              "                  transformers=[(&#x27;num&#x27;, StandardScaler(),\n",
              "                                 [&#x27;property_type&#x27;, &#x27;bedRoom&#x27;, &#x27;bathroom&#x27;,\n",
              "                                  &#x27;built_up_area&#x27;, &#x27;servant room&#x27;,\n",
              "                                  &#x27;store room&#x27;]),\n",
              "                                (&#x27;cat&#x27;, OneHotEncoder(drop=&#x27;first&#x27;),\n",
              "                                 [&#x27;sector&#x27;, &#x27;balcony&#x27;, &#x27;agePossession&#x27;,\n",
              "                                  &#x27;furnishing_type&#x27;, &#x27;luxury_category&#x27;,\n",
              "                                  &#x27;floor_category&#x27;])])</pre></div></div></div><div class=\"sk-parallel\"><div class=\"sk-parallel-item\"><div class=\"sk-item\"><div class=\"sk-label-container\"><div class=\"sk-label sk-toggleable\"><input class=\"sk-toggleable__control sk-hidden--visually\" id=\"sk-estimator-id-75\" type=\"checkbox\" ><label for=\"sk-estimator-id-75\" class=\"sk-toggleable__label sk-toggleable__label-arrow\">num</label><div class=\"sk-toggleable__content\"><pre>[&#x27;property_type&#x27;, &#x27;bedRoom&#x27;, &#x27;bathroom&#x27;, &#x27;built_up_area&#x27;, &#x27;servant room&#x27;, &#x27;store room&#x27;]</pre></div></div></div><div class=\"sk-serial\"><div class=\"sk-item\"><div class=\"sk-estimator sk-toggleable\"><input class=\"sk-toggleable__control sk-hidden--visually\" id=\"sk-estimator-id-76\" type=\"checkbox\" ><label for=\"sk-estimator-id-76\" class=\"sk-toggleable__label sk-toggleable__label-arrow\">StandardScaler</label><div class=\"sk-toggleable__content\"><pre>StandardScaler()</pre></div></div></div></div></div></div><div class=\"sk-parallel-item\"><div class=\"sk-item\"><div class=\"sk-label-container\"><div class=\"sk-label sk-toggleable\"><input class=\"sk-toggleable__control sk-hidden--visually\" id=\"sk-estimator-id-77\" type=\"checkbox\" ><label for=\"sk-estimator-id-77\" class=\"sk-toggleable__label sk-toggleable__label-arrow\">cat</label><div class=\"sk-toggleable__content\"><pre>[&#x27;sector&#x27;, &#x27;balcony&#x27;, &#x27;agePossession&#x27;, &#x27;furnishing_type&#x27;, &#x27;luxury_category&#x27;, &#x27;floor_category&#x27;]</pre></div></div></div><div class=\"sk-serial\"><div class=\"sk-item\"><div class=\"sk-estimator sk-toggleable\"><input class=\"sk-toggleable__control sk-hidden--visually\" id=\"sk-estimator-id-78\" type=\"checkbox\" ><label for=\"sk-estimator-id-78\" class=\"sk-toggleable__label sk-toggleable__label-arrow\">OneHotEncoder</label><div class=\"sk-toggleable__content\"><pre>OneHotEncoder(drop=&#x27;first&#x27;)</pre></div></div></div></div></div></div><div class=\"sk-parallel-item\"><div class=\"sk-item\"><div class=\"sk-label-container\"><div class=\"sk-label sk-toggleable\"><input class=\"sk-toggleable__control sk-hidden--visually\" id=\"sk-estimator-id-79\" type=\"checkbox\" ><label for=\"sk-estimator-id-79\" class=\"sk-toggleable__label sk-toggleable__label-arrow\">remainder</label><div class=\"sk-toggleable__content\"><pre>[]</pre></div></div></div><div class=\"sk-serial\"><div class=\"sk-item\"><div class=\"sk-estimator sk-toggleable\"><input class=\"sk-toggleable__control sk-hidden--visually\" id=\"sk-estimator-id-80\" type=\"checkbox\" ><label for=\"sk-estimator-id-80\" class=\"sk-toggleable__label sk-toggleable__label-arrow\">passthrough</label><div class=\"sk-toggleable__content\"><pre>passthrough</pre></div></div></div></div></div></div></div></div><div class=\"sk-item\"><div class=\"sk-estimator sk-toggleable\"><input class=\"sk-toggleable__control sk-hidden--visually\" id=\"sk-estimator-id-81\" type=\"checkbox\" ><label for=\"sk-estimator-id-81\" class=\"sk-toggleable__label sk-toggleable__label-arrow\">SVR</label><div class=\"sk-toggleable__content\"><pre>SVR()</pre></div></div></div></div></div></div></div>"
            ],
            "text/plain": [
              "Pipeline(steps=[('preprocessor',\n",
              "                 ColumnTransformer(remainder='passthrough',\n",
              "                                   transformers=[('num', StandardScaler(),\n",
              "                                                  ['property_type', 'bedRoom',\n",
              "                                                   'bathroom', 'built_up_area',\n",
              "                                                   'servant room',\n",
              "                                                   'store room']),\n",
              "                                                 ('cat',\n",
              "                                                  OneHotEncoder(drop='first'),\n",
              "                                                  ['sector', 'balcony',\n",
              "                                                   'agePossession',\n",
              "                                                   'furnishing_type',\n",
              "                                                   'luxury_category',\n",
              "                                                   'floor_category'])])),\n",
              "                ('regressor', SVR())])"
            ]
          },
          "execution_count": 155,
          "metadata": {},
          "output_type": "execute_result"
        }
      ],
      "source": [
        "pipeline.fit(X_train,y_train)"
      ]
    },
    {
      "cell_type": "code",
      "execution_count": null,
      "metadata": {
        "id": "fdf84c86"
      },
      "outputs": [],
      "source": [
        "y_pred = pipeline.predict(X_test)"
      ]
    },
    {
      "cell_type": "code",
      "execution_count": null,
      "metadata": {
        "id": "45fe99de"
      },
      "outputs": [],
      "source": [
        "y_pred = np.expm1(y_pred)"
      ]
    },
    {
      "cell_type": "code",
      "execution_count": null,
      "metadata": {
        "id": "e43a81fc",
        "outputId": "2e5e8867-1403-4110-f7e8-3c26c885a207"
      },
      "outputs": [
        {
          "data": {
            "text/plain": [
              "0.5324591082613233"
            ]
          },
          "execution_count": 158,
          "metadata": {},
          "output_type": "execute_result"
        }
      ],
      "source": [
        "from sklearn.metrics import mean_absolute_error\n",
        "mean_absolute_error(np.expm1(y_test),y_pred)"
      ]
    },
    {
      "cell_type": "code",
      "execution_count": null,
      "metadata": {
        "id": "f9a4b2e3"
      },
      "outputs": [],
      "source": []
    },
    {
      "cell_type": "markdown",
      "source": [
        "# Session-8 model selection"
      ],
      "metadata": {
        "id": "9xzzSMUEDP6g"
      }
    },
    {
      "cell_type": "markdown",
      "source": [
        "on gurgaon_properties_post_feature_selection_v2.csv'"
      ],
      "metadata": {
        "id": "q8VFbvBWENE1"
      }
    },
    {
      "cell_type": "code",
      "source": [],
      "metadata": {
        "id": "8p8CweX_DT8V"
      },
      "execution_count": null,
      "outputs": []
    },
    {
      "cell_type": "code",
      "execution_count": null,
      "metadata": {
        "id": "d37ff281"
      },
      "outputs": [],
      "source": [
        "import numpy as np\n",
        "import pandas as pd\n",
        "\n",
        "from sklearn.model_selection import KFold, cross_val_score\n",
        "from sklearn.linear_model import LinearRegression\n",
        "from sklearn.pipeline import Pipeline\n",
        "from sklearn.preprocessing import OneHotEncoder, StandardScaler, OrdinalEncoder\n",
        "from sklearn.compose import ColumnTransformer\n",
        "from sklearn.svm import SVR\n",
        "\n",
        "from sklearn.model_selection import train_test_split\n",
        "from sklearn.metrics import mean_absolute_error\n",
        "\n",
        "from sklearn.decomposition import PCA"
      ]
    },
    {
      "cell_type": "code",
      "execution_count": null,
      "metadata": {
        "id": "80eb1b6e"
      },
      "outputs": [],
      "source": [
        "df = pd.read_csv('gurgaon_properties_post_feature_selection_v2.csv')"
      ]
    },
    {
      "cell_type": "code",
      "execution_count": null,
      "metadata": {
        "id": "a07f9fb5",
        "outputId": "f38f928d-067a-4700-dcb7-a4163a92f348"
      },
      "outputs": [
        {
          "data": {
            "text/html": [
              "<div>\n",
              "<style scoped>\n",
              "    .dataframe tbody tr th:only-of-type {\n",
              "        vertical-align: middle;\n",
              "    }\n",
              "\n",
              "    .dataframe tbody tr th {\n",
              "        vertical-align: top;\n",
              "    }\n",
              "\n",
              "    .dataframe thead th {\n",
              "        text-align: right;\n",
              "    }\n",
              "</style>\n",
              "<table border=\"1\" class=\"dataframe\">\n",
              "  <thead>\n",
              "    <tr style=\"text-align: right;\">\n",
              "      <th></th>\n",
              "      <th>property_type</th>\n",
              "      <th>sector</th>\n",
              "      <th>price</th>\n",
              "      <th>bedRoom</th>\n",
              "      <th>bathroom</th>\n",
              "      <th>balcony</th>\n",
              "      <th>agePossession</th>\n",
              "      <th>built_up_area</th>\n",
              "      <th>servant room</th>\n",
              "      <th>store room</th>\n",
              "      <th>furnishing_type</th>\n",
              "      <th>luxury_category</th>\n",
              "      <th>floor_category</th>\n",
              "    </tr>\n",
              "  </thead>\n",
              "  <tbody>\n",
              "    <tr>\n",
              "      <th>0</th>\n",
              "      <td>flat</td>\n",
              "      <td>sector 36</td>\n",
              "      <td>0.82</td>\n",
              "      <td>3.0</td>\n",
              "      <td>2.0</td>\n",
              "      <td>2</td>\n",
              "      <td>New Property</td>\n",
              "      <td>850.0</td>\n",
              "      <td>0.0</td>\n",
              "      <td>0.0</td>\n",
              "      <td>0.0</td>\n",
              "      <td>Low</td>\n",
              "      <td>Low Floor</td>\n",
              "    </tr>\n",
              "    <tr>\n",
              "      <th>1</th>\n",
              "      <td>flat</td>\n",
              "      <td>sector 89</td>\n",
              "      <td>0.95</td>\n",
              "      <td>2.0</td>\n",
              "      <td>2.0</td>\n",
              "      <td>2</td>\n",
              "      <td>New Property</td>\n",
              "      <td>1226.0</td>\n",
              "      <td>1.0</td>\n",
              "      <td>0.0</td>\n",
              "      <td>0.0</td>\n",
              "      <td>Low</td>\n",
              "      <td>Mid Floor</td>\n",
              "    </tr>\n",
              "    <tr>\n",
              "      <th>2</th>\n",
              "      <td>flat</td>\n",
              "      <td>sohna road</td>\n",
              "      <td>0.32</td>\n",
              "      <td>2.0</td>\n",
              "      <td>2.0</td>\n",
              "      <td>1</td>\n",
              "      <td>New Property</td>\n",
              "      <td>1000.0</td>\n",
              "      <td>0.0</td>\n",
              "      <td>0.0</td>\n",
              "      <td>0.0</td>\n",
              "      <td>Low</td>\n",
              "      <td>High Floor</td>\n",
              "    </tr>\n",
              "    <tr>\n",
              "      <th>3</th>\n",
              "      <td>flat</td>\n",
              "      <td>sector 92</td>\n",
              "      <td>1.60</td>\n",
              "      <td>3.0</td>\n",
              "      <td>4.0</td>\n",
              "      <td>3+</td>\n",
              "      <td>Relatively New</td>\n",
              "      <td>1615.0</td>\n",
              "      <td>1.0</td>\n",
              "      <td>0.0</td>\n",
              "      <td>1.0</td>\n",
              "      <td>High</td>\n",
              "      <td>Mid Floor</td>\n",
              "    </tr>\n",
              "    <tr>\n",
              "      <th>4</th>\n",
              "      <td>flat</td>\n",
              "      <td>sector 102</td>\n",
              "      <td>0.48</td>\n",
              "      <td>2.0</td>\n",
              "      <td>2.0</td>\n",
              "      <td>1</td>\n",
              "      <td>Relatively New</td>\n",
              "      <td>582.0</td>\n",
              "      <td>0.0</td>\n",
              "      <td>1.0</td>\n",
              "      <td>0.0</td>\n",
              "      <td>High</td>\n",
              "      <td>Mid Floor</td>\n",
              "    </tr>\n",
              "  </tbody>\n",
              "</table>\n",
              "</div>"
            ],
            "text/plain": [
              "  property_type      sector  price  bedRoom  bathroom balcony   agePossession  \\\n",
              "0          flat   sector 36   0.82      3.0       2.0       2    New Property   \n",
              "1          flat   sector 89   0.95      2.0       2.0       2    New Property   \n",
              "2          flat  sohna road   0.32      2.0       2.0       1    New Property   \n",
              "3          flat   sector 92   1.60      3.0       4.0      3+  Relatively New   \n",
              "4          flat  sector 102   0.48      2.0       2.0       1  Relatively New   \n",
              "\n",
              "   built_up_area  servant room  store room  furnishing_type luxury_category  \\\n",
              "0          850.0           0.0         0.0              0.0             Low   \n",
              "1         1226.0           1.0         0.0              0.0             Low   \n",
              "2         1000.0           0.0         0.0              0.0             Low   \n",
              "3         1615.0           1.0         0.0              1.0            High   \n",
              "4          582.0           0.0         1.0              0.0            High   \n",
              "\n",
              "  floor_category  \n",
              "0      Low Floor  \n",
              "1      Mid Floor  \n",
              "2     High Floor  \n",
              "3      Mid Floor  \n",
              "4      Mid Floor  "
            ]
          },
          "execution_count": 179,
          "metadata": {},
          "output_type": "execute_result"
        }
      ],
      "source": [
        "df.head()"
      ]
    },
    {
      "cell_type": "code",
      "execution_count": null,
      "metadata": {
        "id": "0399fef1",
        "outputId": "f3d37e0e-4a83-4439-f277-eee8a2792f65"
      },
      "outputs": [
        {
          "data": {
            "text/plain": [
              "0.0    2349\n",
              "1.0    1018\n",
              "2.0     187\n",
              "Name: furnishing_type, dtype: int64"
            ]
          },
          "execution_count": 180,
          "metadata": {},
          "output_type": "execute_result"
        }
      ],
      "source": [
        "df['furnishing_type'].value_counts()"
      ]
    },
    {
      "cell_type": "code",
      "execution_count": null,
      "metadata": {
        "id": "d91ed92e"
      },
      "outputs": [],
      "source": [
        "# 0 -> unfurnished\n",
        "# 1 -> semifurnished\n",
        "# 2 -> furnished\n",
        "df['furnishing_type'] = df['furnishing_type'].replace({0.0:'unfurnished',1.0:'semifurnished',2.0:'furnished'})"
      ]
    },
    {
      "cell_type": "code",
      "execution_count": null,
      "metadata": {
        "id": "705dba8f",
        "outputId": "0334ee6b-a440-4c67-d09f-4ed754824f26"
      },
      "outputs": [
        {
          "data": {
            "text/html": [
              "<div>\n",
              "<style scoped>\n",
              "    .dataframe tbody tr th:only-of-type {\n",
              "        vertical-align: middle;\n",
              "    }\n",
              "\n",
              "    .dataframe tbody tr th {\n",
              "        vertical-align: top;\n",
              "    }\n",
              "\n",
              "    .dataframe thead th {\n",
              "        text-align: right;\n",
              "    }\n",
              "</style>\n",
              "<table border=\"1\" class=\"dataframe\">\n",
              "  <thead>\n",
              "    <tr style=\"text-align: right;\">\n",
              "      <th></th>\n",
              "      <th>property_type</th>\n",
              "      <th>sector</th>\n",
              "      <th>price</th>\n",
              "      <th>bedRoom</th>\n",
              "      <th>bathroom</th>\n",
              "      <th>balcony</th>\n",
              "      <th>agePossession</th>\n",
              "      <th>built_up_area</th>\n",
              "      <th>servant room</th>\n",
              "      <th>store room</th>\n",
              "      <th>furnishing_type</th>\n",
              "      <th>luxury_category</th>\n",
              "      <th>floor_category</th>\n",
              "    </tr>\n",
              "  </thead>\n",
              "  <tbody>\n",
              "    <tr>\n",
              "      <th>0</th>\n",
              "      <td>flat</td>\n",
              "      <td>sector 36</td>\n",
              "      <td>0.82</td>\n",
              "      <td>3.0</td>\n",
              "      <td>2.0</td>\n",
              "      <td>2</td>\n",
              "      <td>New Property</td>\n",
              "      <td>850.0</td>\n",
              "      <td>0.0</td>\n",
              "      <td>0.0</td>\n",
              "      <td>unfurnished</td>\n",
              "      <td>Low</td>\n",
              "      <td>Low Floor</td>\n",
              "    </tr>\n",
              "    <tr>\n",
              "      <th>1</th>\n",
              "      <td>flat</td>\n",
              "      <td>sector 89</td>\n",
              "      <td>0.95</td>\n",
              "      <td>2.0</td>\n",
              "      <td>2.0</td>\n",
              "      <td>2</td>\n",
              "      <td>New Property</td>\n",
              "      <td>1226.0</td>\n",
              "      <td>1.0</td>\n",
              "      <td>0.0</td>\n",
              "      <td>unfurnished</td>\n",
              "      <td>Low</td>\n",
              "      <td>Mid Floor</td>\n",
              "    </tr>\n",
              "    <tr>\n",
              "      <th>2</th>\n",
              "      <td>flat</td>\n",
              "      <td>sohna road</td>\n",
              "      <td>0.32</td>\n",
              "      <td>2.0</td>\n",
              "      <td>2.0</td>\n",
              "      <td>1</td>\n",
              "      <td>New Property</td>\n",
              "      <td>1000.0</td>\n",
              "      <td>0.0</td>\n",
              "      <td>0.0</td>\n",
              "      <td>unfurnished</td>\n",
              "      <td>Low</td>\n",
              "      <td>High Floor</td>\n",
              "    </tr>\n",
              "    <tr>\n",
              "      <th>3</th>\n",
              "      <td>flat</td>\n",
              "      <td>sector 92</td>\n",
              "      <td>1.60</td>\n",
              "      <td>3.0</td>\n",
              "      <td>4.0</td>\n",
              "      <td>3+</td>\n",
              "      <td>Relatively New</td>\n",
              "      <td>1615.0</td>\n",
              "      <td>1.0</td>\n",
              "      <td>0.0</td>\n",
              "      <td>semifurnished</td>\n",
              "      <td>High</td>\n",
              "      <td>Mid Floor</td>\n",
              "    </tr>\n",
              "    <tr>\n",
              "      <th>4</th>\n",
              "      <td>flat</td>\n",
              "      <td>sector 102</td>\n",
              "      <td>0.48</td>\n",
              "      <td>2.0</td>\n",
              "      <td>2.0</td>\n",
              "      <td>1</td>\n",
              "      <td>Relatively New</td>\n",
              "      <td>582.0</td>\n",
              "      <td>0.0</td>\n",
              "      <td>1.0</td>\n",
              "      <td>unfurnished</td>\n",
              "      <td>High</td>\n",
              "      <td>Mid Floor</td>\n",
              "    </tr>\n",
              "  </tbody>\n",
              "</table>\n",
              "</div>"
            ],
            "text/plain": [
              "  property_type      sector  price  bedRoom  bathroom balcony   agePossession  \\\n",
              "0          flat   sector 36   0.82      3.0       2.0       2    New Property   \n",
              "1          flat   sector 89   0.95      2.0       2.0       2    New Property   \n",
              "2          flat  sohna road   0.32      2.0       2.0       1    New Property   \n",
              "3          flat   sector 92   1.60      3.0       4.0      3+  Relatively New   \n",
              "4          flat  sector 102   0.48      2.0       2.0       1  Relatively New   \n",
              "\n",
              "   built_up_area  servant room  store room furnishing_type luxury_category  \\\n",
              "0          850.0           0.0         0.0     unfurnished             Low   \n",
              "1         1226.0           1.0         0.0     unfurnished             Low   \n",
              "2         1000.0           0.0         0.0     unfurnished             Low   \n",
              "3         1615.0           1.0         0.0   semifurnished            High   \n",
              "4          582.0           0.0         1.0     unfurnished            High   \n",
              "\n",
              "  floor_category  \n",
              "0      Low Floor  \n",
              "1      Mid Floor  \n",
              "2     High Floor  \n",
              "3      Mid Floor  \n",
              "4      Mid Floor  "
            ]
          },
          "execution_count": 183,
          "metadata": {},
          "output_type": "execute_result"
        }
      ],
      "source": [
        "df.head()"
      ]
    },
    {
      "cell_type": "code",
      "execution_count": null,
      "metadata": {
        "id": "b2da31ad"
      },
      "outputs": [],
      "source": [
        "X = df.drop(columns=['price'])\n",
        "y = df['price']"
      ]
    },
    {
      "cell_type": "code",
      "execution_count": null,
      "metadata": {
        "id": "15996e23"
      },
      "outputs": [],
      "source": [
        "# Applying the log1p transformation to the target variable\n",
        "y_transformed = np.log1p(y)"
      ]
    },
    {
      "cell_type": "markdown",
      "metadata": {
        "id": "a517f036"
      },
      "source": [
        "### Ordinal Encoding"
      ]
    },
    {
      "cell_type": "code",
      "execution_count": null,
      "metadata": {
        "id": "4eeb02e8"
      },
      "outputs": [],
      "source": [
        "columns_to_encode = ['property_type','sector', 'balcony', 'agePossession', 'furnishing_type', 'luxury_category', 'floor_category']"
      ]
    },
    {
      "cell_type": "code",
      "execution_count": null,
      "metadata": {
        "id": "05b6dfb3"
      },
      "outputs": [],
      "source": [
        "# Creating a column transformer for preprocessing\n",
        "preprocessor = ColumnTransformer(\n",
        "    transformers=[\n",
        "        ('num', StandardScaler(), ['bedRoom', 'bathroom', 'built_up_area', 'servant room', 'store room']),\n",
        "        ('cat', OrdinalEncoder(), columns_to_encode)\n",
        "    ],\n",
        "    remainder='passthrough'\n",
        ")"
      ]
    },
    {
      "cell_type": "code",
      "execution_count": null,
      "metadata": {
        "id": "7d54aa51"
      },
      "outputs": [],
      "source": [
        "# Creating a pipeline\n",
        "pipeline = Pipeline([\n",
        "    ('preprocessor', preprocessor),\n",
        "    ('regressor', LinearRegression())\n",
        "])"
      ]
    },
    {
      "cell_type": "code",
      "execution_count": null,
      "metadata": {
        "id": "d1964a83"
      },
      "outputs": [],
      "source": [
        "# K-fold cross-validation\n",
        "kfold = KFold(n_splits=10, shuffle=True, random_state=42)\n",
        "scores = cross_val_score(pipeline, X, y_transformed, cv=kfold, scoring='r2')"
      ]
    },
    {
      "cell_type": "code",
      "execution_count": null,
      "metadata": {
        "id": "e56f149e",
        "outputId": "7be8999e-706b-4f85-b129-87b1a324d0b9"
      },
      "outputs": [
        {
          "data": {
            "text/plain": [
              "(0.7363096633436828, 0.032380057544299325)"
            ]
          },
          "execution_count": 190,
          "metadata": {},
          "output_type": "execute_result"
        }
      ],
      "source": [
        "scores.mean(),scores.std()"
      ]
    },
    {
      "cell_type": "code",
      "execution_count": null,
      "metadata": {
        "id": "5d2e1b72"
      },
      "outputs": [],
      "source": [
        "X_train, X_test, y_train, y_test = train_test_split(X,y_transformed,test_size=0.2,random_state=42)"
      ]
    },
    {
      "cell_type": "code",
      "execution_count": null,
      "metadata": {
        "id": "c1cc86ee",
        "outputId": "8a706559-79b3-4cf3-a0fa-b84e9b3ad050"
      },
      "outputs": [
        {
          "data": {
            "text/html": [
              "<style>#sk-container-id-10 {color: black;background-color: white;}#sk-container-id-10 pre{padding: 0;}#sk-container-id-10 div.sk-toggleable {background-color: white;}#sk-container-id-10 label.sk-toggleable__label {cursor: pointer;display: block;width: 100%;margin-bottom: 0;padding: 0.3em;box-sizing: border-box;text-align: center;}#sk-container-id-10 label.sk-toggleable__label-arrow:before {content: \"▸\";float: left;margin-right: 0.25em;color: #696969;}#sk-container-id-10 label.sk-toggleable__label-arrow:hover:before {color: black;}#sk-container-id-10 div.sk-estimator:hover label.sk-toggleable__label-arrow:before {color: black;}#sk-container-id-10 div.sk-toggleable__content {max-height: 0;max-width: 0;overflow: hidden;text-align: left;background-color: #f0f8ff;}#sk-container-id-10 div.sk-toggleable__content pre {margin: 0.2em;color: black;border-radius: 0.25em;background-color: #f0f8ff;}#sk-container-id-10 input.sk-toggleable__control:checked~div.sk-toggleable__content {max-height: 200px;max-width: 100%;overflow: auto;}#sk-container-id-10 input.sk-toggleable__control:checked~label.sk-toggleable__label-arrow:before {content: \"▾\";}#sk-container-id-10 div.sk-estimator input.sk-toggleable__control:checked~label.sk-toggleable__label {background-color: #d4ebff;}#sk-container-id-10 div.sk-label input.sk-toggleable__control:checked~label.sk-toggleable__label {background-color: #d4ebff;}#sk-container-id-10 input.sk-hidden--visually {border: 0;clip: rect(1px 1px 1px 1px);clip: rect(1px, 1px, 1px, 1px);height: 1px;margin: -1px;overflow: hidden;padding: 0;position: absolute;width: 1px;}#sk-container-id-10 div.sk-estimator {font-family: monospace;background-color: #f0f8ff;border: 1px dotted black;border-radius: 0.25em;box-sizing: border-box;margin-bottom: 0.5em;}#sk-container-id-10 div.sk-estimator:hover {background-color: #d4ebff;}#sk-container-id-10 div.sk-parallel-item::after {content: \"\";width: 100%;border-bottom: 1px solid gray;flex-grow: 1;}#sk-container-id-10 div.sk-label:hover label.sk-toggleable__label {background-color: #d4ebff;}#sk-container-id-10 div.sk-serial::before {content: \"\";position: absolute;border-left: 1px solid gray;box-sizing: border-box;top: 0;bottom: 0;left: 50%;z-index: 0;}#sk-container-id-10 div.sk-serial {display: flex;flex-direction: column;align-items: center;background-color: white;padding-right: 0.2em;padding-left: 0.2em;position: relative;}#sk-container-id-10 div.sk-item {position: relative;z-index: 1;}#sk-container-id-10 div.sk-parallel {display: flex;align-items: stretch;justify-content: center;background-color: white;position: relative;}#sk-container-id-10 div.sk-item::before, #sk-container-id-10 div.sk-parallel-item::before {content: \"\";position: absolute;border-left: 1px solid gray;box-sizing: border-box;top: 0;bottom: 0;left: 50%;z-index: -1;}#sk-container-id-10 div.sk-parallel-item {display: flex;flex-direction: column;z-index: 1;position: relative;background-color: white;}#sk-container-id-10 div.sk-parallel-item:first-child::after {align-self: flex-end;width: 50%;}#sk-container-id-10 div.sk-parallel-item:last-child::after {align-self: flex-start;width: 50%;}#sk-container-id-10 div.sk-parallel-item:only-child::after {width: 0;}#sk-container-id-10 div.sk-dashed-wrapped {border: 1px dashed gray;margin: 0 0.4em 0.5em 0.4em;box-sizing: border-box;padding-bottom: 0.4em;background-color: white;}#sk-container-id-10 div.sk-label label {font-family: monospace;font-weight: bold;display: inline-block;line-height: 1.2em;}#sk-container-id-10 div.sk-label-container {text-align: center;}#sk-container-id-10 div.sk-container {/* jupyter's `normalize.less` sets `[hidden] { display: none; }` but bootstrap.min.css set `[hidden] { display: none !important; }` so we also need the `!important` here to be able to override the default hidden behavior on the sphinx rendered scikit-learn.org. See: https://github.com/scikit-learn/scikit-learn/issues/21755 */display: inline-block !important;position: relative;}#sk-container-id-10 div.sk-text-repr-fallback {display: none;}</style><div id=\"sk-container-id-10\" class=\"sk-top-container\"><div class=\"sk-text-repr-fallback\"><pre>Pipeline(steps=[(&#x27;preprocessor&#x27;,\n",
              "                 ColumnTransformer(remainder=&#x27;passthrough&#x27;,\n",
              "                                   transformers=[(&#x27;num&#x27;, StandardScaler(),\n",
              "                                                  [&#x27;bedRoom&#x27;, &#x27;bathroom&#x27;,\n",
              "                                                   &#x27;built_up_area&#x27;,\n",
              "                                                   &#x27;servant room&#x27;,\n",
              "                                                   &#x27;store room&#x27;]),\n",
              "                                                 (&#x27;cat&#x27;, OrdinalEncoder(),\n",
              "                                                  [&#x27;property_type&#x27;, &#x27;sector&#x27;,\n",
              "                                                   &#x27;balcony&#x27;, &#x27;agePossession&#x27;,\n",
              "                                                   &#x27;furnishing_type&#x27;,\n",
              "                                                   &#x27;luxury_category&#x27;,\n",
              "                                                   &#x27;floor_category&#x27;])])),\n",
              "                (&#x27;regressor&#x27;, LinearRegression())])</pre><b>In a Jupyter environment, please rerun this cell to show the HTML representation or trust the notebook. <br />On GitHub, the HTML representation is unable to render, please try loading this page with nbviewer.org.</b></div><div class=\"sk-container\" hidden><div class=\"sk-item sk-dashed-wrapped\"><div class=\"sk-label-container\"><div class=\"sk-label sk-toggleable\"><input class=\"sk-toggleable__control sk-hidden--visually\" id=\"sk-estimator-id-115\" type=\"checkbox\" ><label for=\"sk-estimator-id-115\" class=\"sk-toggleable__label sk-toggleable__label-arrow\">Pipeline</label><div class=\"sk-toggleable__content\"><pre>Pipeline(steps=[(&#x27;preprocessor&#x27;,\n",
              "                 ColumnTransformer(remainder=&#x27;passthrough&#x27;,\n",
              "                                   transformers=[(&#x27;num&#x27;, StandardScaler(),\n",
              "                                                  [&#x27;bedRoom&#x27;, &#x27;bathroom&#x27;,\n",
              "                                                   &#x27;built_up_area&#x27;,\n",
              "                                                   &#x27;servant room&#x27;,\n",
              "                                                   &#x27;store room&#x27;]),\n",
              "                                                 (&#x27;cat&#x27;, OrdinalEncoder(),\n",
              "                                                  [&#x27;property_type&#x27;, &#x27;sector&#x27;,\n",
              "                                                   &#x27;balcony&#x27;, &#x27;agePossession&#x27;,\n",
              "                                                   &#x27;furnishing_type&#x27;,\n",
              "                                                   &#x27;luxury_category&#x27;,\n",
              "                                                   &#x27;floor_category&#x27;])])),\n",
              "                (&#x27;regressor&#x27;, LinearRegression())])</pre></div></div></div><div class=\"sk-serial\"><div class=\"sk-item sk-dashed-wrapped\"><div class=\"sk-label-container\"><div class=\"sk-label sk-toggleable\"><input class=\"sk-toggleable__control sk-hidden--visually\" id=\"sk-estimator-id-116\" type=\"checkbox\" ><label for=\"sk-estimator-id-116\" class=\"sk-toggleable__label sk-toggleable__label-arrow\">preprocessor: ColumnTransformer</label><div class=\"sk-toggleable__content\"><pre>ColumnTransformer(remainder=&#x27;passthrough&#x27;,\n",
              "                  transformers=[(&#x27;num&#x27;, StandardScaler(),\n",
              "                                 [&#x27;bedRoom&#x27;, &#x27;bathroom&#x27;, &#x27;built_up_area&#x27;,\n",
              "                                  &#x27;servant room&#x27;, &#x27;store room&#x27;]),\n",
              "                                (&#x27;cat&#x27;, OrdinalEncoder(),\n",
              "                                 [&#x27;property_type&#x27;, &#x27;sector&#x27;, &#x27;balcony&#x27;,\n",
              "                                  &#x27;agePossession&#x27;, &#x27;furnishing_type&#x27;,\n",
              "                                  &#x27;luxury_category&#x27;, &#x27;floor_category&#x27;])])</pre></div></div></div><div class=\"sk-parallel\"><div class=\"sk-parallel-item\"><div class=\"sk-item\"><div class=\"sk-label-container\"><div class=\"sk-label sk-toggleable\"><input class=\"sk-toggleable__control sk-hidden--visually\" id=\"sk-estimator-id-117\" type=\"checkbox\" ><label for=\"sk-estimator-id-117\" class=\"sk-toggleable__label sk-toggleable__label-arrow\">num</label><div class=\"sk-toggleable__content\"><pre>[&#x27;bedRoom&#x27;, &#x27;bathroom&#x27;, &#x27;built_up_area&#x27;, &#x27;servant room&#x27;, &#x27;store room&#x27;]</pre></div></div></div><div class=\"sk-serial\"><div class=\"sk-item\"><div class=\"sk-estimator sk-toggleable\"><input class=\"sk-toggleable__control sk-hidden--visually\" id=\"sk-estimator-id-118\" type=\"checkbox\" ><label for=\"sk-estimator-id-118\" class=\"sk-toggleable__label sk-toggleable__label-arrow\">StandardScaler</label><div class=\"sk-toggleable__content\"><pre>StandardScaler()</pre></div></div></div></div></div></div><div class=\"sk-parallel-item\"><div class=\"sk-item\"><div class=\"sk-label-container\"><div class=\"sk-label sk-toggleable\"><input class=\"sk-toggleable__control sk-hidden--visually\" id=\"sk-estimator-id-119\" type=\"checkbox\" ><label for=\"sk-estimator-id-119\" class=\"sk-toggleable__label sk-toggleable__label-arrow\">cat</label><div class=\"sk-toggleable__content\"><pre>[&#x27;property_type&#x27;, &#x27;sector&#x27;, &#x27;balcony&#x27;, &#x27;agePossession&#x27;, &#x27;furnishing_type&#x27;, &#x27;luxury_category&#x27;, &#x27;floor_category&#x27;]</pre></div></div></div><div class=\"sk-serial\"><div class=\"sk-item\"><div class=\"sk-estimator sk-toggleable\"><input class=\"sk-toggleable__control sk-hidden--visually\" id=\"sk-estimator-id-120\" type=\"checkbox\" ><label for=\"sk-estimator-id-120\" class=\"sk-toggleable__label sk-toggleable__label-arrow\">OrdinalEncoder</label><div class=\"sk-toggleable__content\"><pre>OrdinalEncoder()</pre></div></div></div></div></div></div><div class=\"sk-parallel-item\"><div class=\"sk-item\"><div class=\"sk-label-container\"><div class=\"sk-label sk-toggleable\"><input class=\"sk-toggleable__control sk-hidden--visually\" id=\"sk-estimator-id-121\" type=\"checkbox\" ><label for=\"sk-estimator-id-121\" class=\"sk-toggleable__label sk-toggleable__label-arrow\">remainder</label><div class=\"sk-toggleable__content\"><pre>[]</pre></div></div></div><div class=\"sk-serial\"><div class=\"sk-item\"><div class=\"sk-estimator sk-toggleable\"><input class=\"sk-toggleable__control sk-hidden--visually\" id=\"sk-estimator-id-122\" type=\"checkbox\" ><label for=\"sk-estimator-id-122\" class=\"sk-toggleable__label sk-toggleable__label-arrow\">passthrough</label><div class=\"sk-toggleable__content\"><pre>passthrough</pre></div></div></div></div></div></div></div></div><div class=\"sk-item\"><div class=\"sk-estimator sk-toggleable\"><input class=\"sk-toggleable__control sk-hidden--visually\" id=\"sk-estimator-id-123\" type=\"checkbox\" ><label for=\"sk-estimator-id-123\" class=\"sk-toggleable__label sk-toggleable__label-arrow\">LinearRegression</label><div class=\"sk-toggleable__content\"><pre>LinearRegression()</pre></div></div></div></div></div></div></div>"
            ],
            "text/plain": [
              "Pipeline(steps=[('preprocessor',\n",
              "                 ColumnTransformer(remainder='passthrough',\n",
              "                                   transformers=[('num', StandardScaler(),\n",
              "                                                  ['bedRoom', 'bathroom',\n",
              "                                                   'built_up_area',\n",
              "                                                   'servant room',\n",
              "                                                   'store room']),\n",
              "                                                 ('cat', OrdinalEncoder(),\n",
              "                                                  ['property_type', 'sector',\n",
              "                                                   'balcony', 'agePossession',\n",
              "                                                   'furnishing_type',\n",
              "                                                   'luxury_category',\n",
              "                                                   'floor_category'])])),\n",
              "                ('regressor', LinearRegression())])"
            ]
          },
          "execution_count": 192,
          "metadata": {},
          "output_type": "execute_result"
        }
      ],
      "source": [
        "pipeline.fit(X_train,y_train)"
      ]
    },
    {
      "cell_type": "code",
      "execution_count": null,
      "metadata": {
        "id": "1fbcc89d"
      },
      "outputs": [],
      "source": [
        "y_pred = pipeline.predict(X_test)"
      ]
    },
    {
      "cell_type": "code",
      "execution_count": null,
      "metadata": {
        "id": "1aae4a7c"
      },
      "outputs": [],
      "source": [
        "y_pred = np.expm1(y_pred)"
      ]
    },
    {
      "cell_type": "code",
      "execution_count": null,
      "metadata": {
        "id": "fcc15b04",
        "outputId": "fe8541c0-94c3-4655-e4e2-79327ce710d6"
      },
      "outputs": [
        {
          "data": {
            "text/plain": [
              "0.946382216008936"
            ]
          },
          "execution_count": 195,
          "metadata": {},
          "output_type": "execute_result"
        }
      ],
      "source": [
        "mean_absolute_error(np.expm1(y_test),y_pred)"
      ]
    },
    {
      "cell_type": "code",
      "execution_count": null,
      "metadata": {
        "id": "2051ad70"
      },
      "outputs": [],
      "source": [
        "def scorer(model_name, model):\n",
        "\n",
        "    output = []\n",
        "\n",
        "    output.append(model_name)\n",
        "\n",
        "    pipeline = Pipeline([\n",
        "        ('preprocessor', preprocessor),\n",
        "        ('regressor', model)\n",
        "    ])\n",
        "\n",
        "    # K-fold cross-validation\n",
        "    kfold = KFold(n_splits=10, shuffle=True, random_state=42)\n",
        "    scores = cross_val_score(pipeline, X, y_transformed, cv=kfold, scoring='r2')\n",
        "\n",
        "    output.append(scores.mean())\n",
        "\n",
        "    X_train, X_test, y_train, y_test = train_test_split(X,y_transformed,test_size=0.2,random_state=42)\n",
        "\n",
        "    pipeline.fit(X_train,y_train)\n",
        "\n",
        "    y_pred = pipeline.predict(X_test)\n",
        "\n",
        "    y_pred = np.expm1(y_pred)\n",
        "\n",
        "    output.append(mean_absolute_error(np.expm1(y_test),y_pred))\n",
        "\n",
        "    return output\n"
      ]
    },
    {
      "cell_type": "code",
      "execution_count": null,
      "metadata": {
        "id": "dca9553e"
      },
      "outputs": [],
      "source": [
        "model_dict = {\n",
        "    'linear_reg':LinearRegression(),\n",
        "    'svr':SVR(),\n",
        "    'ridge':Ridge(),\n",
        "    'LASSO':Lasso(),\n",
        "    'decision tree': DecisionTreeRegressor(),\n",
        "    'random forest':RandomForestRegressor(),\n",
        "    'extra trees': ExtraTreesRegressor(),\n",
        "    'gradient boosting': GradientBoostingRegressor(),\n",
        "    'adaboost': AdaBoostRegressor(),\n",
        "    'mlp': MLPRegressor(),\n",
        "    'xgboost':XGBRegressor()\n",
        "}"
      ]
    },
    {
      "cell_type": "code",
      "execution_count": null,
      "metadata": {
        "id": "b8a9d1d4"
      },
      "outputs": [],
      "source": [
        "model_output = []\n",
        "for model_name,model in model_dict.items():\n",
        "    model_output.append(scorer(model_name, model))"
      ]
    },
    {
      "cell_type": "code",
      "execution_count": null,
      "metadata": {
        "id": "fab0a513",
        "outputId": "516c5655-4a12-457e-cb2f-06732c1ff84a"
      },
      "outputs": [
        {
          "data": {
            "text/plain": [
              "[['linear_reg', 0.7363096633436828, 0.946382216008936],\n",
              " ['svr', 0.7642012011196353, 0.847263647348393],\n",
              " ['ridge', 0.7363125343993552, 0.9463387741853373],\n",
              " ['LASSO', 0.05943378064493573, 1.528905986892753],\n",
              " ['decision tree', 0.7733519182489208, 0.7327350302344696],\n",
              " ['random forest', 0.8802756109024458, 0.5299163614429243],\n",
              " ['extra trees', 0.8667629489444835, 0.5588317006218079],\n",
              " ['gradient boosting', 0.8726535827701527, 0.5769760078825875],\n",
              " ['adaboost', 0.759083020312242, 0.8599990916537755],\n",
              " ['mlp', 0.8049216494633942, 0.6897604060903195],\n",
              " ['xgboost', 0.8917010012719994, 0.5113240614244203]]"
            ]
          },
          "execution_count": 199,
          "metadata": {},
          "output_type": "execute_result"
        }
      ],
      "source": [
        "model_output"
      ]
    },
    {
      "cell_type": "code",
      "execution_count": null,
      "metadata": {
        "id": "ac628d76"
      },
      "outputs": [],
      "source": [
        "model_df = pd.DataFrame(model_output, columns=['name','r2','mae'])"
      ]
    },
    {
      "cell_type": "code",
      "execution_count": null,
      "metadata": {
        "id": "143ff7b2",
        "outputId": "1959e07a-46d3-4ca7-ec4f-18ae0287288e"
      },
      "outputs": [
        {
          "data": {
            "text/html": [
              "<div>\n",
              "<style scoped>\n",
              "    .dataframe tbody tr th:only-of-type {\n",
              "        vertical-align: middle;\n",
              "    }\n",
              "\n",
              "    .dataframe tbody tr th {\n",
              "        vertical-align: top;\n",
              "    }\n",
              "\n",
              "    .dataframe thead th {\n",
              "        text-align: right;\n",
              "    }\n",
              "</style>\n",
              "<table border=\"1\" class=\"dataframe\">\n",
              "  <thead>\n",
              "    <tr style=\"text-align: right;\">\n",
              "      <th></th>\n",
              "      <th>name</th>\n",
              "      <th>r2</th>\n",
              "      <th>mae</th>\n",
              "    </tr>\n",
              "  </thead>\n",
              "  <tbody>\n",
              "    <tr>\n",
              "      <th>10</th>\n",
              "      <td>xgboost</td>\n",
              "      <td>0.891701</td>\n",
              "      <td>0.511324</td>\n",
              "    </tr>\n",
              "    <tr>\n",
              "      <th>5</th>\n",
              "      <td>random forest</td>\n",
              "      <td>0.880276</td>\n",
              "      <td>0.529916</td>\n",
              "    </tr>\n",
              "    <tr>\n",
              "      <th>6</th>\n",
              "      <td>extra trees</td>\n",
              "      <td>0.866763</td>\n",
              "      <td>0.558832</td>\n",
              "    </tr>\n",
              "    <tr>\n",
              "      <th>7</th>\n",
              "      <td>gradient boosting</td>\n",
              "      <td>0.872654</td>\n",
              "      <td>0.576976</td>\n",
              "    </tr>\n",
              "    <tr>\n",
              "      <th>9</th>\n",
              "      <td>mlp</td>\n",
              "      <td>0.804922</td>\n",
              "      <td>0.689760</td>\n",
              "    </tr>\n",
              "    <tr>\n",
              "      <th>4</th>\n",
              "      <td>decision tree</td>\n",
              "      <td>0.773352</td>\n",
              "      <td>0.732735</td>\n",
              "    </tr>\n",
              "    <tr>\n",
              "      <th>1</th>\n",
              "      <td>svr</td>\n",
              "      <td>0.764201</td>\n",
              "      <td>0.847264</td>\n",
              "    </tr>\n",
              "    <tr>\n",
              "      <th>8</th>\n",
              "      <td>adaboost</td>\n",
              "      <td>0.759083</td>\n",
              "      <td>0.859999</td>\n",
              "    </tr>\n",
              "    <tr>\n",
              "      <th>2</th>\n",
              "      <td>ridge</td>\n",
              "      <td>0.736313</td>\n",
              "      <td>0.946339</td>\n",
              "    </tr>\n",
              "    <tr>\n",
              "      <th>0</th>\n",
              "      <td>linear_reg</td>\n",
              "      <td>0.736310</td>\n",
              "      <td>0.946382</td>\n",
              "    </tr>\n",
              "    <tr>\n",
              "      <th>3</th>\n",
              "      <td>LASSO</td>\n",
              "      <td>0.059434</td>\n",
              "      <td>1.528906</td>\n",
              "    </tr>\n",
              "  </tbody>\n",
              "</table>\n",
              "</div>"
            ],
            "text/plain": [
              "                 name        r2       mae\n",
              "10            xgboost  0.891701  0.511324\n",
              "5       random forest  0.880276  0.529916\n",
              "6         extra trees  0.866763  0.558832\n",
              "7   gradient boosting  0.872654  0.576976\n",
              "9                 mlp  0.804922  0.689760\n",
              "4       decision tree  0.773352  0.732735\n",
              "1                 svr  0.764201  0.847264\n",
              "8            adaboost  0.759083  0.859999\n",
              "2               ridge  0.736313  0.946339\n",
              "0          linear_reg  0.736310  0.946382\n",
              "3               LASSO  0.059434  1.528906"
            ]
          },
          "execution_count": 201,
          "metadata": {},
          "output_type": "execute_result"
        }
      ],
      "source": [
        "model_df.sort_values(['mae'])"
      ]
    },
    {
      "cell_type": "markdown",
      "metadata": {
        "id": "60ca5697"
      },
      "source": [
        "### OneHotEncoding"
      ]
    },
    {
      "cell_type": "code",
      "execution_count": null,
      "metadata": {
        "id": "50130423"
      },
      "outputs": [],
      "source": [
        "# Creating a column transformer for preprocessing\n",
        "preprocessor = ColumnTransformer(\n",
        "    transformers=[\n",
        "        ('num', StandardScaler(), ['bedRoom', 'bathroom', 'built_up_area', 'servant room', 'store room']),\n",
        "        ('cat', OrdinalEncoder(), columns_to_encode),\n",
        "        ('cat1',OneHotEncoder(drop='first'),['sector','agePossession','furnishing_type'])\n",
        "    ],\n",
        "    remainder='passthrough'\n",
        ")"
      ]
    },
    {
      "cell_type": "code",
      "execution_count": null,
      "metadata": {
        "id": "861b508b"
      },
      "outputs": [],
      "source": [
        "# Creating a pipeline\n",
        "pipeline = Pipeline([\n",
        "    ('preprocessor', preprocessor),\n",
        "    ('regressor', LinearRegression())\n",
        "])"
      ]
    },
    {
      "cell_type": "code",
      "execution_count": null,
      "metadata": {
        "id": "d9455a15"
      },
      "outputs": [],
      "source": [
        "# K-fold cross-validation\n",
        "kfold = KFold(n_splits=10, shuffle=True, random_state=42)\n",
        "scores = cross_val_score(pipeline, X, y_transformed, cv=kfold, scoring='r2')"
      ]
    },
    {
      "cell_type": "code",
      "execution_count": null,
      "metadata": {
        "id": "5d8dc0df",
        "outputId": "22146056-d0e6-41bc-c314-a75a8d888127"
      },
      "outputs": [
        {
          "data": {
            "text/plain": [
              "0.8546151565794373"
            ]
          },
          "execution_count": 205,
          "metadata": {},
          "output_type": "execute_result"
        }
      ],
      "source": [
        "scores.mean()"
      ]
    },
    {
      "cell_type": "code",
      "execution_count": null,
      "metadata": {
        "id": "6ff52ada",
        "outputId": "f5f060a9-f347-49ef-a928-13fa9ed3dc24"
      },
      "outputs": [
        {
          "data": {
            "text/plain": [
              "0.01599241443881349"
            ]
          },
          "execution_count": 206,
          "metadata": {},
          "output_type": "execute_result"
        }
      ],
      "source": [
        "scores.std()"
      ]
    },
    {
      "cell_type": "code",
      "execution_count": null,
      "metadata": {
        "id": "594d17c7"
      },
      "outputs": [],
      "source": [
        "X_train, X_test, y_train, y_test = train_test_split(X,y_transformed,test_size=0.2,random_state=42)"
      ]
    },
    {
      "cell_type": "code",
      "execution_count": null,
      "metadata": {
        "id": "6c182b60",
        "outputId": "5f4ca50e-7bd3-4899-8666-943cdf8b84b9"
      },
      "outputs": [
        {
          "data": {
            "text/html": [
              "<style>#sk-container-id-11 {color: black;background-color: white;}#sk-container-id-11 pre{padding: 0;}#sk-container-id-11 div.sk-toggleable {background-color: white;}#sk-container-id-11 label.sk-toggleable__label {cursor: pointer;display: block;width: 100%;margin-bottom: 0;padding: 0.3em;box-sizing: border-box;text-align: center;}#sk-container-id-11 label.sk-toggleable__label-arrow:before {content: \"▸\";float: left;margin-right: 0.25em;color: #696969;}#sk-container-id-11 label.sk-toggleable__label-arrow:hover:before {color: black;}#sk-container-id-11 div.sk-estimator:hover label.sk-toggleable__label-arrow:before {color: black;}#sk-container-id-11 div.sk-toggleable__content {max-height: 0;max-width: 0;overflow: hidden;text-align: left;background-color: #f0f8ff;}#sk-container-id-11 div.sk-toggleable__content pre {margin: 0.2em;color: black;border-radius: 0.25em;background-color: #f0f8ff;}#sk-container-id-11 input.sk-toggleable__control:checked~div.sk-toggleable__content {max-height: 200px;max-width: 100%;overflow: auto;}#sk-container-id-11 input.sk-toggleable__control:checked~label.sk-toggleable__label-arrow:before {content: \"▾\";}#sk-container-id-11 div.sk-estimator input.sk-toggleable__control:checked~label.sk-toggleable__label {background-color: #d4ebff;}#sk-container-id-11 div.sk-label input.sk-toggleable__control:checked~label.sk-toggleable__label {background-color: #d4ebff;}#sk-container-id-11 input.sk-hidden--visually {border: 0;clip: rect(1px 1px 1px 1px);clip: rect(1px, 1px, 1px, 1px);height: 1px;margin: -1px;overflow: hidden;padding: 0;position: absolute;width: 1px;}#sk-container-id-11 div.sk-estimator {font-family: monospace;background-color: #f0f8ff;border: 1px dotted black;border-radius: 0.25em;box-sizing: border-box;margin-bottom: 0.5em;}#sk-container-id-11 div.sk-estimator:hover {background-color: #d4ebff;}#sk-container-id-11 div.sk-parallel-item::after {content: \"\";width: 100%;border-bottom: 1px solid gray;flex-grow: 1;}#sk-container-id-11 div.sk-label:hover label.sk-toggleable__label {background-color: #d4ebff;}#sk-container-id-11 div.sk-serial::before {content: \"\";position: absolute;border-left: 1px solid gray;box-sizing: border-box;top: 0;bottom: 0;left: 50%;z-index: 0;}#sk-container-id-11 div.sk-serial {display: flex;flex-direction: column;align-items: center;background-color: white;padding-right: 0.2em;padding-left: 0.2em;position: relative;}#sk-container-id-11 div.sk-item {position: relative;z-index: 1;}#sk-container-id-11 div.sk-parallel {display: flex;align-items: stretch;justify-content: center;background-color: white;position: relative;}#sk-container-id-11 div.sk-item::before, #sk-container-id-11 div.sk-parallel-item::before {content: \"\";position: absolute;border-left: 1px solid gray;box-sizing: border-box;top: 0;bottom: 0;left: 50%;z-index: -1;}#sk-container-id-11 div.sk-parallel-item {display: flex;flex-direction: column;z-index: 1;position: relative;background-color: white;}#sk-container-id-11 div.sk-parallel-item:first-child::after {align-self: flex-end;width: 50%;}#sk-container-id-11 div.sk-parallel-item:last-child::after {align-self: flex-start;width: 50%;}#sk-container-id-11 div.sk-parallel-item:only-child::after {width: 0;}#sk-container-id-11 div.sk-dashed-wrapped {border: 1px dashed gray;margin: 0 0.4em 0.5em 0.4em;box-sizing: border-box;padding-bottom: 0.4em;background-color: white;}#sk-container-id-11 div.sk-label label {font-family: monospace;font-weight: bold;display: inline-block;line-height: 1.2em;}#sk-container-id-11 div.sk-label-container {text-align: center;}#sk-container-id-11 div.sk-container {/* jupyter's `normalize.less` sets `[hidden] { display: none; }` but bootstrap.min.css set `[hidden] { display: none !important; }` so we also need the `!important` here to be able to override the default hidden behavior on the sphinx rendered scikit-learn.org. See: https://github.com/scikit-learn/scikit-learn/issues/21755 */display: inline-block !important;position: relative;}#sk-container-id-11 div.sk-text-repr-fallback {display: none;}</style><div id=\"sk-container-id-11\" class=\"sk-top-container\"><div class=\"sk-text-repr-fallback\"><pre>Pipeline(steps=[(&#x27;preprocessor&#x27;,\n",
              "                 ColumnTransformer(remainder=&#x27;passthrough&#x27;,\n",
              "                                   transformers=[(&#x27;num&#x27;, StandardScaler(),\n",
              "                                                  [&#x27;bedRoom&#x27;, &#x27;bathroom&#x27;,\n",
              "                                                   &#x27;built_up_area&#x27;,\n",
              "                                                   &#x27;servant room&#x27;,\n",
              "                                                   &#x27;store room&#x27;]),\n",
              "                                                 (&#x27;cat&#x27;, OrdinalEncoder(),\n",
              "                                                  [&#x27;property_type&#x27;, &#x27;sector&#x27;,\n",
              "                                                   &#x27;balcony&#x27;, &#x27;agePossession&#x27;,\n",
              "                                                   &#x27;furnishing_type&#x27;,\n",
              "                                                   &#x27;luxury_category&#x27;,\n",
              "                                                   &#x27;floor_category&#x27;]),\n",
              "                                                 (&#x27;cat1&#x27;,\n",
              "                                                  OneHotEncoder(drop=&#x27;first&#x27;),\n",
              "                                                  [&#x27;sector&#x27;, &#x27;agePossession&#x27;,\n",
              "                                                   &#x27;furnishing_type&#x27;])])),\n",
              "                (&#x27;regressor&#x27;, LinearRegression())])</pre><b>In a Jupyter environment, please rerun this cell to show the HTML representation or trust the notebook. <br />On GitHub, the HTML representation is unable to render, please try loading this page with nbviewer.org.</b></div><div class=\"sk-container\" hidden><div class=\"sk-item sk-dashed-wrapped\"><div class=\"sk-label-container\"><div class=\"sk-label sk-toggleable\"><input class=\"sk-toggleable__control sk-hidden--visually\" id=\"sk-estimator-id-124\" type=\"checkbox\" ><label for=\"sk-estimator-id-124\" class=\"sk-toggleable__label sk-toggleable__label-arrow\">Pipeline</label><div class=\"sk-toggleable__content\"><pre>Pipeline(steps=[(&#x27;preprocessor&#x27;,\n",
              "                 ColumnTransformer(remainder=&#x27;passthrough&#x27;,\n",
              "                                   transformers=[(&#x27;num&#x27;, StandardScaler(),\n",
              "                                                  [&#x27;bedRoom&#x27;, &#x27;bathroom&#x27;,\n",
              "                                                   &#x27;built_up_area&#x27;,\n",
              "                                                   &#x27;servant room&#x27;,\n",
              "                                                   &#x27;store room&#x27;]),\n",
              "                                                 (&#x27;cat&#x27;, OrdinalEncoder(),\n",
              "                                                  [&#x27;property_type&#x27;, &#x27;sector&#x27;,\n",
              "                                                   &#x27;balcony&#x27;, &#x27;agePossession&#x27;,\n",
              "                                                   &#x27;furnishing_type&#x27;,\n",
              "                                                   &#x27;luxury_category&#x27;,\n",
              "                                                   &#x27;floor_category&#x27;]),\n",
              "                                                 (&#x27;cat1&#x27;,\n",
              "                                                  OneHotEncoder(drop=&#x27;first&#x27;),\n",
              "                                                  [&#x27;sector&#x27;, &#x27;agePossession&#x27;,\n",
              "                                                   &#x27;furnishing_type&#x27;])])),\n",
              "                (&#x27;regressor&#x27;, LinearRegression())])</pre></div></div></div><div class=\"sk-serial\"><div class=\"sk-item sk-dashed-wrapped\"><div class=\"sk-label-container\"><div class=\"sk-label sk-toggleable\"><input class=\"sk-toggleable__control sk-hidden--visually\" id=\"sk-estimator-id-125\" type=\"checkbox\" ><label for=\"sk-estimator-id-125\" class=\"sk-toggleable__label sk-toggleable__label-arrow\">preprocessor: ColumnTransformer</label><div class=\"sk-toggleable__content\"><pre>ColumnTransformer(remainder=&#x27;passthrough&#x27;,\n",
              "                  transformers=[(&#x27;num&#x27;, StandardScaler(),\n",
              "                                 [&#x27;bedRoom&#x27;, &#x27;bathroom&#x27;, &#x27;built_up_area&#x27;,\n",
              "                                  &#x27;servant room&#x27;, &#x27;store room&#x27;]),\n",
              "                                (&#x27;cat&#x27;, OrdinalEncoder(),\n",
              "                                 [&#x27;property_type&#x27;, &#x27;sector&#x27;, &#x27;balcony&#x27;,\n",
              "                                  &#x27;agePossession&#x27;, &#x27;furnishing_type&#x27;,\n",
              "                                  &#x27;luxury_category&#x27;, &#x27;floor_category&#x27;]),\n",
              "                                (&#x27;cat1&#x27;, OneHotEncoder(drop=&#x27;first&#x27;),\n",
              "                                 [&#x27;sector&#x27;, &#x27;agePossession&#x27;,\n",
              "                                  &#x27;furnishing_type&#x27;])])</pre></div></div></div><div class=\"sk-parallel\"><div class=\"sk-parallel-item\"><div class=\"sk-item\"><div class=\"sk-label-container\"><div class=\"sk-label sk-toggleable\"><input class=\"sk-toggleable__control sk-hidden--visually\" id=\"sk-estimator-id-126\" type=\"checkbox\" ><label for=\"sk-estimator-id-126\" class=\"sk-toggleable__label sk-toggleable__label-arrow\">num</label><div class=\"sk-toggleable__content\"><pre>[&#x27;bedRoom&#x27;, &#x27;bathroom&#x27;, &#x27;built_up_area&#x27;, &#x27;servant room&#x27;, &#x27;store room&#x27;]</pre></div></div></div><div class=\"sk-serial\"><div class=\"sk-item\"><div class=\"sk-estimator sk-toggleable\"><input class=\"sk-toggleable__control sk-hidden--visually\" id=\"sk-estimator-id-127\" type=\"checkbox\" ><label for=\"sk-estimator-id-127\" class=\"sk-toggleable__label sk-toggleable__label-arrow\">StandardScaler</label><div class=\"sk-toggleable__content\"><pre>StandardScaler()</pre></div></div></div></div></div></div><div class=\"sk-parallel-item\"><div class=\"sk-item\"><div class=\"sk-label-container\"><div class=\"sk-label sk-toggleable\"><input class=\"sk-toggleable__control sk-hidden--visually\" id=\"sk-estimator-id-128\" type=\"checkbox\" ><label for=\"sk-estimator-id-128\" class=\"sk-toggleable__label sk-toggleable__label-arrow\">cat</label><div class=\"sk-toggleable__content\"><pre>[&#x27;property_type&#x27;, &#x27;sector&#x27;, &#x27;balcony&#x27;, &#x27;agePossession&#x27;, &#x27;furnishing_type&#x27;, &#x27;luxury_category&#x27;, &#x27;floor_category&#x27;]</pre></div></div></div><div class=\"sk-serial\"><div class=\"sk-item\"><div class=\"sk-estimator sk-toggleable\"><input class=\"sk-toggleable__control sk-hidden--visually\" id=\"sk-estimator-id-129\" type=\"checkbox\" ><label for=\"sk-estimator-id-129\" class=\"sk-toggleable__label sk-toggleable__label-arrow\">OrdinalEncoder</label><div class=\"sk-toggleable__content\"><pre>OrdinalEncoder()</pre></div></div></div></div></div></div><div class=\"sk-parallel-item\"><div class=\"sk-item\"><div class=\"sk-label-container\"><div class=\"sk-label sk-toggleable\"><input class=\"sk-toggleable__control sk-hidden--visually\" id=\"sk-estimator-id-130\" type=\"checkbox\" ><label for=\"sk-estimator-id-130\" class=\"sk-toggleable__label sk-toggleable__label-arrow\">cat1</label><div class=\"sk-toggleable__content\"><pre>[&#x27;sector&#x27;, &#x27;agePossession&#x27;, &#x27;furnishing_type&#x27;]</pre></div></div></div><div class=\"sk-serial\"><div class=\"sk-item\"><div class=\"sk-estimator sk-toggleable\"><input class=\"sk-toggleable__control sk-hidden--visually\" id=\"sk-estimator-id-131\" type=\"checkbox\" ><label for=\"sk-estimator-id-131\" class=\"sk-toggleable__label sk-toggleable__label-arrow\">OneHotEncoder</label><div class=\"sk-toggleable__content\"><pre>OneHotEncoder(drop=&#x27;first&#x27;)</pre></div></div></div></div></div></div><div class=\"sk-parallel-item\"><div class=\"sk-item\"><div class=\"sk-label-container\"><div class=\"sk-label sk-toggleable\"><input class=\"sk-toggleable__control sk-hidden--visually\" id=\"sk-estimator-id-132\" type=\"checkbox\" ><label for=\"sk-estimator-id-132\" class=\"sk-toggleable__label sk-toggleable__label-arrow\">remainder</label><div class=\"sk-toggleable__content\"><pre>[]</pre></div></div></div><div class=\"sk-serial\"><div class=\"sk-item\"><div class=\"sk-estimator sk-toggleable\"><input class=\"sk-toggleable__control sk-hidden--visually\" id=\"sk-estimator-id-133\" type=\"checkbox\" ><label for=\"sk-estimator-id-133\" class=\"sk-toggleable__label sk-toggleable__label-arrow\">passthrough</label><div class=\"sk-toggleable__content\"><pre>passthrough</pre></div></div></div></div></div></div></div></div><div class=\"sk-item\"><div class=\"sk-estimator sk-toggleable\"><input class=\"sk-toggleable__control sk-hidden--visually\" id=\"sk-estimator-id-134\" type=\"checkbox\" ><label for=\"sk-estimator-id-134\" class=\"sk-toggleable__label sk-toggleable__label-arrow\">LinearRegression</label><div class=\"sk-toggleable__content\"><pre>LinearRegression()</pre></div></div></div></div></div></div></div>"
            ],
            "text/plain": [
              "Pipeline(steps=[('preprocessor',\n",
              "                 ColumnTransformer(remainder='passthrough',\n",
              "                                   transformers=[('num', StandardScaler(),\n",
              "                                                  ['bedRoom', 'bathroom',\n",
              "                                                   'built_up_area',\n",
              "                                                   'servant room',\n",
              "                                                   'store room']),\n",
              "                                                 ('cat', OrdinalEncoder(),\n",
              "                                                  ['property_type', 'sector',\n",
              "                                                   'balcony', 'agePossession',\n",
              "                                                   'furnishing_type',\n",
              "                                                   'luxury_category',\n",
              "                                                   'floor_category']),\n",
              "                                                 ('cat1',\n",
              "                                                  OneHotEncoder(drop='first'),\n",
              "                                                  ['sector', 'agePossession',\n",
              "                                                   'furnishing_type'])])),\n",
              "                ('regressor', LinearRegression())])"
            ]
          },
          "execution_count": 208,
          "metadata": {},
          "output_type": "execute_result"
        }
      ],
      "source": [
        "pipeline.fit(X_train,y_train)"
      ]
    },
    {
      "cell_type": "code",
      "execution_count": null,
      "metadata": {
        "id": "f50b7f8f"
      },
      "outputs": [],
      "source": [
        "y_pred = pipeline.predict(X_test)"
      ]
    },
    {
      "cell_type": "code",
      "execution_count": null,
      "metadata": {
        "id": "56328d6a"
      },
      "outputs": [],
      "source": [
        "y_pred = np.expm1(y_pred)"
      ]
    },
    {
      "cell_type": "code",
      "execution_count": null,
      "metadata": {
        "id": "47cb17aa",
        "outputId": "54cfe767-6085-42d9-d4f6-0d25c233b145"
      },
      "outputs": [
        {
          "data": {
            "text/plain": [
              "0.6496726539947721"
            ]
          },
          "execution_count": 211,
          "metadata": {},
          "output_type": "execute_result"
        }
      ],
      "source": [
        "mean_absolute_error(np.expm1(y_test),y_pred)"
      ]
    },
    {
      "cell_type": "code",
      "execution_count": null,
      "metadata": {
        "id": "16b2d377"
      },
      "outputs": [],
      "source": [
        "def scorer(model_name, model):\n",
        "\n",
        "    output = []\n",
        "\n",
        "    output.append(model_name)\n",
        "\n",
        "    pipeline = Pipeline([\n",
        "        ('preprocessor', preprocessor),\n",
        "        ('regressor', model)\n",
        "    ])\n",
        "\n",
        "    # K-fold cross-validation\n",
        "    kfold = KFold(n_splits=10, shuffle=True, random_state=42)\n",
        "    scores = cross_val_score(pipeline, X, y_transformed, cv=kfold, scoring='r2')\n",
        "\n",
        "    output.append(scores.mean())\n",
        "\n",
        "    X_train, X_test, y_train, y_test = train_test_split(X,y_transformed,test_size=0.2,random_state=42)\n",
        "\n",
        "    pipeline.fit(X_train,y_train)\n",
        "\n",
        "    y_pred = pipeline.predict(X_test)\n",
        "\n",
        "    y_pred = np.expm1(y_pred)\n",
        "\n",
        "    output.append(mean_absolute_error(np.expm1(y_test),y_pred))\n",
        "\n",
        "    return output\n"
      ]
    },
    {
      "cell_type": "code",
      "execution_count": null,
      "metadata": {
        "id": "3fdef9c9"
      },
      "outputs": [],
      "source": [
        "model_dict = {\n",
        "    'linear_reg':LinearRegression(),\n",
        "    'svr':SVR(),\n",
        "    'ridge':Ridge(),\n",
        "    'LASSO':Lasso(),\n",
        "    'decision tree': DecisionTreeRegressor(),\n",
        "    'random forest':RandomForestRegressor(),\n",
        "    'extra trees': ExtraTreesRegressor(),\n",
        "    'gradient boosting': GradientBoostingRegressor(),\n",
        "    'adaboost': AdaBoostRegressor(),\n",
        "    'mlp': MLPRegressor(),\n",
        "    'xgboost':XGBRegressor()\n",
        "}"
      ]
    },
    {
      "cell_type": "code",
      "execution_count": null,
      "metadata": {
        "id": "bd43a9ac"
      },
      "outputs": [],
      "source": [
        "model_output = []\n",
        "for model_name,model in model_dict.items():\n",
        "    model_output.append(scorer(model_name, model))"
      ]
    },
    {
      "cell_type": "code",
      "execution_count": null,
      "metadata": {
        "id": "99f87bf1"
      },
      "outputs": [],
      "source": [
        "model_df = pd.DataFrame(model_output, columns=['name','r2','mae'])"
      ]
    },
    {
      "cell_type": "code",
      "execution_count": null,
      "metadata": {
        "id": "077430c8",
        "outputId": "a2c6e191-fa2a-452a-904f-7dca8cba8c16"
      },
      "outputs": [
        {
          "data": {
            "text/html": [
              "<div>\n",
              "<style scoped>\n",
              "    .dataframe tbody tr th:only-of-type {\n",
              "        vertical-align: middle;\n",
              "    }\n",
              "\n",
              "    .dataframe tbody tr th {\n",
              "        vertical-align: top;\n",
              "    }\n",
              "\n",
              "    .dataframe thead th {\n",
              "        text-align: right;\n",
              "    }\n",
              "</style>\n",
              "<table border=\"1\" class=\"dataframe\">\n",
              "  <thead>\n",
              "    <tr style=\"text-align: right;\">\n",
              "      <th></th>\n",
              "      <th>name</th>\n",
              "      <th>r2</th>\n",
              "      <th>mae</th>\n",
              "    </tr>\n",
              "  </thead>\n",
              "  <tbody>\n",
              "    <tr>\n",
              "      <th>6</th>\n",
              "      <td>extra trees</td>\n",
              "      <td>0.895030</td>\n",
              "      <td>0.466733</td>\n",
              "    </tr>\n",
              "    <tr>\n",
              "      <th>10</th>\n",
              "      <td>xgboost</td>\n",
              "      <td>0.896218</td>\n",
              "      <td>0.488796</td>\n",
              "    </tr>\n",
              "    <tr>\n",
              "      <th>5</th>\n",
              "      <td>random forest</td>\n",
              "      <td>0.891069</td>\n",
              "      <td>0.500622</td>\n",
              "    </tr>\n",
              "    <tr>\n",
              "      <th>9</th>\n",
              "      <td>mlp</td>\n",
              "      <td>0.879159</td>\n",
              "      <td>0.548368</td>\n",
              "    </tr>\n",
              "    <tr>\n",
              "      <th>7</th>\n",
              "      <td>gradient boosting</td>\n",
              "      <td>0.876766</td>\n",
              "      <td>0.569051</td>\n",
              "    </tr>\n",
              "    <tr>\n",
              "      <th>0</th>\n",
              "      <td>linear_reg</td>\n",
              "      <td>0.854615</td>\n",
              "      <td>0.649673</td>\n",
              "    </tr>\n",
              "    <tr>\n",
              "      <th>2</th>\n",
              "      <td>ridge</td>\n",
              "      <td>0.854673</td>\n",
              "      <td>0.652990</td>\n",
              "    </tr>\n",
              "    <tr>\n",
              "      <th>4</th>\n",
              "      <td>decision tree</td>\n",
              "      <td>0.807571</td>\n",
              "      <td>0.691544</td>\n",
              "    </tr>\n",
              "    <tr>\n",
              "      <th>8</th>\n",
              "      <td>adaboost</td>\n",
              "      <td>0.753009</td>\n",
              "      <td>0.814340</td>\n",
              "    </tr>\n",
              "    <tr>\n",
              "      <th>1</th>\n",
              "      <td>svr</td>\n",
              "      <td>0.769741</td>\n",
              "      <td>0.834124</td>\n",
              "    </tr>\n",
              "    <tr>\n",
              "      <th>3</th>\n",
              "      <td>LASSO</td>\n",
              "      <td>0.059434</td>\n",
              "      <td>1.528906</td>\n",
              "    </tr>\n",
              "  </tbody>\n",
              "</table>\n",
              "</div>"
            ],
            "text/plain": [
              "                 name        r2       mae\n",
              "6         extra trees  0.895030  0.466733\n",
              "10            xgboost  0.896218  0.488796\n",
              "5       random forest  0.891069  0.500622\n",
              "9                 mlp  0.879159  0.548368\n",
              "7   gradient boosting  0.876766  0.569051\n",
              "0          linear_reg  0.854615  0.649673\n",
              "2               ridge  0.854673  0.652990\n",
              "4       decision tree  0.807571  0.691544\n",
              "8            adaboost  0.753009  0.814340\n",
              "1                 svr  0.769741  0.834124\n",
              "3               LASSO  0.059434  1.528906"
            ]
          },
          "execution_count": 216,
          "metadata": {},
          "output_type": "execute_result"
        }
      ],
      "source": [
        "model_df.sort_values(['mae'])"
      ]
    },
    {
      "cell_type": "markdown",
      "metadata": {
        "id": "407728e2"
      },
      "source": [
        "### OneHotEncoding With PCA"
      ]
    },
    {
      "cell_type": "code",
      "execution_count": null,
      "metadata": {
        "id": "b29b48c6"
      },
      "outputs": [],
      "source": [
        "# Creating a column transformer for preprocessing\n",
        "preprocessor = ColumnTransformer(\n",
        "    transformers=[\n",
        "        ('num', StandardScaler(), ['bedRoom', 'bathroom', 'built_up_area', 'servant room', 'store room']),\n",
        "        ('cat', OrdinalEncoder(), columns_to_encode),\n",
        "        ('cat1',OneHotEncoder(drop='first',sparse_output=False),['sector','agePossession'])\n",
        "    ],\n",
        "    remainder='passthrough'\n",
        ")"
      ]
    },
    {
      "cell_type": "code",
      "execution_count": null,
      "metadata": {
        "id": "f1d0099e"
      },
      "outputs": [],
      "source": [
        "# Creating a pipeline\n",
        "pipeline = Pipeline([\n",
        "    ('preprocessor', preprocessor),\n",
        "    ('pca', PCA(n_components=0.95)),\n",
        "    ('regressor', LinearRegression())\n",
        "])"
      ]
    },
    {
      "cell_type": "code",
      "execution_count": null,
      "metadata": {
        "id": "3024633c"
      },
      "outputs": [],
      "source": [
        "# K-fold cross-validation\n",
        "kfold = KFold(n_splits=10, shuffle=True, random_state=42)\n",
        "scores = cross_val_score(pipeline, X, y_transformed, cv=kfold, scoring='r2')"
      ]
    },
    {
      "cell_type": "code",
      "execution_count": null,
      "metadata": {
        "id": "7df1dbeb",
        "outputId": "ce66ec35-32f7-4eda-9060-6f80e86e18e7"
      },
      "outputs": [
        {
          "data": {
            "text/plain": [
              "0.06225201431451137"
            ]
          },
          "execution_count": 220,
          "metadata": {},
          "output_type": "execute_result"
        }
      ],
      "source": [
        "scores.mean()"
      ]
    },
    {
      "cell_type": "code",
      "execution_count": null,
      "metadata": {
        "id": "134c3769",
        "outputId": "8cce7293-05af-45bc-bfa0-712f6aa7625a"
      },
      "outputs": [
        {
          "data": {
            "text/plain": [
              "0.019860594071640144"
            ]
          },
          "execution_count": 221,
          "metadata": {},
          "output_type": "execute_result"
        }
      ],
      "source": [
        "scores.std()"
      ]
    },
    {
      "cell_type": "code",
      "execution_count": null,
      "metadata": {
        "id": "704ba719"
      },
      "outputs": [],
      "source": [
        "def scorer(model_name, model):\n",
        "\n",
        "    output = []\n",
        "\n",
        "    output.append(model_name)\n",
        "\n",
        "    pipeline = Pipeline([\n",
        "        ('preprocessor', preprocessor),\n",
        "        ('pca', PCA(n_components=0.95)),\n",
        "        ('regressor', model)\n",
        "    ])\n",
        "\n",
        "    # K-fold cross-validation\n",
        "    kfold = KFold(n_splits=10, shuffle=True, random_state=42)\n",
        "    scores = cross_val_score(pipeline, X, y_transformed, cv=kfold, scoring='r2')\n",
        "\n",
        "    output.append(scores.mean())\n",
        "\n",
        "    X_train, X_test, y_train, y_test = train_test_split(X,y_transformed,test_size=0.2,random_state=42)\n",
        "\n",
        "    pipeline.fit(X_train,y_train)\n",
        "\n",
        "    y_pred = pipeline.predict(X_test)\n",
        "\n",
        "    y_pred = np.expm1(y_pred)\n",
        "\n",
        "    output.append(mean_absolute_error(np.expm1(y_test),y_pred))\n",
        "\n",
        "    return output\n"
      ]
    },
    {
      "cell_type": "code",
      "execution_count": null,
      "metadata": {
        "id": "ad4ffc60"
      },
      "outputs": [],
      "source": [
        "model_dict = {\n",
        "    'linear_reg':LinearRegression(),\n",
        "    'svr':SVR(),\n",
        "    'ridge':Ridge(),\n",
        "    'LASSO':Lasso(),\n",
        "    'decision tree': DecisionTreeRegressor(),\n",
        "    'random forest':RandomForestRegressor(),\n",
        "    'extra trees': ExtraTreesRegressor(),\n",
        "    'gradient boosting': GradientBoostingRegressor(),\n",
        "    'adaboost': AdaBoostRegressor(),\n",
        "    'mlp': MLPRegressor(),\n",
        "    'xgboost':XGBRegressor()\n",
        "}"
      ]
    },
    {
      "cell_type": "code",
      "execution_count": null,
      "metadata": {
        "id": "ea3ac5ea"
      },
      "outputs": [],
      "source": [
        "model_output = []\n",
        "for model_name,model in model_dict.items():\n",
        "    model_output.append(scorer(model_name, model))"
      ]
    },
    {
      "cell_type": "code",
      "execution_count": null,
      "metadata": {
        "id": "edc7a23d"
      },
      "outputs": [],
      "source": [
        "model_df = pd.DataFrame(model_output, columns=['name','r2','mae'])"
      ]
    },
    {
      "cell_type": "code",
      "execution_count": null,
      "metadata": {
        "id": "a757b875",
        "outputId": "7b9346ec-0a62-418e-84a8-c24309022fe0"
      },
      "outputs": [
        {
          "data": {
            "text/html": [
              "<div>\n",
              "<style scoped>\n",
              "    .dataframe tbody tr th:only-of-type {\n",
              "        vertical-align: middle;\n",
              "    }\n",
              "\n",
              "    .dataframe tbody tr th {\n",
              "        vertical-align: top;\n",
              "    }\n",
              "\n",
              "    .dataframe thead th {\n",
              "        text-align: right;\n",
              "    }\n",
              "</style>\n",
              "<table border=\"1\" class=\"dataframe\">\n",
              "  <thead>\n",
              "    <tr style=\"text-align: right;\">\n",
              "      <th></th>\n",
              "      <th>name</th>\n",
              "      <th>r2</th>\n",
              "      <th>mae</th>\n",
              "    </tr>\n",
              "  </thead>\n",
              "  <tbody>\n",
              "    <tr>\n",
              "      <th>5</th>\n",
              "      <td>random forest</td>\n",
              "      <td>0.762912</td>\n",
              "      <td>0.653758</td>\n",
              "    </tr>\n",
              "    <tr>\n",
              "      <th>10</th>\n",
              "      <td>xgboost</td>\n",
              "      <td>0.769887</td>\n",
              "      <td>0.679862</td>\n",
              "    </tr>\n",
              "    <tr>\n",
              "      <th>6</th>\n",
              "      <td>extra trees</td>\n",
              "      <td>0.739560</td>\n",
              "      <td>0.700014</td>\n",
              "    </tr>\n",
              "    <tr>\n",
              "      <th>4</th>\n",
              "      <td>decision tree</td>\n",
              "      <td>0.696182</td>\n",
              "      <td>0.757290</td>\n",
              "    </tr>\n",
              "    <tr>\n",
              "      <th>7</th>\n",
              "      <td>gradient boosting</td>\n",
              "      <td>0.610604</td>\n",
              "      <td>0.987906</td>\n",
              "    </tr>\n",
              "    <tr>\n",
              "      <th>8</th>\n",
              "      <td>adaboost</td>\n",
              "      <td>0.315161</td>\n",
              "      <td>1.340912</td>\n",
              "    </tr>\n",
              "    <tr>\n",
              "      <th>1</th>\n",
              "      <td>svr</td>\n",
              "      <td>0.218073</td>\n",
              "      <td>1.361163</td>\n",
              "    </tr>\n",
              "    <tr>\n",
              "      <th>9</th>\n",
              "      <td>mlp</td>\n",
              "      <td>0.214025</td>\n",
              "      <td>1.417001</td>\n",
              "    </tr>\n",
              "    <tr>\n",
              "      <th>2</th>\n",
              "      <td>ridge</td>\n",
              "      <td>0.062252</td>\n",
              "      <td>1.526707</td>\n",
              "    </tr>\n",
              "    <tr>\n",
              "      <th>0</th>\n",
              "      <td>linear_reg</td>\n",
              "      <td>0.062252</td>\n",
              "      <td>1.526707</td>\n",
              "    </tr>\n",
              "    <tr>\n",
              "      <th>3</th>\n",
              "      <td>LASSO</td>\n",
              "      <td>0.059676</td>\n",
              "      <td>1.528739</td>\n",
              "    </tr>\n",
              "  </tbody>\n",
              "</table>\n",
              "</div>"
            ],
            "text/plain": [
              "                 name        r2       mae\n",
              "5       random forest  0.762912  0.653758\n",
              "10            xgboost  0.769887  0.679862\n",
              "6         extra trees  0.739560  0.700014\n",
              "4       decision tree  0.696182  0.757290\n",
              "7   gradient boosting  0.610604  0.987906\n",
              "8            adaboost  0.315161  1.340912\n",
              "1                 svr  0.218073  1.361163\n",
              "9                 mlp  0.214025  1.417001\n",
              "2               ridge  0.062252  1.526707\n",
              "0          linear_reg  0.062252  1.526707\n",
              "3               LASSO  0.059676  1.528739"
            ]
          },
          "execution_count": 226,
          "metadata": {},
          "output_type": "execute_result"
        }
      ],
      "source": [
        "model_df.sort_values(['mae'])"
      ]
    },
    {
      "cell_type": "markdown",
      "metadata": {
        "id": "4c447af1"
      },
      "source": [
        "### Target Encoder"
      ]
    },
    {
      "cell_type": "code",
      "execution_count": null,
      "metadata": {
        "id": "579e9512"
      },
      "outputs": [],
      "source": [
        "import category_encoders as ce\n",
        "\n",
        "columns_to_encode = ['property_type','sector', 'balcony', 'agePossession', 'furnishing_type', 'luxury_category', 'floor_category']\n",
        "\n",
        "# Creating a column transformer for preprocessing\n",
        "preprocessor = ColumnTransformer(\n",
        "    transformers=[\n",
        "        ('num', StandardScaler(), ['bedRoom', 'bathroom', 'built_up_area', 'servant room', 'store room']),\n",
        "        ('cat', OrdinalEncoder(), columns_to_encode),\n",
        "        ('cat1',OneHotEncoder(drop='first',sparse_output=False),['agePossession']),\n",
        "        ('target_enc', ce.TargetEncoder(), ['sector'])\n",
        "    ],\n",
        "    remainder='passthrough'\n",
        ")"
      ]
    },
    {
      "cell_type": "code",
      "execution_count": null,
      "metadata": {
        "id": "3b45ab99"
      },
      "outputs": [],
      "source": [
        "!pip install category_encoders"
      ]
    },
    {
      "cell_type": "code",
      "execution_count": null,
      "metadata": {
        "id": "6bfed857"
      },
      "outputs": [],
      "source": [
        "# Creating a pipeline\n",
        "pipeline = Pipeline([\n",
        "    ('preprocessor', preprocessor),\n",
        "    ('regressor', LinearRegression())\n",
        "])"
      ]
    },
    {
      "cell_type": "code",
      "execution_count": null,
      "metadata": {
        "id": "cab63e93"
      },
      "outputs": [],
      "source": [
        "# K-fold cross-validation\n",
        "kfold = KFold(n_splits=10, shuffle=True, random_state=42)\n",
        "scores = cross_val_score(pipeline, X, y_transformed, cv=kfold, scoring='r2')"
      ]
    },
    {
      "cell_type": "code",
      "execution_count": null,
      "metadata": {
        "id": "2cc65244",
        "outputId": "fc537758-8793-421f-e399-f11a90df2e87"
      },
      "outputs": [
        {
          "data": {
            "text/plain": [
              "(0.8295219182255362, 0.018384463379122844)"
            ]
          },
          "execution_count": 230,
          "metadata": {},
          "output_type": "execute_result"
        }
      ],
      "source": [
        "scores.mean(),scores.std()"
      ]
    },
    {
      "cell_type": "code",
      "execution_count": null,
      "metadata": {
        "id": "4719d291"
      },
      "outputs": [],
      "source": [
        "def scorer(model_name, model):\n",
        "\n",
        "    output = []\n",
        "\n",
        "    output.append(model_name)\n",
        "\n",
        "    pipeline = Pipeline([\n",
        "        ('preprocessor', preprocessor),\n",
        "        ('regressor', model)\n",
        "    ])\n",
        "\n",
        "    # K-fold cross-validation\n",
        "    kfold = KFold(n_splits=10, shuffle=True, random_state=42)\n",
        "    scores = cross_val_score(pipeline, X, y_transformed, cv=kfold, scoring='r2')\n",
        "\n",
        "    output.append(scores.mean())\n",
        "\n",
        "    X_train, X_test, y_train, y_test = train_test_split(X,y_transformed,test_size=0.2,random_state=42)\n",
        "\n",
        "    pipeline.fit(X_train,y_train)\n",
        "\n",
        "    y_pred = pipeline.predict(X_test)\n",
        "\n",
        "    y_pred = np.expm1(y_pred)\n",
        "\n",
        "    output.append(mean_absolute_error(np.expm1(y_test),y_pred))\n",
        "\n",
        "    return output\n"
      ]
    },
    {
      "cell_type": "code",
      "execution_count": null,
      "metadata": {
        "id": "f6d6d178"
      },
      "outputs": [],
      "source": [
        "model_dict = {\n",
        "    'linear_reg':LinearRegression(),\n",
        "    'svr':SVR(),\n",
        "    'ridge':Ridge(),\n",
        "    'LASSO':Lasso(),\n",
        "    'decision tree': DecisionTreeRegressor(),\n",
        "    'random forest':RandomForestRegressor(),\n",
        "    'extra trees': ExtraTreesRegressor(),\n",
        "    'gradient boosting': GradientBoostingRegressor(),\n",
        "    'adaboost': AdaBoostRegressor(),\n",
        "    'mlp': MLPRegressor(),\n",
        "    'xgboost':XGBRegressor()\n",
        "}"
      ]
    },
    {
      "cell_type": "code",
      "execution_count": null,
      "metadata": {
        "id": "a67db403"
      },
      "outputs": [],
      "source": [
        "model_output = []\n",
        "for model_name,model in model_dict.items():\n",
        "    model_output.append(scorer(model_name, model))"
      ]
    },
    {
      "cell_type": "code",
      "execution_count": null,
      "metadata": {
        "id": "7bfdc20f"
      },
      "outputs": [],
      "source": [
        "model_df = pd.DataFrame(model_output, columns=['name','r2','mae'])"
      ]
    },
    {
      "cell_type": "code",
      "execution_count": null,
      "metadata": {
        "id": "87e5b032",
        "outputId": "19cdc912-406f-49d0-9af5-62b14ac2d229"
      },
      "outputs": [
        {
          "data": {
            "text/html": [
              "<div>\n",
              "<style scoped>\n",
              "    .dataframe tbody tr th:only-of-type {\n",
              "        vertical-align: middle;\n",
              "    }\n",
              "\n",
              "    .dataframe tbody tr th {\n",
              "        vertical-align: top;\n",
              "    }\n",
              "\n",
              "    .dataframe thead th {\n",
              "        text-align: right;\n",
              "    }\n",
              "</style>\n",
              "<table border=\"1\" class=\"dataframe\">\n",
              "  <thead>\n",
              "    <tr style=\"text-align: right;\">\n",
              "      <th></th>\n",
              "      <th>name</th>\n",
              "      <th>r2</th>\n",
              "      <th>mae</th>\n",
              "    </tr>\n",
              "  </thead>\n",
              "  <tbody>\n",
              "    <tr>\n",
              "      <th>5</th>\n",
              "      <td>random forest</td>\n",
              "      <td>0.900529</td>\n",
              "      <td>0.453631</td>\n",
              "    </tr>\n",
              "    <tr>\n",
              "      <th>6</th>\n",
              "      <td>extra trees</td>\n",
              "      <td>0.902299</td>\n",
              "      <td>0.457174</td>\n",
              "    </tr>\n",
              "    <tr>\n",
              "      <th>10</th>\n",
              "      <td>xgboost</td>\n",
              "      <td>0.900643</td>\n",
              "      <td>0.483409</td>\n",
              "    </tr>\n",
              "    <tr>\n",
              "      <th>7</th>\n",
              "      <td>gradient boosting</td>\n",
              "      <td>0.889074</td>\n",
              "      <td>0.509390</td>\n",
              "    </tr>\n",
              "    <tr>\n",
              "      <th>4</th>\n",
              "      <td>decision tree</td>\n",
              "      <td>0.830704</td>\n",
              "      <td>0.543814</td>\n",
              "    </tr>\n",
              "    <tr>\n",
              "      <th>9</th>\n",
              "      <td>mlp</td>\n",
              "      <td>0.852892</td>\n",
              "      <td>0.629715</td>\n",
              "    </tr>\n",
              "    <tr>\n",
              "      <th>8</th>\n",
              "      <td>adaboost</td>\n",
              "      <td>0.820024</td>\n",
              "      <td>0.681451</td>\n",
              "    </tr>\n",
              "    <tr>\n",
              "      <th>0</th>\n",
              "      <td>linear_reg</td>\n",
              "      <td>0.829522</td>\n",
              "      <td>0.713011</td>\n",
              "    </tr>\n",
              "    <tr>\n",
              "      <th>2</th>\n",
              "      <td>ridge</td>\n",
              "      <td>0.829536</td>\n",
              "      <td>0.713523</td>\n",
              "    </tr>\n",
              "    <tr>\n",
              "      <th>1</th>\n",
              "      <td>svr</td>\n",
              "      <td>0.782917</td>\n",
              "      <td>0.818851</td>\n",
              "    </tr>\n",
              "    <tr>\n",
              "      <th>3</th>\n",
              "      <td>LASSO</td>\n",
              "      <td>0.059434</td>\n",
              "      <td>1.528906</td>\n",
              "    </tr>\n",
              "  </tbody>\n",
              "</table>\n",
              "</div>"
            ],
            "text/plain": [
              "                 name        r2       mae\n",
              "5       random forest  0.900529  0.453631\n",
              "6         extra trees  0.902299  0.457174\n",
              "10            xgboost  0.900643  0.483409\n",
              "7   gradient boosting  0.889074  0.509390\n",
              "4       decision tree  0.830704  0.543814\n",
              "9                 mlp  0.852892  0.629715\n",
              "8            adaboost  0.820024  0.681451\n",
              "0          linear_reg  0.829522  0.713011\n",
              "2               ridge  0.829536  0.713523\n",
              "1                 svr  0.782917  0.818851\n",
              "3               LASSO  0.059434  1.528906"
            ]
          },
          "execution_count": 235,
          "metadata": {},
          "output_type": "execute_result"
        }
      ],
      "source": [
        "model_df.sort_values(['mae'])"
      ]
    },
    {
      "cell_type": "markdown",
      "metadata": {
        "id": "31c671e7"
      },
      "source": [
        "### Hyperparameter Tuning"
      ]
    },
    {
      "cell_type": "code",
      "execution_count": null,
      "metadata": {
        "id": "84d0573f"
      },
      "outputs": [],
      "source": [
        "from sklearn.model_selection import GridSearchCV"
      ]
    },
    {
      "cell_type": "code",
      "execution_count": null,
      "metadata": {
        "id": "a81b8e78"
      },
      "outputs": [],
      "source": [
        "param_grid = {\n",
        "    'regressor__n_estimators': [50, 100, 200, 300],\n",
        "    'regressor__max_depth': [None, 10, 20, 30],\n",
        "    'regressor__max_samples':[0.1, 0.25, 0.5, 1.0],\n",
        "    'regressor__max_features': ['auto', 'sqrt']\n",
        "}"
      ]
    },
    {
      "cell_type": "code",
      "execution_count": null,
      "metadata": {
        "id": "e7397c82"
      },
      "outputs": [],
      "source": [
        "columns_to_encode = ['property_type','sector', 'balcony', 'agePossession', 'furnishing_type', 'luxury_category', 'floor_category']\n",
        "\n",
        "# Creating a column transformer for preprocessing\n",
        "preprocessor = ColumnTransformer(\n",
        "    transformers=[\n",
        "        ('num', StandardScaler(), ['bedRoom', 'bathroom', 'built_up_area', 'servant room', 'store room']),\n",
        "        ('cat', OrdinalEncoder(), columns_to_encode),\n",
        "        ('cat1',OneHotEncoder(drop='first',sparse_output=False),['agePossession']),\n",
        "        ('target_enc', ce.TargetEncoder(), ['sector'])\n",
        "    ],\n",
        "    remainder='passthrough'\n",
        ")"
      ]
    },
    {
      "cell_type": "code",
      "execution_count": null,
      "metadata": {
        "id": "45807e15"
      },
      "outputs": [],
      "source": [
        "pipeline = Pipeline([\n",
        "    ('preprocessor', preprocessor),\n",
        "    ('regressor', RandomForestRegressor())\n",
        "])"
      ]
    },
    {
      "cell_type": "code",
      "execution_count": null,
      "metadata": {
        "id": "3287204e"
      },
      "outputs": [],
      "source": [
        "kfold = KFold(n_splits=10, shuffle=True, random_state=42)"
      ]
    },
    {
      "cell_type": "code",
      "execution_count": null,
      "metadata": {
        "id": "8a26e17a"
      },
      "outputs": [],
      "source": [
        "search = GridSearchCV(pipeline, param_grid, cv=kfold, scoring='r2', n_jobs=-1, verbose=4)"
      ]
    },
    {
      "cell_type": "code",
      "execution_count": null,
      "metadata": {
        "id": "6a468e2b",
        "outputId": "621e4bc1-83b9-4fda-9321-ef0477b4967d"
      },
      "outputs": [
        {
          "name": "stdout",
          "output_type": "stream",
          "text": [
            "Fitting 10 folds for each of 128 candidates, totalling 1280 fits\n"
          ]
        },
        {
          "data": {
            "text/html": [
              "<style>#sk-container-id-7 {color: black;background-color: white;}#sk-container-id-7 pre{padding: 0;}#sk-container-id-7 div.sk-toggleable {background-color: white;}#sk-container-id-7 label.sk-toggleable__label {cursor: pointer;display: block;width: 100%;margin-bottom: 0;padding: 0.3em;box-sizing: border-box;text-align: center;}#sk-container-id-7 label.sk-toggleable__label-arrow:before {content: \"▸\";float: left;margin-right: 0.25em;color: #696969;}#sk-container-id-7 label.sk-toggleable__label-arrow:hover:before {color: black;}#sk-container-id-7 div.sk-estimator:hover label.sk-toggleable__label-arrow:before {color: black;}#sk-container-id-7 div.sk-toggleable__content {max-height: 0;max-width: 0;overflow: hidden;text-align: left;background-color: #f0f8ff;}#sk-container-id-7 div.sk-toggleable__content pre {margin: 0.2em;color: black;border-radius: 0.25em;background-color: #f0f8ff;}#sk-container-id-7 input.sk-toggleable__control:checked~div.sk-toggleable__content {max-height: 200px;max-width: 100%;overflow: auto;}#sk-container-id-7 input.sk-toggleable__control:checked~label.sk-toggleable__label-arrow:before {content: \"▾\";}#sk-container-id-7 div.sk-estimator input.sk-toggleable__control:checked~label.sk-toggleable__label {background-color: #d4ebff;}#sk-container-id-7 div.sk-label input.sk-toggleable__control:checked~label.sk-toggleable__label {background-color: #d4ebff;}#sk-container-id-7 input.sk-hidden--visually {border: 0;clip: rect(1px 1px 1px 1px);clip: rect(1px, 1px, 1px, 1px);height: 1px;margin: -1px;overflow: hidden;padding: 0;position: absolute;width: 1px;}#sk-container-id-7 div.sk-estimator {font-family: monospace;background-color: #f0f8ff;border: 1px dotted black;border-radius: 0.25em;box-sizing: border-box;margin-bottom: 0.5em;}#sk-container-id-7 div.sk-estimator:hover {background-color: #d4ebff;}#sk-container-id-7 div.sk-parallel-item::after {content: \"\";width: 100%;border-bottom: 1px solid gray;flex-grow: 1;}#sk-container-id-7 div.sk-label:hover label.sk-toggleable__label {background-color: #d4ebff;}#sk-container-id-7 div.sk-serial::before {content: \"\";position: absolute;border-left: 1px solid gray;box-sizing: border-box;top: 0;bottom: 0;left: 50%;z-index: 0;}#sk-container-id-7 div.sk-serial {display: flex;flex-direction: column;align-items: center;background-color: white;padding-right: 0.2em;padding-left: 0.2em;position: relative;}#sk-container-id-7 div.sk-item {position: relative;z-index: 1;}#sk-container-id-7 div.sk-parallel {display: flex;align-items: stretch;justify-content: center;background-color: white;position: relative;}#sk-container-id-7 div.sk-item::before, #sk-container-id-7 div.sk-parallel-item::before {content: \"\";position: absolute;border-left: 1px solid gray;box-sizing: border-box;top: 0;bottom: 0;left: 50%;z-index: -1;}#sk-container-id-7 div.sk-parallel-item {display: flex;flex-direction: column;z-index: 1;position: relative;background-color: white;}#sk-container-id-7 div.sk-parallel-item:first-child::after {align-self: flex-end;width: 50%;}#sk-container-id-7 div.sk-parallel-item:last-child::after {align-self: flex-start;width: 50%;}#sk-container-id-7 div.sk-parallel-item:only-child::after {width: 0;}#sk-container-id-7 div.sk-dashed-wrapped {border: 1px dashed gray;margin: 0 0.4em 0.5em 0.4em;box-sizing: border-box;padding-bottom: 0.4em;background-color: white;}#sk-container-id-7 div.sk-label label {font-family: monospace;font-weight: bold;display: inline-block;line-height: 1.2em;}#sk-container-id-7 div.sk-label-container {text-align: center;}#sk-container-id-7 div.sk-container {/* jupyter's `normalize.less` sets `[hidden] { display: none; }` but bootstrap.min.css set `[hidden] { display: none !important; }` so we also need the `!important` here to be able to override the default hidden behavior on the sphinx rendered scikit-learn.org. See: https://github.com/scikit-learn/scikit-learn/issues/21755 */display: inline-block !important;position: relative;}#sk-container-id-7 div.sk-text-repr-fallback {display: none;}</style><div id=\"sk-container-id-7\" class=\"sk-top-container\"><div class=\"sk-text-repr-fallback\"><pre>GridSearchCV(cv=KFold(n_splits=10, random_state=42, shuffle=True),\n",
              "             estimator=Pipeline(steps=[(&#x27;preprocessor&#x27;,\n",
              "                                        ColumnTransformer(remainder=&#x27;passthrough&#x27;,\n",
              "                                                          transformers=[(&#x27;num&#x27;,\n",
              "                                                                         StandardScaler(),\n",
              "                                                                         [&#x27;bedRoom&#x27;,\n",
              "                                                                          &#x27;bathroom&#x27;,\n",
              "                                                                          &#x27;built_up_area&#x27;,\n",
              "                                                                          &#x27;servant &#x27;\n",
              "                                                                          &#x27;room&#x27;,\n",
              "                                                                          &#x27;store &#x27;\n",
              "                                                                          &#x27;room&#x27;]),\n",
              "                                                                        (&#x27;cat&#x27;,\n",
              "                                                                         OrdinalEncoder(),\n",
              "                                                                         [&#x27;property_type&#x27;,\n",
              "                                                                          &#x27;sector&#x27;,\n",
              "                                                                          &#x27;balcony&#x27;,\n",
              "                                                                          &#x27;agePossession&#x27;,\n",
              "                                                                          &#x27;furnishing_type&#x27;,...\n",
              "                                                                         OneHotEncoder(drop=&#x27;first&#x27;,\n",
              "                                                                                       sparse_output=False),\n",
              "                                                                         [&#x27;agePossession&#x27;]),\n",
              "                                                                        (&#x27;target_enc&#x27;,\n",
              "                                                                         TargetEncoder(),\n",
              "                                                                         [&#x27;sector&#x27;])])),\n",
              "                                       (&#x27;regressor&#x27;, RandomForestRegressor())]),\n",
              "             n_jobs=-1,\n",
              "             param_grid={&#x27;regressor__max_depth&#x27;: [None, 10, 20, 30],\n",
              "                         &#x27;regressor__max_features&#x27;: [&#x27;auto&#x27;, &#x27;sqrt&#x27;],\n",
              "                         &#x27;regressor__max_samples&#x27;: [0.1, 0.25, 0.5, 1.0],\n",
              "                         &#x27;regressor__n_estimators&#x27;: [50, 100, 200, 300]},\n",
              "             scoring=&#x27;r2&#x27;, verbose=4)</pre><b>In a Jupyter environment, please rerun this cell to show the HTML representation or trust the notebook. <br />On GitHub, the HTML representation is unable to render, please try loading this page with nbviewer.org.</b></div><div class=\"sk-container\" hidden><div class=\"sk-item sk-dashed-wrapped\"><div class=\"sk-label-container\"><div class=\"sk-label sk-toggleable\"><input class=\"sk-toggleable__control sk-hidden--visually\" id=\"sk-estimator-id-75\" type=\"checkbox\" ><label for=\"sk-estimator-id-75\" class=\"sk-toggleable__label sk-toggleable__label-arrow\">GridSearchCV</label><div class=\"sk-toggleable__content\"><pre>GridSearchCV(cv=KFold(n_splits=10, random_state=42, shuffle=True),\n",
              "             estimator=Pipeline(steps=[(&#x27;preprocessor&#x27;,\n",
              "                                        ColumnTransformer(remainder=&#x27;passthrough&#x27;,\n",
              "                                                          transformers=[(&#x27;num&#x27;,\n",
              "                                                                         StandardScaler(),\n",
              "                                                                         [&#x27;bedRoom&#x27;,\n",
              "                                                                          &#x27;bathroom&#x27;,\n",
              "                                                                          &#x27;built_up_area&#x27;,\n",
              "                                                                          &#x27;servant &#x27;\n",
              "                                                                          &#x27;room&#x27;,\n",
              "                                                                          &#x27;store &#x27;\n",
              "                                                                          &#x27;room&#x27;]),\n",
              "                                                                        (&#x27;cat&#x27;,\n",
              "                                                                         OrdinalEncoder(),\n",
              "                                                                         [&#x27;property_type&#x27;,\n",
              "                                                                          &#x27;sector&#x27;,\n",
              "                                                                          &#x27;balcony&#x27;,\n",
              "                                                                          &#x27;agePossession&#x27;,\n",
              "                                                                          &#x27;furnishing_type&#x27;,...\n",
              "                                                                         OneHotEncoder(drop=&#x27;first&#x27;,\n",
              "                                                                                       sparse_output=False),\n",
              "                                                                         [&#x27;agePossession&#x27;]),\n",
              "                                                                        (&#x27;target_enc&#x27;,\n",
              "                                                                         TargetEncoder(),\n",
              "                                                                         [&#x27;sector&#x27;])])),\n",
              "                                       (&#x27;regressor&#x27;, RandomForestRegressor())]),\n",
              "             n_jobs=-1,\n",
              "             param_grid={&#x27;regressor__max_depth&#x27;: [None, 10, 20, 30],\n",
              "                         &#x27;regressor__max_features&#x27;: [&#x27;auto&#x27;, &#x27;sqrt&#x27;],\n",
              "                         &#x27;regressor__max_samples&#x27;: [0.1, 0.25, 0.5, 1.0],\n",
              "                         &#x27;regressor__n_estimators&#x27;: [50, 100, 200, 300]},\n",
              "             scoring=&#x27;r2&#x27;, verbose=4)</pre></div></div></div><div class=\"sk-parallel\"><div class=\"sk-parallel-item\"><div class=\"sk-item\"><div class=\"sk-label-container\"><div class=\"sk-label sk-toggleable\"><input class=\"sk-toggleable__control sk-hidden--visually\" id=\"sk-estimator-id-76\" type=\"checkbox\" ><label for=\"sk-estimator-id-76\" class=\"sk-toggleable__label sk-toggleable__label-arrow\">estimator: Pipeline</label><div class=\"sk-toggleable__content\"><pre>Pipeline(steps=[(&#x27;preprocessor&#x27;,\n",
              "                 ColumnTransformer(remainder=&#x27;passthrough&#x27;,\n",
              "                                   transformers=[(&#x27;num&#x27;, StandardScaler(),\n",
              "                                                  [&#x27;bedRoom&#x27;, &#x27;bathroom&#x27;,\n",
              "                                                   &#x27;built_up_area&#x27;,\n",
              "                                                   &#x27;servant room&#x27;,\n",
              "                                                   &#x27;store room&#x27;]),\n",
              "                                                 (&#x27;cat&#x27;, OrdinalEncoder(),\n",
              "                                                  [&#x27;property_type&#x27;, &#x27;sector&#x27;,\n",
              "                                                   &#x27;balcony&#x27;, &#x27;agePossession&#x27;,\n",
              "                                                   &#x27;furnishing_type&#x27;,\n",
              "                                                   &#x27;luxury_category&#x27;,\n",
              "                                                   &#x27;floor_category&#x27;]),\n",
              "                                                 (&#x27;cat1&#x27;,\n",
              "                                                  OneHotEncoder(drop=&#x27;first&#x27;,\n",
              "                                                                sparse_output=False),\n",
              "                                                  [&#x27;agePossession&#x27;]),\n",
              "                                                 (&#x27;target_enc&#x27;, TargetEncoder(),\n",
              "                                                  [&#x27;sector&#x27;])])),\n",
              "                (&#x27;regressor&#x27;, RandomForestRegressor())])</pre></div></div></div><div class=\"sk-serial\"><div class=\"sk-item\"><div class=\"sk-serial\"><div class=\"sk-item sk-dashed-wrapped\"><div class=\"sk-label-container\"><div class=\"sk-label sk-toggleable\"><input class=\"sk-toggleable__control sk-hidden--visually\" id=\"sk-estimator-id-77\" type=\"checkbox\" ><label for=\"sk-estimator-id-77\" class=\"sk-toggleable__label sk-toggleable__label-arrow\">preprocessor: ColumnTransformer</label><div class=\"sk-toggleable__content\"><pre>ColumnTransformer(remainder=&#x27;passthrough&#x27;,\n",
              "                  transformers=[(&#x27;num&#x27;, StandardScaler(),\n",
              "                                 [&#x27;bedRoom&#x27;, &#x27;bathroom&#x27;, &#x27;built_up_area&#x27;,\n",
              "                                  &#x27;servant room&#x27;, &#x27;store room&#x27;]),\n",
              "                                (&#x27;cat&#x27;, OrdinalEncoder(),\n",
              "                                 [&#x27;property_type&#x27;, &#x27;sector&#x27;, &#x27;balcony&#x27;,\n",
              "                                  &#x27;agePossession&#x27;, &#x27;furnishing_type&#x27;,\n",
              "                                  &#x27;luxury_category&#x27;, &#x27;floor_category&#x27;]),\n",
              "                                (&#x27;cat1&#x27;,\n",
              "                                 OneHotEncoder(drop=&#x27;first&#x27;,\n",
              "                                               sparse_output=False),\n",
              "                                 [&#x27;agePossession&#x27;]),\n",
              "                                (&#x27;target_enc&#x27;, TargetEncoder(), [&#x27;sector&#x27;])])</pre></div></div></div><div class=\"sk-parallel\"><div class=\"sk-parallel-item\"><div class=\"sk-item\"><div class=\"sk-label-container\"><div class=\"sk-label sk-toggleable\"><input class=\"sk-toggleable__control sk-hidden--visually\" id=\"sk-estimator-id-78\" type=\"checkbox\" ><label for=\"sk-estimator-id-78\" class=\"sk-toggleable__label sk-toggleable__label-arrow\">num</label><div class=\"sk-toggleable__content\"><pre>[&#x27;bedRoom&#x27;, &#x27;bathroom&#x27;, &#x27;built_up_area&#x27;, &#x27;servant room&#x27;, &#x27;store room&#x27;]</pre></div></div></div><div class=\"sk-serial\"><div class=\"sk-item\"><div class=\"sk-estimator sk-toggleable\"><input class=\"sk-toggleable__control sk-hidden--visually\" id=\"sk-estimator-id-79\" type=\"checkbox\" ><label for=\"sk-estimator-id-79\" class=\"sk-toggleable__label sk-toggleable__label-arrow\">StandardScaler</label><div class=\"sk-toggleable__content\"><pre>StandardScaler()</pre></div></div></div></div></div></div><div class=\"sk-parallel-item\"><div class=\"sk-item\"><div class=\"sk-label-container\"><div class=\"sk-label sk-toggleable\"><input class=\"sk-toggleable__control sk-hidden--visually\" id=\"sk-estimator-id-80\" type=\"checkbox\" ><label for=\"sk-estimator-id-80\" class=\"sk-toggleable__label sk-toggleable__label-arrow\">cat</label><div class=\"sk-toggleable__content\"><pre>[&#x27;property_type&#x27;, &#x27;sector&#x27;, &#x27;balcony&#x27;, &#x27;agePossession&#x27;, &#x27;furnishing_type&#x27;, &#x27;luxury_category&#x27;, &#x27;floor_category&#x27;]</pre></div></div></div><div class=\"sk-serial\"><div class=\"sk-item\"><div class=\"sk-estimator sk-toggleable\"><input class=\"sk-toggleable__control sk-hidden--visually\" id=\"sk-estimator-id-81\" type=\"checkbox\" ><label for=\"sk-estimator-id-81\" class=\"sk-toggleable__label sk-toggleable__label-arrow\">OrdinalEncoder</label><div class=\"sk-toggleable__content\"><pre>OrdinalEncoder()</pre></div></div></div></div></div></div><div class=\"sk-parallel-item\"><div class=\"sk-item\"><div class=\"sk-label-container\"><div class=\"sk-label sk-toggleable\"><input class=\"sk-toggleable__control sk-hidden--visually\" id=\"sk-estimator-id-82\" type=\"checkbox\" ><label for=\"sk-estimator-id-82\" class=\"sk-toggleable__label sk-toggleable__label-arrow\">cat1</label><div class=\"sk-toggleable__content\"><pre>[&#x27;agePossession&#x27;]</pre></div></div></div><div class=\"sk-serial\"><div class=\"sk-item\"><div class=\"sk-estimator sk-toggleable\"><input class=\"sk-toggleable__control sk-hidden--visually\" id=\"sk-estimator-id-83\" type=\"checkbox\" ><label for=\"sk-estimator-id-83\" class=\"sk-toggleable__label sk-toggleable__label-arrow\">OneHotEncoder</label><div class=\"sk-toggleable__content\"><pre>OneHotEncoder(drop=&#x27;first&#x27;, sparse_output=False)</pre></div></div></div></div></div></div><div class=\"sk-parallel-item\"><div class=\"sk-item\"><div class=\"sk-label-container\"><div class=\"sk-label sk-toggleable\"><input class=\"sk-toggleable__control sk-hidden--visually\" id=\"sk-estimator-id-84\" type=\"checkbox\" ><label for=\"sk-estimator-id-84\" class=\"sk-toggleable__label sk-toggleable__label-arrow\">target_enc</label><div class=\"sk-toggleable__content\"><pre>[&#x27;sector&#x27;]</pre></div></div></div><div class=\"sk-serial\"><div class=\"sk-item\"><div class=\"sk-estimator sk-toggleable\"><input class=\"sk-toggleable__control sk-hidden--visually\" id=\"sk-estimator-id-85\" type=\"checkbox\" ><label for=\"sk-estimator-id-85\" class=\"sk-toggleable__label sk-toggleable__label-arrow\">TargetEncoder</label><div class=\"sk-toggleable__content\"><pre>TargetEncoder()</pre></div></div></div></div></div></div><div class=\"sk-parallel-item\"><div class=\"sk-item\"><div class=\"sk-label-container\"><div class=\"sk-label sk-toggleable\"><input class=\"sk-toggleable__control sk-hidden--visually\" id=\"sk-estimator-id-86\" type=\"checkbox\" ><label for=\"sk-estimator-id-86\" class=\"sk-toggleable__label sk-toggleable__label-arrow\">remainder</label><div class=\"sk-toggleable__content\"><pre></pre></div></div></div><div class=\"sk-serial\"><div class=\"sk-item\"><div class=\"sk-estimator sk-toggleable\"><input class=\"sk-toggleable__control sk-hidden--visually\" id=\"sk-estimator-id-87\" type=\"checkbox\" ><label for=\"sk-estimator-id-87\" class=\"sk-toggleable__label sk-toggleable__label-arrow\">passthrough</label><div class=\"sk-toggleable__content\"><pre>passthrough</pre></div></div></div></div></div></div></div></div><div class=\"sk-item\"><div class=\"sk-estimator sk-toggleable\"><input class=\"sk-toggleable__control sk-hidden--visually\" id=\"sk-estimator-id-88\" type=\"checkbox\" ><label for=\"sk-estimator-id-88\" class=\"sk-toggleable__label sk-toggleable__label-arrow\">RandomForestRegressor</label><div class=\"sk-toggleable__content\"><pre>RandomForestRegressor()</pre></div></div></div></div></div></div></div></div></div></div></div></div>"
            ],
            "text/plain": [
              "GridSearchCV(cv=KFold(n_splits=10, random_state=42, shuffle=True),\n",
              "             estimator=Pipeline(steps=[('preprocessor',\n",
              "                                        ColumnTransformer(remainder='passthrough',\n",
              "                                                          transformers=[('num',\n",
              "                                                                         StandardScaler(),\n",
              "                                                                         ['bedRoom',\n",
              "                                                                          'bathroom',\n",
              "                                                                          'built_up_area',\n",
              "                                                                          'servant '\n",
              "                                                                          'room',\n",
              "                                                                          'store '\n",
              "                                                                          'room']),\n",
              "                                                                        ('cat',\n",
              "                                                                         OrdinalEncoder(),\n",
              "                                                                         ['property_type',\n",
              "                                                                          'sector',\n",
              "                                                                          'balcony',\n",
              "                                                                          'agePossession',\n",
              "                                                                          'furnishing_type',...\n",
              "                                                                         OneHotEncoder(drop='first',\n",
              "                                                                                       sparse_output=False),\n",
              "                                                                         ['agePossession']),\n",
              "                                                                        ('target_enc',\n",
              "                                                                         TargetEncoder(),\n",
              "                                                                         ['sector'])])),\n",
              "                                       ('regressor', RandomForestRegressor())]),\n",
              "             n_jobs=-1,\n",
              "             param_grid={'regressor__max_depth': [None, 10, 20, 30],\n",
              "                         'regressor__max_features': ['auto', 'sqrt'],\n",
              "                         'regressor__max_samples': [0.1, 0.25, 0.5, 1.0],\n",
              "                         'regressor__n_estimators': [50, 100, 200, 300]},\n",
              "             scoring='r2', verbose=4)"
            ]
          },
          "execution_count": 160,
          "metadata": {},
          "output_type": "execute_result"
        }
      ],
      "source": [
        "search.fit(X, y_transformed)"
      ]
    },
    {
      "cell_type": "code",
      "execution_count": null,
      "metadata": {
        "id": "c1e6178b"
      },
      "outputs": [],
      "source": [
        "final_pipe = search.best_estimator_"
      ]
    },
    {
      "cell_type": "code",
      "execution_count": null,
      "metadata": {
        "id": "76ec1ebc",
        "outputId": "ef53973c-ccf6-47d9-a6e0-0ebcc391ec56"
      },
      "outputs": [
        {
          "data": {
            "text/plain": [
              "{'regressor__max_depth': 20,\n",
              " 'regressor__max_features': 'sqrt',\n",
              " 'regressor__max_samples': 1.0,\n",
              " 'regressor__n_estimators': 300}"
            ]
          },
          "execution_count": 162,
          "metadata": {},
          "output_type": "execute_result"
        }
      ],
      "source": [
        "search.best_params_"
      ]
    },
    {
      "cell_type": "code",
      "execution_count": null,
      "metadata": {
        "id": "95dfccee",
        "outputId": "07264dd4-befe-4dc9-eed8-6b20044bbe49"
      },
      "outputs": [
        {
          "data": {
            "text/plain": [
              "0.9023689456001798"
            ]
          },
          "execution_count": 163,
          "metadata": {},
          "output_type": "execute_result"
        }
      ],
      "source": [
        "search.best_score_"
      ]
    },
    {
      "cell_type": "code",
      "execution_count": null,
      "metadata": {
        "id": "6144c01d",
        "outputId": "80f17957-11b8-432e-df60-0d50a31d070c"
      },
      "outputs": [
        {
          "data": {
            "text/html": [
              "<style>#sk-container-id-9 {color: black;background-color: white;}#sk-container-id-9 pre{padding: 0;}#sk-container-id-9 div.sk-toggleable {background-color: white;}#sk-container-id-9 label.sk-toggleable__label {cursor: pointer;display: block;width: 100%;margin-bottom: 0;padding: 0.3em;box-sizing: border-box;text-align: center;}#sk-container-id-9 label.sk-toggleable__label-arrow:before {content: \"▸\";float: left;margin-right: 0.25em;color: #696969;}#sk-container-id-9 label.sk-toggleable__label-arrow:hover:before {color: black;}#sk-container-id-9 div.sk-estimator:hover label.sk-toggleable__label-arrow:before {color: black;}#sk-container-id-9 div.sk-toggleable__content {max-height: 0;max-width: 0;overflow: hidden;text-align: left;background-color: #f0f8ff;}#sk-container-id-9 div.sk-toggleable__content pre {margin: 0.2em;color: black;border-radius: 0.25em;background-color: #f0f8ff;}#sk-container-id-9 input.sk-toggleable__control:checked~div.sk-toggleable__content {max-height: 200px;max-width: 100%;overflow: auto;}#sk-container-id-9 input.sk-toggleable__control:checked~label.sk-toggleable__label-arrow:before {content: \"▾\";}#sk-container-id-9 div.sk-estimator input.sk-toggleable__control:checked~label.sk-toggleable__label {background-color: #d4ebff;}#sk-container-id-9 div.sk-label input.sk-toggleable__control:checked~label.sk-toggleable__label {background-color: #d4ebff;}#sk-container-id-9 input.sk-hidden--visually {border: 0;clip: rect(1px 1px 1px 1px);clip: rect(1px, 1px, 1px, 1px);height: 1px;margin: -1px;overflow: hidden;padding: 0;position: absolute;width: 1px;}#sk-container-id-9 div.sk-estimator {font-family: monospace;background-color: #f0f8ff;border: 1px dotted black;border-radius: 0.25em;box-sizing: border-box;margin-bottom: 0.5em;}#sk-container-id-9 div.sk-estimator:hover {background-color: #d4ebff;}#sk-container-id-9 div.sk-parallel-item::after {content: \"\";width: 100%;border-bottom: 1px solid gray;flex-grow: 1;}#sk-container-id-9 div.sk-label:hover label.sk-toggleable__label {background-color: #d4ebff;}#sk-container-id-9 div.sk-serial::before {content: \"\";position: absolute;border-left: 1px solid gray;box-sizing: border-box;top: 0;bottom: 0;left: 50%;z-index: 0;}#sk-container-id-9 div.sk-serial {display: flex;flex-direction: column;align-items: center;background-color: white;padding-right: 0.2em;padding-left: 0.2em;position: relative;}#sk-container-id-9 div.sk-item {position: relative;z-index: 1;}#sk-container-id-9 div.sk-parallel {display: flex;align-items: stretch;justify-content: center;background-color: white;position: relative;}#sk-container-id-9 div.sk-item::before, #sk-container-id-9 div.sk-parallel-item::before {content: \"\";position: absolute;border-left: 1px solid gray;box-sizing: border-box;top: 0;bottom: 0;left: 50%;z-index: -1;}#sk-container-id-9 div.sk-parallel-item {display: flex;flex-direction: column;z-index: 1;position: relative;background-color: white;}#sk-container-id-9 div.sk-parallel-item:first-child::after {align-self: flex-end;width: 50%;}#sk-container-id-9 div.sk-parallel-item:last-child::after {align-self: flex-start;width: 50%;}#sk-container-id-9 div.sk-parallel-item:only-child::after {width: 0;}#sk-container-id-9 div.sk-dashed-wrapped {border: 1px dashed gray;margin: 0 0.4em 0.5em 0.4em;box-sizing: border-box;padding-bottom: 0.4em;background-color: white;}#sk-container-id-9 div.sk-label label {font-family: monospace;font-weight: bold;display: inline-block;line-height: 1.2em;}#sk-container-id-9 div.sk-label-container {text-align: center;}#sk-container-id-9 div.sk-container {/* jupyter's `normalize.less` sets `[hidden] { display: none; }` but bootstrap.min.css set `[hidden] { display: none !important; }` so we also need the `!important` here to be able to override the default hidden behavior on the sphinx rendered scikit-learn.org. See: https://github.com/scikit-learn/scikit-learn/issues/21755 */display: inline-block !important;position: relative;}#sk-container-id-9 div.sk-text-repr-fallback {display: none;}</style><div id=\"sk-container-id-9\" class=\"sk-top-container\"><div class=\"sk-text-repr-fallback\"><pre>Pipeline(steps=[(&#x27;preprocessor&#x27;,\n",
              "                 ColumnTransformer(remainder=&#x27;passthrough&#x27;,\n",
              "                                   transformers=[(&#x27;num&#x27;, StandardScaler(),\n",
              "                                                  [&#x27;bedRoom&#x27;, &#x27;bathroom&#x27;,\n",
              "                                                   &#x27;built_up_area&#x27;,\n",
              "                                                   &#x27;servant room&#x27;,\n",
              "                                                   &#x27;store room&#x27;]),\n",
              "                                                 (&#x27;cat&#x27;, OrdinalEncoder(),\n",
              "                                                  [&#x27;property_type&#x27;, &#x27;sector&#x27;,\n",
              "                                                   &#x27;balcony&#x27;, &#x27;agePossession&#x27;,\n",
              "                                                   &#x27;furnishing_type&#x27;,\n",
              "                                                   &#x27;luxury_category&#x27;,\n",
              "                                                   &#x27;floor_category&#x27;]),\n",
              "                                                 (&#x27;cat1&#x27;,\n",
              "                                                  OneHotEncoder(drop=&#x27;first&#x27;,\n",
              "                                                                sparse_output=False),\n",
              "                                                  [&#x27;agePossession&#x27;]),\n",
              "                                                 (&#x27;target_enc&#x27;, TargetEncoder(),\n",
              "                                                  [&#x27;sector&#x27;])])),\n",
              "                (&#x27;regressor&#x27;,\n",
              "                 RandomForestRegressor(max_depth=20, max_features=&#x27;sqrt&#x27;,\n",
              "                                       max_samples=1.0, n_estimators=300))])</pre><b>In a Jupyter environment, please rerun this cell to show the HTML representation or trust the notebook. <br />On GitHub, the HTML representation is unable to render, please try loading this page with nbviewer.org.</b></div><div class=\"sk-container\" hidden><div class=\"sk-item sk-dashed-wrapped\"><div class=\"sk-label-container\"><div class=\"sk-label sk-toggleable\"><input class=\"sk-toggleable__control sk-hidden--visually\" id=\"sk-estimator-id-102\" type=\"checkbox\" ><label for=\"sk-estimator-id-102\" class=\"sk-toggleable__label sk-toggleable__label-arrow\">Pipeline</label><div class=\"sk-toggleable__content\"><pre>Pipeline(steps=[(&#x27;preprocessor&#x27;,\n",
              "                 ColumnTransformer(remainder=&#x27;passthrough&#x27;,\n",
              "                                   transformers=[(&#x27;num&#x27;, StandardScaler(),\n",
              "                                                  [&#x27;bedRoom&#x27;, &#x27;bathroom&#x27;,\n",
              "                                                   &#x27;built_up_area&#x27;,\n",
              "                                                   &#x27;servant room&#x27;,\n",
              "                                                   &#x27;store room&#x27;]),\n",
              "                                                 (&#x27;cat&#x27;, OrdinalEncoder(),\n",
              "                                                  [&#x27;property_type&#x27;, &#x27;sector&#x27;,\n",
              "                                                   &#x27;balcony&#x27;, &#x27;agePossession&#x27;,\n",
              "                                                   &#x27;furnishing_type&#x27;,\n",
              "                                                   &#x27;luxury_category&#x27;,\n",
              "                                                   &#x27;floor_category&#x27;]),\n",
              "                                                 (&#x27;cat1&#x27;,\n",
              "                                                  OneHotEncoder(drop=&#x27;first&#x27;,\n",
              "                                                                sparse_output=False),\n",
              "                                                  [&#x27;agePossession&#x27;]),\n",
              "                                                 (&#x27;target_enc&#x27;, TargetEncoder(),\n",
              "                                                  [&#x27;sector&#x27;])])),\n",
              "                (&#x27;regressor&#x27;,\n",
              "                 RandomForestRegressor(max_depth=20, max_features=&#x27;sqrt&#x27;,\n",
              "                                       max_samples=1.0, n_estimators=300))])</pre></div></div></div><div class=\"sk-serial\"><div class=\"sk-item sk-dashed-wrapped\"><div class=\"sk-label-container\"><div class=\"sk-label sk-toggleable\"><input class=\"sk-toggleable__control sk-hidden--visually\" id=\"sk-estimator-id-103\" type=\"checkbox\" ><label for=\"sk-estimator-id-103\" class=\"sk-toggleable__label sk-toggleable__label-arrow\">preprocessor: ColumnTransformer</label><div class=\"sk-toggleable__content\"><pre>ColumnTransformer(remainder=&#x27;passthrough&#x27;,\n",
              "                  transformers=[(&#x27;num&#x27;, StandardScaler(),\n",
              "                                 [&#x27;bedRoom&#x27;, &#x27;bathroom&#x27;, &#x27;built_up_area&#x27;,\n",
              "                                  &#x27;servant room&#x27;, &#x27;store room&#x27;]),\n",
              "                                (&#x27;cat&#x27;, OrdinalEncoder(),\n",
              "                                 [&#x27;property_type&#x27;, &#x27;sector&#x27;, &#x27;balcony&#x27;,\n",
              "                                  &#x27;agePossession&#x27;, &#x27;furnishing_type&#x27;,\n",
              "                                  &#x27;luxury_category&#x27;, &#x27;floor_category&#x27;]),\n",
              "                                (&#x27;cat1&#x27;,\n",
              "                                 OneHotEncoder(drop=&#x27;first&#x27;,\n",
              "                                               sparse_output=False),\n",
              "                                 [&#x27;agePossession&#x27;]),\n",
              "                                (&#x27;target_enc&#x27;, TargetEncoder(), [&#x27;sector&#x27;])])</pre></div></div></div><div class=\"sk-parallel\"><div class=\"sk-parallel-item\"><div class=\"sk-item\"><div class=\"sk-label-container\"><div class=\"sk-label sk-toggleable\"><input class=\"sk-toggleable__control sk-hidden--visually\" id=\"sk-estimator-id-104\" type=\"checkbox\" ><label for=\"sk-estimator-id-104\" class=\"sk-toggleable__label sk-toggleable__label-arrow\">num</label><div class=\"sk-toggleable__content\"><pre>[&#x27;bedRoom&#x27;, &#x27;bathroom&#x27;, &#x27;built_up_area&#x27;, &#x27;servant room&#x27;, &#x27;store room&#x27;]</pre></div></div></div><div class=\"sk-serial\"><div class=\"sk-item\"><div class=\"sk-estimator sk-toggleable\"><input class=\"sk-toggleable__control sk-hidden--visually\" id=\"sk-estimator-id-105\" type=\"checkbox\" ><label for=\"sk-estimator-id-105\" class=\"sk-toggleable__label sk-toggleable__label-arrow\">StandardScaler</label><div class=\"sk-toggleable__content\"><pre>StandardScaler()</pre></div></div></div></div></div></div><div class=\"sk-parallel-item\"><div class=\"sk-item\"><div class=\"sk-label-container\"><div class=\"sk-label sk-toggleable\"><input class=\"sk-toggleable__control sk-hidden--visually\" id=\"sk-estimator-id-106\" type=\"checkbox\" ><label for=\"sk-estimator-id-106\" class=\"sk-toggleable__label sk-toggleable__label-arrow\">cat</label><div class=\"sk-toggleable__content\"><pre>[&#x27;property_type&#x27;, &#x27;sector&#x27;, &#x27;balcony&#x27;, &#x27;agePossession&#x27;, &#x27;furnishing_type&#x27;, &#x27;luxury_category&#x27;, &#x27;floor_category&#x27;]</pre></div></div></div><div class=\"sk-serial\"><div class=\"sk-item\"><div class=\"sk-estimator sk-toggleable\"><input class=\"sk-toggleable__control sk-hidden--visually\" id=\"sk-estimator-id-107\" type=\"checkbox\" ><label for=\"sk-estimator-id-107\" class=\"sk-toggleable__label sk-toggleable__label-arrow\">OrdinalEncoder</label><div class=\"sk-toggleable__content\"><pre>OrdinalEncoder()</pre></div></div></div></div></div></div><div class=\"sk-parallel-item\"><div class=\"sk-item\"><div class=\"sk-label-container\"><div class=\"sk-label sk-toggleable\"><input class=\"sk-toggleable__control sk-hidden--visually\" id=\"sk-estimator-id-108\" type=\"checkbox\" ><label for=\"sk-estimator-id-108\" class=\"sk-toggleable__label sk-toggleable__label-arrow\">cat1</label><div class=\"sk-toggleable__content\"><pre>[&#x27;agePossession&#x27;]</pre></div></div></div><div class=\"sk-serial\"><div class=\"sk-item\"><div class=\"sk-estimator sk-toggleable\"><input class=\"sk-toggleable__control sk-hidden--visually\" id=\"sk-estimator-id-109\" type=\"checkbox\" ><label for=\"sk-estimator-id-109\" class=\"sk-toggleable__label sk-toggleable__label-arrow\">OneHotEncoder</label><div class=\"sk-toggleable__content\"><pre>OneHotEncoder(drop=&#x27;first&#x27;, sparse_output=False)</pre></div></div></div></div></div></div><div class=\"sk-parallel-item\"><div class=\"sk-item\"><div class=\"sk-label-container\"><div class=\"sk-label sk-toggleable\"><input class=\"sk-toggleable__control sk-hidden--visually\" id=\"sk-estimator-id-110\" type=\"checkbox\" ><label for=\"sk-estimator-id-110\" class=\"sk-toggleable__label sk-toggleable__label-arrow\">target_enc</label><div class=\"sk-toggleable__content\"><pre>[&#x27;sector&#x27;]</pre></div></div></div><div class=\"sk-serial\"><div class=\"sk-item\"><div class=\"sk-estimator sk-toggleable\"><input class=\"sk-toggleable__control sk-hidden--visually\" id=\"sk-estimator-id-111\" type=\"checkbox\" ><label for=\"sk-estimator-id-111\" class=\"sk-toggleable__label sk-toggleable__label-arrow\">TargetEncoder</label><div class=\"sk-toggleable__content\"><pre>TargetEncoder()</pre></div></div></div></div></div></div><div class=\"sk-parallel-item\"><div class=\"sk-item\"><div class=\"sk-label-container\"><div class=\"sk-label sk-toggleable\"><input class=\"sk-toggleable__control sk-hidden--visually\" id=\"sk-estimator-id-112\" type=\"checkbox\" ><label for=\"sk-estimator-id-112\" class=\"sk-toggleable__label sk-toggleable__label-arrow\">remainder</label><div class=\"sk-toggleable__content\"><pre>[]</pre></div></div></div><div class=\"sk-serial\"><div class=\"sk-item\"><div class=\"sk-estimator sk-toggleable\"><input class=\"sk-toggleable__control sk-hidden--visually\" id=\"sk-estimator-id-113\" type=\"checkbox\" ><label for=\"sk-estimator-id-113\" class=\"sk-toggleable__label sk-toggleable__label-arrow\">passthrough</label><div class=\"sk-toggleable__content\"><pre>passthrough</pre></div></div></div></div></div></div></div></div><div class=\"sk-item\"><div class=\"sk-estimator sk-toggleable\"><input class=\"sk-toggleable__control sk-hidden--visually\" id=\"sk-estimator-id-114\" type=\"checkbox\" ><label for=\"sk-estimator-id-114\" class=\"sk-toggleable__label sk-toggleable__label-arrow\">RandomForestRegressor</label><div class=\"sk-toggleable__content\"><pre>RandomForestRegressor(max_depth=20, max_features=&#x27;sqrt&#x27;, max_samples=1.0,\n",
              "                      n_estimators=300)</pre></div></div></div></div></div></div></div>"
            ],
            "text/plain": [
              "Pipeline(steps=[('preprocessor',\n",
              "                 ColumnTransformer(remainder='passthrough',\n",
              "                                   transformers=[('num', StandardScaler(),\n",
              "                                                  ['bedRoom', 'bathroom',\n",
              "                                                   'built_up_area',\n",
              "                                                   'servant room',\n",
              "                                                   'store room']),\n",
              "                                                 ('cat', OrdinalEncoder(),\n",
              "                                                  ['property_type', 'sector',\n",
              "                                                   'balcony', 'agePossession',\n",
              "                                                   'furnishing_type',\n",
              "                                                   'luxury_category',\n",
              "                                                   'floor_category']),\n",
              "                                                 ('cat1',\n",
              "                                                  OneHotEncoder(drop='first',\n",
              "                                                                sparse_output=False),\n",
              "                                                  ['agePossession']),\n",
              "                                                 ('target_enc', TargetEncoder(),\n",
              "                                                  ['sector'])])),\n",
              "                ('regressor',\n",
              "                 RandomForestRegressor(max_depth=20, max_features='sqrt',\n",
              "                                       max_samples=1.0, n_estimators=300))])"
            ]
          },
          "execution_count": 169,
          "metadata": {},
          "output_type": "execute_result"
        }
      ],
      "source": [
        "final_pipe.fit(X,y_transformed)"
      ]
    },
    {
      "cell_type": "markdown",
      "metadata": {
        "id": "fbf98781"
      },
      "source": [
        "### Exporting the model"
      ]
    },
    {
      "cell_type": "code",
      "execution_count": null,
      "metadata": {
        "id": "042d9738"
      },
      "outputs": [],
      "source": [
        "preprocessor = ColumnTransformer(\n",
        "    transformers=[\n",
        "        ('num', StandardScaler(), ['bedRoom', 'bathroom', 'built_up_area', 'servant room', 'store room']),\n",
        "        ('cat', OrdinalEncoder(), columns_to_encode),\n",
        "        ('cat1',OneHotEncoder(drop='first',sparse_output=False),['sector','agePossession'])\n",
        "    ],\n",
        "    remainder='passthrough'\n",
        ")"
      ]
    },
    {
      "cell_type": "code",
      "execution_count": null,
      "metadata": {
        "id": "c4b5c7cd"
      },
      "outputs": [],
      "source": [
        "pipeline = Pipeline([\n",
        "    ('preprocessor', preprocessor),\n",
        "    ('regressor', RandomForestRegressor(n_estimators=500))\n",
        "])"
      ]
    },
    {
      "cell_type": "code",
      "execution_count": null,
      "metadata": {
        "id": "b19d656f",
        "outputId": "a367e36b-2d18-4e17-aa61-c315a42bf192"
      },
      "outputs": [
        {
          "data": {
            "text/html": [
              "<style>#sk-container-id-13 {color: black;background-color: white;}#sk-container-id-13 pre{padding: 0;}#sk-container-id-13 div.sk-toggleable {background-color: white;}#sk-container-id-13 label.sk-toggleable__label {cursor: pointer;display: block;width: 100%;margin-bottom: 0;padding: 0.3em;box-sizing: border-box;text-align: center;}#sk-container-id-13 label.sk-toggleable__label-arrow:before {content: \"▸\";float: left;margin-right: 0.25em;color: #696969;}#sk-container-id-13 label.sk-toggleable__label-arrow:hover:before {color: black;}#sk-container-id-13 div.sk-estimator:hover label.sk-toggleable__label-arrow:before {color: black;}#sk-container-id-13 div.sk-toggleable__content {max-height: 0;max-width: 0;overflow: hidden;text-align: left;background-color: #f0f8ff;}#sk-container-id-13 div.sk-toggleable__content pre {margin: 0.2em;color: black;border-radius: 0.25em;background-color: #f0f8ff;}#sk-container-id-13 input.sk-toggleable__control:checked~div.sk-toggleable__content {max-height: 200px;max-width: 100%;overflow: auto;}#sk-container-id-13 input.sk-toggleable__control:checked~label.sk-toggleable__label-arrow:before {content: \"▾\";}#sk-container-id-13 div.sk-estimator input.sk-toggleable__control:checked~label.sk-toggleable__label {background-color: #d4ebff;}#sk-container-id-13 div.sk-label input.sk-toggleable__control:checked~label.sk-toggleable__label {background-color: #d4ebff;}#sk-container-id-13 input.sk-hidden--visually {border: 0;clip: rect(1px 1px 1px 1px);clip: rect(1px, 1px, 1px, 1px);height: 1px;margin: -1px;overflow: hidden;padding: 0;position: absolute;width: 1px;}#sk-container-id-13 div.sk-estimator {font-family: monospace;background-color: #f0f8ff;border: 1px dotted black;border-radius: 0.25em;box-sizing: border-box;margin-bottom: 0.5em;}#sk-container-id-13 div.sk-estimator:hover {background-color: #d4ebff;}#sk-container-id-13 div.sk-parallel-item::after {content: \"\";width: 100%;border-bottom: 1px solid gray;flex-grow: 1;}#sk-container-id-13 div.sk-label:hover label.sk-toggleable__label {background-color: #d4ebff;}#sk-container-id-13 div.sk-serial::before {content: \"\";position: absolute;border-left: 1px solid gray;box-sizing: border-box;top: 0;bottom: 0;left: 50%;z-index: 0;}#sk-container-id-13 div.sk-serial {display: flex;flex-direction: column;align-items: center;background-color: white;padding-right: 0.2em;padding-left: 0.2em;position: relative;}#sk-container-id-13 div.sk-item {position: relative;z-index: 1;}#sk-container-id-13 div.sk-parallel {display: flex;align-items: stretch;justify-content: center;background-color: white;position: relative;}#sk-container-id-13 div.sk-item::before, #sk-container-id-13 div.sk-parallel-item::before {content: \"\";position: absolute;border-left: 1px solid gray;box-sizing: border-box;top: 0;bottom: 0;left: 50%;z-index: -1;}#sk-container-id-13 div.sk-parallel-item {display: flex;flex-direction: column;z-index: 1;position: relative;background-color: white;}#sk-container-id-13 div.sk-parallel-item:first-child::after {align-self: flex-end;width: 50%;}#sk-container-id-13 div.sk-parallel-item:last-child::after {align-self: flex-start;width: 50%;}#sk-container-id-13 div.sk-parallel-item:only-child::after {width: 0;}#sk-container-id-13 div.sk-dashed-wrapped {border: 1px dashed gray;margin: 0 0.4em 0.5em 0.4em;box-sizing: border-box;padding-bottom: 0.4em;background-color: white;}#sk-container-id-13 div.sk-label label {font-family: monospace;font-weight: bold;display: inline-block;line-height: 1.2em;}#sk-container-id-13 div.sk-label-container {text-align: center;}#sk-container-id-13 div.sk-container {/* jupyter's `normalize.less` sets `[hidden] { display: none; }` but bootstrap.min.css set `[hidden] { display: none !important; }` so we also need the `!important` here to be able to override the default hidden behavior on the sphinx rendered scikit-learn.org. See: https://github.com/scikit-learn/scikit-learn/issues/21755 */display: inline-block !important;position: relative;}#sk-container-id-13 div.sk-text-repr-fallback {display: none;}</style><div id=\"sk-container-id-13\" class=\"sk-top-container\"><div class=\"sk-text-repr-fallback\"><pre>Pipeline(steps=[(&#x27;preprocessor&#x27;,\n",
              "                 ColumnTransformer(remainder=&#x27;passthrough&#x27;,\n",
              "                                   transformers=[(&#x27;num&#x27;, StandardScaler(),\n",
              "                                                  [&#x27;bedRoom&#x27;, &#x27;bathroom&#x27;,\n",
              "                                                   &#x27;built_up_area&#x27;,\n",
              "                                                   &#x27;servant room&#x27;,\n",
              "                                                   &#x27;store room&#x27;]),\n",
              "                                                 (&#x27;cat&#x27;, OrdinalEncoder(),\n",
              "                                                  [&#x27;property_type&#x27;, &#x27;sector&#x27;,\n",
              "                                                   &#x27;balcony&#x27;, &#x27;agePossession&#x27;,\n",
              "                                                   &#x27;furnishing_type&#x27;,\n",
              "                                                   &#x27;luxury_category&#x27;,\n",
              "                                                   &#x27;floor_category&#x27;]),\n",
              "                                                 (&#x27;cat1&#x27;,\n",
              "                                                  OneHotEncoder(drop=&#x27;first&#x27;,\n",
              "                                                                sparse_output=False),\n",
              "                                                  [&#x27;sector&#x27;,\n",
              "                                                   &#x27;agePossession&#x27;])])),\n",
              "                (&#x27;regressor&#x27;, RandomForestRegressor(n_estimators=500))])</pre><b>In a Jupyter environment, please rerun this cell to show the HTML representation or trust the notebook. <br />On GitHub, the HTML representation is unable to render, please try loading this page with nbviewer.org.</b></div><div class=\"sk-container\" hidden><div class=\"sk-item sk-dashed-wrapped\"><div class=\"sk-label-container\"><div class=\"sk-label sk-toggleable\"><input class=\"sk-toggleable__control sk-hidden--visually\" id=\"sk-estimator-id-146\" type=\"checkbox\" ><label for=\"sk-estimator-id-146\" class=\"sk-toggleable__label sk-toggleable__label-arrow\">Pipeline</label><div class=\"sk-toggleable__content\"><pre>Pipeline(steps=[(&#x27;preprocessor&#x27;,\n",
              "                 ColumnTransformer(remainder=&#x27;passthrough&#x27;,\n",
              "                                   transformers=[(&#x27;num&#x27;, StandardScaler(),\n",
              "                                                  [&#x27;bedRoom&#x27;, &#x27;bathroom&#x27;,\n",
              "                                                   &#x27;built_up_area&#x27;,\n",
              "                                                   &#x27;servant room&#x27;,\n",
              "                                                   &#x27;store room&#x27;]),\n",
              "                                                 (&#x27;cat&#x27;, OrdinalEncoder(),\n",
              "                                                  [&#x27;property_type&#x27;, &#x27;sector&#x27;,\n",
              "                                                   &#x27;balcony&#x27;, &#x27;agePossession&#x27;,\n",
              "                                                   &#x27;furnishing_type&#x27;,\n",
              "                                                   &#x27;luxury_category&#x27;,\n",
              "                                                   &#x27;floor_category&#x27;]),\n",
              "                                                 (&#x27;cat1&#x27;,\n",
              "                                                  OneHotEncoder(drop=&#x27;first&#x27;,\n",
              "                                                                sparse_output=False),\n",
              "                                                  [&#x27;sector&#x27;,\n",
              "                                                   &#x27;agePossession&#x27;])])),\n",
              "                (&#x27;regressor&#x27;, RandomForestRegressor(n_estimators=500))])</pre></div></div></div><div class=\"sk-serial\"><div class=\"sk-item sk-dashed-wrapped\"><div class=\"sk-label-container\"><div class=\"sk-label sk-toggleable\"><input class=\"sk-toggleable__control sk-hidden--visually\" id=\"sk-estimator-id-147\" type=\"checkbox\" ><label for=\"sk-estimator-id-147\" class=\"sk-toggleable__label sk-toggleable__label-arrow\">preprocessor: ColumnTransformer</label><div class=\"sk-toggleable__content\"><pre>ColumnTransformer(remainder=&#x27;passthrough&#x27;,\n",
              "                  transformers=[(&#x27;num&#x27;, StandardScaler(),\n",
              "                                 [&#x27;bedRoom&#x27;, &#x27;bathroom&#x27;, &#x27;built_up_area&#x27;,\n",
              "                                  &#x27;servant room&#x27;, &#x27;store room&#x27;]),\n",
              "                                (&#x27;cat&#x27;, OrdinalEncoder(),\n",
              "                                 [&#x27;property_type&#x27;, &#x27;sector&#x27;, &#x27;balcony&#x27;,\n",
              "                                  &#x27;agePossession&#x27;, &#x27;furnishing_type&#x27;,\n",
              "                                  &#x27;luxury_category&#x27;, &#x27;floor_category&#x27;]),\n",
              "                                (&#x27;cat1&#x27;,\n",
              "                                 OneHotEncoder(drop=&#x27;first&#x27;,\n",
              "                                               sparse_output=False),\n",
              "                                 [&#x27;sector&#x27;, &#x27;agePossession&#x27;])])</pre></div></div></div><div class=\"sk-parallel\"><div class=\"sk-parallel-item\"><div class=\"sk-item\"><div class=\"sk-label-container\"><div class=\"sk-label sk-toggleable\"><input class=\"sk-toggleable__control sk-hidden--visually\" id=\"sk-estimator-id-148\" type=\"checkbox\" ><label for=\"sk-estimator-id-148\" class=\"sk-toggleable__label sk-toggleable__label-arrow\">num</label><div class=\"sk-toggleable__content\"><pre>[&#x27;bedRoom&#x27;, &#x27;bathroom&#x27;, &#x27;built_up_area&#x27;, &#x27;servant room&#x27;, &#x27;store room&#x27;]</pre></div></div></div><div class=\"sk-serial\"><div class=\"sk-item\"><div class=\"sk-estimator sk-toggleable\"><input class=\"sk-toggleable__control sk-hidden--visually\" id=\"sk-estimator-id-149\" type=\"checkbox\" ><label for=\"sk-estimator-id-149\" class=\"sk-toggleable__label sk-toggleable__label-arrow\">StandardScaler</label><div class=\"sk-toggleable__content\"><pre>StandardScaler()</pre></div></div></div></div></div></div><div class=\"sk-parallel-item\"><div class=\"sk-item\"><div class=\"sk-label-container\"><div class=\"sk-label sk-toggleable\"><input class=\"sk-toggleable__control sk-hidden--visually\" id=\"sk-estimator-id-150\" type=\"checkbox\" ><label for=\"sk-estimator-id-150\" class=\"sk-toggleable__label sk-toggleable__label-arrow\">cat</label><div class=\"sk-toggleable__content\"><pre>[&#x27;property_type&#x27;, &#x27;sector&#x27;, &#x27;balcony&#x27;, &#x27;agePossession&#x27;, &#x27;furnishing_type&#x27;, &#x27;luxury_category&#x27;, &#x27;floor_category&#x27;]</pre></div></div></div><div class=\"sk-serial\"><div class=\"sk-item\"><div class=\"sk-estimator sk-toggleable\"><input class=\"sk-toggleable__control sk-hidden--visually\" id=\"sk-estimator-id-151\" type=\"checkbox\" ><label for=\"sk-estimator-id-151\" class=\"sk-toggleable__label sk-toggleable__label-arrow\">OrdinalEncoder</label><div class=\"sk-toggleable__content\"><pre>OrdinalEncoder()</pre></div></div></div></div></div></div><div class=\"sk-parallel-item\"><div class=\"sk-item\"><div class=\"sk-label-container\"><div class=\"sk-label sk-toggleable\"><input class=\"sk-toggleable__control sk-hidden--visually\" id=\"sk-estimator-id-152\" type=\"checkbox\" ><label for=\"sk-estimator-id-152\" class=\"sk-toggleable__label sk-toggleable__label-arrow\">cat1</label><div class=\"sk-toggleable__content\"><pre>[&#x27;sector&#x27;, &#x27;agePossession&#x27;]</pre></div></div></div><div class=\"sk-serial\"><div class=\"sk-item\"><div class=\"sk-estimator sk-toggleable\"><input class=\"sk-toggleable__control sk-hidden--visually\" id=\"sk-estimator-id-153\" type=\"checkbox\" ><label for=\"sk-estimator-id-153\" class=\"sk-toggleable__label sk-toggleable__label-arrow\">OneHotEncoder</label><div class=\"sk-toggleable__content\"><pre>OneHotEncoder(drop=&#x27;first&#x27;, sparse_output=False)</pre></div></div></div></div></div></div><div class=\"sk-parallel-item\"><div class=\"sk-item\"><div class=\"sk-label-container\"><div class=\"sk-label sk-toggleable\"><input class=\"sk-toggleable__control sk-hidden--visually\" id=\"sk-estimator-id-154\" type=\"checkbox\" ><label for=\"sk-estimator-id-154\" class=\"sk-toggleable__label sk-toggleable__label-arrow\">remainder</label><div class=\"sk-toggleable__content\"><pre>[]</pre></div></div></div><div class=\"sk-serial\"><div class=\"sk-item\"><div class=\"sk-estimator sk-toggleable\"><input class=\"sk-toggleable__control sk-hidden--visually\" id=\"sk-estimator-id-155\" type=\"checkbox\" ><label for=\"sk-estimator-id-155\" class=\"sk-toggleable__label sk-toggleable__label-arrow\">passthrough</label><div class=\"sk-toggleable__content\"><pre>passthrough</pre></div></div></div></div></div></div></div></div><div class=\"sk-item\"><div class=\"sk-estimator sk-toggleable\"><input class=\"sk-toggleable__control sk-hidden--visually\" id=\"sk-estimator-id-156\" type=\"checkbox\" ><label for=\"sk-estimator-id-156\" class=\"sk-toggleable__label sk-toggleable__label-arrow\">RandomForestRegressor</label><div class=\"sk-toggleable__content\"><pre>RandomForestRegressor(n_estimators=500)</pre></div></div></div></div></div></div></div>"
            ],
            "text/plain": [
              "Pipeline(steps=[('preprocessor',\n",
              "                 ColumnTransformer(remainder='passthrough',\n",
              "                                   transformers=[('num', StandardScaler(),\n",
              "                                                  ['bedRoom', 'bathroom',\n",
              "                                                   'built_up_area',\n",
              "                                                   'servant room',\n",
              "                                                   'store room']),\n",
              "                                                 ('cat', OrdinalEncoder(),\n",
              "                                                  ['property_type', 'sector',\n",
              "                                                   'balcony', 'agePossession',\n",
              "                                                   'furnishing_type',\n",
              "                                                   'luxury_category',\n",
              "                                                   'floor_category']),\n",
              "                                                 ('cat1',\n",
              "                                                  OneHotEncoder(drop='first',\n",
              "                                                                sparse_output=False),\n",
              "                                                  ['sector',\n",
              "                                                   'agePossession'])])),\n",
              "                ('regressor', RandomForestRegressor(n_estimators=500))])"
            ]
          },
          "execution_count": 240,
          "metadata": {},
          "output_type": "execute_result"
        }
      ],
      "source": [
        "pipeline.fit(X,y_transformed)"
      ]
    },
    {
      "cell_type": "code",
      "execution_count": null,
      "metadata": {
        "id": "1de3fdae"
      },
      "outputs": [],
      "source": [
        "import pickle\n",
        "\n",
        "with open('pipeline.pkl', 'wb') as file:\n",
        "    pickle.dump(pipeline, file)"
      ]
    },
    {
      "cell_type": "code",
      "execution_count": null,
      "metadata": {
        "id": "9eacedc3"
      },
      "outputs": [],
      "source": [
        "with open('df.pkl', 'wb') as file:\n",
        "    pickle.dump(X, file)"
      ]
    },
    {
      "cell_type": "code",
      "execution_count": null,
      "metadata": {
        "id": "d4d4ad2f",
        "outputId": "c02ccf8e-551c-45d6-d89c-28b4adde44c5"
      },
      "outputs": [
        {
          "data": {
            "text/html": [
              "<div>\n",
              "<style scoped>\n",
              "    .dataframe tbody tr th:only-of-type {\n",
              "        vertical-align: middle;\n",
              "    }\n",
              "\n",
              "    .dataframe tbody tr th {\n",
              "        vertical-align: top;\n",
              "    }\n",
              "\n",
              "    .dataframe thead th {\n",
              "        text-align: right;\n",
              "    }\n",
              "</style>\n",
              "<table border=\"1\" class=\"dataframe\">\n",
              "  <thead>\n",
              "    <tr style=\"text-align: right;\">\n",
              "      <th></th>\n",
              "      <th>property_type</th>\n",
              "      <th>sector</th>\n",
              "      <th>bedRoom</th>\n",
              "      <th>bathroom</th>\n",
              "      <th>balcony</th>\n",
              "      <th>agePossession</th>\n",
              "      <th>built_up_area</th>\n",
              "      <th>servant room</th>\n",
              "      <th>store room</th>\n",
              "      <th>furnishing_type</th>\n",
              "      <th>luxury_category</th>\n",
              "      <th>floor_category</th>\n",
              "    </tr>\n",
              "  </thead>\n",
              "  <tbody>\n",
              "    <tr>\n",
              "      <th>0</th>\n",
              "      <td>flat</td>\n",
              "      <td>sector 36</td>\n",
              "      <td>3.0</td>\n",
              "      <td>2.0</td>\n",
              "      <td>2</td>\n",
              "      <td>New Property</td>\n",
              "      <td>850.0</td>\n",
              "      <td>0.0</td>\n",
              "      <td>0.0</td>\n",
              "      <td>unfurnished</td>\n",
              "      <td>Low</td>\n",
              "      <td>Low Floor</td>\n",
              "    </tr>\n",
              "    <tr>\n",
              "      <th>1</th>\n",
              "      <td>flat</td>\n",
              "      <td>sector 89</td>\n",
              "      <td>2.0</td>\n",
              "      <td>2.0</td>\n",
              "      <td>2</td>\n",
              "      <td>New Property</td>\n",
              "      <td>1226.0</td>\n",
              "      <td>1.0</td>\n",
              "      <td>0.0</td>\n",
              "      <td>unfurnished</td>\n",
              "      <td>Low</td>\n",
              "      <td>Mid Floor</td>\n",
              "    </tr>\n",
              "    <tr>\n",
              "      <th>2</th>\n",
              "      <td>flat</td>\n",
              "      <td>sohna road</td>\n",
              "      <td>2.0</td>\n",
              "      <td>2.0</td>\n",
              "      <td>1</td>\n",
              "      <td>New Property</td>\n",
              "      <td>1000.0</td>\n",
              "      <td>0.0</td>\n",
              "      <td>0.0</td>\n",
              "      <td>unfurnished</td>\n",
              "      <td>Low</td>\n",
              "      <td>High Floor</td>\n",
              "    </tr>\n",
              "    <tr>\n",
              "      <th>3</th>\n",
              "      <td>flat</td>\n",
              "      <td>sector 92</td>\n",
              "      <td>3.0</td>\n",
              "      <td>4.0</td>\n",
              "      <td>3+</td>\n",
              "      <td>Relatively New</td>\n",
              "      <td>1615.0</td>\n",
              "      <td>1.0</td>\n",
              "      <td>0.0</td>\n",
              "      <td>semifurnished</td>\n",
              "      <td>High</td>\n",
              "      <td>Mid Floor</td>\n",
              "    </tr>\n",
              "    <tr>\n",
              "      <th>4</th>\n",
              "      <td>flat</td>\n",
              "      <td>sector 102</td>\n",
              "      <td>2.0</td>\n",
              "      <td>2.0</td>\n",
              "      <td>1</td>\n",
              "      <td>Relatively New</td>\n",
              "      <td>582.0</td>\n",
              "      <td>0.0</td>\n",
              "      <td>1.0</td>\n",
              "      <td>unfurnished</td>\n",
              "      <td>High</td>\n",
              "      <td>Mid Floor</td>\n",
              "    </tr>\n",
              "    <tr>\n",
              "      <th>...</th>\n",
              "      <td>...</td>\n",
              "      <td>...</td>\n",
              "      <td>...</td>\n",
              "      <td>...</td>\n",
              "      <td>...</td>\n",
              "      <td>...</td>\n",
              "      <td>...</td>\n",
              "      <td>...</td>\n",
              "      <td>...</td>\n",
              "      <td>...</td>\n",
              "      <td>...</td>\n",
              "      <td>...</td>\n",
              "    </tr>\n",
              "    <tr>\n",
              "      <th>3549</th>\n",
              "      <td>flat</td>\n",
              "      <td>sector 84</td>\n",
              "      <td>2.0</td>\n",
              "      <td>2.0</td>\n",
              "      <td>1</td>\n",
              "      <td>Relatively New</td>\n",
              "      <td>532.0</td>\n",
              "      <td>0.0</td>\n",
              "      <td>0.0</td>\n",
              "      <td>unfurnished</td>\n",
              "      <td>Medium</td>\n",
              "      <td>Mid Floor</td>\n",
              "    </tr>\n",
              "    <tr>\n",
              "      <th>3550</th>\n",
              "      <td>house</td>\n",
              "      <td>sector 109</td>\n",
              "      <td>5.0</td>\n",
              "      <td>5.0</td>\n",
              "      <td>3+</td>\n",
              "      <td>Relatively New</td>\n",
              "      <td>6228.0</td>\n",
              "      <td>1.0</td>\n",
              "      <td>1.0</td>\n",
              "      <td>unfurnished</td>\n",
              "      <td>High</td>\n",
              "      <td>Low Floor</td>\n",
              "    </tr>\n",
              "    <tr>\n",
              "      <th>3551</th>\n",
              "      <td>flat</td>\n",
              "      <td>sector 2</td>\n",
              "      <td>1.0</td>\n",
              "      <td>1.0</td>\n",
              "      <td>1</td>\n",
              "      <td>Moderately Old</td>\n",
              "      <td>665.0</td>\n",
              "      <td>0.0</td>\n",
              "      <td>0.0</td>\n",
              "      <td>semifurnished</td>\n",
              "      <td>Medium</td>\n",
              "      <td>Mid Floor</td>\n",
              "    </tr>\n",
              "    <tr>\n",
              "      <th>3552</th>\n",
              "      <td>house</td>\n",
              "      <td>sector 43</td>\n",
              "      <td>5.0</td>\n",
              "      <td>6.0</td>\n",
              "      <td>3</td>\n",
              "      <td>Moderately Old</td>\n",
              "      <td>5490.0</td>\n",
              "      <td>1.0</td>\n",
              "      <td>1.0</td>\n",
              "      <td>unfurnished</td>\n",
              "      <td>Medium</td>\n",
              "      <td>Mid Floor</td>\n",
              "    </tr>\n",
              "    <tr>\n",
              "      <th>3553</th>\n",
              "      <td>flat</td>\n",
              "      <td>sector 68</td>\n",
              "      <td>3.0</td>\n",
              "      <td>3.0</td>\n",
              "      <td>3+</td>\n",
              "      <td>Relatively New</td>\n",
              "      <td>1845.0</td>\n",
              "      <td>0.0</td>\n",
              "      <td>0.0</td>\n",
              "      <td>semifurnished</td>\n",
              "      <td>Medium</td>\n",
              "      <td>High Floor</td>\n",
              "    </tr>\n",
              "  </tbody>\n",
              "</table>\n",
              "<p>3554 rows × 12 columns</p>\n",
              "</div>"
            ],
            "text/plain": [
              "     property_type      sector  bedRoom  bathroom balcony   agePossession  \\\n",
              "0             flat   sector 36      3.0       2.0       2    New Property   \n",
              "1             flat   sector 89      2.0       2.0       2    New Property   \n",
              "2             flat  sohna road      2.0       2.0       1    New Property   \n",
              "3             flat   sector 92      3.0       4.0      3+  Relatively New   \n",
              "4             flat  sector 102      2.0       2.0       1  Relatively New   \n",
              "...            ...         ...      ...       ...     ...             ...   \n",
              "3549          flat   sector 84      2.0       2.0       1  Relatively New   \n",
              "3550         house  sector 109      5.0       5.0      3+  Relatively New   \n",
              "3551          flat    sector 2      1.0       1.0       1  Moderately Old   \n",
              "3552         house   sector 43      5.0       6.0       3  Moderately Old   \n",
              "3553          flat   sector 68      3.0       3.0      3+  Relatively New   \n",
              "\n",
              "      built_up_area  servant room  store room furnishing_type luxury_category  \\\n",
              "0             850.0           0.0         0.0     unfurnished             Low   \n",
              "1            1226.0           1.0         0.0     unfurnished             Low   \n",
              "2            1000.0           0.0         0.0     unfurnished             Low   \n",
              "3            1615.0           1.0         0.0   semifurnished            High   \n",
              "4             582.0           0.0         1.0     unfurnished            High   \n",
              "...             ...           ...         ...             ...             ...   \n",
              "3549          532.0           0.0         0.0     unfurnished          Medium   \n",
              "3550         6228.0           1.0         1.0     unfurnished            High   \n",
              "3551          665.0           0.0         0.0   semifurnished          Medium   \n",
              "3552         5490.0           1.0         1.0     unfurnished          Medium   \n",
              "3553         1845.0           0.0         0.0   semifurnished          Medium   \n",
              "\n",
              "     floor_category  \n",
              "0         Low Floor  \n",
              "1         Mid Floor  \n",
              "2        High Floor  \n",
              "3         Mid Floor  \n",
              "4         Mid Floor  \n",
              "...             ...  \n",
              "3549      Mid Floor  \n",
              "3550      Low Floor  \n",
              "3551      Mid Floor  \n",
              "3552      Mid Floor  \n",
              "3553     High Floor  \n",
              "\n",
              "[3554 rows x 12 columns]"
            ]
          },
          "execution_count": 291,
          "metadata": {},
          "output_type": "execute_result"
        }
      ],
      "source": [
        "X"
      ]
    },
    {
      "cell_type": "markdown",
      "metadata": {
        "id": "a627e25e"
      },
      "source": [
        "### Trying out the predictions"
      ]
    },
    {
      "cell_type": "code",
      "execution_count": null,
      "metadata": {
        "id": "74524975",
        "outputId": "051d3d3a-8c10-41b3-8be5-ffb9b2a99dbc"
      },
      "outputs": [
        {
          "data": {
            "text/plain": [
              "Index(['property_type', 'sector', 'bedRoom', 'bathroom', 'balcony',\n",
              "       'agePossession', 'built_up_area', 'servant room', 'store room',\n",
              "       'furnishing_type', 'luxury_category', 'floor_category'],\n",
              "      dtype='object')"
            ]
          },
          "execution_count": 245,
          "metadata": {},
          "output_type": "execute_result"
        }
      ],
      "source": [
        "X.columns"
      ]
    },
    {
      "cell_type": "code",
      "execution_count": null,
      "metadata": {
        "id": "02c770d7",
        "outputId": "6d55b729-1d72-4b29-cc86-459f43c02edd"
      },
      "outputs": [
        {
          "data": {
            "text/plain": [
              "array(['flat', 'sector 36', 3.0, 2.0, '2', 'New Property', 850.0, 0.0,\n",
              "       0.0, 'unfurnished', 'Low', 'Low Floor'], dtype=object)"
            ]
          },
          "execution_count": 244,
          "metadata": {},
          "output_type": "execute_result"
        }
      ],
      "source": [
        "X.iloc[0].values"
      ]
    },
    {
      "cell_type": "code",
      "execution_count": null,
      "metadata": {
        "id": "8562f722",
        "outputId": "832ce28d-eabd-4be6-a9d7-6d01d2168d66"
      },
      "outputs": [
        {
          "data": {
            "text/html": [
              "<div>\n",
              "<style scoped>\n",
              "    .dataframe tbody tr th:only-of-type {\n",
              "        vertical-align: middle;\n",
              "    }\n",
              "\n",
              "    .dataframe tbody tr th {\n",
              "        vertical-align: top;\n",
              "    }\n",
              "\n",
              "    .dataframe thead th {\n",
              "        text-align: right;\n",
              "    }\n",
              "</style>\n",
              "<table border=\"1\" class=\"dataframe\">\n",
              "  <thead>\n",
              "    <tr style=\"text-align: right;\">\n",
              "      <th></th>\n",
              "      <th>property_type</th>\n",
              "      <th>sector</th>\n",
              "      <th>bedRoom</th>\n",
              "      <th>bathroom</th>\n",
              "      <th>balcony</th>\n",
              "      <th>agePossession</th>\n",
              "      <th>built_up_area</th>\n",
              "      <th>servant room</th>\n",
              "      <th>store room</th>\n",
              "      <th>furnishing_type</th>\n",
              "      <th>luxury_category</th>\n",
              "      <th>floor_category</th>\n",
              "    </tr>\n",
              "  </thead>\n",
              "  <tbody>\n",
              "    <tr>\n",
              "      <th>0</th>\n",
              "      <td>house</td>\n",
              "      <td>sector 102</td>\n",
              "      <td>4</td>\n",
              "      <td>3</td>\n",
              "      <td>3+</td>\n",
              "      <td>New Property</td>\n",
              "      <td>2750</td>\n",
              "      <td>0</td>\n",
              "      <td>0</td>\n",
              "      <td>unfurnished</td>\n",
              "      <td>Low</td>\n",
              "      <td>Low Floor</td>\n",
              "    </tr>\n",
              "  </tbody>\n",
              "</table>\n",
              "</div>"
            ],
            "text/plain": [
              "  property_type      sector  bedRoom  bathroom balcony agePossession  \\\n",
              "0         house  sector 102        4         3      3+  New Property   \n",
              "\n",
              "   built_up_area  servant room  store room furnishing_type luxury_category  \\\n",
              "0           2750             0           0     unfurnished             Low   \n",
              "\n",
              "  floor_category  \n",
              "0      Low Floor  "
            ]
          },
          "execution_count": 302,
          "metadata": {},
          "output_type": "execute_result"
        }
      ],
      "source": [
        "data = [['house', 'sector 102', 4, 3, '3+', 'New Property', 2750, 0, 0, 'unfurnished', 'Low', 'Low Floor']]\n",
        "columns = ['property_type', 'sector', 'bedRoom', 'bathroom', 'balcony',\n",
        "       'agePossession', 'built_up_area', 'servant room', 'store room',\n",
        "       'furnishing_type', 'luxury_category', 'floor_category']\n",
        "\n",
        "# Convert to DataFrame\n",
        "one_df = pd.DataFrame(data, columns=columns)\n",
        "\n",
        "one_df\n"
      ]
    },
    {
      "cell_type": "code",
      "execution_count": null,
      "metadata": {
        "id": "b51e7e8b",
        "outputId": "bf862d31-7de8-45ef-a203-3db36284f117"
      },
      "outputs": [
        {
          "data": {
            "text/plain": [
              "array([3.22929144])"
            ]
          },
          "execution_count": 303,
          "metadata": {},
          "output_type": "execute_result"
        }
      ],
      "source": [
        "np.expm1(pipeline.predict(one_df))"
      ]
    },
    {
      "cell_type": "code",
      "execution_count": null,
      "metadata": {
        "id": "68314201",
        "outputId": "127f3e29-a2f2-42c9-b4aa-d6fcb2d3cad4"
      },
      "outputs": [
        {
          "data": {
            "text/plain": [
              "property_type       object\n",
              "sector              object\n",
              "bedRoom            float64\n",
              "bathroom           float64\n",
              "balcony             object\n",
              "agePossession       object\n",
              "built_up_area      float64\n",
              "servant room       float64\n",
              "store room         float64\n",
              "furnishing_type     object\n",
              "luxury_category     object\n",
              "floor_category      object\n",
              "dtype: object"
            ]
          },
          "execution_count": 307,
          "metadata": {},
          "output_type": "execute_result"
        }
      ],
      "source": [
        "X.dtypes"
      ]
    },
    {
      "cell_type": "code",
      "execution_count": null,
      "metadata": {
        "id": "738dd5fe",
        "outputId": "d1a05110-f037-4dbb-8bbb-b7e818c522ed"
      },
      "outputs": [
        {
          "data": {
            "text/plain": [
              "['dwarka expressway',\n",
              " 'gwal pahari',\n",
              " 'manesar',\n",
              " 'sector 1',\n",
              " 'sector 10',\n",
              " 'sector 102',\n",
              " 'sector 103',\n",
              " 'sector 104',\n",
              " 'sector 105',\n",
              " 'sector 106',\n",
              " 'sector 107',\n",
              " 'sector 108',\n",
              " 'sector 109',\n",
              " 'sector 11',\n",
              " 'sector 110',\n",
              " 'sector 111',\n",
              " 'sector 112',\n",
              " 'sector 113',\n",
              " 'sector 12',\n",
              " 'sector 13',\n",
              " 'sector 14',\n",
              " 'sector 15',\n",
              " 'sector 17',\n",
              " 'sector 2',\n",
              " 'sector 21',\n",
              " 'sector 22',\n",
              " 'sector 23',\n",
              " 'sector 24',\n",
              " 'sector 25',\n",
              " 'sector 26',\n",
              " 'sector 27',\n",
              " 'sector 28',\n",
              " 'sector 3',\n",
              " 'sector 30',\n",
              " 'sector 31',\n",
              " 'sector 33',\n",
              " 'sector 36',\n",
              " 'sector 37',\n",
              " 'sector 37d',\n",
              " 'sector 38',\n",
              " 'sector 39',\n",
              " 'sector 4',\n",
              " 'sector 40',\n",
              " 'sector 41',\n",
              " 'sector 43',\n",
              " 'sector 45',\n",
              " 'sector 46',\n",
              " 'sector 47',\n",
              " 'sector 48',\n",
              " 'sector 49',\n",
              " 'sector 5',\n",
              " 'sector 50',\n",
              " 'sector 51',\n",
              " 'sector 52',\n",
              " 'sector 53',\n",
              " 'sector 54',\n",
              " 'sector 55',\n",
              " 'sector 56',\n",
              " 'sector 57',\n",
              " 'sector 58',\n",
              " 'sector 59',\n",
              " 'sector 6',\n",
              " 'sector 60',\n",
              " 'sector 61',\n",
              " 'sector 62',\n",
              " 'sector 63',\n",
              " 'sector 63a',\n",
              " 'sector 65',\n",
              " 'sector 66',\n",
              " 'sector 67',\n",
              " 'sector 67a',\n",
              " 'sector 68',\n",
              " 'sector 69',\n",
              " 'sector 7',\n",
              " 'sector 70',\n",
              " 'sector 70a',\n",
              " 'sector 71',\n",
              " 'sector 72',\n",
              " 'sector 73',\n",
              " 'sector 74',\n",
              " 'sector 76',\n",
              " 'sector 77',\n",
              " 'sector 78',\n",
              " 'sector 79',\n",
              " 'sector 8',\n",
              " 'sector 80',\n",
              " 'sector 81',\n",
              " 'sector 82',\n",
              " 'sector 82a',\n",
              " 'sector 83',\n",
              " 'sector 84',\n",
              " 'sector 85',\n",
              " 'sector 86',\n",
              " 'sector 88',\n",
              " 'sector 88a',\n",
              " 'sector 89',\n",
              " 'sector 9',\n",
              " 'sector 90',\n",
              " 'sector 91',\n",
              " 'sector 92',\n",
              " 'sector 93',\n",
              " 'sector 95',\n",
              " 'sector 99',\n",
              " 'sohna road']"
            ]
          },
          "execution_count": 306,
          "metadata": {},
          "output_type": "execute_result"
        }
      ],
      "source": [
        "sorted(X['sector'].unique().tolist())"
      ]
    },
    {
      "cell_type": "code",
      "execution_count": null,
      "metadata": {
        "id": "d17c028c"
      },
      "outputs": [],
      "source": []
    }
  ]
}